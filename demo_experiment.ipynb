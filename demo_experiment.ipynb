{
 "cells": [
  {
   "cell_type": "code",
   "execution_count": 1,
   "metadata": {},
   "outputs": [],
   "source": [
    "%load_ext autoreload\n",
    "%autoreload 2"
   ]
  },
  {
   "cell_type": "code",
   "execution_count": 2,
   "metadata": {},
   "outputs": [],
   "source": [
    "from IPython.display import display, Markdown, Latex, HTML"
   ]
  },
  {
   "cell_type": "code",
   "execution_count": 3,
   "metadata": {},
   "outputs": [],
   "source": [
    "import sys\n",
    "sys.path.append('./')\n",
    "\n",
    "import pandas as pd\n",
    "import pprint\n",
    "\n",
    "from privex.basic import Schema, Query, Question\n",
    "from privex.basic import generate_explanation_predicates\n",
    "from privex.explanation_session import ExplanationSession\n",
    "\n",
    "import logging\n",
    "logger = logging.getLogger(__name__)\n",
    "logging.getLogger().setLevel(logging.INFO)"
   ]
  },
  {
   "cell_type": "markdown",
   "metadata": {},
   "source": [
    "# Motivate the suprression of small group of people by they are sensitive and ...\n",
    "\n",
    "# Some changes to the system ...\n",
    "## .... (and they will be introduced through the experiment)\n",
    "1. Limit queries to AVG queries (How about SUM and COUNT?)\n",
    "2. Limit questions to comparison\n",
    "3. Change impact function to normalized difference\n",
    "4. Change rank bound to confidence interval of rank\n",
    "5. Add a reference predicate to the explanation table"
   ]
  },
  {
   "cell_type": "markdown",
   "metadata": {},
   "source": [
    "# Load dataset and schema"
   ]
  },
  {
   "cell_type": "code",
   "execution_count": 25,
   "metadata": {},
   "outputs": [
    {
     "name": "stdout",
     "output_type": "stream",
     "text": [
      "48842\n"
     ]
    },
    {
     "data": {
      "text/markdown": [
       "## adult (first two rows)"
      ],
      "text/plain": [
       "<IPython.core.display.Markdown object>"
      ]
     },
     "metadata": {},
     "output_type": "display_data"
    },
    {
     "data": {
      "text/html": [
       "<div>\n",
       "<style scoped>\n",
       "    .dataframe tbody tr th:only-of-type {\n",
       "        vertical-align: middle;\n",
       "    }\n",
       "\n",
       "    .dataframe tbody tr th {\n",
       "        vertical-align: top;\n",
       "    }\n",
       "\n",
       "    .dataframe thead th {\n",
       "        text-align: right;\n",
       "    }\n",
       "</style>\n",
       "<table border=\"1\" class=\"dataframe\">\n",
       "  <thead>\n",
       "    <tr style=\"text-align: right;\">\n",
       "      <th></th>\n",
       "      <th>age</th>\n",
       "      <th>workclass</th>\n",
       "      <th>fnlwgt</th>\n",
       "      <th>education</th>\n",
       "      <th>education-num</th>\n",
       "      <th>marital-status</th>\n",
       "      <th>occupation</th>\n",
       "      <th>relationship</th>\n",
       "      <th>race</th>\n",
       "      <th>sex</th>\n",
       "      <th>capital-gain</th>\n",
       "      <th>capital-loss</th>\n",
       "      <th>hours-per-week</th>\n",
       "      <th>native-country</th>\n",
       "      <th>class</th>\n",
       "      <th>high_income</th>\n",
       "    </tr>\n",
       "  </thead>\n",
       "  <tbody>\n",
       "    <tr>\n",
       "      <th>0</th>\n",
       "      <td>(20, 30]</td>\n",
       "      <td>Private</td>\n",
       "      <td>226802.0</td>\n",
       "      <td>11th</td>\n",
       "      <td>7.0</td>\n",
       "      <td>Never-married</td>\n",
       "      <td>Machine-op-inspct</td>\n",
       "      <td>Own-child</td>\n",
       "      <td>Black</td>\n",
       "      <td>Male</td>\n",
       "      <td>0.0</td>\n",
       "      <td>0.0</td>\n",
       "      <td>40.0</td>\n",
       "      <td>United-States</td>\n",
       "      <td>&lt;=50K</td>\n",
       "      <td>0</td>\n",
       "    </tr>\n",
       "    <tr>\n",
       "      <th>1</th>\n",
       "      <td>(30, 40]</td>\n",
       "      <td>Private</td>\n",
       "      <td>89814.0</td>\n",
       "      <td>HS-grad</td>\n",
       "      <td>9.0</td>\n",
       "      <td>Married-civ-spouse</td>\n",
       "      <td>Farming-fishing</td>\n",
       "      <td>Husband</td>\n",
       "      <td>White</td>\n",
       "      <td>Male</td>\n",
       "      <td>0.0</td>\n",
       "      <td>0.0</td>\n",
       "      <td>50.0</td>\n",
       "      <td>United-States</td>\n",
       "      <td>&lt;=50K</td>\n",
       "      <td>0</td>\n",
       "    </tr>\n",
       "  </tbody>\n",
       "</table>\n",
       "</div>"
      ],
      "text/plain": [
       "        age workclass    fnlwgt education  education-num      marital-status  \\\n",
       "0  (20, 30]   Private  226802.0      11th            7.0       Never-married   \n",
       "1  (30, 40]   Private   89814.0   HS-grad            9.0  Married-civ-spouse   \n",
       "\n",
       "          occupation relationship   race   sex  capital-gain  capital-loss  \\\n",
       "0  Machine-op-inspct    Own-child  Black  Male           0.0           0.0   \n",
       "1    Farming-fishing      Husband  White  Male           0.0           0.0   \n",
       "\n",
       "   hours-per-week native-country  class  high_income  \n",
       "0            40.0  United-States  <=50K            0  \n",
       "1            50.0  United-States  <=50K            0  "
      ]
     },
     "metadata": {},
     "output_type": "display_data"
    },
    {
     "data": {
      "text/markdown": [
       "## schema (attribute \"education\" and \"high_income\")"
      ],
      "text/plain": [
       "<IPython.core.display.Markdown object>"
      ]
     },
     "metadata": {},
     "output_type": "display_data"
    },
    {
     "name": "stdout",
     "output_type": "stream",
     "text": [
      "{'attr': 'education',\n",
      " 'vals': ['11th', 'HS-grad', 'Assoc-acdm', 'Some-college', '10th',\n",
      "          'Prof-school', '7th-8th', 'Bachelors', 'Masters', 'Doctorate',\n",
      "          '5th-6th', 'Assoc-voc', '9th', '12th', '1st-4th', 'Preschool'],\n",
      " 'vmax': None,\n",
      " 'vmin': None}\n",
      "{'attr': 'high_income', 'vals': None, 'vmax': 1, 'vmin': 0}\n"
     ]
    }
   ],
   "source": [
    "df = pd.read_csv('./data/adult.csv')\n",
    "print(len(df)) # null stuff\n",
    "schema = Schema.from_json('./data/adult.json')\n",
    "display(Markdown('## adult (first two rows)'))\n",
    "display(df.head(2))\n",
    "display(Markdown('## schema (attribute \"education\" and \"high_income\")'))\n",
    "pprint.pprint(schema.domains['education'].as_dict(), compact=True)\n",
    "pprint.pprint(schema.domains['high_income'].as_dict(), compact=True)"
   ]
  },
  {
   "cell_type": "markdown",
   "metadata": {},
   "source": [
    "# Set up the parameters for the explanation session"
   ]
  },
  {
   "cell_type": "code",
   "execution_count": 5,
   "metadata": {},
   "outputs": [
    {
     "data": {
      "text/markdown": [
       "## The confidence level $\\gamma$ is set at 0.95"
      ],
      "text/plain": [
       "<IPython.core.display.Markdown object>"
      ]
     },
     "metadata": {},
     "output_type": "display_data"
    },
    {
     "data": {
      "text/markdown": [
       "## We consider the following 94 predicates for future explanation:"
      ],
      "text/plain": [
       "<IPython.core.display.Markdown object>"
      ]
     },
     "metadata": {},
     "output_type": "display_data"
    },
    {
     "name": "stdout",
     "output_type": "stream",
     "text": [
      "[`marital-status` is \"Never-married\",\n",
      " `marital-status` is \"Married-civ-spouse\",\n",
      " `marital-status` is \"Widowed\",\n",
      " `marital-status` is \"Divorced\",\n",
      " `marital-status` is \"Separated\",\n",
      " `marital-status` is \"Married-spouse-absent\",\n",
      " `marital-status` is \"Married-AF-spouse\",\n",
      " `occupation` is \"Machine-op-inspct\",\n",
      " `occupation` is \"Farming-fishing\",\n",
      " `occupation` is \"Protective-serv\",\n",
      " `occupation` is \"nan\",\n",
      " `occupation` is \"Other-service\",\n",
      " `occupation` is \"Prof-specialty\",\n",
      " `occupation` is \"Craft-repair\",\n",
      " `occupation` is \"Adm-clerical\",\n",
      " `occupation` is \"Exec-managerial\",\n",
      " `occupation` is \"Tech-support\",\n",
      " `occupation` is \"Sales\",\n",
      " `occupation` is \"Priv-house-serv\",\n",
      " `occupation` is \"Transport-moving\",\n",
      " `occupation` is \"Handlers-cleaners\",\n",
      " `occupation` is \"Armed-Forces\",\n",
      " `age` is \"(20, 30]\",\n",
      " `age` is \"(30, 40]\",\n",
      " `age` is \"(40, 50]\",\n",
      " `age` is \"(10, 20]\",\n",
      " `age` is \"(60, 70]\",\n",
      " `age` is \"(50, 60]\",\n",
      " `age` is \"(70, 80]\",\n",
      " `age` is \"(80, 90]\",\n",
      " `relationship` is \"Own-child\",\n",
      " `relationship` is \"Husband\",\n",
      " `relationship` is \"Not-in-family\",\n",
      " `relationship` is \"Unmarried\",\n",
      " `relationship` is \"Wife\",\n",
      " `relationship` is \"Other-relative\",\n",
      " `race` is \"Black\",\n",
      " `race` is \"White\",\n",
      " `race` is \"Asian-Pac-Islander\",\n",
      " `race` is \"Other\",\n",
      " `race` is \"Amer-Indian-Eskimo\",\n",
      " `workclass` is \"Private\",\n",
      " `workclass` is \"Local-gov\",\n",
      " `workclass` is \"nan\",\n",
      " `workclass` is \"Self-emp-not-inc\",\n",
      " `workclass` is \"Federal-gov\",\n",
      " `workclass` is \"State-gov\",\n",
      " `workclass` is \"Self-emp-inc\",\n",
      " `workclass` is \"Without-pay\",\n",
      " `workclass` is \"Never-worked\",\n",
      " `sex` is \"Male\",\n",
      " `sex` is \"Female\",\n",
      " `native-country` is \"United-States\",\n",
      " `native-country` is \"nan\",\n",
      " `native-country` is \"Peru\",\n",
      " `native-country` is \"Guatemala\",\n",
      " `native-country` is \"Mexico\",\n",
      " `native-country` is \"Dominican-Republic\",\n",
      " `native-country` is \"Ireland\",\n",
      " `native-country` is \"Germany\",\n",
      " `native-country` is \"Philippines\",\n",
      " `native-country` is \"Thailand\",\n",
      " `native-country` is \"Haiti\",\n",
      " `native-country` is \"El-Salvador\",\n",
      " `native-country` is \"Puerto-Rico\",\n",
      " `native-country` is \"Vietnam\",\n",
      " `native-country` is \"South\",\n",
      " `native-country` is \"Columbia\",\n",
      " `native-country` is \"Japan\",\n",
      " `native-country` is \"India\",\n",
      " `native-country` is \"Cambodia\",\n",
      " `native-country` is \"Poland\",\n",
      " `native-country` is \"Laos\",\n",
      " `native-country` is \"England\",\n",
      " `native-country` is \"Cuba\",\n",
      " `native-country` is \"Taiwan\",\n",
      " `native-country` is \"Italy\",\n",
      " `native-country` is \"Canada\",\n",
      " `native-country` is \"Portugal\",\n",
      " `native-country` is \"China\",\n",
      " `native-country` is \"Nicaragua\",\n",
      " `native-country` is \"Honduras\",\n",
      " `native-country` is \"Iran\",\n",
      " `native-country` is \"Scotland\",\n",
      " `native-country` is \"Jamaica\",\n",
      " `native-country` is \"Ecuador\",\n",
      " `native-country` is \"Yugoslavia\",\n",
      " `native-country` is \"Hungary\",\n",
      " `native-country` is \"Hong\",\n",
      " `native-country` is \"Greece\",\n",
      " `native-country` is \"Trinadad&Tobago\",\n",
      " `native-country` is \"Outlying-US(Guam-USVI-etc)\",\n",
      " `native-country` is \"France\",\n",
      " `native-country` is \"Holand-Netherlands\"]\n"
     ]
    }
   ],
   "source": [
    "gamma = 0.95\n",
    "attributes = ['marital-status', 'occupation', 'age', 'relationship', 'race', 'workclass', 'sex', 'native-country']\n",
    "predicates = generate_explanation_predicates(attributes, schema, strategy='1-way marginal')\n",
    "es = ExplanationSession(df, schema, gamma, predicates)\n",
    "display(Markdown(f'## The confidence level $\\gamma$ is set at {gamma}'))\n",
    "display(Markdown(f'## We consider the following {len(predicates)} predicates for future explanation:'))\n",
    "pprint.pprint(predicates)"
   ]
  },
  {
   "cell_type": "markdown",
   "metadata": {},
   "source": [
    "# Phase 1: Please submit queries in the form \"SELECT AVG(X) FROM R WHERE \\<predicate\\>\""
   ]
  },
  {
   "cell_type": "code",
   "execution_count": 6,
   "metadata": {},
   "outputs": [
    {
     "data": {
      "text/markdown": [
       "## We submitted two queries"
      ],
      "text/plain": [
       "<IPython.core.display.Markdown object>"
      ]
     },
     "metadata": {},
     "output_type": "display_data"
    },
    {
     "data": {
      "text/html": [
       "<table border=\"1\" class=\"dataframe\">\n",
       "  <thead>\n",
       "    <tr style=\"text-align: right;\">\n",
       "      <th>index</th>\n",
       "      <th>query</th>\n",
       "      <th>answer</th>\n",
       "    </tr>\n",
       "  </thead>\n",
       "  <tbody>\n",
       "    <tr>\n",
       "      <td>1</td>\n",
       "      <td>SELECT AVG(high_income) FROM R WHERE education == \"Doctorate\"</td>\n",
       "      <td>0.726362</td>\n",
       "    </tr>\n",
       "    <tr>\n",
       "      <td>2</td>\n",
       "      <td>SELECT AVG(high_income) FROM R WHERE education == \"Prof-school\"</td>\n",
       "      <td>0.739742</td>\n",
       "    </tr>\n",
       "  </tbody>\n",
       "</table>"
      ],
      "text/plain": [
       "<IPython.core.display.HTML object>"
      ]
     },
     "metadata": {},
     "output_type": "display_data"
    }
   ],
   "source": [
    "# Phase 1\n",
    "q1 = Query('education == \"Doctorate\"', 'high_income', schema)\n",
    "q2 = Query('education == \"Prof-school\"', 'high_income', schema)\n",
    "rho_query = 10.0\n",
    "es.submit_queries([q1, q2], rho_query)\n",
    "with pd.option_context('display.max_rows', None, 'display.max_columns', None, \n",
    "'display.max_colwidth', 1000):\n",
    "    display(Markdown('## We submitted two queries'))\n",
    "    display(HTML(es.show_query_results().to_html(index=False)))"
   ]
  },
  {
   "cell_type": "markdown",
   "metadata": {},
   "source": [
    "# Phase 2: Ask your question in the form \"Why the result of q1 <higher/lower> than the result of q2?\""
   ]
  },
  {
   "cell_type": "code",
   "execution_count": 7,
   "metadata": {},
   "outputs": [
    {
     "data": {
      "text/markdown": [
       "### Users asks: \n",
       "#### Why AVG(high_income) of group education == \"Doctorate\" is lower than the one of group education == \"Prof-school\"?"
      ],
      "text/plain": [
       "<IPython.core.display.Markdown object>"
      ]
     },
     "metadata": {},
     "output_type": "display_data"
    },
    {
     "data": {
      "text/markdown": [
       "### The system first shows: \n",
       "#### The 95% confidence interval of the difference is [-0.02, -0.01]. Noise is not the reason."
      ],
      "text/plain": [
       "<IPython.core.display.Markdown object>"
      ]
     },
     "metadata": {},
     "output_type": "display_data"
    }
   ],
   "source": [
    "# Phase 2\n",
    "question = Question(q1, 'lower', q2)\n",
    "es.submit_question(question)\n",
    "ci = es.question_ci()\n",
    "display(Markdown(f'### Users asks: \\n#### {question}'))\n",
    "display(Markdown(f'### The system first shows: \\n#### The {gamma*100:.0f}% confidence interval of the difference is [{ci[0]:.2f}, {ci[1]:.2f}]. Noise is not the reason.'))"
   ]
  },
  {
   "cell_type": "markdown",
   "metadata": {},
   "source": [
    "# Phase 3: Submit your request for the explanation of this question with privacy budget $\\rho$."
   ]
  },
  {
   "cell_type": "markdown",
   "metadata": {},
   "source": [
    "### Review the existing impact function, and list the challenges why it is hard for DP, and this is the reason why we change it into this way ....\n",
    "\n",
    "### Start with Sudeepa's definition, and then motivate the scaler with privacy\n",
    "\n",
    "### Two reasons for the scaler ... 1) Expla... 2) Privacy\n",
    "\n",
    "### We consider the impact function as the normalized difference in the what-if-removed world.\n",
    "Denote \n",
    "$$q_1(D) = q_1^{sum}(D) / q_1^{cnt}(D)$$\n",
    "$$q_2(D) = q_2^{sum}(D) / q_2^{cnt}(D)$$\n",
    "$$Impact(p) = (q_1(\\neg p(D)) - q_2(\\neg p(D))) \\cdot min(q_1^{cnt}(\\neg p(D), q_2^{cnt}(\\neg p(D))$$"
   ]
  },
  {
   "cell_type": "markdown",
   "metadata": {},
   "source": [
    "### Now we show the explanation table below"
   ]
  },
  {
   "cell_type": "code",
   "execution_count": 8,
   "metadata": {},
   "outputs": [
    {
     "data": {
      "text/markdown": [
       "### There are 94 predicates."
      ],
      "text/plain": [
       "<IPython.core.display.Markdown object>"
      ]
     },
     "metadata": {},
     "output_type": "display_data"
    },
    {
     "data": {
      "text/markdown": [
       "### k = 5."
      ],
      "text/plain": [
       "<IPython.core.display.Markdown object>"
      ]
     },
     "metadata": {},
     "output_type": "display_data"
    },
    {
     "data": {
      "text/markdown": [
       "### Below shows the explanation with k+1 predicates including \\<no selection\\>."
      ],
      "text/plain": [
       "<IPython.core.display.Markdown object>"
      ]
     },
     "metadata": {},
     "output_type": "display_data"
    },
    {
     "data": {
      "text/html": [
       "<div>\n",
       "<style scoped>\n",
       "    .dataframe tbody tr th:only-of-type {\n",
       "        vertical-align: middle;\n",
       "    }\n",
       "\n",
       "    .dataframe tbody tr th {\n",
       "        vertical-align: top;\n",
       "    }\n",
       "\n",
       "    .dataframe thead th {\n",
       "        text-align: right;\n",
       "    }\n",
       "</style>\n",
       "<table border=\"1\" class=\"dataframe\">\n",
       "  <thead>\n",
       "    <tr style=\"text-align: right;\">\n",
       "      <th></th>\n",
       "      <th>predicates</th>\n",
       "      <th>Imp 95-CI L</th>\n",
       "      <th>Imp 95-CI R</th>\n",
       "      <th>Rnk 95-CI L</th>\n",
       "      <th>Rnk 95-CI R</th>\n",
       "    </tr>\n",
       "  </thead>\n",
       "  <tbody>\n",
       "    <tr>\n",
       "      <th>0</th>\n",
       "      <td>`occupation` is \"Prof-specialty\"</td>\n",
       "      <td>16.653985</td>\n",
       "      <td>23.498109</td>\n",
       "      <td>1</td>\n",
       "      <td>1</td>\n",
       "    </tr>\n",
       "    <tr>\n",
       "      <th>1</th>\n",
       "      <td>`age` is \"(30, 40]\"</td>\n",
       "      <td>9.269621</td>\n",
       "      <td>16.113744</td>\n",
       "      <td>1</td>\n",
       "      <td>6</td>\n",
       "    </tr>\n",
       "    <tr>\n",
       "      <th>2</th>\n",
       "      <td>`sex` is \"Male\"</td>\n",
       "      <td>7.296179</td>\n",
       "      <td>14.140303</td>\n",
       "      <td>2</td>\n",
       "      <td>10</td>\n",
       "    </tr>\n",
       "    <tr>\n",
       "      <th>3</th>\n",
       "      <td>`marital-status` is \"Married-civ-spouse\"</td>\n",
       "      <td>6.299430</td>\n",
       "      <td>13.143554</td>\n",
       "      <td>2</td>\n",
       "      <td>10</td>\n",
       "    </tr>\n",
       "    <tr>\n",
       "      <th>4</th>\n",
       "      <td>`relationship` is \"Husband\"</td>\n",
       "      <td>4.957543</td>\n",
       "      <td>11.801666</td>\n",
       "      <td>2</td>\n",
       "      <td>10</td>\n",
       "    </tr>\n",
       "    <tr>\n",
       "      <th>5</th>\n",
       "      <td>&lt;no selection&gt;</td>\n",
       "      <td>-11.265085</td>\n",
       "      <td>-4.629051</td>\n",
       "      <td>11</td>\n",
       "      <td>91</td>\n",
       "    </tr>\n",
       "  </tbody>\n",
       "</table>\n",
       "</div>"
      ],
      "text/plain": [
       "                                 predicates  Imp 95-CI L  Imp 95-CI R  \\\n",
       "0          `occupation` is \"Prof-specialty\"    16.653985    23.498109   \n",
       "1                       `age` is \"(30, 40]\"     9.269621    16.113744   \n",
       "2                           `sex` is \"Male\"     7.296179    14.140303   \n",
       "3  `marital-status` is \"Married-civ-spouse\"     6.299430    13.143554   \n",
       "4               `relationship` is \"Husband\"     4.957543    11.801666   \n",
       "5                            <no selection>   -11.265085    -4.629051   \n",
       "\n",
       "   Rnk 95-CI L  Rnk 95-CI R  \n",
       "0            1            1  \n",
       "1            1            6  \n",
       "2            2           10  \n",
       "3            2           10  \n",
       "4            2           10  \n",
       "5           11           91  "
      ]
     },
     "metadata": {},
     "output_type": "display_data"
    }
   ],
   "source": [
    "# Phase 3\n",
    "k = 5\n",
    "display(Markdown(f'### There are {len(predicates)} predicates.'))\n",
    "display(Markdown(f'### k = {k}.'))\n",
    "display(Markdown(f'### Below shows the explanation with k+1 predicates including \\<no selection\\>.'))\n",
    "rho_expl = 200.0\n",
    "es.submit_explanation_request(k, rho_expl)\n",
    "with pd.option_context('display.max_rows', None, 'display.max_columns', None, \n",
    "'display.max_colwidth', 1000, 'display.width', None):\n",
    "    display(es.show_explanation_table())\n",
    "    # drop the index column"
   ]
  },
  {
   "cell_type": "markdown",
   "metadata": {},
   "source": [
    "## Now consider the following metrics for evaluating the explanation table."
   ]
  },
  {
   "cell_type": "markdown",
   "metadata": {},
   "source": [
    "#### TOP-K: Report the distance between lowest impact of noisy top-k and the true k-th largest impact.\n",
    "#### Impact CI: precision (impact CI width) and accuracy (coverage probability)\n",
    "#### Rank CI: precision (corresponding impact width) and accuracy (coverage probability)"
   ]
  },
  {
   "cell_type": "code",
   "execution_count": 9,
   "metadata": {},
   "outputs": [
    {
     "name": "stdout",
     "output_type": "stream",
     "text": [
      "{'imp_ci_width': 6.809441877299036,\n",
      " 'imp_coverage_prob': 1.0,\n",
      " 'rnk_ci_width': 8.118084925444343,\n",
      " 'rnk_coverage_prob': 1.0,\n",
      " 'topk_gap': 0.0}\n"
     ]
    }
   ],
   "source": [
    "pprint.pprint(es.measure_explanation_table())"
   ]
  },
  {
   "cell_type": "markdown",
   "metadata": {},
   "source": [
    "## Another baseline algorithm for the explanation table is given as follows\n",
    "#### 1. Add gaussian noise to each predicate impact\n",
    "#### 2. Derive CI for top-k predicate impact by gaussian CI.\n",
    "#### 3. Derive CI for top-k predicate rank in a naive way."
   ]
  },
  {
   "cell_type": "code",
   "execution_count": 10,
   "metadata": {},
   "outputs": [
    {
     "data": {
      "text/html": [
       "<div>\n",
       "<style scoped>\n",
       "    .dataframe tbody tr th:only-of-type {\n",
       "        vertical-align: middle;\n",
       "    }\n",
       "\n",
       "    .dataframe tbody tr th {\n",
       "        vertical-align: top;\n",
       "    }\n",
       "\n",
       "    .dataframe thead th {\n",
       "        text-align: right;\n",
       "    }\n",
       "</style>\n",
       "<table border=\"1\" class=\"dataframe\">\n",
       "  <thead>\n",
       "    <tr style=\"text-align: right;\">\n",
       "      <th></th>\n",
       "      <th>predicates</th>\n",
       "      <th>Imp 95-CI L</th>\n",
       "      <th>Imp 95-CI R</th>\n",
       "      <th>Rnk 95-CI L</th>\n",
       "      <th>Rnk 95-CI R</th>\n",
       "    </tr>\n",
       "  </thead>\n",
       "  <tbody>\n",
       "    <tr>\n",
       "      <th>0</th>\n",
       "      <td>`occupation` is \"Prof-specialty\"</td>\n",
       "      <td>18.344874</td>\n",
       "      <td>22.165548</td>\n",
       "      <td>1</td>\n",
       "      <td>2</td>\n",
       "    </tr>\n",
       "    <tr>\n",
       "      <th>1</th>\n",
       "      <td>`age` is \"(30, 40]\"</td>\n",
       "      <td>11.864217</td>\n",
       "      <td>15.684890</td>\n",
       "      <td>1</td>\n",
       "      <td>6</td>\n",
       "    </tr>\n",
       "    <tr>\n",
       "      <th>2</th>\n",
       "      <td>`sex` is \"Male\"</td>\n",
       "      <td>8.254150</td>\n",
       "      <td>12.074824</td>\n",
       "      <td>2</td>\n",
       "      <td>9</td>\n",
       "    </tr>\n",
       "    <tr>\n",
       "      <th>3</th>\n",
       "      <td>`marital-status` is \"Married-civ-spouse\"</td>\n",
       "      <td>6.719530</td>\n",
       "      <td>10.540203</td>\n",
       "      <td>2</td>\n",
       "      <td>10</td>\n",
       "    </tr>\n",
       "    <tr>\n",
       "      <th>4</th>\n",
       "      <td>`workclass` is \"Self-emp-inc\"</td>\n",
       "      <td>4.529285</td>\n",
       "      <td>8.349958</td>\n",
       "      <td>2</td>\n",
       "      <td>10</td>\n",
       "    </tr>\n",
       "    <tr>\n",
       "      <th>5</th>\n",
       "      <td>&lt;no selection&gt;</td>\n",
       "      <td>-10.290361</td>\n",
       "      <td>-6.469688</td>\n",
       "      <td>11</td>\n",
       "      <td>91</td>\n",
       "    </tr>\n",
       "  </tbody>\n",
       "</table>\n",
       "</div>"
      ],
      "text/plain": [
       "                                 predicates  Imp 95-CI L  Imp 95-CI R  \\\n",
       "0          `occupation` is \"Prof-specialty\"    18.344874    22.165548   \n",
       "1                       `age` is \"(30, 40]\"    11.864217    15.684890   \n",
       "2                           `sex` is \"Male\"     8.254150    12.074824   \n",
       "3  `marital-status` is \"Married-civ-spouse\"     6.719530    10.540203   \n",
       "4             `workclass` is \"Self-emp-inc\"     4.529285     8.349958   \n",
       "5                            <no selection>   -10.290361    -6.469688   \n",
       "\n",
       "   Rnk 95-CI L  Rnk 95-CI R  \n",
       "0            1            2  \n",
       "1            1            6  \n",
       "2            2            9  \n",
       "3            2           10  \n",
       "4            2           10  \n",
       "5           11           91  "
      ]
     },
     "metadata": {},
     "output_type": "display_data"
    }
   ],
   "source": [
    "es.baseline_submit_explanation_request(k, rho_expl)\n",
    "with pd.option_context('display.max_rows', None, 'display.max_columns', None, \n",
    "'display.max_colwidth', 1000, 'display.width', None):\n",
    "    display(es.show_explanation_table())"
   ]
  },
  {
   "cell_type": "code",
   "execution_count": 11,
   "metadata": {},
   "outputs": [
    {
     "name": "stdout",
     "output_type": "stream",
     "text": [
      "{'imp_ci_width': 3.820673176108851,\n",
      " 'imp_coverage_prob': 1.0,\n",
      " 'rnk_ci_width': 9.034516801297807,\n",
      " 'rnk_coverage_prob': 1.0,\n",
      " 'topk_gap': 0.4431853222325053}\n"
     ]
    }
   ],
   "source": [
    "pprint.pprint(es.measure_explanation_table())"
   ]
  },
  {
   "cell_type": "markdown",
   "metadata": {},
   "source": [
    "### The noise of baseline grows with $\\sqrt{|P|}$, while our solution grows with $\\log{|P|}$. Only when we have large size of predicates, our solution is better."
   ]
  },
  {
   "cell_type": "markdown",
   "metadata": {},
   "source": [
    "### Now consider predicates with two attributes."
   ]
  },
  {
   "cell_type": "code",
   "execution_count": 12,
   "metadata": {},
   "outputs": [
    {
     "data": {
      "text/markdown": [
       "### There are 3388 predicates."
      ],
      "text/plain": [
       "<IPython.core.display.Markdown object>"
      ]
     },
     "metadata": {},
     "output_type": "display_data"
    }
   ],
   "source": [
    "predicates = generate_explanation_predicates(attributes, schema, strategy='1-way marginal')\n",
    "predicates += generate_explanation_predicates(attributes, schema, strategy='2-way marginal')\n",
    "es = ExplanationSession(df, schema, gamma, predicates)\n",
    "display(Markdown(f'### There are {len(predicates)} predicates.'))"
   ]
  },
  {
   "cell_type": "code",
   "execution_count": 13,
   "metadata": {},
   "outputs": [],
   "source": [
    "# Phase 1\n",
    "q1 = Query('education == \"Doctorate\"', 'high_income', schema)\n",
    "q2 = Query('education == \"Prof-school\"', 'high_income', schema)\n",
    "rho_query = 10.0\n",
    "es.submit_queries([q1, q2], rho_query)\n",
    "\n",
    "# Phase 2\n",
    "question = Question(q1, 'lower', q2)\n",
    "es.submit_question(question)\n",
    "ci = es.question_ci()"
   ]
  },
  {
   "cell_type": "code",
   "execution_count": 14,
   "metadata": {},
   "outputs": [],
   "source": [
    "# Phase 3\n",
    "k = 5\n",
    "rho_expl = 200.0"
   ]
  },
  {
   "cell_type": "code",
   "execution_count": 15,
   "metadata": {},
   "outputs": [],
   "source": [
    "#### Our solution of explanation table"
   ]
  },
  {
   "cell_type": "code",
   "execution_count": 16,
   "metadata": {},
   "outputs": [
    {
     "data": {
      "text/html": [
       "<div>\n",
       "<style scoped>\n",
       "    .dataframe tbody tr th:only-of-type {\n",
       "        vertical-align: middle;\n",
       "    }\n",
       "\n",
       "    .dataframe tbody tr th {\n",
       "        vertical-align: top;\n",
       "    }\n",
       "\n",
       "    .dataframe thead th {\n",
       "        text-align: right;\n",
       "    }\n",
       "</style>\n",
       "<table border=\"1\" class=\"dataframe\">\n",
       "  <thead>\n",
       "    <tr style=\"text-align: right;\">\n",
       "      <th></th>\n",
       "      <th>predicates</th>\n",
       "      <th>Imp 95-CI L</th>\n",
       "      <th>Imp 95-CI R</th>\n",
       "      <th>Rnk 95-CI L</th>\n",
       "      <th>Rnk 95-CI R</th>\n",
       "    </tr>\n",
       "  </thead>\n",
       "  <tbody>\n",
       "    <tr>\n",
       "      <th>0</th>\n",
       "      <td>`occupation` is \"Prof-specialty\" and `relationship` is \"Husband\"</td>\n",
       "      <td>13.819160</td>\n",
       "      <td>24.094368</td>\n",
       "      <td>1</td>\n",
       "      <td>11</td>\n",
       "    </tr>\n",
       "    <tr>\n",
       "      <th>1</th>\n",
       "      <td>`occupation` is \"Prof-specialty\" and `native-country` is \"United-States\"</td>\n",
       "      <td>18.313978</td>\n",
       "      <td>28.589186</td>\n",
       "      <td>1</td>\n",
       "      <td>13</td>\n",
       "    </tr>\n",
       "    <tr>\n",
       "      <th>2</th>\n",
       "      <td>`occupation` is \"Prof-specialty\" and `race` is \"White\"</td>\n",
       "      <td>17.687918</td>\n",
       "      <td>27.963126</td>\n",
       "      <td>1</td>\n",
       "      <td>16</td>\n",
       "    </tr>\n",
       "    <tr>\n",
       "      <th>3</th>\n",
       "      <td>`occupation` is \"Prof-specialty\" and `sex` is \"Male\"</td>\n",
       "      <td>16.908603</td>\n",
       "      <td>27.183811</td>\n",
       "      <td>1</td>\n",
       "      <td>16</td>\n",
       "    </tr>\n",
       "    <tr>\n",
       "      <th>4</th>\n",
       "      <td>`marital-status` is \"Married-civ-spouse\" and `occupation` is \"Prof-specialty\"</td>\n",
       "      <td>10.929882</td>\n",
       "      <td>21.205090</td>\n",
       "      <td>3</td>\n",
       "      <td>23</td>\n",
       "    </tr>\n",
       "    <tr>\n",
       "      <th>5</th>\n",
       "      <td>&lt;no selection&gt;</td>\n",
       "      <td>-11.279271</td>\n",
       "      <td>-4.647341</td>\n",
       "      <td>39</td>\n",
       "      <td>3381</td>\n",
       "    </tr>\n",
       "  </tbody>\n",
       "</table>\n",
       "</div>"
      ],
      "text/plain": [
       "                                                                      predicates  \\\n",
       "0               `occupation` is \"Prof-specialty\" and `relationship` is \"Husband\"   \n",
       "1       `occupation` is \"Prof-specialty\" and `native-country` is \"United-States\"   \n",
       "2                         `occupation` is \"Prof-specialty\" and `race` is \"White\"   \n",
       "3                           `occupation` is \"Prof-specialty\" and `sex` is \"Male\"   \n",
       "4  `marital-status` is \"Married-civ-spouse\" and `occupation` is \"Prof-specialty\"   \n",
       "5                                                                 <no selection>   \n",
       "\n",
       "   Imp 95-CI L  Imp 95-CI R  Rnk 95-CI L  Rnk 95-CI R  \n",
       "0    13.819160    24.094368            1           11  \n",
       "1    18.313978    28.589186            1           13  \n",
       "2    17.687918    27.963126            1           16  \n",
       "3    16.908603    27.183811            1           16  \n",
       "4    10.929882    21.205090            3           23  \n",
       "5   -11.279271    -4.647341           39         3381  "
      ]
     },
     "metadata": {},
     "output_type": "display_data"
    }
   ],
   "source": [
    "es.submit_explanation_request(k, rho_expl)\n",
    "with pd.option_context('display.max_rows', None, 'display.max_columns', None, \n",
    "'display.max_colwidth', 1000, 'display.width', None):\n",
    "    display(es.show_explanation_table())"
   ]
  },
  {
   "cell_type": "code",
   "execution_count": 17,
   "metadata": {},
   "outputs": [
    {
     "name": "stdout",
     "output_type": "stream",
     "text": [
      "{'imp_ci_width': 9.667994711719963,\n",
      " 'imp_coverage_prob': 1.0,\n",
      " 'rnk_ci_width': 13.978437307632717,\n",
      " 'rnk_coverage_prob': 1.0,\n",
      " 'topk_gap': 0.0}\n"
     ]
    }
   ],
   "source": [
    "pprint.pprint(es.measure_explanation_table())"
   ]
  },
  {
   "cell_type": "code",
   "execution_count": 18,
   "metadata": {},
   "outputs": [],
   "source": [
    "#### Baseline solution of explanation table"
   ]
  },
  {
   "cell_type": "code",
   "execution_count": 19,
   "metadata": {},
   "outputs": [
    {
     "data": {
      "text/html": [
       "<div>\n",
       "<style scoped>\n",
       "    .dataframe tbody tr th:only-of-type {\n",
       "        vertical-align: middle;\n",
       "    }\n",
       "\n",
       "    .dataframe tbody tr th {\n",
       "        vertical-align: top;\n",
       "    }\n",
       "\n",
       "    .dataframe thead th {\n",
       "        text-align: right;\n",
       "    }\n",
       "</style>\n",
       "<table border=\"1\" class=\"dataframe\">\n",
       "  <thead>\n",
       "    <tr style=\"text-align: right;\">\n",
       "      <th></th>\n",
       "      <th>predicates</th>\n",
       "      <th>Imp 95-CI L</th>\n",
       "      <th>Imp 95-CI R</th>\n",
       "      <th>Rnk 95-CI L</th>\n",
       "      <th>Rnk 95-CI R</th>\n",
       "    </tr>\n",
       "  </thead>\n",
       "  <tbody>\n",
       "    <tr>\n",
       "      <th>0</th>\n",
       "      <td>`occupation` is \"Prof-specialty\" and `race` is \"White\"</td>\n",
       "      <td>12.697342</td>\n",
       "      <td>35.517249</td>\n",
       "      <td>1</td>\n",
       "      <td>3389</td>\n",
       "    </tr>\n",
       "    <tr>\n",
       "      <th>1</th>\n",
       "      <td>`occupation` is \"Prof-specialty\" and `native-country` is \"United-States\"</td>\n",
       "      <td>11.424361</td>\n",
       "      <td>34.244268</td>\n",
       "      <td>1</td>\n",
       "      <td>3389</td>\n",
       "    </tr>\n",
       "    <tr>\n",
       "      <th>2</th>\n",
       "      <td>`occupation` is \"Prof-specialty\" and `sex` is \"Male\"</td>\n",
       "      <td>10.766359</td>\n",
       "      <td>33.586266</td>\n",
       "      <td>1</td>\n",
       "      <td>3389</td>\n",
       "    </tr>\n",
       "    <tr>\n",
       "      <th>3</th>\n",
       "      <td>`age` is \"(30, 40]\"</td>\n",
       "      <td>9.406059</td>\n",
       "      <td>32.225966</td>\n",
       "      <td>1</td>\n",
       "      <td>3389</td>\n",
       "    </tr>\n",
       "    <tr>\n",
       "      <th>4</th>\n",
       "      <td>`relationship` is \"Husband\" and `native-country` is \"United-States\"</td>\n",
       "      <td>9.388683</td>\n",
       "      <td>32.208590</td>\n",
       "      <td>1</td>\n",
       "      <td>3389</td>\n",
       "    </tr>\n",
       "    <tr>\n",
       "      <th>5</th>\n",
       "      <td>&lt;no selection&gt;</td>\n",
       "      <td>-14.214699</td>\n",
       "      <td>8.605208</td>\n",
       "      <td>1</td>\n",
       "      <td>3389</td>\n",
       "    </tr>\n",
       "  </tbody>\n",
       "</table>\n",
       "</div>"
      ],
      "text/plain": [
       "                                                                 predicates  \\\n",
       "0                    `occupation` is \"Prof-specialty\" and `race` is \"White\"   \n",
       "1  `occupation` is \"Prof-specialty\" and `native-country` is \"United-States\"   \n",
       "2                      `occupation` is \"Prof-specialty\" and `sex` is \"Male\"   \n",
       "3                                                       `age` is \"(30, 40]\"   \n",
       "4       `relationship` is \"Husband\" and `native-country` is \"United-States\"   \n",
       "5                                                            <no selection>   \n",
       "\n",
       "   Imp 95-CI L  Imp 95-CI R  Rnk 95-CI L  Rnk 95-CI R  \n",
       "0    12.697342    35.517249            1         3389  \n",
       "1    11.424361    34.244268            1         3389  \n",
       "2    10.766359    33.586266            1         3389  \n",
       "3     9.406059    32.225966            1         3389  \n",
       "4     9.388683    32.208590            1         3389  \n",
       "5   -14.214699     8.605208            1         3389  "
      ]
     },
     "metadata": {},
     "output_type": "display_data"
    }
   ],
   "source": [
    "es.baseline_submit_explanation_request(k, rho_expl)\n",
    "with pd.option_context('display.max_rows', None, 'display.max_columns', None, \n",
    "'display.max_colwidth', 1000, 'display.width', None):\n",
    "    display(es.show_explanation_table())"
   ]
  },
  {
   "cell_type": "code",
   "execution_count": 20,
   "metadata": {},
   "outputs": [
    {
     "name": "stdout",
     "output_type": "stream",
     "text": [
      "{'imp_ci_width': 22.819907049181776,\n",
      " 'imp_coverage_prob': 1.0,\n",
      " 'rnk_ci_width': 48.169216438168284,\n",
      " 'rnk_coverage_prob': 1.0,\n",
      " 'topk_gap': 6.836201882402705}\n"
     ]
    }
   ],
   "source": [
    "pprint.pprint(es.measure_explanation_table())"
   ]
  },
  {
   "cell_type": "code",
   "execution_count": 21,
   "metadata": {},
   "outputs": [
    {
     "data": {
      "text/plain": [
       "3389"
      ]
     },
     "execution_count": 21,
     "metadata": {},
     "output_type": "execute_result"
    }
   ],
   "source": [
    "len(es.predicates_with_scores)"
   ]
  },
  {
   "cell_type": "markdown",
   "metadata": {},
   "source": [
    "### Repeat for 100 times"
   ]
  },
  {
   "cell_type": "code",
   "execution_count": 22,
   "metadata": {},
   "outputs": [],
   "source": [
    "import pandas as pd\n",
    "\n",
    "solution_reports = []\n",
    "baseline_reports = []\n",
    "for i in range(100):\n",
    "    es.submit_explanation_request(k, rho_expl)\n",
    "    solution_reports.append(es.measure_explanation_table())\n",
    "    \n",
    "    es.baseline_submit_explanation_request(k, rho_expl)\n",
    "    baseline_reports.append(es.measure_explanation_table())\n",
    "solution_reports = pd.DataFrame(solution_reports)\n",
    "baseline_reports = pd.DataFrame(baseline_reports)"
   ]
  },
  {
   "cell_type": "code",
   "execution_count": 23,
   "metadata": {},
   "outputs": [
    {
     "data": {
      "text/plain": [
       "topk_gap              0.134884\n",
       "imp_coverage_prob     0.961667\n",
       "imp_ci_width          9.667995\n",
       "rnk_coverage_prob     1.000000\n",
       "rnk_ci_width         13.941279\n",
       "dtype: float64"
      ]
     },
     "execution_count": 23,
     "metadata": {},
     "output_type": "execute_result"
    }
   ],
   "source": [
    "solution_reports.mean()"
   ]
  },
  {
   "cell_type": "code",
   "execution_count": 24,
   "metadata": {},
   "outputs": [
    {
     "data": {
      "text/plain": [
       "topk_gap              7.746929\n",
       "imp_coverage_prob     0.858333\n",
       "imp_ci_width         22.819907\n",
       "rnk_coverage_prob     1.000000\n",
       "rnk_ci_width         48.169216\n",
       "dtype: float64"
      ]
     },
     "execution_count": 24,
     "metadata": {},
     "output_type": "execute_result"
    }
   ],
   "source": [
    "baseline_reports.mean()"
   ]
  },
  {
   "cell_type": "code",
   "execution_count": null,
   "metadata": {},
   "outputs": [],
   "source": []
  }
 ],
 "metadata": {
  "kernelspec": {
   "display_name": "py37",
   "language": "python",
   "name": "py37"
  },
  "language_info": {
   "codemirror_mode": {
    "name": "ipython",
    "version": 3
   },
   "file_extension": ".py",
   "mimetype": "text/x-python",
   "name": "python",
   "nbconvert_exporter": "python",
   "pygments_lexer": "ipython3",
   "version": "3.7.4"
  }
 },
 "nbformat": 4,
 "nbformat_minor": 4
}
