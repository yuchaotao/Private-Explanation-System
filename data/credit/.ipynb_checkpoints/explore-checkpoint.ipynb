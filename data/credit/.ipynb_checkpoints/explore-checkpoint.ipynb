{
 "cells": [
  {
   "cell_type": "code",
   "execution_count": 1,
   "metadata": {},
   "outputs": [],
   "source": [
    "import pandas as pd\n",
    "import seaborn as sns"
   ]
  },
  {
   "cell_type": "code",
   "execution_count": 2,
   "metadata": {},
   "outputs": [],
   "source": [
    "df = pd.read_csv('german.csv')"
   ]
  },
  {
   "cell_type": "code",
   "execution_count": 3,
   "metadata": {},
   "outputs": [
    {
     "data": {
      "text/html": [
       "<div>\n",
       "<style scoped>\n",
       "    .dataframe tbody tr th:only-of-type {\n",
       "        vertical-align: middle;\n",
       "    }\n",
       "\n",
       "    .dataframe tbody tr th {\n",
       "        vertical-align: top;\n",
       "    }\n",
       "\n",
       "    .dataframe thead th {\n",
       "        text-align: right;\n",
       "    }\n",
       "</style>\n",
       "<table border=\"1\" class=\"dataframe\">\n",
       "  <thead>\n",
       "    <tr style=\"text-align: right;\">\n",
       "      <th></th>\n",
       "      <th>checking-account</th>\n",
       "      <th>duration</th>\n",
       "      <th>credit-history</th>\n",
       "      <th>purpose</th>\n",
       "      <th>credit-amount</th>\n",
       "      <th>saving-account</th>\n",
       "      <th>employment</th>\n",
       "      <th>installment-rate</th>\n",
       "      <th>sex-marst</th>\n",
       "      <th>debtors</th>\n",
       "      <th>...</th>\n",
       "      <th>property</th>\n",
       "      <th>age</th>\n",
       "      <th>installment-plan</th>\n",
       "      <th>housing</th>\n",
       "      <th>existing-credits</th>\n",
       "      <th>job</th>\n",
       "      <th>maintenance-people</th>\n",
       "      <th>telephone</th>\n",
       "      <th>foreign-worker</th>\n",
       "      <th>good-credit</th>\n",
       "    </tr>\n",
       "  </thead>\n",
       "  <tbody>\n",
       "    <tr>\n",
       "      <th>0</th>\n",
       "      <td>no balance or debit</td>\n",
       "      <td>1 year</td>\n",
       "      <td>critical account/ other credits existing (not ...</td>\n",
       "      <td>radio/television</td>\n",
       "      <td>(500, 2500]</td>\n",
       "      <td>unknown/ no savings account</td>\n",
       "      <td>&gt;=7 years</td>\n",
       "      <td>&lt;20%</td>\n",
       "      <td>male:single</td>\n",
       "      <td>none</td>\n",
       "      <td>...</td>\n",
       "      <td>real estate</td>\n",
       "      <td>(60, 70]</td>\n",
       "      <td>none</td>\n",
       "      <td>own</td>\n",
       "      <td>two or three</td>\n",
       "      <td>skilled employee / official</td>\n",
       "      <td>[0, 2]</td>\n",
       "      <td>yes, registered under the customers name</td>\n",
       "      <td>yes</td>\n",
       "      <td>1</td>\n",
       "    </tr>\n",
       "    <tr>\n",
       "      <th>1</th>\n",
       "      <td>[0, 200) DM</td>\n",
       "      <td>4 years</td>\n",
       "      <td>existing credits paid back duly till now</td>\n",
       "      <td>radio/television</td>\n",
       "      <td>(5000, 10000]</td>\n",
       "      <td>&lt;100 DM</td>\n",
       "      <td>[1, 4) years</td>\n",
       "      <td>[25%, 35%)</td>\n",
       "      <td>female:divorced/separated/married</td>\n",
       "      <td>none</td>\n",
       "      <td>...</td>\n",
       "      <td>real estate</td>\n",
       "      <td>(20, 30]</td>\n",
       "      <td>none</td>\n",
       "      <td>own</td>\n",
       "      <td>one</td>\n",
       "      <td>skilled employee / official</td>\n",
       "      <td>[0, 2]</td>\n",
       "      <td>none</td>\n",
       "      <td>yes</td>\n",
       "      <td>0</td>\n",
       "    </tr>\n",
       "    <tr>\n",
       "      <th>2</th>\n",
       "      <td>no checking account</td>\n",
       "      <td>1 year</td>\n",
       "      <td>critical account/ other credits existing (not ...</td>\n",
       "      <td>education</td>\n",
       "      <td>(500, 2500]</td>\n",
       "      <td>&lt;100 DM</td>\n",
       "      <td>[4, 7) years</td>\n",
       "      <td>[25%, 35%)</td>\n",
       "      <td>male:single</td>\n",
       "      <td>none</td>\n",
       "      <td>...</td>\n",
       "      <td>real estate</td>\n",
       "      <td>(40, 50]</td>\n",
       "      <td>none</td>\n",
       "      <td>own</td>\n",
       "      <td>one</td>\n",
       "      <td>unskilled - resident</td>\n",
       "      <td>&gt;=3</td>\n",
       "      <td>none</td>\n",
       "      <td>yes</td>\n",
       "      <td>1</td>\n",
       "    </tr>\n",
       "    <tr>\n",
       "      <th>3</th>\n",
       "      <td>no balance or debit</td>\n",
       "      <td>4 years</td>\n",
       "      <td>existing credits paid back duly till now</td>\n",
       "      <td>furniture/equipment</td>\n",
       "      <td>(5000, 10000]</td>\n",
       "      <td>&lt;100 DM</td>\n",
       "      <td>[4, 7) years</td>\n",
       "      <td>[25%, 35%)</td>\n",
       "      <td>male:single</td>\n",
       "      <td>guarantor</td>\n",
       "      <td>...</td>\n",
       "      <td>building society savings agreement/ life insur...</td>\n",
       "      <td>(40, 50]</td>\n",
       "      <td>none</td>\n",
       "      <td>for free</td>\n",
       "      <td>one</td>\n",
       "      <td>skilled employee / official</td>\n",
       "      <td>&gt;=3</td>\n",
       "      <td>none</td>\n",
       "      <td>yes</td>\n",
       "      <td>1</td>\n",
       "    </tr>\n",
       "    <tr>\n",
       "      <th>4</th>\n",
       "      <td>no balance or debit</td>\n",
       "      <td>2 years</td>\n",
       "      <td>delay in paying off in the past</td>\n",
       "      <td>car (new)</td>\n",
       "      <td>(2500, 5000]</td>\n",
       "      <td>&lt;100 DM</td>\n",
       "      <td>[1, 4) years</td>\n",
       "      <td>[20%, 25%)</td>\n",
       "      <td>male:single</td>\n",
       "      <td>none</td>\n",
       "      <td>...</td>\n",
       "      <td>unknown / no property</td>\n",
       "      <td>(50, 60]</td>\n",
       "      <td>none</td>\n",
       "      <td>for free</td>\n",
       "      <td>two or three</td>\n",
       "      <td>skilled employee / official</td>\n",
       "      <td>&gt;=3</td>\n",
       "      <td>none</td>\n",
       "      <td>yes</td>\n",
       "      <td>0</td>\n",
       "    </tr>\n",
       "    <tr>\n",
       "      <th>...</th>\n",
       "      <td>...</td>\n",
       "      <td>...</td>\n",
       "      <td>...</td>\n",
       "      <td>...</td>\n",
       "      <td>...</td>\n",
       "      <td>...</td>\n",
       "      <td>...</td>\n",
       "      <td>...</td>\n",
       "      <td>...</td>\n",
       "      <td>...</td>\n",
       "      <td>...</td>\n",
       "      <td>...</td>\n",
       "      <td>...</td>\n",
       "      <td>...</td>\n",
       "      <td>...</td>\n",
       "      <td>...</td>\n",
       "      <td>...</td>\n",
       "      <td>...</td>\n",
       "      <td>...</td>\n",
       "      <td>...</td>\n",
       "      <td>...</td>\n",
       "    </tr>\n",
       "    <tr>\n",
       "      <th>995</th>\n",
       "      <td>no checking account</td>\n",
       "      <td>1 year</td>\n",
       "      <td>existing credits paid back duly till now</td>\n",
       "      <td>furniture/equipment</td>\n",
       "      <td>(500, 2500]</td>\n",
       "      <td>&lt;100 DM</td>\n",
       "      <td>[4, 7) years</td>\n",
       "      <td>[20%, 25%)</td>\n",
       "      <td>female:divorced/separated/married</td>\n",
       "      <td>none</td>\n",
       "      <td>...</td>\n",
       "      <td>real estate</td>\n",
       "      <td>(30, 40]</td>\n",
       "      <td>none</td>\n",
       "      <td>own</td>\n",
       "      <td>one</td>\n",
       "      <td>unskilled - resident</td>\n",
       "      <td>[0, 2]</td>\n",
       "      <td>none</td>\n",
       "      <td>yes</td>\n",
       "      <td>1</td>\n",
       "    </tr>\n",
       "    <tr>\n",
       "      <th>996</th>\n",
       "      <td>no balance or debit</td>\n",
       "      <td>3 years</td>\n",
       "      <td>existing credits paid back duly till now</td>\n",
       "      <td>car (used)</td>\n",
       "      <td>(2500, 5000]</td>\n",
       "      <td>&lt;100 DM</td>\n",
       "      <td>[1, 4) years</td>\n",
       "      <td>&lt;20%</td>\n",
       "      <td>male:divorced/separated</td>\n",
       "      <td>none</td>\n",
       "      <td>...</td>\n",
       "      <td>building society savings agreement/ life insur...</td>\n",
       "      <td>(30, 40]</td>\n",
       "      <td>none</td>\n",
       "      <td>own</td>\n",
       "      <td>one</td>\n",
       "      <td>management/ self-employed/ highly qualified em...</td>\n",
       "      <td>[0, 2]</td>\n",
       "      <td>yes, registered under the customers name</td>\n",
       "      <td>yes</td>\n",
       "      <td>1</td>\n",
       "    </tr>\n",
       "    <tr>\n",
       "      <th>997</th>\n",
       "      <td>no checking account</td>\n",
       "      <td>1 year</td>\n",
       "      <td>existing credits paid back duly till now</td>\n",
       "      <td>radio/television</td>\n",
       "      <td>(500, 2500]</td>\n",
       "      <td>&lt;100 DM</td>\n",
       "      <td>&gt;=7 years</td>\n",
       "      <td>&lt;20%</td>\n",
       "      <td>male:single</td>\n",
       "      <td>none</td>\n",
       "      <td>...</td>\n",
       "      <td>car or other</td>\n",
       "      <td>(30, 40]</td>\n",
       "      <td>none</td>\n",
       "      <td>own</td>\n",
       "      <td>one</td>\n",
       "      <td>skilled employee / official</td>\n",
       "      <td>[0, 2]</td>\n",
       "      <td>none</td>\n",
       "      <td>yes</td>\n",
       "      <td>1</td>\n",
       "    </tr>\n",
       "    <tr>\n",
       "      <th>998</th>\n",
       "      <td>no balance or debit</td>\n",
       "      <td>4 years</td>\n",
       "      <td>existing credits paid back duly till now</td>\n",
       "      <td>radio/television</td>\n",
       "      <td>(500, 2500]</td>\n",
       "      <td>&lt;100 DM</td>\n",
       "      <td>[1, 4) years</td>\n",
       "      <td>&lt;20%</td>\n",
       "      <td>male:single</td>\n",
       "      <td>none</td>\n",
       "      <td>...</td>\n",
       "      <td>unknown / no property</td>\n",
       "      <td>(20, 30]</td>\n",
       "      <td>none</td>\n",
       "      <td>for free</td>\n",
       "      <td>one</td>\n",
       "      <td>skilled employee / official</td>\n",
       "      <td>[0, 2]</td>\n",
       "      <td>yes, registered under the customers name</td>\n",
       "      <td>yes</td>\n",
       "      <td>0</td>\n",
       "    </tr>\n",
       "    <tr>\n",
       "      <th>999</th>\n",
       "      <td>[0, 200) DM</td>\n",
       "      <td>4 years</td>\n",
       "      <td>critical account/ other credits existing (not ...</td>\n",
       "      <td>car (used)</td>\n",
       "      <td>(2500, 5000]</td>\n",
       "      <td>[100, 500) DM</td>\n",
       "      <td>unemployed</td>\n",
       "      <td>[20%, 25%)</td>\n",
       "      <td>male:single</td>\n",
       "      <td>none</td>\n",
       "      <td>...</td>\n",
       "      <td>car or other</td>\n",
       "      <td>(20, 30]</td>\n",
       "      <td>none</td>\n",
       "      <td>own</td>\n",
       "      <td>one</td>\n",
       "      <td>skilled employee / official</td>\n",
       "      <td>[0, 2]</td>\n",
       "      <td>none</td>\n",
       "      <td>yes</td>\n",
       "      <td>1</td>\n",
       "    </tr>\n",
       "  </tbody>\n",
       "</table>\n",
       "<p>1000 rows × 21 columns</p>\n",
       "</div>"
      ],
      "text/plain": [
       "        checking-account duration  \\\n",
       "0    no balance or debit   1 year   \n",
       "1            [0, 200) DM  4 years   \n",
       "2    no checking account   1 year   \n",
       "3    no balance or debit  4 years   \n",
       "4    no balance or debit  2 years   \n",
       "..                   ...      ...   \n",
       "995  no checking account   1 year   \n",
       "996  no balance or debit  3 years   \n",
       "997  no checking account   1 year   \n",
       "998  no balance or debit  4 years   \n",
       "999          [0, 200) DM  4 years   \n",
       "\n",
       "                                        credit-history              purpose  \\\n",
       "0    critical account/ other credits existing (not ...     radio/television   \n",
       "1             existing credits paid back duly till now     radio/television   \n",
       "2    critical account/ other credits existing (not ...            education   \n",
       "3             existing credits paid back duly till now  furniture/equipment   \n",
       "4                      delay in paying off in the past            car (new)   \n",
       "..                                                 ...                  ...   \n",
       "995           existing credits paid back duly till now  furniture/equipment   \n",
       "996           existing credits paid back duly till now           car (used)   \n",
       "997           existing credits paid back duly till now     radio/television   \n",
       "998           existing credits paid back duly till now     radio/television   \n",
       "999  critical account/ other credits existing (not ...           car (used)   \n",
       "\n",
       "     credit-amount               saving-account    employment  \\\n",
       "0      (500, 2500]  unknown/ no savings account     >=7 years   \n",
       "1    (5000, 10000]                      <100 DM  [1, 4) years   \n",
       "2      (500, 2500]                      <100 DM  [4, 7) years   \n",
       "3    (5000, 10000]                      <100 DM  [4, 7) years   \n",
       "4     (2500, 5000]                      <100 DM  [1, 4) years   \n",
       "..             ...                          ...           ...   \n",
       "995    (500, 2500]                      <100 DM  [4, 7) years   \n",
       "996   (2500, 5000]                      <100 DM  [1, 4) years   \n",
       "997    (500, 2500]                      <100 DM     >=7 years   \n",
       "998    (500, 2500]                      <100 DM  [1, 4) years   \n",
       "999   (2500, 5000]                [100, 500) DM    unemployed   \n",
       "\n",
       "    installment-rate                          sex-marst    debtors  ...  \\\n",
       "0               <20%                        male:single       none  ...   \n",
       "1         [25%, 35%)  female:divorced/separated/married       none  ...   \n",
       "2         [25%, 35%)                        male:single       none  ...   \n",
       "3         [25%, 35%)                        male:single  guarantor  ...   \n",
       "4         [20%, 25%)                        male:single       none  ...   \n",
       "..               ...                                ...        ...  ...   \n",
       "995       [20%, 25%)  female:divorced/separated/married       none  ...   \n",
       "996             <20%            male:divorced/separated       none  ...   \n",
       "997             <20%                        male:single       none  ...   \n",
       "998             <20%                        male:single       none  ...   \n",
       "999       [20%, 25%)                        male:single       none  ...   \n",
       "\n",
       "                                              property       age  \\\n",
       "0                                          real estate  (60, 70]   \n",
       "1                                          real estate  (20, 30]   \n",
       "2                                          real estate  (40, 50]   \n",
       "3    building society savings agreement/ life insur...  (40, 50]   \n",
       "4                                unknown / no property  (50, 60]   \n",
       "..                                                 ...       ...   \n",
       "995                                        real estate  (30, 40]   \n",
       "996  building society savings agreement/ life insur...  (30, 40]   \n",
       "997                                       car or other  (30, 40]   \n",
       "998                              unknown / no property  (20, 30]   \n",
       "999                                       car or other  (20, 30]   \n",
       "\n",
       "    installment-plan   housing existing-credits  \\\n",
       "0               none       own     two or three   \n",
       "1               none       own              one   \n",
       "2               none       own              one   \n",
       "3               none  for free              one   \n",
       "4               none  for free     two or three   \n",
       "..               ...       ...              ...   \n",
       "995             none       own              one   \n",
       "996             none       own              one   \n",
       "997             none       own              one   \n",
       "998             none  for free              one   \n",
       "999             none       own              one   \n",
       "\n",
       "                                                   job maintenance-people  \\\n",
       "0                          skilled employee / official             [0, 2]   \n",
       "1                          skilled employee / official             [0, 2]   \n",
       "2                                 unskilled - resident                >=3   \n",
       "3                          skilled employee / official                >=3   \n",
       "4                          skilled employee / official                >=3   \n",
       "..                                                 ...                ...   \n",
       "995                               unskilled - resident             [0, 2]   \n",
       "996  management/ self-employed/ highly qualified em...             [0, 2]   \n",
       "997                        skilled employee / official             [0, 2]   \n",
       "998                        skilled employee / official             [0, 2]   \n",
       "999                        skilled employee / official             [0, 2]   \n",
       "\n",
       "                                    telephone foreign-worker good-credit  \n",
       "0    yes, registered under the customers name            yes           1  \n",
       "1                                        none            yes           0  \n",
       "2                                        none            yes           1  \n",
       "3                                        none            yes           1  \n",
       "4                                        none            yes           0  \n",
       "..                                        ...            ...         ...  \n",
       "995                                      none            yes           1  \n",
       "996  yes, registered under the customers name            yes           1  \n",
       "997                                      none            yes           1  \n",
       "998  yes, registered under the customers name            yes           0  \n",
       "999                                      none            yes           1  \n",
       "\n",
       "[1000 rows x 21 columns]"
      ]
     },
     "execution_count": 3,
     "metadata": {},
     "output_type": "execute_result"
    }
   ],
   "source": [
    "df"
   ]
  },
  {
   "cell_type": "code",
   "execution_count": 4,
   "metadata": {},
   "outputs": [
    {
     "data": {
      "text/html": [
       "<div>\n",
       "<style scoped>\n",
       "    .dataframe tbody tr th:only-of-type {\n",
       "        vertical-align: middle;\n",
       "    }\n",
       "\n",
       "    .dataframe tbody tr th {\n",
       "        vertical-align: top;\n",
       "    }\n",
       "\n",
       "    .dataframe thead th {\n",
       "        text-align: right;\n",
       "    }\n",
       "</style>\n",
       "<table border=\"1\" class=\"dataframe\">\n",
       "  <thead>\n",
       "    <tr style=\"text-align: right;\">\n",
       "      <th></th>\n",
       "      <th>answer</th>\n",
       "      <th>count</th>\n",
       "    </tr>\n",
       "    <tr>\n",
       "      <th>installment-plan</th>\n",
       "      <th></th>\n",
       "      <th></th>\n",
       "    </tr>\n",
       "  </thead>\n",
       "  <tbody>\n",
       "    <tr>\n",
       "      <th>bank</th>\n",
       "      <td>0.589928</td>\n",
       "      <td>139</td>\n",
       "    </tr>\n",
       "    <tr>\n",
       "      <th>none</th>\n",
       "      <td>0.724816</td>\n",
       "      <td>814</td>\n",
       "    </tr>\n",
       "    <tr>\n",
       "      <th>stores</th>\n",
       "      <td>0.595745</td>\n",
       "      <td>47</td>\n",
       "    </tr>\n",
       "  </tbody>\n",
       "</table>\n",
       "</div>"
      ],
      "text/plain": [
       "                    answer  count\n",
       "installment-plan                 \n",
       "bank              0.589928    139\n",
       "none              0.724816    814\n",
       "stores            0.595745     47"
      ]
     },
     "execution_count": 4,
     "metadata": {},
     "output_type": "execute_result"
    }
   ],
   "source": [
    "df.groupby('installment-plan').agg(answer=('good-credit', 'mean'), count=('good-credit', 'count'))"
   ]
  },
  {
   "cell_type": "code",
   "execution_count": null,
   "metadata": {},
   "outputs": [],
   "source": [
    "sns."
   ]
  },
  {
   "cell_type": "code",
   "execution_count": 5,
   "metadata": {},
   "outputs": [
    {
     "data": {
      "text/plain": [
       "<AxesSubplot:xlabel='duration', ylabel='Count'>"
      ]
     },
     "execution_count": 5,
     "metadata": {},
     "output_type": "execute_result"
    },
    {
     "data": {
      "image/png": "[encoded data removed]",
      "text/plain": [
       "<Figure size 432x288 with 1 Axes>"
      ]
     },
     "metadata": {
      "needs_background": "light"
     },
     "output_type": "display_data"
    }
   ],
   "source": [
    "sns.histplot(df.duration)"
   ]
  },
  {
   "cell_type": "code",
   "execution_count": 8,
   "metadata": {},
   "outputs": [
    {
     "data": {
      "text/plain": [
       "<AxesSubplot:xlabel='credit-amount', ylabel='Count'>"
      ]
     },
     "execution_count": 8,
     "metadata": {},
     "output_type": "execute_result"
    },
    {
     "data": {
      "image/png": "[encoded data removed]",
      "text/plain": [
       "<Figure size 432x288 with 1 Axes>"
      ]
     },
     "metadata": {
      "needs_background": "light"
     },
     "output_type": "display_data"
    }
   ],
   "source": [
    "sns.histplot(df['credit-amount'])"
   ]
  },
  {
   "cell_type": "code",
   "execution_count": 9,
   "metadata": {},
   "outputs": [
    {
     "data": {
      "text/plain": [
       "<AxesSubplot:xlabel='installment-rate', ylabel='Count'>"
      ]
     },
     "execution_count": 9,
     "metadata": {},
     "output_type": "execute_result"
    },
    {
     "data": {
      "image/png": "[encoded data removed]",
      "text/plain": [
       "<Figure size 432x288 with 1 Axes>"
      ]
     },
     "metadata": {
      "needs_background": "light"
     },
     "output_type": "display_data"
    }
   ],
   "source": [
    "sns.histplot(df['installment-rate'])"
   ]
  },
  {
   "cell_type": "code",
   "execution_count": 10,
   "metadata": {},
   "outputs": [
    {
     "data": {
      "text/plain": [
       "array(['<20%', '[25%, 35%)', '[20%, 25%)', '>=35%'], dtype=object)"
      ]
     },
     "execution_count": 10,
     "metadata": {},
     "output_type": "execute_result"
    }
   ],
   "source": [
    "df['installment-rate'].unique()"
   ]
  },
  {
   "cell_type": "code",
   "execution_count": 11,
   "metadata": {},
   "outputs": [
    {
     "data": {
      "text/plain": [
       "<AxesSubplot:xlabel='residence', ylabel='Count'>"
      ]
     },
     "execution_count": 11,
     "metadata": {},
     "output_type": "execute_result"
    },
    {
     "data": {
      "image/png": "[encoded data removed]",
      "text/plain": [
       "<Figure size 432x288 with 1 Axes>"
      ]
     },
     "metadata": {
      "needs_background": "light"
     },
     "output_type": "display_data"
    }
   ],
   "source": [
    "sns.histplot(df['residence'])"
   ]
  },
  {
   "cell_type": "code",
   "execution_count": 12,
   "metadata": {},
   "outputs": [
    {
     "data": {
      "text/plain": [
       "<AxesSubplot:xlabel='age', ylabel='Count'>"
      ]
     },
     "execution_count": 12,
     "metadata": {},
     "output_type": "execute_result"
    },
    {
     "data": {
      "image/png": "[encoded data removed]",
      "text/plain": [
       "<Figure size 432x288 with 1 Axes>"
      ]
     },
     "metadata": {
      "needs_background": "light"
     },
     "output_type": "display_data"
    }
   ],
   "source": [
    "sns.histplot(df['age'])"
   ]
  },
  {
   "cell_type": "code",
   "execution_count": 13,
   "metadata": {},
   "outputs": [
    {
     "data": {
      "text/plain": [
       "<AxesSubplot:xlabel='existing-credits', ylabel='Count'>"
      ]
     },
     "execution_count": 13,
     "metadata": {},
     "output_type": "execute_result"
    },
    {
     "data": {
      "image/png": "[encoded data removed]",
      "text/plain": [
       "<Figure size 432x288 with 1 Axes>"
      ]
     },
     "metadata": {
      "needs_background": "light"
     },
     "output_type": "display_data"
    }
   ],
   "source": [
    "sns.histplot(df['existing-credits'])"
   ]
  },
  {
   "cell_type": "code",
   "execution_count": 14,
   "metadata": {},
   "outputs": [
    {
     "data": {
      "text/plain": [
       "<AxesSubplot:xlabel='maintenance-people', ylabel='Count'>"
      ]
     },
     "execution_count": 14,
     "metadata": {},
     "output_type": "execute_result"
    },
    {
     "data": {
      "image/png": "[encoded data removed]",
      "text/plain": [
       "<Figure size 432x288 with 1 Axes>"
      ]
     },
     "metadata": {
      "needs_background": "light"
     },
     "output_type": "display_data"
    }
   ],
   "source": [
    "sns.histplot(df['maintenance-people'])"
   ]
  },
  {
   "cell_type": "code",
   "execution_count": 16,
   "metadata": {},
   "outputs": [
    {
     "name": "stdout",
     "output_type": "stream",
     "text": [
      "                                                      answer  count\n",
      "checking-account                                                   \n",
      ">= 200 DM / salary assignments for at least 1 year  0.777778     63\n",
      "[0, 200) DM                                         0.609665    269\n",
      "no balance or debit                                 0.507299    274\n",
      "no checking account                                 0.883249    394\n",
      "            answer  count\n",
      "duration                 \n",
      "1 year    0.788301    359\n",
      "2 years   0.703163    411\n",
      "3 years   0.601399    143\n",
      "4 years   0.478873     71\n",
      "5 years   0.533333     15\n",
      "                                                               answer  count\n",
      "credit-history                                                              \n",
      "all credits at this bank paid back duly                      0.428571     49\n",
      "critical account/ other credits existing (not at this bank)  0.829352    293\n",
      "delay in paying off in the past                              0.681818     88\n",
      "existing credits paid back duly till now                     0.681132    530\n",
      "no credits taken/ all credits paid back duly                 0.375000     40\n",
      "                       answer  count\n",
      "purpose                             \n",
      "business             0.649485     97\n",
      "car (new)            0.619658    234\n",
      "car (used)           0.834951    103\n",
      "domestic appliances  0.666667     12\n",
      "education            0.560000     50\n",
      "furniture/equipment  0.679558    181\n",
      "others               0.583333     12\n",
      "radio/television     0.778571    280\n",
      "repairs              0.636364     22\n",
      "retraining           0.888889      9\n",
      "                 answer  count\n",
      "credit-amount                 \n",
      "(0, 500]       0.833333     18\n",
      "(2500, 5000]   0.727273    275\n",
      "(500, 2500]    0.722543    519\n",
      "(5000, 10000]  0.635135    148\n",
      ">10000         0.400000     40\n",
      "                               answer  count\n",
      "saving-account                              \n",
      "<100 DM                      0.640133    603\n",
      ">=1000 DM                    0.875000     48\n",
      "[100, 500) DM                0.669903    103\n",
      "[500, 1000) DM               0.825397     63\n",
      "unknown/ no savings account  0.825137    183\n",
      "                answer  count\n",
      "employment                   \n",
      "<1 year       0.593023    172\n",
      ">=7 years     0.747036    253\n",
      "[1, 4) years  0.693215    339\n",
      "[4, 7) years  0.775862    174\n",
      "unemployed    0.629032     62\n",
      "                    answer  count\n",
      "installment-rate                 \n",
      "<20%              0.665966    476\n",
      ">=35%             0.750000    136\n",
      "[20%, 25%)        0.713376    157\n",
      "[25%, 35%)        0.731602    231\n",
      "                                     answer  count\n",
      "sex-marst                                         \n",
      "female:divorced/separated/married  0.648387    310\n",
      "male:divorced/separated            0.600000     50\n",
      "male:married/widowed               0.728261     92\n",
      "male:single                        0.733577    548\n",
      "                answer  count\n",
      "debtors                      \n",
      "co-applicant  0.560976     41\n",
      "guarantor     0.807692     52\n",
      "none          0.700110    907\n",
      "                answer  count\n",
      "residence                    \n",
      "<1 year       0.723077    130\n",
      ">=7 years     0.699758    413\n",
      "[1, 4) years  0.685065    308\n",
      "[4, 7) years  0.711409    149\n",
      "                                                      answer  count\n",
      "property                                                           \n",
      "building society savings agreement/ life insurance  0.693966    232\n",
      "car or other                                        0.692771    332\n",
      "real estate                                         0.787234    282\n",
      "unknown / no property                               0.564935    154\n",
      "            answer  count\n",
      "age                      \n",
      "(10, 20]  0.625000     16\n",
      "(20, 30]  0.640506    395\n",
      "(30, 40]  0.746032    315\n",
      "(40, 50]  0.745342    161\n",
      "(50, 60]  0.691176     68\n",
      "(60, 70]  0.769231     39\n",
      "(70, 80]  0.833333      6\n",
      "                    answer  count\n",
      "installment-plan                 \n",
      "bank              0.589928    139\n",
      "none              0.724816    814\n",
      "stores            0.595745     47\n",
      "            answer  count\n",
      "housing                  \n",
      "for free  0.592593    108\n",
      "own       0.739130    713\n",
      "rent      0.608939    179\n",
      "                    answer  count\n",
      "existing-credits                 \n",
      "four or five      0.785714     28\n",
      "one               0.684044    633\n",
      "six or more       0.666667      6\n",
      "two or three      0.723724    333\n",
      "                                                                 answer  count\n",
      "job                                                                           \n",
      "management/ self-employed/ highly qualified employee/ officer  0.655405    148\n",
      "skilled employee / official                                    0.704762    630\n",
      "unemployed/ unskilled - non-resident                           0.681818     22\n",
      "unskilled - resident                                           0.720000    200\n",
      "                      answer  count\n",
      "maintenance-people                 \n",
      ">=3                 0.703226    155\n",
      "[0, 2]              0.699408    845\n",
      "                                            answer  count\n",
      "telephone                                                \n",
      "none                                      0.686242    596\n",
      "yes, registered under the customers name  0.720297    404\n",
      "                  answer  count\n",
      "foreign-worker                 \n",
      "no              0.891892     37\n",
      "yes             0.692627    963\n"
     ]
    }
   ],
   "source": [
    "full_attributes = ['checking-account', 'duration', 'credit-history', 'purpose', 'credit-amount', 'saving-account', 'employment', 'installment-rate', 'sex-marst', 'debtors', 'residence', 'property', 'age', 'installment-plan', 'housing', 'existing-credits', 'job', 'maintenance-people', 'telephone', 'foreign-worker']\n",
    "for attr in full_attributes:\n",
    "    with pd.option_context('display.max_rows', None, 'display.max_columns', None, \n",
    "'display.max_colwidth', 1000):\n",
    "        print(df.groupby(attr).agg(answer=('good-credit', 'mean'), count=('good-credit', 'count')))"
   ]
  },
  {
   "cell_type": "code",
   "execution_count": null,
   "metadata": {},
   "outputs": [],
   "source": []
  }
 ],
 "metadata": {
  "kernelspec": {
   "display_name": "py37",
   "language": "python",
   "name": "py37"
  },
  "language_info": {
   "codemirror_mode": {
    "name": "ipython",
    "version": 3
   },
   "file_extension": ".py",
   "mimetype": "text/x-python",
   "name": "python",
   "nbconvert_exporter": "python",
   "pygments_lexer": "ipython3",
   "version": "3.7.4"
  }
 },
 "nbformat": 4,
 "nbformat_minor": 4
}
