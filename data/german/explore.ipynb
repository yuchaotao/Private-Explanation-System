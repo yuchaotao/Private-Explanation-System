{
 "cells": [
  {
   "cell_type": "code",
   "execution_count": 1,
   "metadata": {},
   "outputs": [],
   "source": [
    "import pandas as pd\n",
    "import seaborn as sns"
   ]
  },
  {
   "cell_type": "code",
   "execution_count": 2,
   "metadata": {},
   "outputs": [],
   "source": [
    "df = pd.read_csv('german.csv')"
   ]
  },
  {
   "cell_type": "code",
   "execution_count": 3,
   "metadata": {},
   "outputs": [
    {
     "data": {
      "text/html": [
       "<div>\n",
       "<style scoped>\n",
       "    .dataframe tbody tr th:only-of-type {\n",
       "        vertical-align: middle;\n",
       "    }\n",
       "\n",
       "    .dataframe tbody tr th {\n",
       "        vertical-align: top;\n",
       "    }\n",
       "\n",
       "    .dataframe thead th {\n",
       "        text-align: right;\n",
       "    }\n",
       "</style>\n",
       "<table border=\"1\" class=\"dataframe\">\n",
       "  <thead>\n",
       "    <tr style=\"text-align: right;\">\n",
       "      <th></th>\n",
       "      <th>status</th>\n",
       "      <th>duration</th>\n",
       "      <th>credit-history</th>\n",
       "      <th>purpose</th>\n",
       "      <th>credit-amount</th>\n",
       "      <th>saving-account</th>\n",
       "      <th>employment</th>\n",
       "      <th>installment-rate</th>\n",
       "      <th>sex-marst</th>\n",
       "      <th>other-debtors</th>\n",
       "      <th>...</th>\n",
       "      <th>property</th>\n",
       "      <th>age</th>\n",
       "      <th>other-installment-plans</th>\n",
       "      <th>housing</th>\n",
       "      <th>existing-credits</th>\n",
       "      <th>job</th>\n",
       "      <th>people-liable</th>\n",
       "      <th>telephone</th>\n",
       "      <th>foreign-worker</th>\n",
       "      <th>good-credit</th>\n",
       "    </tr>\n",
       "  </thead>\n",
       "  <tbody>\n",
       "    <tr>\n",
       "      <th>0</th>\n",
       "      <td>no checking account</td>\n",
       "      <td>1 &lt;= ... &lt; 4 yrs</td>\n",
       "      <td>all credits at this bank paid back duly</td>\n",
       "      <td>car (used)</td>\n",
       "      <td>(500, 2500]</td>\n",
       "      <td>unknown/no savings account</td>\n",
       "      <td>&lt; 1 yr</td>\n",
       "      <td>&lt; 20</td>\n",
       "      <td>female : non-single or male : single</td>\n",
       "      <td>none</td>\n",
       "      <td>...</td>\n",
       "      <td>car or other</td>\n",
       "      <td>(20, 30]</td>\n",
       "      <td>none</td>\n",
       "      <td>for free</td>\n",
       "      <td>1</td>\n",
       "      <td>skilled employee / official</td>\n",
       "      <td>0 to 2</td>\n",
       "      <td>no</td>\n",
       "      <td>no</td>\n",
       "      <td>1</td>\n",
       "    </tr>\n",
       "    <tr>\n",
       "      <th>1</th>\n",
       "      <td>no checking account</td>\n",
       "      <td>&lt; 1 yr</td>\n",
       "      <td>all credits at this bank paid back duly</td>\n",
       "      <td>others</td>\n",
       "      <td>(2500, 5000]</td>\n",
       "      <td>unknown/no savings account</td>\n",
       "      <td>1 &lt;= ... &lt; 4 yrs</td>\n",
       "      <td>25 &lt;= ... &lt; 35</td>\n",
       "      <td>male : married/widowed</td>\n",
       "      <td>none</td>\n",
       "      <td>...</td>\n",
       "      <td>unknown / no property</td>\n",
       "      <td>(30, 40]</td>\n",
       "      <td>none</td>\n",
       "      <td>for free</td>\n",
       "      <td>2-3</td>\n",
       "      <td>skilled employee / official</td>\n",
       "      <td>3 or more</td>\n",
       "      <td>no</td>\n",
       "      <td>no</td>\n",
       "      <td>1</td>\n",
       "    </tr>\n",
       "    <tr>\n",
       "      <th>2</th>\n",
       "      <td>... &lt; 0 DM</td>\n",
       "      <td>&lt; 1 yr</td>\n",
       "      <td>no credits taken/all credits paid back duly</td>\n",
       "      <td>retraining</td>\n",
       "      <td>(500, 2500]</td>\n",
       "      <td>... &lt;  100 DM</td>\n",
       "      <td>4 &lt;= ... &lt; 7 yrs</td>\n",
       "      <td>25 &lt;= ... &lt; 35</td>\n",
       "      <td>female : non-single or male : single</td>\n",
       "      <td>none</td>\n",
       "      <td>...</td>\n",
       "      <td>unknown / no property</td>\n",
       "      <td>(20, 30]</td>\n",
       "      <td>none</td>\n",
       "      <td>for free</td>\n",
       "      <td>1</td>\n",
       "      <td>unskilled - resident</td>\n",
       "      <td>0 to 2</td>\n",
       "      <td>no</td>\n",
       "      <td>no</td>\n",
       "      <td>1</td>\n",
       "    </tr>\n",
       "    <tr>\n",
       "      <th>3</th>\n",
       "      <td>no checking account</td>\n",
       "      <td>&lt; 1 yr</td>\n",
       "      <td>all credits at this bank paid back duly</td>\n",
       "      <td>others</td>\n",
       "      <td>(500, 2500]</td>\n",
       "      <td>unknown/no savings account</td>\n",
       "      <td>1 &lt;= ... &lt; 4 yrs</td>\n",
       "      <td>20 &lt;= ... &lt; 25</td>\n",
       "      <td>male : married/widowed</td>\n",
       "      <td>none</td>\n",
       "      <td>...</td>\n",
       "      <td>unknown / no property</td>\n",
       "      <td>(30, 40]</td>\n",
       "      <td>none</td>\n",
       "      <td>for free</td>\n",
       "      <td>2-3</td>\n",
       "      <td>unskilled - resident</td>\n",
       "      <td>3 or more</td>\n",
       "      <td>no</td>\n",
       "      <td>yes</td>\n",
       "      <td>1</td>\n",
       "    </tr>\n",
       "    <tr>\n",
       "      <th>4</th>\n",
       "      <td>no checking account</td>\n",
       "      <td>&lt; 1 yr</td>\n",
       "      <td>all credits at this bank paid back duly</td>\n",
       "      <td>others</td>\n",
       "      <td>(500, 2500]</td>\n",
       "      <td>unknown/no savings account</td>\n",
       "      <td>1 &lt;= ... &lt; 4 yrs</td>\n",
       "      <td>&lt; 20</td>\n",
       "      <td>male : married/widowed</td>\n",
       "      <td>none</td>\n",
       "      <td>...</td>\n",
       "      <td>car or other</td>\n",
       "      <td>(30, 40]</td>\n",
       "      <td>bank</td>\n",
       "      <td>rent</td>\n",
       "      <td>2-3</td>\n",
       "      <td>unskilled - resident</td>\n",
       "      <td>0 to 2</td>\n",
       "      <td>no</td>\n",
       "      <td>yes</td>\n",
       "      <td>1</td>\n",
       "    </tr>\n",
       "    <tr>\n",
       "      <th>...</th>\n",
       "      <td>...</td>\n",
       "      <td>...</td>\n",
       "      <td>...</td>\n",
       "      <td>...</td>\n",
       "      <td>...</td>\n",
       "      <td>...</td>\n",
       "      <td>...</td>\n",
       "      <td>...</td>\n",
       "      <td>...</td>\n",
       "      <td>...</td>\n",
       "      <td>...</td>\n",
       "      <td>...</td>\n",
       "      <td>...</td>\n",
       "      <td>...</td>\n",
       "      <td>...</td>\n",
       "      <td>...</td>\n",
       "      <td>...</td>\n",
       "      <td>...</td>\n",
       "      <td>...</td>\n",
       "      <td>...</td>\n",
       "      <td>...</td>\n",
       "    </tr>\n",
       "    <tr>\n",
       "      <th>995</th>\n",
       "      <td>no checking account</td>\n",
       "      <td>1 &lt;= ... &lt; 4 yrs</td>\n",
       "      <td>no credits taken/all credits paid back duly</td>\n",
       "      <td>furniture/equipment</td>\n",
       "      <td>(500, 2500]</td>\n",
       "      <td>unknown/no savings account</td>\n",
       "      <td>1 &lt;= ... &lt; 4 yrs</td>\n",
       "      <td>25 &lt;= ... &lt; 35</td>\n",
       "      <td>male : married/widowed</td>\n",
       "      <td>none</td>\n",
       "      <td>...</td>\n",
       "      <td>unknown / no property</td>\n",
       "      <td>(20, 30]</td>\n",
       "      <td>none</td>\n",
       "      <td>for free</td>\n",
       "      <td>1</td>\n",
       "      <td>unskilled - resident</td>\n",
       "      <td>3 or more</td>\n",
       "      <td>no</td>\n",
       "      <td>no</td>\n",
       "      <td>0</td>\n",
       "    </tr>\n",
       "    <tr>\n",
       "      <th>996</th>\n",
       "      <td>no checking account</td>\n",
       "      <td>1 &lt;= ... &lt; 4 yrs</td>\n",
       "      <td>no credits taken/all credits paid back duly</td>\n",
       "      <td>others</td>\n",
       "      <td>(500, 2500]</td>\n",
       "      <td>unknown/no savings account</td>\n",
       "      <td>&gt;= 7 yrs</td>\n",
       "      <td>&lt; 20</td>\n",
       "      <td>male : married/widowed</td>\n",
       "      <td>co-applicant</td>\n",
       "      <td>...</td>\n",
       "      <td>unknown / no property</td>\n",
       "      <td>(40, 50]</td>\n",
       "      <td>none</td>\n",
       "      <td>rent</td>\n",
       "      <td>1</td>\n",
       "      <td>skilled employee / official</td>\n",
       "      <td>0 to 2</td>\n",
       "      <td>no</td>\n",
       "      <td>no</td>\n",
       "      <td>0</td>\n",
       "    </tr>\n",
       "    <tr>\n",
       "      <th>997</th>\n",
       "      <td>... &gt;= 200 DM / salary for at least 1 year</td>\n",
       "      <td>1 &lt;= ... &lt; 4 yrs</td>\n",
       "      <td>all credits at this bank paid back duly</td>\n",
       "      <td>others</td>\n",
       "      <td>&gt;10000</td>\n",
       "      <td>... &gt;= 1000 DM</td>\n",
       "      <td>&gt;= 7 yrs</td>\n",
       "      <td>&lt; 20</td>\n",
       "      <td>male : married/widowed</td>\n",
       "      <td>none</td>\n",
       "      <td>...</td>\n",
       "      <td>real estate</td>\n",
       "      <td>(20, 30]</td>\n",
       "      <td>none</td>\n",
       "      <td>own</td>\n",
       "      <td>1</td>\n",
       "      <td>manager/self-empl./highly qualif. employee</td>\n",
       "      <td>0 to 2</td>\n",
       "      <td>yes (under customer name)</td>\n",
       "      <td>no</td>\n",
       "      <td>0</td>\n",
       "    </tr>\n",
       "    <tr>\n",
       "      <th>998</th>\n",
       "      <td>... &lt; 0 DM</td>\n",
       "      <td>&lt; 1 yr</td>\n",
       "      <td>no credits taken/all credits paid back duly</td>\n",
       "      <td>furniture/equipment</td>\n",
       "      <td>(5000, 10000]</td>\n",
       "      <td>... &gt;= 1000 DM</td>\n",
       "      <td>unemployed</td>\n",
       "      <td>25 &lt;= ... &lt; 35</td>\n",
       "      <td>male : married/widowed</td>\n",
       "      <td>none</td>\n",
       "      <td>...</td>\n",
       "      <td>real estate</td>\n",
       "      <td>(50, 60]</td>\n",
       "      <td>none</td>\n",
       "      <td>rent</td>\n",
       "      <td>1</td>\n",
       "      <td>manager/self-empl./highly qualif. employee</td>\n",
       "      <td>0 to 2</td>\n",
       "      <td>yes (under customer name)</td>\n",
       "      <td>no</td>\n",
       "      <td>0</td>\n",
       "    </tr>\n",
       "    <tr>\n",
       "      <th>999</th>\n",
       "      <td>no checking account</td>\n",
       "      <td>1 &lt;= ... &lt; 4 yrs</td>\n",
       "      <td>no credits taken/all credits paid back duly</td>\n",
       "      <td>car (used)</td>\n",
       "      <td>(5000, 10000]</td>\n",
       "      <td>... &gt;= 1000 DM</td>\n",
       "      <td>&gt;= 7 yrs</td>\n",
       "      <td>&lt; 20</td>\n",
       "      <td>male : married/widowed</td>\n",
       "      <td>none</td>\n",
       "      <td>...</td>\n",
       "      <td>car or other</td>\n",
       "      <td>(30, 40]</td>\n",
       "      <td>none</td>\n",
       "      <td>rent</td>\n",
       "      <td>1</td>\n",
       "      <td>skilled employee / official</td>\n",
       "      <td>0 to 2</td>\n",
       "      <td>no</td>\n",
       "      <td>no</td>\n",
       "      <td>0</td>\n",
       "    </tr>\n",
       "  </tbody>\n",
       "</table>\n",
       "<p>1000 rows × 21 columns</p>\n",
       "</div>"
      ],
      "text/plain": [
       "                                         status          duration  \\\n",
       "0                           no checking account  1 <= ... < 4 yrs   \n",
       "1                           no checking account            < 1 yr   \n",
       "2                                    ... < 0 DM            < 1 yr   \n",
       "3                           no checking account            < 1 yr   \n",
       "4                           no checking account            < 1 yr   \n",
       "..                                          ...               ...   \n",
       "995                         no checking account  1 <= ... < 4 yrs   \n",
       "996                         no checking account  1 <= ... < 4 yrs   \n",
       "997  ... >= 200 DM / salary for at least 1 year  1 <= ... < 4 yrs   \n",
       "998                                  ... < 0 DM            < 1 yr   \n",
       "999                         no checking account  1 <= ... < 4 yrs   \n",
       "\n",
       "                                  credit-history              purpose  \\\n",
       "0        all credits at this bank paid back duly           car (used)   \n",
       "1        all credits at this bank paid back duly               others   \n",
       "2    no credits taken/all credits paid back duly           retraining   \n",
       "3        all credits at this bank paid back duly               others   \n",
       "4        all credits at this bank paid back duly               others   \n",
       "..                                           ...                  ...   \n",
       "995  no credits taken/all credits paid back duly  furniture/equipment   \n",
       "996  no credits taken/all credits paid back duly               others   \n",
       "997      all credits at this bank paid back duly               others   \n",
       "998  no credits taken/all credits paid back duly  furniture/equipment   \n",
       "999  no credits taken/all credits paid back duly           car (used)   \n",
       "\n",
       "     credit-amount              saving-account        employment  \\\n",
       "0      (500, 2500]  unknown/no savings account            < 1 yr   \n",
       "1     (2500, 5000]  unknown/no savings account  1 <= ... < 4 yrs   \n",
       "2      (500, 2500]               ... <  100 DM  4 <= ... < 7 yrs   \n",
       "3      (500, 2500]  unknown/no savings account  1 <= ... < 4 yrs   \n",
       "4      (500, 2500]  unknown/no savings account  1 <= ... < 4 yrs   \n",
       "..             ...                         ...               ...   \n",
       "995    (500, 2500]  unknown/no savings account  1 <= ... < 4 yrs   \n",
       "996    (500, 2500]  unknown/no savings account          >= 7 yrs   \n",
       "997         >10000              ... >= 1000 DM          >= 7 yrs   \n",
       "998  (5000, 10000]              ... >= 1000 DM        unemployed   \n",
       "999  (5000, 10000]              ... >= 1000 DM          >= 7 yrs   \n",
       "\n",
       "    installment-rate                             sex-marst other-debtors  ...  \\\n",
       "0               < 20  female : non-single or male : single          none  ...   \n",
       "1     25 <= ... < 35                male : married/widowed          none  ...   \n",
       "2     25 <= ... < 35  female : non-single or male : single          none  ...   \n",
       "3     20 <= ... < 25                male : married/widowed          none  ...   \n",
       "4               < 20                male : married/widowed          none  ...   \n",
       "..               ...                                   ...           ...  ...   \n",
       "995   25 <= ... < 35                male : married/widowed          none  ...   \n",
       "996             < 20                male : married/widowed  co-applicant  ...   \n",
       "997             < 20                male : married/widowed          none  ...   \n",
       "998   25 <= ... < 35                male : married/widowed          none  ...   \n",
       "999             < 20                male : married/widowed          none  ...   \n",
       "\n",
       "                  property       age other-installment-plans   housing  \\\n",
       "0             car or other  (20, 30]                    none  for free   \n",
       "1    unknown / no property  (30, 40]                    none  for free   \n",
       "2    unknown / no property  (20, 30]                    none  for free   \n",
       "3    unknown / no property  (30, 40]                    none  for free   \n",
       "4             car or other  (30, 40]                    bank      rent   \n",
       "..                     ...       ...                     ...       ...   \n",
       "995  unknown / no property  (20, 30]                    none  for free   \n",
       "996  unknown / no property  (40, 50]                    none      rent   \n",
       "997            real estate  (20, 30]                    none       own   \n",
       "998            real estate  (50, 60]                    none      rent   \n",
       "999           car or other  (30, 40]                    none      rent   \n",
       "\n",
       "    existing-credits                                         job  \\\n",
       "0                  1                 skilled employee / official   \n",
       "1                2-3                 skilled employee / official   \n",
       "2                  1                        unskilled - resident   \n",
       "3                2-3                        unskilled - resident   \n",
       "4                2-3                        unskilled - resident   \n",
       "..               ...                                         ...   \n",
       "995                1                        unskilled - resident   \n",
       "996                1                 skilled employee / official   \n",
       "997                1  manager/self-empl./highly qualif. employee   \n",
       "998                1  manager/self-empl./highly qualif. employee   \n",
       "999                1                 skilled employee / official   \n",
       "\n",
       "    people-liable                  telephone foreign-worker good-credit  \n",
       "0          0 to 2                         no             no           1  \n",
       "1       3 or more                         no             no           1  \n",
       "2          0 to 2                         no             no           1  \n",
       "3       3 or more                         no            yes           1  \n",
       "4          0 to 2                         no            yes           1  \n",
       "..            ...                        ...            ...         ...  \n",
       "995     3 or more                         no             no           0  \n",
       "996        0 to 2                         no             no           0  \n",
       "997        0 to 2  yes (under customer name)             no           0  \n",
       "998        0 to 2  yes (under customer name)             no           0  \n",
       "999        0 to 2                         no             no           0  \n",
       "\n",
       "[1000 rows x 21 columns]"
      ]
     },
     "execution_count": 3,
     "metadata": {},
     "output_type": "execute_result"
    }
   ],
   "source": [
    "df"
   ]
  },
  {
   "cell_type": "code",
   "execution_count": 5,
   "metadata": {},
   "outputs": [
    {
     "data": {
      "text/plain": [
       "<AxesSubplot:xlabel='good-credit', ylabel='Count'>"
      ]
     },
     "execution_count": 5,
     "metadata": {},
     "output_type": "execute_result"
    },
    {
     "data": {
      "image/png": "[encoded data removed]",
      "text/plain": [
       "<Figure size 432x288 with 1 Axes>"
      ]
     },
     "metadata": {
      "needs_background": "light"
     },
     "output_type": "display_data"
    }
   ],
   "source": [
    "sns.histplot(df['good-credit'])"
   ]
  },
  {
   "cell_type": "code",
   "execution_count": 6,
   "metadata": {},
   "outputs": [
    {
     "data": {
      "text/plain": [
       "<AxesSubplot:xlabel='duration', ylabel='Count'>"
      ]
     },
     "execution_count": 6,
     "metadata": {},
     "output_type": "execute_result"
    },
    {
     "data": {
      "image/png": "[encoded data removed]",
      "text/plain": [
       "<Figure size 432x288 with 1 Axes>"
      ]
     },
     "metadata": {
      "needs_background": "light"
     },
     "output_type": "display_data"
    }
   ],
   "source": [
    "sns.histplot(df.duration)"
   ]
  },
  {
   "cell_type": "code",
   "execution_count": 7,
   "metadata": {},
   "outputs": [
    {
     "data": {
      "text/plain": [
       "<AxesSubplot:xlabel='credit-amount', ylabel='Count'>"
      ]
     },
     "execution_count": 7,
     "metadata": {},
     "output_type": "execute_result"
    },
    {
     "data": {
      "image/png": "[encoded data removed]",
      "text/plain": [
       "<Figure size 432x288 with 1 Axes>"
      ]
     },
     "metadata": {
      "needs_background": "light"
     },
     "output_type": "display_data"
    }
   ],
   "source": [
    "sns.histplot(df['credit-amount'])"
   ]
  },
  {
   "cell_type": "code",
   "execution_count": 8,
   "metadata": {},
   "outputs": [
    {
     "data": {
      "text/plain": [
       "<AxesSubplot:xlabel='installment-rate', ylabel='Count'>"
      ]
     },
     "execution_count": 8,
     "metadata": {},
     "output_type": "execute_result"
    },
    {
     "data": {
      "image/png": "[encoded data removed]",
      "text/plain": [
       "<Figure size 432x288 with 1 Axes>"
      ]
     },
     "metadata": {
      "needs_background": "light"
     },
     "output_type": "display_data"
    }
   ],
   "source": [
    "sns.histplot(df['installment-rate'])"
   ]
  },
  {
   "cell_type": "code",
   "execution_count": 9,
   "metadata": {},
   "outputs": [
    {
     "data": {
      "text/plain": [
       "array(['< 20', '25 <= ... < 35', '20 <= ... < 25', '>= 35'], dtype=object)"
      ]
     },
     "execution_count": 9,
     "metadata": {},
     "output_type": "execute_result"
    }
   ],
   "source": [
    "df['installment-rate'].unique()"
   ]
  },
  {
   "cell_type": "code",
   "execution_count": 10,
   "metadata": {},
   "outputs": [
    {
     "data": {
      "text/plain": [
       "<AxesSubplot:xlabel='residence', ylabel='Count'>"
      ]
     },
     "execution_count": 10,
     "metadata": {},
     "output_type": "execute_result"
    },
    {
     "data": {
      "image/png": "[encoded data removed]",
      "text/plain": [
       "<Figure size 432x288 with 1 Axes>"
      ]
     },
     "metadata": {
      "needs_background": "light"
     },
     "output_type": "display_data"
    }
   ],
   "source": [
    "sns.histplot(df['residence'])"
   ]
  },
  {
   "cell_type": "code",
   "execution_count": 11,
   "metadata": {},
   "outputs": [
    {
     "data": {
      "text/plain": [
       "<AxesSubplot:xlabel='age', ylabel='Count'>"
      ]
     },
     "execution_count": 11,
     "metadata": {},
     "output_type": "execute_result"
    },
    {
     "data": {
      "image/png": "[encoded data removed]",
      "text/plain": [
       "<Figure size 432x288 with 1 Axes>"
      ]
     },
     "metadata": {
      "needs_background": "light"
     },
     "output_type": "display_data"
    }
   ],
   "source": [
    "sns.histplot(df['age'])"
   ]
  },
  {
   "cell_type": "code",
   "execution_count": 12,
   "metadata": {},
   "outputs": [
    {
     "data": {
      "text/plain": [
       "<AxesSubplot:xlabel='existing-credits', ylabel='Count'>"
      ]
     },
     "execution_count": 12,
     "metadata": {},
     "output_type": "execute_result"
    },
    {
     "data": {
      "image/png": "[encoded data removed]",
      "text/plain": [
       "<Figure size 432x288 with 1 Axes>"
      ]
     },
     "metadata": {
      "needs_background": "light"
     },
     "output_type": "display_data"
    }
   ],
   "source": [
    "sns.histplot(df['existing-credits'])"
   ]
  },
  {
   "cell_type": "code",
   "execution_count": 14,
   "metadata": {},
   "outputs": [
    {
     "data": {
      "text/plain": [
       "<AxesSubplot:xlabel='people-liable', ylabel='Count'>"
      ]
     },
     "execution_count": 14,
     "metadata": {},
     "output_type": "execute_result"
    },
    {
     "data": {
      "image/png": "[encoded data removed]",
      "text/plain": [
       "<Figure size 432x288 with 1 Axes>"
      ]
     },
     "metadata": {
      "needs_background": "light"
     },
     "output_type": "display_data"
    }
   ],
   "source": [
    "sns.histplot(df['people-liable'])"
   ]
  },
  {
   "cell_type": "code",
   "execution_count": 16,
   "metadata": {},
   "outputs": [
    {
     "name": "stdout",
     "output_type": "stream",
     "text": [
      "                                              answer  count\n",
      "status                                                     \n",
      "... < 0 DM                                  0.609665    269\n",
      "... >= 200 DM / salary for at least 1 year  0.883249    394\n",
      "0<= ... < 200 DM                            0.777778     63\n",
      "no checking account                         0.507299    274\n",
      "                    answer  count\n",
      "duration                         \n",
      "1 <= ... < 4 yrs  0.654400    625\n",
      "4 <= ... < 7 yrs  0.500000     16\n",
      "< 1 yr            0.788301    359\n",
      "                                               answer  count\n",
      "credit-history                                              \n",
      "all credits at this bank paid back duly      0.829352    293\n",
      "critical account/other credits elsewhere     0.428571     49\n",
      "delay in paying off in the past              0.375000     40\n",
      "existing credits paid back duly till now     0.681818     88\n",
      "no credits taken/all credits paid back duly  0.681132    530\n",
      "                       answer  count\n",
      "purpose                             \n",
      "business             0.583333     12\n",
      "car (new)            0.834951    103\n",
      "car (used)           0.679558    181\n",
      "domestic appliances  0.636364     22\n",
      "furniture/equipment  0.778571    280\n",
      "others               0.619658    234\n",
      "radio/television     0.666667     12\n",
      "repairs              0.560000     50\n",
      "retraining           0.649485     97\n",
      "vacation             0.888889      9\n",
      "                 answer  count\n",
      "credit-amount                 \n",
      "(0, 500]       0.833333     18\n",
      "(2500, 5000]   0.727273    275\n",
      "(500, 2500]    0.722543    519\n",
      "(5000, 10000]  0.635135    148\n",
      ">10000         0.400000     40\n",
      "                              answer  count\n",
      "saving-account                             \n",
      "... <  100 DM               0.669903    103\n",
      "... >= 1000 DM              0.825137    183\n",
      "100 <= ... <  500 DM        0.825397     63\n",
      "500 <= ... < 1000 DM        0.875000     48\n",
      "unknown/no savings account  0.640133    603\n",
      "                    answer  count\n",
      "employment                       \n",
      "1 <= ... < 4 yrs  0.693215    339\n",
      "4 <= ... < 7 yrs  0.775862    174\n",
      "< 1 yr            0.593023    172\n",
      ">= 7 yrs          0.747036    253\n",
      "unemployed        0.629032     62\n",
      "                    answer  count\n",
      "installment-rate                 \n",
      "20 <= ... < 25    0.713376    157\n",
      "25 <= ... < 35    0.731602    231\n",
      "< 20              0.665966    476\n",
      ">= 35             0.750000    136\n",
      "                                        answer  count\n",
      "sex-marst                                            \n",
      "female : non-single or male : single  0.648387    310\n",
      "female : single                       0.728261     92\n",
      "male : divorced/separated             0.600000     50\n",
      "male : married/widowed                0.733577    548\n",
      "                 answer  count\n",
      "other-debtors                 \n",
      "co-applicant   0.560976     41\n",
      "guarantor      0.807692     52\n",
      "none           0.700110    907\n",
      "                    answer  count\n",
      "residence                        \n",
      "1 <= ... < 4 yrs  0.685065    308\n",
      "4 <= ... < 7 yrs  0.711409    149\n",
      "< 1 yr            0.723077    130\n",
      ">= 7 yrs          0.699758    413\n",
      "                                             answer  count\n",
      "property                                                  \n",
      "building soc. savings agr./life insurance  0.692771    332\n",
      "car or other                               0.693966    232\n",
      "real estate                                0.564935    154\n",
      "unknown / no property                      0.787234    282\n",
      "            answer  count\n",
      "age                      \n",
      "(10, 20]  0.625000     16\n",
      "(20, 30]  0.638677    393\n",
      "(30, 40]  0.749216    319\n",
      "(40, 50]  0.742138    159\n",
      "(50, 60]  0.691176     68\n",
      "(60, 70]  0.769231     39\n",
      "(70, 80]  0.833333      6\n",
      "                           answer  count\n",
      "other-installment-plans                 \n",
      "bank                     0.589928    139\n",
      "none                     0.724816    814\n",
      "stores                   0.595745     47\n",
      "            answer  count\n",
      "housing                  \n",
      "for free  0.608939    179\n",
      "own       0.588785    107\n",
      "rent      0.739496    714\n",
      "                    answer  count\n",
      "existing-credits                 \n",
      "1                 0.684044    633\n",
      "2-3               0.723724    333\n",
      "4-5               0.785714     28\n",
      ">= 6              0.666667      6\n",
      "                                              answer  count\n",
      "job                                                        \n",
      "manager/self-empl./highly qualif. employee  0.655405    148\n",
      "skilled employee / official                 0.704762    630\n",
      "unemployed/ unskilled - non-resident        0.681818     22\n",
      "unskilled - resident                        0.720000    200\n",
      "                 answer  count\n",
      "people-liable                 \n",
      "0 to 2         0.699408    845\n",
      "3 or more      0.703226    155\n",
      "                             answer  count\n",
      "telephone                                 \n",
      "no                         0.686242    596\n",
      "yes (under customer name)  0.720297    404\n",
      "                  answer  count\n",
      "foreign-worker                 \n",
      "no              0.692627    963\n",
      "yes             0.891892     37\n"
     ]
    }
   ],
   "source": [
    "full_attributes = ['status', 'duration', 'credit-history', 'purpose', 'credit-amount', 'saving-account', 'employment', 'installment-rate', 'sex-marst', 'other-debtors', 'residence', 'property', 'age', 'other-installment-plans', 'housing', 'existing-credits', 'job', 'people-liable', 'telephone', 'foreign-worker']\n",
    "for attr in full_attributes:\n",
    "    with pd.option_context('display.max_rows', None, 'display.max_columns', None, \n",
    "'display.max_colwidth', 1000):\n",
    "        print(df.groupby(attr).agg(answer=('good-credit', 'mean'), count=('good-credit', 'count')))"
   ]
  },
  {
   "cell_type": "code",
   "execution_count": 21,
   "metadata": {},
   "outputs": [
    {
     "data": {
      "text/plain": [
       "no checking account                                   394\n",
       "no balance or debit                                   274\n",
       "[0, 200) DM                                           269\n",
       ">= 200 DM / salary assignments for at least 1 year     63\n",
       "Name: checking-account, dtype: int64"
      ]
     },
     "execution_count": 21,
     "metadata": {},
     "output_type": "execute_result"
    }
   ],
   "source": [
    "df['checking-account'].value_counts(normalize=False)"
   ]
  },
  {
   "cell_type": "code",
   "execution_count": 28,
   "metadata": {},
   "outputs": [
    {
     "data": {
      "text/plain": [
       "1    0.883249\n",
       "0    0.116751\n",
       "Name: good-credit, dtype: float64"
      ]
     },
     "execution_count": 28,
     "metadata": {},
     "output_type": "execute_result"
    }
   ],
   "source": [
    "df.query(\"`checking-account` == 'no checking account'\")['good-credit'].value_counts(normalize=True)"
   ]
  },
  {
   "cell_type": "code",
   "execution_count": 31,
   "metadata": {},
   "outputs": [
    {
     "data": {
      "text/plain": [
       "no checking account                                   0.497143\n",
       "[0, 200) DM                                           0.234286\n",
       "no balance or debit                                   0.198571\n",
       ">= 200 DM / salary assignments for at least 1 year    0.070000\n",
       "Name: checking-account, dtype: float64"
      ]
     },
     "execution_count": 31,
     "metadata": {},
     "output_type": "execute_result"
    }
   ],
   "source": [
    "df.query('`good-credit` == 1')['checking-account'].value_counts(normalize=True)"
   ]
  },
  {
   "cell_type": "code",
   "execution_count": null,
   "metadata": {},
   "outputs": [],
   "source": []
  }
 ],
 "metadata": {
  "kernelspec": {
   "display_name": "py37",
   "language": "python",
   "name": "py37"
  },
  "language_info": {
   "codemirror_mode": {
    "name": "ipython",
    "version": 3
   },
   "file_extension": ".py",
   "mimetype": "text/x-python",
   "name": "python",
   "nbconvert_exporter": "python",
   "pygments_lexer": "ipython3",
   "version": "3.7.4"
  }
 },
 "nbformat": 4,
 "nbformat_minor": 4
}
