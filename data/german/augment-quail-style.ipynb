{
 "cells": [
  {
   "cell_type": "code",
   "execution_count": 123,
   "metadata": {},
   "outputs": [],
   "source": [
    "import pandas as pd\n",
    "import networkx as nx\n",
    "import pgmpy\n",
    "import scipy\n",
    "import xgboost as xgb\n",
    "from pgmpy.estimators import HillClimbSearch\n",
    "from pgmpy.estimators import BayesianEstimator\n",
    "from pgmpy.models import BayesianNetwork\n",
    "\n",
    "from sklearn.metrics import f1_score"
   ]
  },
  {
   "cell_type": "code",
   "execution_count": 9,
   "metadata": {},
   "outputs": [],
   "source": [
    "df = pd.read_csv('german.csv', dtype='category')\n",
    "non_label_attrs = ['status', 'duration', 'credit-history', 'purpose', 'credit-amount', 'saving-account', 'employment', 'installment-rate', 'sex-marst', 'other-debtors', 'residence', 'property', 'age', 'other-installment-plans', 'housing', 'existing-credits', 'job', 'people-liable', 'telephone', 'foreign-worker']\n",
    "label_attr = 'good-credit'"
   ]
  },
  {
   "cell_type": "code",
   "execution_count": 10,
   "metadata": {},
   "outputs": [],
   "source": [
    "data = df[non_label_attrs]\n",
    "label = df[label_attr]"
   ]
  },
  {
   "cell_type": "code",
   "execution_count": 12,
   "metadata": {},
   "outputs": [],
   "source": [
    "dtrain = xgb.DMatrix(data, label=label, enable_categorical=True)"
   ]
  },
  {
   "cell_type": "code",
   "execution_count": 163,
   "metadata": {},
   "outputs": [],
   "source": [
    "# params = {'max_depth': 6, 'eta': 1, 'objective': 'binary:hinge'}\n",
    "# params['nthread'] = 4\n",
    "# params['eval_metric'] = 'auc'\n",
    "params = {'objective': 'binary:hinge'}\n",
    "params['max_depth'] = 7\n",
    "params['eta'] = 1\n",
    "params['eval_metric'] = 'auc'"
   ]
  },
  {
   "cell_type": "code",
   "execution_count": 164,
   "metadata": {},
   "outputs": [],
   "source": [
    "bst = xgb.train(params=params, dtrain=dtrain)"
   ]
  },
  {
   "cell_type": "code",
   "execution_count": 165,
   "metadata": {},
   "outputs": [],
   "source": [
    "ypred = bst.predict(dtrain)"
   ]
  },
  {
   "cell_type": "code",
   "execution_count": 166,
   "metadata": {},
   "outputs": [
    {
     "data": {
      "text/plain": [
       "0.9978617248752674"
      ]
     },
     "execution_count": 166,
     "metadata": {},
     "output_type": "execute_result"
    }
   ],
   "source": [
    "f1_score(label.astype(float), ypred)"
   ]
  },
  {
   "cell_type": "code",
   "execution_count": 172,
   "metadata": {},
   "outputs": [
    {
     "data": {
      "application/vnd.jupyter.widget-view+json": {
       "model_id": "83b5dc0103b34d329fa22290f850366f",
       "version_major": 2,
       "version_minor": 0
      },
      "text/plain": [
       "  0%|          | 0/10000000 [00:00<?, ?it/s]"
      ]
     },
     "metadata": {},
     "output_type": "display_data"
    }
   ],
   "source": [
    "non_label_dag = HillClimbSearch(data).estimate(max_iter=1e7)\n",
    "non_label_model = BayesianNetwork(non_label_dag.edges())\n",
    "non_label_model.fit(\n",
    "    data, estimator=BayesianEstimator\n",
    ")"
   ]
  },
  {
   "cell_type": "code",
   "execution_count": 181,
   "metadata": {},
   "outputs": [
    {
     "data": {
      "application/vnd.jupyter.widget-view+json": {
       "model_id": "d28514f6a3404cd0826b36fba56c1356",
       "version_major": 2,
       "version_minor": 0
      },
      "text/plain": [
       "  0%|          | 0/20 [00:00<?, ?it/s]"
      ]
     },
     "metadata": {},
     "output_type": "display_data"
    },
    {
     "name": "stderr",
     "output_type": "stream",
     "text": [
      "/home/yuchao/anaconda3/envs/py37/lib/python3.7/site-packages/pgmpy/utils/mathext.py:84: UserWarning: Probability values don't exactly sum to 1. Differ by: -2.220446049250313e-16. Adjusting values.\n",
      "  f\"Probability values don't exactly sum to 1. Differ by: {error}. Adjusting values.\"\n"
     ]
    }
   ],
   "source": [
    "syn_non_label = non_label_model.simulate(n_samples=1000000)"
   ]
  },
  {
   "cell_type": "code",
   "execution_count": 182,
   "metadata": {},
   "outputs": [],
   "source": [
    "syn_label = bst.predict(xgb.DMatrix(syn_non_label[non_label_attrs].astype('category'), enable_categorical=True))"
   ]
  },
  {
   "cell_type": "code",
   "execution_count": 183,
   "metadata": {},
   "outputs": [],
   "source": [
    "syn_df = syn_non_label.copy()\n",
    "syn_df[label_attr] = syn_label\n",
    "syn_df[label_attr] = syn_df[label_attr].astype('int')"
   ]
  },
  {
   "cell_type": "code",
   "execution_count": 184,
   "metadata": {},
   "outputs": [],
   "source": [
    "syn_df.to_csv('synthetic_german.csv', index=False)"
   ]
  },
  {
   "cell_type": "code",
   "execution_count": 185,
   "metadata": {},
   "outputs": [
    {
     "name": "stdout",
     "output_type": "stream",
     "text": [
      "                                              answer   count\n",
      "status                                                      \n",
      "... < 0 DM                                  0.574466  269135\n",
      "... >= 200 DM / salary for at least 1 year  0.863093  393428\n",
      "0<= ... < 200 DM                            0.756344   63922\n",
      "no checking account                         0.526574  273515\n",
      "                    answer   count\n",
      "duration                          \n",
      "1 <= ... < 4 yrs  0.672489  623606\n",
      "4 <= ... < 7 yrs  0.614016   17366\n",
      "< 1 yr            0.714474  359028\n",
      "                                               answer   count\n",
      "credit-history                                               \n",
      "all credits at this bank paid back duly      0.732166  292532\n",
      "critical account/other credits elsewhere     0.400374   49681\n",
      "delay in paying off in the past              0.626543   40998\n",
      "existing credits paid back duly till now     0.681759   88612\n",
      "no credits taken/all credits paid back duly  0.693660  528177\n",
      "                       answer   count\n",
      "purpose                              \n",
      "business             0.701391   12441\n",
      "car (new)            0.764625  103779\n",
      "car (used)           0.704066  180324\n",
      "domestic appliances  0.667980   22327\n",
      "furniture/equipment  0.694770  279019\n",
      "others               0.615373  232589\n",
      "radio/television     0.697085   12383\n",
      "repairs              0.681396   50715\n",
      "retraining           0.715484   97014\n",
      "vacation             0.745138    9409\n",
      "                 answer   count\n",
      "credit-amount                  \n",
      "(0, 500]       0.757278   20060\n",
      "(2500, 5000]   0.736646  271638\n",
      "(500, 2500]    0.678797  514431\n",
      "(5000, 10000]  0.649842  153945\n",
      ">10000         0.551545   39926\n",
      "                              answer   count\n",
      "saving-account                              \n",
      "... <  100 DM               0.716541  103648\n",
      "... >= 1000 DM              0.811208  183355\n",
      "100 <= ... <  500 DM        0.793678   63551\n",
      "500 <= ... < 1000 DM        0.757057   48748\n",
      "unknown/no savings account  0.626265  600698\n",
      "                    answer   count\n",
      "employment                        \n",
      "1 <= ... < 4 yrs  0.656011  338610\n",
      "4 <= ... < 7 yrs  0.730076  174064\n",
      "< 1 yr            0.658103  172154\n",
      ">= 7 yrs          0.706864  252753\n",
      "unemployed        0.726990   62419\n",
      "                    answer   count\n",
      "installment-rate                  \n",
      "20% <= ... < 25%  0.674333  157388\n",
      "25% <= ... < 35%  0.717436  231045\n",
      "< 20%             0.671961  474185\n",
      ">= 35%            0.698934  137382\n",
      "                                        answer   count\n",
      "sex-marst                                             \n",
      "female : non-single or male : single  0.643292  308126\n",
      "female : single                       0.698197   91848\n",
      "male : divorced/separated             0.683139   50811\n",
      "male : married/widowed                0.709181  549215\n",
      "                 answer   count\n",
      "other-debtors                  \n",
      "co-applicant   0.645848   42541\n",
      "guarantor      0.729467   52940\n",
      "none           0.685949  904519\n",
      "                    answer   count\n",
      "residence                         \n",
      "1 <= ... < 4 yrs  0.644080  307482\n",
      "4 <= ... < 7 yrs  0.696205  148870\n",
      "< 1 yr            0.763185  130963\n",
      ">= 7 yrs          0.690384  412685\n",
      "                                             answer   count\n",
      "property                                                   \n",
      "building soc. savings agr./life insurance  0.687828  334332\n",
      "car or other                               0.657479  233983\n",
      "real estate                                0.647732  151132\n",
      "unknown / no property                      0.730172  280553\n",
      "            answer   count\n",
      "age                       \n",
      "(10, 20]  0.647531   16705\n",
      "(20, 30]  0.664186  392509\n",
      "(30, 40]  0.693568  317826\n",
      "(40, 50]  0.713823  158825\n",
      "(50, 60]  0.703240   68365\n",
      "(60, 70]  0.724935   39158\n",
      "(70, 80]  0.719903    6612\n",
      "                           answer   count\n",
      "other-installment-plans                  \n",
      "bank                     0.584220  139901\n",
      "none                     0.706395  811785\n",
      "stores                   0.649356   48314\n",
      "            answer   count\n",
      "housing                   \n",
      "for free  0.637945  179851\n",
      "own       0.671688  108211\n",
      "rent      0.701084  711938\n",
      "                    answer   count\n",
      "existing-credits                  \n",
      "1                 0.686008  630529\n",
      "2-3               0.687419  333091\n",
      "4-5               0.695643   29196\n",
      ">= 6              0.656459    7184\n",
      "                                              answer   count\n",
      "job                                                         \n",
      "manager/self-empl./highly qualif. employee  0.716465  148641\n",
      "skilled employee / official                 0.687501  628302\n",
      "unemployed/ unskilled - non-resident        0.708958   23086\n",
      "unskilled - resident                        0.658726  199971\n",
      "                 answer   count\n",
      "people-liable                  \n",
      "0 to 2         0.683478  843126\n",
      "3 or more      0.703042  156874\n",
      "                             answer   count\n",
      "telephone                                  \n",
      "no                         0.675631  593644\n",
      "yes (under customer name)  0.702495  406356\n",
      "                  answer   count\n",
      "foreign-worker                  \n",
      "no              0.685290  960641\n",
      "yes             0.717218   39359\n"
     ]
    }
   ],
   "source": [
    "for attr in non_label_attrs:\n",
    "    with pd.option_context('display.max_rows', None, 'display.max_columns', None, \n",
    "'display.max_colwidth', 1000):\n",
    "        print(syn_df.groupby(attr).agg(answer=(label_attr, 'mean'), count=(label_attr, 'count')))"
   ]
  },
  {
   "cell_type": "code",
   "execution_count": null,
   "metadata": {},
   "outputs": [],
   "source": []
  }
 ],
 "metadata": {
  "kernelspec": {
   "display_name": "py37",
   "language": "python",
   "name": "py37"
  },
  "language_info": {
   "codemirror_mode": {
    "name": "ipython",
    "version": 3
   },
   "file_extension": ".py",
   "mimetype": "text/x-python",
   "name": "python",
   "nbconvert_exporter": "python",
   "pygments_lexer": "ipython3",
   "version": "3.7.4"
  }
 },
 "nbformat": 4,
 "nbformat_minor": 4
}
