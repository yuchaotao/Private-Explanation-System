{
 "cells": [
  {
   "cell_type": "code",
   "execution_count": 30,
   "metadata": {},
   "outputs": [],
   "source": [
    "from sdv.tabular import CTGAN, GaussianCopula, CopulaGAN\n",
    "from sdv import Metadata\n",
    "import pandas as pd"
   ]
  },
  {
   "cell_type": "code",
   "execution_count": 2,
   "metadata": {},
   "outputs": [],
   "source": [
    "data = pd.read_csv('german.csv')"
   ]
  },
  {
   "cell_type": "code",
   "execution_count": 3,
   "metadata": {},
   "outputs": [
    {
     "name": "stderr",
     "output_type": "stream",
     "text": [
      "/home/yuchao/anaconda3/envs/py37/lib/python3.7/site-packages/torch/cuda/__init__.py:52: UserWarning: CUDA initialization: The NVIDIA driver on your system is too old (found version 9010). Please update your GPU driver by downloading and installing a new version from the URL: http://www.nvidia.com/Download/index.aspx Alternatively, go to: https://pytorch.org to install a PyTorch version that has been compiled with your version of the CUDA driver. (Triggered internally at  ../c10/cuda/CUDAFunctions.cpp:115.)\n",
      "  return torch._C._cuda_getDeviceCount() > 0\n",
      "/home/yuchao/anaconda3/envs/py37/lib/python3.7/site-packages/sklearn/utils/validation.py:72: FutureWarning: Pass n_components=10 as keyword args. From version 1.0 (renaming of 0.25) passing these as positional arguments will result in an error\n",
      "  \"will result in an error\", FutureWarning)\n",
      "/home/yuchao/anaconda3/envs/py37/lib/python3.7/site-packages/sklearn/mixture/_base.py:148: ConvergenceWarning: Number of distinct clusters (2) found smaller than n_clusters (10). Possibly due to duplicate points in X.\n",
      "  random_state=random_state).fit(X).labels_\n"
     ]
    }
   ],
   "source": [
    "model = CTGAN()\n",
    "model.fit(data)"
   ]
  },
  {
   "cell_type": "code",
   "execution_count": 21,
   "metadata": {},
   "outputs": [
    {
     "name": "stderr",
     "output_type": "stream",
     "text": [
      "/home/yuchao/anaconda3/envs/py37/lib/python3.7/site-packages/scipy/stats/_continuous_distns.py:621: RuntimeWarning: invalid value encountered in sqrt\n",
      "  sk = 2*(b-a)*np.sqrt(a + b + 1) / (a + b + 2) / np.sqrt(a*b)\n",
      "/home/yuchao/anaconda3/envs/py37/lib/python3.7/site-packages/scipy/optimize/minpack.py:175: RuntimeWarning: The iteration is not making good progress, as measured by the \n",
      "  improvement from the last ten iterations.\n",
      "  warnings.warn(msg, RuntimeWarning)\n",
      "/home/yuchao/anaconda3/envs/py37/lib/python3.7/site-packages/scipy/stats/_continuous_distns.py:5003: RuntimeWarning: divide by zero encountered in true_divide\n",
      "  return c**2 / (c**2 - n**2)\n",
      "/home/yuchao/anaconda3/envs/py37/lib/python3.7/site-packages/scipy/stats/_distn_infrastructure.py:2494: RuntimeWarning: invalid value encountered in double_scalars\n",
      "  Lhat = muhat - Shat*mu\n",
      "/home/yuchao/anaconda3/envs/py37/lib/python3.7/site-packages/scipy/optimize/minpack.py:175: RuntimeWarning: The number of calls to function has reached maxfev = 600.\n",
      "  warnings.warn(msg, RuntimeWarning)\n",
      "/home/yuchao/anaconda3/envs/py37/lib/python3.7/site-packages/copulas/univariate/truncated_gaussian.py:43: RuntimeWarning: invalid value encountered in double_scalars\n",
      "  a = (self.min - loc) / scale\n",
      "/home/yuchao/anaconda3/envs/py37/lib/python3.7/site-packages/copulas/univariate/truncated_gaussian.py:44: RuntimeWarning: divide by zero encountered in double_scalars\n",
      "  b = (self.max - loc) / scale\n",
      "/home/yuchao/anaconda3/envs/py37/lib/python3.7/site-packages/scipy/optimize/optimize.py:734: RuntimeWarning: invalid value encountered in subtract\n",
      "  np.max(np.abs(fsim[0] - fsim[1:])) <= fatol):\n",
      "/home/yuchao/anaconda3/envs/py37/lib/python3.7/site-packages/scipy/optimize/minpack.py:175: RuntimeWarning: The iteration is not making good progress, as measured by the \n",
      "  improvement from the last five Jacobian evaluations.\n",
      "  warnings.warn(msg, RuntimeWarning)\n"
     ]
    }
   ],
   "source": [
    "gmodel = GaussianCopula()\n",
    "gmodel.fit(data)"
   ]
  },
  {
   "cell_type": "code",
   "execution_count": 32,
   "metadata": {},
   "outputs": [
    {
     "name": "stderr",
     "output_type": "stream",
     "text": [
      "/home/yuchao/anaconda3/envs/py37/lib/python3.7/site-packages/scipy/stats/_continuous_distns.py:621: RuntimeWarning: invalid value encountered in sqrt\n",
      "  sk = 2*(b-a)*np.sqrt(a + b + 1) / (a + b + 2) / np.sqrt(a*b)\n",
      "/home/yuchao/anaconda3/envs/py37/lib/python3.7/site-packages/scipy/optimize/minpack.py:175: RuntimeWarning: The iteration is not making good progress, as measured by the \n",
      "  improvement from the last ten iterations.\n",
      "  warnings.warn(msg, RuntimeWarning)\n",
      "/home/yuchao/anaconda3/envs/py37/lib/python3.7/site-packages/scipy/stats/_continuous_distns.py:5003: RuntimeWarning: divide by zero encountered in true_divide\n",
      "  return c**2 / (c**2 - n**2)\n",
      "/home/yuchao/anaconda3/envs/py37/lib/python3.7/site-packages/scipy/stats/_distn_infrastructure.py:2494: RuntimeWarning: invalid value encountered in double_scalars\n",
      "  Lhat = muhat - Shat*mu\n",
      "/home/yuchao/anaconda3/envs/py37/lib/python3.7/site-packages/sklearn/utils/validation.py:72: FutureWarning: Pass n_components=10 as keyword args. From version 1.0 (renaming of 0.25) passing these as positional arguments will result in an error\n",
      "  \"will result in an error\", FutureWarning)\n",
      "/home/yuchao/anaconda3/envs/py37/lib/python3.7/site-packages/sklearn/mixture/_base.py:148: ConvergenceWarning: Number of distinct clusters (2) found smaller than n_clusters (10). Possibly due to duplicate points in X.\n",
      "  random_state=random_state).fit(X).labels_\n"
     ]
    }
   ],
   "source": [
    "cgmodel = CopulaGAN()\n",
    "cgmodel.fit(data)"
   ]
  },
  {
   "cell_type": "code",
   "execution_count": 33,
   "metadata": {},
   "outputs": [],
   "source": [
    "new_data = model.sample(num_rows=1000000)"
   ]
  },
  {
   "cell_type": "code",
   "execution_count": 41,
   "metadata": {},
   "outputs": [],
   "source": [
    "new_data = gmodel.sample(num_rows=100000)"
   ]
  },
  {
   "cell_type": "code",
   "execution_count": 37,
   "metadata": {},
   "outputs": [],
   "source": [
    "new_data = cgmodel.sample(num_rows=100000)"
   ]
  },
  {
   "cell_type": "code",
   "execution_count": 23,
   "metadata": {},
   "outputs": [
    {
     "data": {
      "text/html": [
       "<div>\n",
       "<style scoped>\n",
       "    .dataframe tbody tr th:only-of-type {\n",
       "        vertical-align: middle;\n",
       "    }\n",
       "\n",
       "    .dataframe tbody tr th {\n",
       "        vertical-align: top;\n",
       "    }\n",
       "\n",
       "    .dataframe thead th {\n",
       "        text-align: right;\n",
       "    }\n",
       "</style>\n",
       "<table border=\"1\" class=\"dataframe\">\n",
       "  <thead>\n",
       "    <tr style=\"text-align: right;\">\n",
       "      <th></th>\n",
       "      <th>status</th>\n",
       "      <th>duration</th>\n",
       "      <th>credit-history</th>\n",
       "      <th>purpose</th>\n",
       "      <th>credit-amount</th>\n",
       "      <th>saving-account</th>\n",
       "      <th>employment</th>\n",
       "      <th>installment-rate</th>\n",
       "      <th>sex-marst</th>\n",
       "      <th>other-debtors</th>\n",
       "      <th>...</th>\n",
       "      <th>property</th>\n",
       "      <th>age</th>\n",
       "      <th>other-installment-plans</th>\n",
       "      <th>housing</th>\n",
       "      <th>existing-credits</th>\n",
       "      <th>job</th>\n",
       "      <th>people-liable</th>\n",
       "      <th>telephone</th>\n",
       "      <th>foreign-worker</th>\n",
       "      <th>good-credit</th>\n",
       "    </tr>\n",
       "  </thead>\n",
       "  <tbody>\n",
       "    <tr>\n",
       "      <th>0</th>\n",
       "      <td>... &gt;= 200 DM / salary for at least 1 year</td>\n",
       "      <td>1 &lt;= ... &lt; 4 yrs</td>\n",
       "      <td>all credits at this bank paid back duly</td>\n",
       "      <td>others</td>\n",
       "      <td>(500, 2500]</td>\n",
       "      <td>unknown/no savings account</td>\n",
       "      <td>1 &lt;= ... &lt; 4 yrs</td>\n",
       "      <td>25% &lt;= ... &lt; 35%</td>\n",
       "      <td>female : non-single or male : single</td>\n",
       "      <td>none</td>\n",
       "      <td>...</td>\n",
       "      <td>unknown / no property</td>\n",
       "      <td>(30, 40]</td>\n",
       "      <td>none</td>\n",
       "      <td>rent</td>\n",
       "      <td>2-3</td>\n",
       "      <td>manager/self-empl./highly qualif. employee</td>\n",
       "      <td>0 to 2</td>\n",
       "      <td>no</td>\n",
       "      <td>no</td>\n",
       "      <td>1</td>\n",
       "    </tr>\n",
       "    <tr>\n",
       "      <th>1</th>\n",
       "      <td>... &gt;= 200 DM / salary for at least 1 year</td>\n",
       "      <td>1 &lt;= ... &lt; 4 yrs</td>\n",
       "      <td>no credits taken/all credits paid back duly</td>\n",
       "      <td>repairs</td>\n",
       "      <td>(500, 2500]</td>\n",
       "      <td>unknown/no savings account</td>\n",
       "      <td>1 &lt;= ... &lt; 4 yrs</td>\n",
       "      <td>&lt; 20%</td>\n",
       "      <td>male : married/widowed</td>\n",
       "      <td>none</td>\n",
       "      <td>...</td>\n",
       "      <td>building soc. savings agr./life insurance</td>\n",
       "      <td>(20, 30]</td>\n",
       "      <td>none</td>\n",
       "      <td>rent</td>\n",
       "      <td>1</td>\n",
       "      <td>skilled employee / official</td>\n",
       "      <td>0 to 2</td>\n",
       "      <td>yes (under customer name)</td>\n",
       "      <td>no</td>\n",
       "      <td>0</td>\n",
       "    </tr>\n",
       "    <tr>\n",
       "      <th>2</th>\n",
       "      <td>no checking account</td>\n",
       "      <td>&lt; 1 yr</td>\n",
       "      <td>no credits taken/all credits paid back duly</td>\n",
       "      <td>others</td>\n",
       "      <td>(500, 2500]</td>\n",
       "      <td>... &lt;  100 DM</td>\n",
       "      <td>unemployed</td>\n",
       "      <td>&lt; 20%</td>\n",
       "      <td>female : single</td>\n",
       "      <td>co-applicant</td>\n",
       "      <td>...</td>\n",
       "      <td>unknown / no property</td>\n",
       "      <td>(30, 40]</td>\n",
       "      <td>none</td>\n",
       "      <td>rent</td>\n",
       "      <td>2-3</td>\n",
       "      <td>skilled employee / official</td>\n",
       "      <td>0 to 2</td>\n",
       "      <td>no</td>\n",
       "      <td>no</td>\n",
       "      <td>1</td>\n",
       "    </tr>\n",
       "    <tr>\n",
       "      <th>3</th>\n",
       "      <td>no checking account</td>\n",
       "      <td>1 &lt;= ... &lt; 4 yrs</td>\n",
       "      <td>no credits taken/all credits paid back duly</td>\n",
       "      <td>repairs</td>\n",
       "      <td>(500, 2500]</td>\n",
       "      <td>unknown/no savings account</td>\n",
       "      <td>1 &lt;= ... &lt; 4 yrs</td>\n",
       "      <td>25% &lt;= ... &lt; 35%</td>\n",
       "      <td>female : non-single or male : single</td>\n",
       "      <td>co-applicant</td>\n",
       "      <td>...</td>\n",
       "      <td>building soc. savings agr./life insurance</td>\n",
       "      <td>(20, 30]</td>\n",
       "      <td>none</td>\n",
       "      <td>rent</td>\n",
       "      <td>1</td>\n",
       "      <td>skilled employee / official</td>\n",
       "      <td>0 to 2</td>\n",
       "      <td>no</td>\n",
       "      <td>no</td>\n",
       "      <td>0</td>\n",
       "    </tr>\n",
       "    <tr>\n",
       "      <th>4</th>\n",
       "      <td>no checking account</td>\n",
       "      <td>1 &lt;= ... &lt; 4 yrs</td>\n",
       "      <td>no credits taken/all credits paid back duly</td>\n",
       "      <td>repairs</td>\n",
       "      <td>(500, 2500]</td>\n",
       "      <td>unknown/no savings account</td>\n",
       "      <td>unemployed</td>\n",
       "      <td>25% &lt;= ... &lt; 35%</td>\n",
       "      <td>female : single</td>\n",
       "      <td>co-applicant</td>\n",
       "      <td>...</td>\n",
       "      <td>building soc. savings agr./life insurance</td>\n",
       "      <td>(20, 30]</td>\n",
       "      <td>stores</td>\n",
       "      <td>rent</td>\n",
       "      <td>1</td>\n",
       "      <td>manager/self-empl./highly qualif. employee</td>\n",
       "      <td>0 to 2</td>\n",
       "      <td>no</td>\n",
       "      <td>no</td>\n",
       "      <td>0</td>\n",
       "    </tr>\n",
       "  </tbody>\n",
       "</table>\n",
       "<p>5 rows × 21 columns</p>\n",
       "</div>"
      ],
      "text/plain": [
       "                                       status          duration  \\\n",
       "0  ... >= 200 DM / salary for at least 1 year  1 <= ... < 4 yrs   \n",
       "1  ... >= 200 DM / salary for at least 1 year  1 <= ... < 4 yrs   \n",
       "2                         no checking account            < 1 yr   \n",
       "3                         no checking account  1 <= ... < 4 yrs   \n",
       "4                         no checking account  1 <= ... < 4 yrs   \n",
       "\n",
       "                                credit-history  purpose credit-amount  \\\n",
       "0      all credits at this bank paid back duly   others   (500, 2500]   \n",
       "1  no credits taken/all credits paid back duly  repairs   (500, 2500]   \n",
       "2  no credits taken/all credits paid back duly   others   (500, 2500]   \n",
       "3  no credits taken/all credits paid back duly  repairs   (500, 2500]   \n",
       "4  no credits taken/all credits paid back duly  repairs   (500, 2500]   \n",
       "\n",
       "               saving-account        employment  installment-rate  \\\n",
       "0  unknown/no savings account  1 <= ... < 4 yrs  25% <= ... < 35%   \n",
       "1  unknown/no savings account  1 <= ... < 4 yrs             < 20%   \n",
       "2               ... <  100 DM        unemployed             < 20%   \n",
       "3  unknown/no savings account  1 <= ... < 4 yrs  25% <= ... < 35%   \n",
       "4  unknown/no savings account        unemployed  25% <= ... < 35%   \n",
       "\n",
       "                              sex-marst other-debtors  ...  \\\n",
       "0  female : non-single or male : single          none  ...   \n",
       "1                male : married/widowed          none  ...   \n",
       "2                       female : single  co-applicant  ...   \n",
       "3  female : non-single or male : single  co-applicant  ...   \n",
       "4                       female : single  co-applicant  ...   \n",
       "\n",
       "                                    property       age  \\\n",
       "0                      unknown / no property  (30, 40]   \n",
       "1  building soc. savings agr./life insurance  (20, 30]   \n",
       "2                      unknown / no property  (30, 40]   \n",
       "3  building soc. savings agr./life insurance  (20, 30]   \n",
       "4  building soc. savings agr./life insurance  (20, 30]   \n",
       "\n",
       "  other-installment-plans housing existing-credits  \\\n",
       "0                    none    rent              2-3   \n",
       "1                    none    rent                1   \n",
       "2                    none    rent              2-3   \n",
       "3                    none    rent                1   \n",
       "4                  stores    rent                1   \n",
       "\n",
       "                                          job people-liable  \\\n",
       "0  manager/self-empl./highly qualif. employee        0 to 2   \n",
       "1                 skilled employee / official        0 to 2   \n",
       "2                 skilled employee / official        0 to 2   \n",
       "3                 skilled employee / official        0 to 2   \n",
       "4  manager/self-empl./highly qualif. employee        0 to 2   \n",
       "\n",
       "                   telephone foreign-worker good-credit  \n",
       "0                         no             no           1  \n",
       "1  yes (under customer name)             no           0  \n",
       "2                         no             no           1  \n",
       "3                         no             no           0  \n",
       "4                         no             no           0  \n",
       "\n",
       "[5 rows x 21 columns]"
      ]
     },
     "execution_count": 23,
     "metadata": {},
     "output_type": "execute_result"
    }
   ],
   "source": [
    "new_data.head()"
   ]
  },
  {
   "cell_type": "code",
   "execution_count": 24,
   "metadata": {},
   "outputs": [],
   "source": [
    "import seaborn as sns"
   ]
  },
  {
   "cell_type": "code",
   "execution_count": 34,
   "metadata": {},
   "outputs": [],
   "source": [
    "df = new_data"
   ]
  },
  {
   "cell_type": "code",
   "execution_count": 42,
   "metadata": {},
   "outputs": [
    {
     "data": {
      "text/plain": [
       "<AxesSubplot:xlabel='good-credit', ylabel='Count'>"
      ]
     },
     "execution_count": 42,
     "metadata": {},
     "output_type": "execute_result"
    },
    {
     "data": {
      "image/png": "[encoded data removed]",
      "text/plain": [
       "<Figure size 432x288 with 1 Axes>"
      ]
     },
     "metadata": {
      "needs_background": "light"
     },
     "output_type": "display_data"
    }
   ],
   "source": [
    "sns.histplot(df['good-credit'])"
   ]
  },
  {
   "cell_type": "code",
   "execution_count": 43,
   "metadata": {},
   "outputs": [
    {
     "data": {
      "text/plain": [
       "<AxesSubplot:xlabel='good-credit', ylabel='Count'>"
      ]
     },
     "execution_count": 43,
     "metadata": {},
     "output_type": "execute_result"
    },
    {
     "data": {
      "image/png": "[encoded data removed]",
      "text/plain": [
       "<Figure size 432x288 with 1 Axes>"
      ]
     },
     "metadata": {
      "needs_background": "light"
     },
     "output_type": "display_data"
    }
   ],
   "source": [
    "sns.histplot(data['good-credit'])"
   ]
  },
  {
   "cell_type": "code",
   "execution_count": 44,
   "metadata": {},
   "outputs": [
    {
     "name": "stdout",
     "output_type": "stream",
     "text": [
      "                                              answer   count\n",
      "status                                                      \n",
      "... < 0 DM                                  0.348945  203846\n",
      "... >= 200 DM / salary for at least 1 year  0.356670  378156\n",
      "0<= ... < 200 DM                            0.361646   68003\n",
      "no checking account                         0.354088  349995\n",
      "                    answer   count\n",
      "duration                          \n",
      "1 <= ... < 4 yrs  0.356563  711390\n",
      "4 <= ... < 7 yrs  0.266256   26621\n",
      "< 1 yr            0.357981  261989\n",
      "                                               answer   count\n",
      "credit-history                                               \n",
      "all credits at this bank paid back duly      0.366700  461825\n",
      "critical account/other credits elsewhere     0.339350   60775\n",
      "delay in paying off in the past              0.351969   53232\n",
      "existing credits paid back duly till now     0.354316  104850\n",
      "no credits taken/all credits paid back duly  0.340316  319318\n",
      "                       answer   count\n",
      "purpose                              \n",
      "business             0.332110   17437\n",
      "car (new)            0.361283  132763\n",
      "car (used)           0.346585  149568\n",
      "domestic appliances  0.341157   21858\n",
      "furniture/equipment  0.360124  211233\n",
      "others               0.353259  313756\n",
      "radio/television     0.354858   13659\n",
      "repairs              0.359526   42378\n",
      "retraining           0.355860   86135\n",
      "vacation             0.342192   11213\n",
      "                 answer   count\n",
      "credit-amount                  \n",
      "(0, 500]       0.342872   17543\n",
      "(2500, 5000]   0.341920  190916\n",
      "(500, 2500]    0.353538  634003\n",
      "(5000, 10000]  0.377949  118434\n",
      ">10000         0.366484   39104\n",
      "                              answer   count\n",
      "saving-account                              \n",
      "... <  100 DM               0.367087  137921\n",
      "... >= 1000 DM              0.364149  178125\n",
      "100 <= ... <  500 DM        0.395438   65712\n",
      "500 <= ... < 1000 DM        0.375685   48735\n",
      "unknown/no savings account  0.341950  569507\n",
      "                    answer   count\n",
      "employment                        \n",
      "1 <= ... < 4 yrs  0.370625  197364\n",
      "4 <= ... < 7 yrs  0.336836  186643\n",
      "< 1 yr            0.359144  163372\n",
      ">= 7 yrs          0.350801  389135\n",
      "unemployed        0.367498   63486\n",
      "                    answer   count\n",
      "installment-rate                  \n",
      "20% <= ... < 25%  0.347623  119457\n",
      "25% <= ... < 35%  0.355033  149141\n",
      "< 20%             0.357979  598304\n",
      ">= 35%            0.344663  133098\n",
      "                                        answer   count\n",
      "sex-marst                                             \n",
      "female : non-single or male : single  0.374159  145799\n",
      "female : single                       0.362700   66187\n",
      "male : divorced/separated             0.337759   43611\n",
      "male : married/widowed                0.350942  744403\n",
      "                 answer   count\n",
      "other-debtors                  \n",
      "co-applicant   0.409495   74311\n",
      "guarantor      0.328869   81464\n",
      "none           0.352168  844225\n",
      "                    answer   count\n",
      "residence                         \n",
      "1 <= ... < 4 yrs  0.357783  220821\n",
      "4 <= ... < 7 yrs  0.363571  120425\n",
      "< 1 yr            0.372456   85100\n",
      ">= 7 yrs          0.348721  573654\n",
      "                                             answer   count\n",
      "property                                                   \n",
      "building soc. savings agr./life insurance  0.343708  291701\n",
      "car or other                               0.357806  191235\n",
      "real estate                                0.355770  154850\n",
      "unknown / no property                      0.360985  362214\n",
      "            answer   count\n",
      "age                       \n",
      "(10, 20]  0.369756   13014\n",
      "(20, 30]  0.363869  221882\n",
      "(30, 40]  0.343320  464835\n",
      "(40, 50]  0.364656  190684\n",
      "(50, 60]  0.357664   62693\n",
      "(60, 70]  0.373342   38533\n",
      "(70, 80]  0.365115    8359\n",
      "                           answer   count\n",
      "other-installment-plans                  \n",
      "bank                     0.338593   93041\n",
      "none                     0.354676  861305\n",
      "stores                   0.384260   45654\n",
      "            answer   count\n",
      "housing                   \n",
      "for free  0.357361  236797\n",
      "own       0.370096  171931\n",
      "rent      0.348870  591272\n",
      "                    answer   count\n",
      "existing-credits                  \n",
      "1                 0.351349  503382\n",
      "2-3               0.356368  434520\n",
      "4-5               0.374682   51924\n",
      ">= 6              0.330548   10174\n",
      "                                              answer   count\n",
      "job                                                         \n",
      "manager/self-empl./highly qualif. employee  0.368283  198771\n",
      "skilled employee / official                 0.345581  428093\n",
      "unemployed/ unskilled - non-resident        0.317633   45625\n",
      "unskilled - resident                        0.363020  327511\n",
      "                 answer   count\n",
      "people-liable                  \n",
      "0 to 2         0.343041  712935\n",
      "3 or more      0.383063  287065\n",
      "                             answer   count\n",
      "telephone                                  \n",
      "no                         0.347732  767342\n",
      "yes (under customer name)  0.376952  232658\n",
      "                  answer   count\n",
      "foreign-worker                  \n",
      "no              0.351400  945980\n",
      "yes             0.409348   54020\n"
     ]
    }
   ],
   "source": [
    "full_attributes = ['status', 'duration', 'credit-history', 'purpose', 'credit-amount', 'saving-account', 'employment', 'installment-rate', 'sex-marst', 'other-debtors', 'residence', 'property', 'age', 'other-installment-plans', 'housing', 'existing-credits', 'job', 'people-liable', 'telephone', 'foreign-worker']\n",
    "for attr in full_attributes:\n",
    "    with pd.option_context('display.max_rows', None, 'display.max_columns', None, \n",
    "'display.max_colwidth', 1000):\n",
    "        print(df.groupby(attr).agg(answer=('good-credit', 'mean'), count=('good-credit', 'count')))"
   ]
  },
  {
   "cell_type": "code",
   "execution_count": null,
   "metadata": {},
   "outputs": [],
   "source": []
  }
 ],
 "metadata": {
  "kernelspec": {
   "display_name": "py37",
   "language": "python",
   "name": "py37"
  },
  "language_info": {
   "codemirror_mode": {
    "name": "ipython",
    "version": 3
   },
   "file_extension": ".py",
   "mimetype": "text/x-python",
   "name": "python",
   "nbconvert_exporter": "python",
   "pygments_lexer": "ipython3",
   "version": "3.7.4"
  }
 },
 "nbformat": 4,
 "nbformat_minor": 4
}
