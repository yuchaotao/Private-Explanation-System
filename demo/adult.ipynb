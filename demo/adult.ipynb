{
 "cells": [
  {
   "cell_type": "code",
   "execution_count": 1,
   "metadata": {},
   "outputs": [],
   "source": [
    "%load_ext autoreload\n",
    "%autoreload 2"
   ]
  },
  {
   "cell_type": "code",
   "execution_count": 2,
   "metadata": {},
   "outputs": [],
   "source": [
    "import pandas as pd"
   ]
  },
  {
   "cell_type": "code",
   "execution_count": 3,
   "metadata": {},
   "outputs": [],
   "source": [
    "df = pd.read_csv('../data/adult.csv')"
   ]
  },
  {
   "cell_type": "code",
   "execution_count": 4,
   "metadata": {},
   "outputs": [
    {
     "data": {
      "text/html": [
       "<div>\n",
       "<style scoped>\n",
       "    .dataframe tbody tr th:only-of-type {\n",
       "        vertical-align: middle;\n",
       "    }\n",
       "\n",
       "    .dataframe tbody tr th {\n",
       "        vertical-align: top;\n",
       "    }\n",
       "\n",
       "    .dataframe thead th {\n",
       "        text-align: right;\n",
       "    }\n",
       "</style>\n",
       "<table border=\"1\" class=\"dataframe\">\n",
       "  <thead>\n",
       "    <tr style=\"text-align: right;\">\n",
       "      <th></th>\n",
       "      <th>ratio</th>\n",
       "      <th>cnt</th>\n",
       "    </tr>\n",
       "    <tr>\n",
       "      <th>education</th>\n",
       "      <th></th>\n",
       "      <th></th>\n",
       "    </tr>\n",
       "  </thead>\n",
       "  <tbody>\n",
       "    <tr>\n",
       "      <th>Preschool</th>\n",
       "      <td>0.012048</td>\n",
       "      <td>83</td>\n",
       "    </tr>\n",
       "    <tr>\n",
       "      <th>1st-4th</th>\n",
       "      <td>0.032389</td>\n",
       "      <td>247</td>\n",
       "    </tr>\n",
       "    <tr>\n",
       "      <th>11th</th>\n",
       "      <td>0.050773</td>\n",
       "      <td>1812</td>\n",
       "    </tr>\n",
       "    <tr>\n",
       "      <th>5th-6th</th>\n",
       "      <td>0.053045</td>\n",
       "      <td>509</td>\n",
       "    </tr>\n",
       "    <tr>\n",
       "      <th>9th</th>\n",
       "      <td>0.054233</td>\n",
       "      <td>756</td>\n",
       "    </tr>\n",
       "    <tr>\n",
       "      <th>10th</th>\n",
       "      <td>0.062635</td>\n",
       "      <td>1389</td>\n",
       "    </tr>\n",
       "    <tr>\n",
       "      <th>7th-8th</th>\n",
       "      <td>0.064921</td>\n",
       "      <td>955</td>\n",
       "    </tr>\n",
       "    <tr>\n",
       "      <th>12th</th>\n",
       "      <td>0.073059</td>\n",
       "      <td>657</td>\n",
       "    </tr>\n",
       "    <tr>\n",
       "      <th>HS-grad</th>\n",
       "      <td>0.158578</td>\n",
       "      <td>15784</td>\n",
       "    </tr>\n",
       "    <tr>\n",
       "      <th>Some-college</th>\n",
       "      <td>0.189649</td>\n",
       "      <td>10878</td>\n",
       "    </tr>\n",
       "    <tr>\n",
       "      <th>Assoc-voc</th>\n",
       "      <td>0.253275</td>\n",
       "      <td>2061</td>\n",
       "    </tr>\n",
       "    <tr>\n",
       "      <th>Assoc-acdm</th>\n",
       "      <td>0.257964</td>\n",
       "      <td>1601</td>\n",
       "    </tr>\n",
       "    <tr>\n",
       "      <th>Bachelors</th>\n",
       "      <td>0.412835</td>\n",
       "      <td>8025</td>\n",
       "    </tr>\n",
       "    <tr>\n",
       "      <th>Masters</th>\n",
       "      <td>0.549116</td>\n",
       "      <td>2657</td>\n",
       "    </tr>\n",
       "    <tr>\n",
       "      <th>Doctorate</th>\n",
       "      <td>0.725589</td>\n",
       "      <td>594</td>\n",
       "    </tr>\n",
       "    <tr>\n",
       "      <th>Prof-school</th>\n",
       "      <td>0.739808</td>\n",
       "      <td>834</td>\n",
       "    </tr>\n",
       "  </tbody>\n",
       "</table>\n",
       "</div>"
      ],
      "text/plain": [
       "                 ratio    cnt\n",
       "education                    \n",
       "Preschool     0.012048     83\n",
       "1st-4th       0.032389    247\n",
       "11th          0.050773   1812\n",
       "5th-6th       0.053045    509\n",
       "9th           0.054233    756\n",
       "10th          0.062635   1389\n",
       "7th-8th       0.064921    955\n",
       "12th          0.073059    657\n",
       "HS-grad       0.158578  15784\n",
       "Some-college  0.189649  10878\n",
       "Assoc-voc     0.253275   2061\n",
       "Assoc-acdm    0.257964   1601\n",
       "Bachelors     0.412835   8025\n",
       "Masters       0.549116   2657\n",
       "Doctorate     0.725589    594\n",
       "Prof-school   0.739808    834"
      ]
     },
     "execution_count": 4,
     "metadata": {},
     "output_type": "execute_result"
    }
   ],
   "source": [
    "df.groupby('education').agg(ratio=('high_income', 'mean'), cnt=('high_income', 'count')).sort_values('ratio')"
   ]
  },
  {
   "cell_type": "code",
   "execution_count": null,
   "metadata": {},
   "outputs": [],
   "source": []
  },
  {
   "cell_type": "code",
   "execution_count": 105,
   "metadata": {},
   "outputs": [],
   "source": [
    "import sys\n",
    "sys.path.append('../')\n",
    "\n",
    "import pandas as pd\n",
    "import pprint\n",
    "\n",
    "from privex.components.basic import Schema, Dataset, GroupbyQuery, Question\n",
    "from privex.components.utils import generate_explanation_predicates\n",
    "from privex.framework.solution import ExplanationSession\n",
    "\n",
    "import logging\n",
    "logger = logging.getLogger(__name__)"
   ]
  },
  {
   "cell_type": "code",
   "execution_count": 106,
   "metadata": {},
   "outputs": [],
   "source": [
    "df = pd.read_csv('../data/adult.csv')\n",
    "schema = Schema.from_json('../data/adult.json')\n",
    "dataset = Dataset(df, schema)\n",
    "gamma = 0.95\n",
    "attributes = ['education', 'occupation', 'age', 'relationship', 'race', 'workclass', 'sex', 'native-country']\n",
    "predicates = generate_explanation_predicates(attributes, schema, strategy='1-way marginal')\n",
    "#predicates = predicates[:10]\n",
    "#predicates += generate_explanation_predicates(attributes, schema, strategy='2-way marginal')\n",
    "es = ExplanationSession(dataset, gamma, predicates)"
   ]
  },
  {
   "cell_type": "code",
   "execution_count": 114,
   "metadata": {},
   "outputs": [
    {
     "name": "stdout",
     "output_type": "stream",
     "text": [
      "submiited queries with rho = 0.1\n",
      "                   group    answer  truth (hidden)\n",
      "0          Never-married  0.045511        0.045480\n",
      "1              Separated  0.064712        0.064706\n",
      "2                Widowed  0.082854        0.084321\n",
      "3  Married-spouse-absent  0.089988        0.092357\n",
      "4               Divorced  0.101578        0.101161\n",
      "6      Married-AF-spouse  0.463193        0.378378\n",
      "5     Married-civ-spouse  0.446021        0.446133\n"
     ]
    }
   ],
   "source": [
    "# Phase 1\n",
    "groupby_query = GroupbyQuery(\n",
    "    agg = 'AVG',\n",
    "    attr_agg = 'high_income',\n",
    "    predicate = None,\n",
    "    attr_group = 'marital-status',\n",
    "    schema = schema\n",
    ")\n",
    "rho_query = 0.1\n",
    "es.phase_1_submit_query(groupby_query, rho_query, random_seed = 152636)\n",
    "print(f'submiited queries with rho = {rho_query}')\n",
    "nr = es.phase_1_show_query_results()\n",
    "nr['group'] = nr['group'].apply(lambda row: row[0])\n",
    "gt = df.groupby('marital-status').agg(answer=('high_income', 'mean')).reset_index()\n",
    "gt = gt.rename(columns={'marital-status': 'group'})\n",
    "print(nr.merge(gt, on='group').rename(columns={'answer_x':'answer', 'answer_y': 'truth (hidden)'}).sort_values('truth (hidden)'))"
   ]
  },
  {
   "cell_type": "code",
   "execution_count": 117,
   "metadata": {},
   "outputs": [
    {
     "name": "stdout",
     "output_type": "stream",
     "text": [
      "2022-04-25 21:38:27,706 INFO     [image.py:20] answers: [9982.926929253796, 22382.183312771773, 15.765188211211795, 34.03588831851936]\n",
      "2022-04-25 21:38:27,707 INFO     [image.py:21] sigmas: [3.162277660168379, 3.162277660168379, 3.162277660168379, 3.162277660168379]\n",
      "2022-04-25 21:38:27,708 INFO     [image.py:22] bounds: [(9975.028491030382, 9990.82536747721), (22374.284874548357, 22390.08175099519), (7.866749987797281, 23.66362643462631), (26.137450095104846, 41.93432654193388)]\n",
      "2022-04-25 21:38:27,708 INFO     [image.py:23] manual ci: (-0.4598422551149035, 0.2589346986687564)\n",
      "2022-04-25 21:38:27,708 INFO     [image.py:24] fun ci l: 0.4598422551149035\n",
      "2022-04-25 21:38:27,709 INFO     [image.py:25] fun ci u: -0.2589346986687564\n",
      "question:  Why AVG(high_income) WHERE `marital-status` == \"Married-AF-spouse\" >= AVG(high_income) WHERE `marital-status` == \"Married-civ-spouse\"?\n",
      "The noisy group difference is  0.01717194739104899\n",
      "The 95% confidence interval of the difference is  (-0.2589346986687564, 0.4598422551149035)\n"
     ]
    }
   ],
   "source": [
    "# Phase 2\n",
    "#question = Question.from_group_comparison(groupby_query, 'Prof-school', 'Doctorate')\n",
    "question = Question.from_group_comparison(groupby_query, ('Married-AF-spouse',), ('Married-civ-spouse',))\n",
    "es.phase_2_submit_question(question)\n",
    "es.phase_2_prepare_question_ci()\n",
    "ci = es.phase_2_show_question_ci()\n",
    "point = es.phase_2_show_question_point()\n",
    "print('question: ', question.to_natural_language())\n",
    "print('The noisy group difference is ', point)\n",
    "print(f'The {gamma*100:.0f}% confidence interval of the difference is ', ci)"
   ]
  },
  {
   "cell_type": "code",
   "execution_count": 118,
   "metadata": {},
   "outputs": [
    {
     "name": "stdout",
     "output_type": "stream",
     "text": [
      "2022-04-25 21:39:27,605 INFO     [image.py:20] answers: [733.5750581061126, 16118.723030353407, 9982.926929253796, 22382.183312771773]\n",
      "2022-04-25 21:39:27,606 INFO     [image.py:21] sigmas: [3.162277660168379, 3.162277660168379, 3.162277660168379, 3.162277660168379]\n",
      "2022-04-25 21:39:27,606 INFO     [image.py:22] bounds: [(725.6766198826981, 741.473496329527), (16110.824592129993, 16126.621468576821), (9975.028491030382, 9990.82536747721), (22374.284874548357, 22390.08175099519)]\n",
      "2022-04-25 21:39:27,607 INFO     [image.py:23] manual ci: (-0.4015329300800539, -0.39948772348837247)\n",
      "2022-04-25 21:39:27,607 INFO     [image.py:24] fun ci l: 0.4015329300800539\n",
      "2022-04-25 21:39:27,608 INFO     [image.py:25] fun ci u: 0.39948772348837247\n",
      "question:  Why AVG(high_income) WHERE `marital-status` == \"Married-civ-spouse\" >= AVG(high_income) WHERE `marital-status` == \"Never-married\"?\n",
      "The noisy group difference is  0.4005103977536667\n",
      "The 95% confidence interval of the difference is  (0.39948772348837247, 0.4015329300800539)\n"
     ]
    }
   ],
   "source": [
    "# Phase 2\n",
    "#question = Question.from_group_comparison(groupby_query, 'Prof-school', 'Doctorate')\n",
    "question = Question.from_group_comparison(groupby_query, ('Married-civ-spouse',), ('Never-married',))\n",
    "es.phase_2_submit_question(question)\n",
    "es.phase_2_prepare_question_ci()\n",
    "ci = es.phase_2_show_question_ci()\n",
    "point = es.phase_2_show_question_point()\n",
    "print('question: ', question.to_natural_language())\n",
    "print('The noisy group difference is ', point)\n",
    "print(f'The {gamma*100:.0f}% confidence interval of the difference is ', ci)"
   ]
  },
  {
   "cell_type": "code",
   "execution_count": 121,
   "metadata": {},
   "outputs": [
    {
     "name": "stdout",
     "output_type": "stream",
     "text": [
      "2022-04-25 21:46:48,546 DEBUG    [<ipython-input-121-44759e5bb3a5>:3] Length of predicates is 103\n",
      "(`marital-status` == \"Never-married\")or(`marital-status` == \"Married-civ-spouse\")\n",
      "2022-04-25 21:46:48,553 INFO     [influence_function.py:24] Dataset relative to the question has length 38496\n",
      "2022-04-25 21:46:51,921 DEBUG    [meta_explanation_session.py:169] 103 predicates and their influences & scores have been loaded.\n",
      "2022-04-25 21:46:51,927 DEBUG    [meta_explanation_session.py:173] \n",
      "        influence       score\n",
      "count  103.000000  103.000000\n",
      "mean     0.000325    7.266483\n",
      "std      0.006527  146.071226\n",
      "min     -0.026839 -600.661181\n",
      "25%     -0.000606  -13.551499\n",
      "50%     -0.000017   -0.385618\n",
      "75%      0.000368    8.235890\n",
      "max      0.024788  554.765178\n",
      "2022-04-25 21:46:51,927 DEBUG    [meta_explanation_session.py:228] total rho_expl is 2.0\n",
      "2022-04-25 21:46:51,928 DEBUG    [meta_explanation_session.py:229] rho_topk is 0.05\n",
      "2022-04-25 21:46:51,928 DEBUG    [meta_explanation_session.py:230] rho_ci is 0.05\n",
      "2022-04-25 21:46:51,928 DEBUG    [meta_explanation_session.py:231] rho_rank is 1.9\n",
      "2022-04-25 21:46:51,929 INFO     [meta_explanation_session.py:237] computing top k\n",
      "2022-04-25 21:46:51,929 INFO     [noisy_topk.py:11] gumbel scale: 113.13708498984761\n",
      "2022-04-25 21:46:51,930 INFO     [noisy_topk.py:20] topk_scores: [554.7651779667677, 501.1893892113174, 224.646149630511, 434.2574498838566, 547.4103826579072]\n",
      "2022-04-25 21:46:51,931 INFO     [noisy_topk.py:21] gumbel_topk_scores: [1109.41997108639, 862.5547765458607, 733.5751644525739, 498.67820293292607, 493.8951609648289]\n",
      "2022-04-25 21:46:51,931 INFO     [noisy_topk.py:31] true_topk_scores: [554.7651779667677, 547.4103826579072, 501.1893892113174, 434.2574498838566, 252.28156203781697]\n",
      "2022-04-25 21:46:51,931 INFO     [noisy_topk.py:32] gumbel_true_topk_scores: [1109.41997108639, 493.8951609648289, 862.5547765458607, 498.67820293292607, 120.44503605721187]\n",
      "2022-04-25 21:46:51,932 DEBUG    [meta_explanation_session.py:244] [`occupation` == \"Exec-managerial\", `age` == \"(40, 50]\", `relationship` == \"Own-child\", `occupation` == \"Prof-specialty\", `education` == \"Bachelors\"]\n",
      "2022-04-25 21:46:51,932 INFO     [meta_explanation_session.py:258] computing influence ci\n"
     ]
    },
    {
     "name": "stderr",
     "output_type": "stream",
     "text": [
      "  0%|          | 0/5 [00:00<?, ?it/s]"
     ]
    },
    {
     "name": "stdout",
     "output_type": "stream",
     "text": [
      "2022-04-25 21:46:52,14 INFO     [image.py:20] answers: [722.2537090314613, 16090.066967612667, 9983.092740040667, 22385.536862739926, 570.7425159572181, 14862.130647988655, 7533.290233347423, 18813.938333082, 14853.887366327654, 22378.394185048815]\n",
      "2022-04-25 21:46:52,15 INFO     [image.py:21] sigmas: [22.360679774997898, 22.360679774997898, 22.360679774997898, 22.360679774997898, 22.360679774997898, 22.360679774997898, 22.360679774997898, 22.360679774997898, 22.360679774997898, 22.360679774997898]\n",
      "2022-04-25 21:46:52,15 INFO     [image.py:22] bounds: [(659.4865258199197, 785.0208922430029), (16027.299784401126, 16152.834150824208), (9920.325556829126, 10045.859923252208), (22322.769679528385, 22448.304045951467), (507.9753327456765, 633.5096991687597), (14799.363464777114, 14924.897831200196), (7470.523050135881, 7596.057416558965), (18751.171149870457, 18876.70551629354), (14791.120183116112, 14916.654549539195), (22315.627001837274, 22441.161368260357)]\n"
     ]
    },
    {
     "name": "stderr",
     "output_type": "stream",
     "text": [
      " 20%|██        | 1/5 [00:00<00:00,  7.37it/s]"
     ]
    },
    {
     "name": "stdout",
     "output_type": "stream",
     "text": [
      "2022-04-25 21:46:52,147 INFO     [image.py:20] answers: [714.952487135132, 16112.439500285365, 10006.407637080138, 22350.816775206546, 542.8807557459877, 15008.161092614846, 6586.3357587604505, 16156.944597402773, 14998.446838380078, 22368.766453377506]\n",
      "2022-04-25 21:46:52,148 INFO     [image.py:21] sigmas: [22.360679774997898, 22.360679774997898, 22.360679774997898, 22.360679774997898, 22.360679774997898, 22.360679774997898, 22.360679774997898, 22.360679774997898, 22.360679774997898, 22.360679774997898]\n",
      "2022-04-25 21:46:52,148 INFO     [image.py:22] bounds: [(652.1853039235904, 777.7196703466735), (16049.672317073824, 16175.206683496906), (9943.640453868597, 10069.174820291679), (22288.049591995004, 22413.583958418087), (480.1135725344461, 605.6479389575293), (14945.393909403305, 15070.928275826387), (6523.5685755489085, 6649.102941971993), (16094.177414191232, 16219.711780614314), (14935.679655168537, 15061.214021591619), (22305.999270165965, 22431.533636589047)]\n"
     ]
    },
    {
     "name": "stderr",
     "output_type": "stream",
     "text": [
      " 40%|████      | 2/5 [00:00<00:00,  7.37it/s]"
     ]
    },
    {
     "name": "stdout",
     "output_type": "stream",
     "text": [
      "2022-04-25 21:46:52,282 INFO     [image.py:20] answers: [735.9024554116946, 16159.269727329565, 10010.713837861236, 22390.1349666724, 621.0875429000112, 9371.666433988665, 9977.673136607982, 22209.508422796538, 9408.004970579279, 22419.314631940488]\n",
      "2022-04-25 21:46:52,282 INFO     [image.py:21] sigmas: [22.360679774997898, 22.360679774997898, 22.360679774997898, 22.360679774997898, 22.360679774997898, 22.360679774997898, 22.360679774997898, 22.360679774997898, 22.360679774997898, 22.360679774997898]\n",
      "2022-04-25 21:46:52,282 INFO     [image.py:22] bounds: [(673.135272200153, 798.6696386232362), (16096.502544118024, 16222.036910541106), (9947.946654649695, 10073.481021072777), (22327.36778346086, 22452.902149883943), (558.3203596884696, 683.8547261115527), (9308.899250777124, 9434.433617200206), (9914.905953396441, 10040.440319819523), (22146.741239584997, 22272.27560600808), (9345.237787367738, 9470.77215379082), (22356.547448728947, 22482.08181515203)]\n"
     ]
    },
    {
     "name": "stderr",
     "output_type": "stream",
     "text": [
      " 60%|██████    | 3/5 [00:00<00:00,  7.48it/s]"
     ]
    },
    {
     "name": "stdout",
     "output_type": "stream",
     "text": [
      "2022-04-25 21:46:52,409 INFO     [image.py:20] answers: [751.0709606117048, 16134.671690991414, 9993.622225730329, 22410.34973659599, 482.6007130785633, 14250.721422348328, 7716.128869683152, 19180.735739132382, 14263.85816210034, 22394.267978125274]\n",
      "2022-04-25 21:46:52,410 INFO     [image.py:21] sigmas: [22.360679774997898, 22.360679774997898, 22.360679774997898, 22.360679774997898, 22.360679774997898, 22.360679774997898, 22.360679774997898, 22.360679774997898, 22.360679774997898, 22.360679774997898]\n",
      "2022-04-25 21:46:52,410 INFO     [image.py:22] bounds: [(688.3037774001632, 813.8381438232464), (16071.904507779873, 16197.438874202955), (9930.855042518788, 10056.38940894187), (22347.582553384447, 22473.11691980753), (419.8335298670217, 545.3678962901049), (14187.954239136787, 14313.488605559869), (7653.36168647161, 7778.896052894694), (19117.96855592084, 19243.502922343923), (14201.090978888798, 14326.62534531188), (22331.500794913733, 22457.035161336815)]\n"
     ]
    },
    {
     "name": "stderr",
     "output_type": "stream",
     "text": [
      " 80%|████████  | 4/5 [00:00<00:00,  7.21it/s]"
     ]
    },
    {
     "name": "stdout",
     "output_type": "stream",
     "text": [
      "2022-04-25 21:46:52,562 INFO     [image.py:20] answers: [719.5966867503388, 16133.512999445606, 9964.637048679951, 22388.82877164617, 475.26853064895295, 13425.161234748586, 7228.242476701742, 18229.164277836004, 13436.090666158836, 22363.02084102227]\n",
      "2022-04-25 21:46:52,563 INFO     [image.py:21] sigmas: [22.360679774997898, 22.360679774997898, 22.360679774997898, 22.360679774997898, 22.360679774997898, 22.360679774997898, 22.360679774997898, 22.360679774997898, 22.360679774997898, 22.360679774997898]\n",
      "2022-04-25 21:46:52,563 INFO     [image.py:22] bounds: [(656.8295035387972, 782.3638699618804), (16070.745816234064, 16196.280182657147), (9901.86986546841, 10027.404231891493), (22326.06158843463, 22451.595954857712), (412.50134743741137, 538.0357138604945), (13362.394051537045, 13487.928417960127), (7165.4752934902, 7291.009659913284), (18166.397094624463, 18291.931461047545), (13373.323482947295, 13498.857849370377), (22300.25365781073, 22425.78802423381)]\n"
     ]
    },
    {
     "name": "stderr",
     "output_type": "stream",
     "text": [
      "100%|██████████| 5/5 [00:00<00:00,  7.14it/s]"
     ]
    },
    {
     "name": "stdout",
     "output_type": "stream",
     "text": [
      "2022-04-25 21:46:52,633 DEBUG    [meta_explanation_session.py:269] [(0.01441871580997527, 0.037601467620713515), (0.00925922316268419, 0.03361094316693102), (-0.0003134454673210007, 0.01608551026730573), (0.008665998566900706, 0.030942732893514582), (0.012872808380316134, 0.034573826883309074)]\n",
      "2022-04-25 21:46:52,633 INFO     [meta_explanation_session.py:275] computing rank ci\n"
     ]
    },
    {
     "name": "stderr",
     "output_type": "stream",
     "text": [
      "\n",
      "100%|██████████| 5/5 [00:00<00:00, 7601.13it/s]"
     ]
    },
    {
     "name": "stdout",
     "output_type": "stream",
     "text": [
      "2022-04-25 21:46:52,635 DEBUG    [meta_explanation_session.py:288] [(1, 6), (1, 9), (1, 92), (1, 16), (1, 8)]\n",
      "                          predicates Rel Inf 90-CI L Rel Inf 90-CI R  Rnk 95-CI L  Rnk 95-CI R\n",
      "0  `occupation` == \"Exec-managerial\"           3.60%           9.39%            1            6\n",
      "1         `education` == \"Bachelors\"           3.21%           8.63%            1            8\n",
      "2                `age` == \"(40, 50]\"           2.31%           8.39%            1            9\n",
      "3   `occupation` == \"Prof-specialty\"           2.16%           7.73%            1           16\n",
      "4      `relationship` == \"Own-child\"          -0.08%           4.02%            1           92\n",
      "                          predicates  Inf 95-CI L  Inf 95-CI R  Rnk 95-CI L  Rnk 95-CI R\n",
      "0  `occupation` == \"Exec-managerial\"     0.014419     0.037601            1            6\n",
      "1         `education` == \"Bachelors\"     0.012873     0.034574            1            8\n",
      "2                `age` == \"(40, 50]\"     0.009259     0.033611            1            9\n",
      "3   `occupation` == \"Prof-specialty\"     0.008666     0.030943            1           16\n",
      "4      `relationship` == \"Own-child\"    -0.000313     0.016086            1           92\n"
     ]
    },
    {
     "name": "stderr",
     "output_type": "stream",
     "text": [
      "\n"
     ]
    }
   ],
   "source": [
    "# Phase 3\n",
    "k = 5\n",
    "logger.debug(f'Length of predicates is {len(predicates)}')\n",
    "rho_expl = 2.0\n",
    "es.phase_3_submit_explanation_request()\n",
    "es.phase_3_prepare_explanation(k, rho_expl, split_factor = 0.9, random_seed = 12532) # 12535, 12534\n",
    "with pd.option_context('display.max_rows', None, 'display.max_columns', None, \n",
    "'display.max_colwidth', 1000, 'display.width', 1000):\n",
    "    t1, t2 = es.phase_3_show_explanation_table()\n",
    "    print(t1)\n",
    "    print(t2)"
   ]
  },
  {
   "cell_type": "code",
   "execution_count": 122,
   "metadata": {},
   "outputs": [
    {
     "name": "stdout",
     "output_type": "stream",
     "text": [
      "                          predicates Rel Inf 90-CI L Rel Inf 90-CI R  Rnk 95-CI L  Rnk 95-CI R\n",
      "0  `occupation` == \"Exec-managerial\"           3.60%           9.39%            1            6\n",
      "1                `age` == \"(40, 50]\"           2.31%           8.39%            1            9\n",
      "2      `relationship` == \"Own-child\"          -0.08%           4.02%            1           92\n",
      "3   `occupation` == \"Prof-specialty\"           2.16%           7.73%            1           16\n",
      "4         `education` == \"Bachelors\"           3.21%           8.63%            1            8\n",
      "                          predicates  Inf 95-CI L  Inf 95-CI R  Rnk 95-CI L  Rnk 95-CI R\n",
      "0  `occupation` == \"Exec-managerial\"     0.014419     0.037601            1            6\n",
      "1                `age` == \"(40, 50]\"     0.009259     0.033611            1            9\n",
      "2      `relationship` == \"Own-child\"    -0.000313     0.016086            1           92\n",
      "3   `occupation` == \"Prof-specialty\"     0.008666     0.030943            1           16\n",
      "4         `education` == \"Bachelors\"     0.012873     0.034574            1            8\n"
     ]
    }
   ],
   "source": [
    "with pd.option_context('display.max_rows', None, 'display.max_columns', None, \n",
    "'display.max_colwidth', 1000, 'display.width', 1000):\n",
    "    t1, t2 = es.phase_3_show_explanation_table()\n",
    "    print(t1)\n",
    "    print(t2)"
   ]
  },
  {
   "cell_type": "code",
   "execution_count": 104,
   "metadata": {},
   "outputs": [
    {
     "name": "stdout",
     "output_type": "stream",
     "text": [
      "Positive Influences:  13\n",
      "                                topk rel-influence\n",
      "0  `occupation` == \"Exec-managerial\"         6.19%\n",
      "1         `education` == \"Bachelors\"         6.11%\n",
      "2                `age` == \"(40, 50]\"         5.59%\n",
      "3   `occupation` == \"Prof-specialty\"         4.84%\n",
      "4           `education` == \"Masters\"         2.81%\n"
     ]
    }
   ],
   "source": [
    "k = 5\n",
    "with pd.option_context('display.max_rows', None, 'display.max_columns', None, \n",
    "'display.max_colwidth', 1000, 'display.width', 1000):\n",
    "    print(es.phase_3_true_top_k(k))"
   ]
  },
  {
   "cell_type": "code",
   "execution_count": null,
   "metadata": {},
   "outputs": [],
   "source": [
    "for p in es.topk_explanation_predicates:\n",
    "    x = es.predicates_with_influences_and_scores[p]\n",
    "    print(f\"{x['score']:.0f},\")\n",
    "    print(x['score'] / x['influence'])"
   ]
  },
  {
   "cell_type": "code",
   "execution_count": 138,
   "metadata": {},
   "outputs": [
    {
     "name": "stdout",
     "output_type": "stream",
     "text": [
      "0.024788435119158524 1\n",
      "0.02239452141248067 3\n",
      "0.010037808294482172 6\n",
      "0.019403818136007892 4\n",
      "0.02445980262099675 2\n"
     ]
    }
   ],
   "source": [
    "for p in es.topk_explanation_predicates:\n",
    "    influ = es.predicates_with_influences_and_scores[p]['influence']\n",
    "    rank = es.sorted_predicates.tolist().index(p) + 1\n",
    "    print(influ, rank)"
   ]
  },
  {
   "cell_type": "code",
   "execution_count": 137,
   "metadata": {},
   "outputs": [
    {
     "name": "stdout",
     "output_type": "stream",
     "text": [
      "$\\I_{1} = (659, 785)$, \n",
      "$\\I_{2} = (16027, 16153)$, \n",
      "$\\I_{3} = (9920, 10046)$, \n",
      "$\\I_{4} = (22323, 22448)$, \n",
      "$\\I_{5} = (508, 634)$, \n",
      "$\\I_{6} = (14799, 14925)$, \n",
      "$\\I_{7} = (7471, 7596)$, \n",
      "$\\I_{8} = (18751, 18877)$, \n",
      "$\\I_{9} = (14791, 14917)$, \n",
      "$\\I_{10} = (22316, 22441)$, \n"
     ]
    }
   ],
   "source": [
    "x = [(659.4865258199197, 785.0208922430029), (16027.299784401126, 16152.834150824208), (9920.325556829126, 10045.859923252208), (22322.769679528385, 22448.304045951467), (507.9753327456765, 633.5096991687597), (14799.363464777114, 14924.897831200196), (7470.523050135881, 7596.057416558965), (18751.171149870457, 18876.70551629354), (14791.120183116112, 14916.654549539195), (22315.627001837274, 22441.161368260357)]\n",
    "for i, c in enumerate(x):\n",
    "    print(f'$\\I_{{{i+1}}} = ({c[0]:.0f}, {c[1]:.0f})$, ')"
   ]
  },
  {
   "cell_type": "code",
   "execution_count": null,
   "metadata": {},
   "outputs": [],
   "source": []
  }
 ],
 "metadata": {
  "kernelspec": {
   "display_name": "Python 3",
   "language": "python",
   "name": "python3"
  },
  "language_info": {
   "codemirror_mode": {
    "name": "ipython",
    "version": 3
   },
   "file_extension": ".py",
   "mimetype": "text/x-python",
   "name": "python",
   "nbconvert_exporter": "python",
   "pygments_lexer": "ipython3",
   "version": "3.8.5"
  }
 },
 "nbformat": 4,
 "nbformat_minor": 4
}
