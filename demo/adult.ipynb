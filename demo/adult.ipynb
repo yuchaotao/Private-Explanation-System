{
 "cells": [
  {
   "cell_type": "code",
   "execution_count": 1,
   "metadata": {},
   "outputs": [],
   "source": [
    "%load_ext autoreload\n",
    "%autoreload 2"
   ]
  },
  {
   "cell_type": "code",
   "execution_count": 2,
   "metadata": {},
   "outputs": [],
   "source": [
    "import sys\n",
    "sys.path.append('../')\n",
    "\n",
    "import pandas as pd\n",
    "import pprint\n",
    "\n",
    "from privex.components.basic import Schema, Dataset, GroupbyQuery, Question\n",
    "from privex.components.utils import generate_explanation_predicates\n",
    "from privex.framework.solution import ExplanationSession\n",
    "\n",
    "import logging\n",
    "logger = logging.getLogger(__name__)"
   ]
  },
  {
   "cell_type": "code",
   "execution_count": 3,
   "metadata": {},
   "outputs": [
    {
     "name": "stdout",
     "output_type": "stream",
     "text": [
      "2022-05-27 16:27:20,294 INFO     [meta_explanation_session.py:25] 103 predicates for the explanation.\n"
     ]
    }
   ],
   "source": [
    "df = pd.read_csv('../data/adult.csv')\n",
    "schema = Schema.from_json('../data/adult.json')\n",
    "dataset = Dataset(df, schema)\n",
    "gamma = 0.95\n",
    "attributes = ['education', 'occupation', 'age', 'relationship', 'race', 'workclass', 'sex', 'native-country']\n",
    "predicates = generate_explanation_predicates(attributes, schema, strategy='1-way marginal')\n",
    "#predicates = predicates[:10]\n",
    "#predicates += generate_explanation_predicates(attributes, schema, strategy='2-way marginal')\n",
    "es = ExplanationSession(dataset, gamma, predicates)"
   ]
  },
  {
   "cell_type": "code",
   "execution_count": 4,
   "metadata": {},
   "outputs": [
    {
     "name": "stdout",
     "output_type": "stream",
     "text": [
      "2022-05-27 16:27:20,565 INFO     [utils.py:141] NumExpr defaulting to 8 threads.\n",
      "submiited queries with rho = 0.1\n",
      "                   group    answer  truth (hidden)\n",
      "0          Never-married  0.045511        0.045480\n",
      "1              Separated  0.064712        0.064706\n",
      "2                Widowed  0.082854        0.084321\n",
      "3  Married-spouse-absent  0.089988        0.092357\n",
      "4               Divorced  0.101578        0.101161\n",
      "6      Married-AF-spouse  0.463193        0.378378\n",
      "5     Married-civ-spouse  0.446021        0.446133\n"
     ]
    }
   ],
   "source": [
    "# Phase 1\n",
    "groupby_query = GroupbyQuery(\n",
    "    agg = 'AVG',\n",
    "    attr_agg = 'high_income',\n",
    "    predicate = None,\n",
    "    attr_group = 'marital-status',\n",
    "    schema = schema\n",
    ")\n",
    "rho_query = 0.1\n",
    "es.phase_1_submit_query(groupby_query, rho_query, random_seed = 152636)\n",
    "print(f'submiited queries with rho = {rho_query}')\n",
    "nr = es.phase_1_show_query_results()\n",
    "nr['group'] = nr['group'].apply(lambda row: row[0])\n",
    "gt = df.groupby('marital-status').agg(answer=('high_income', 'mean')).reset_index()\n",
    "gt = gt.rename(columns={'marital-status': 'group'})\n",
    "print(nr.merge(gt, on='group').rename(columns={'answer_x':'answer', 'answer_y': 'truth (hidden)'}).sort_values('truth (hidden)'))"
   ]
  },
  {
   "cell_type": "code",
   "execution_count": 5,
   "metadata": {},
   "outputs": [
    {
     "name": "stdout",
     "output_type": "stream",
     "text": [
      "2022-05-27 16:27:21,9 INFO     [image.py:20] answers: [9982.926929253796, 22382.183312771773, 15.765188211211795, 34.03588831851936]\n",
      "2022-05-27 16:27:21,10 INFO     [image.py:21] sigmas: [3.162277660168379, 3.162277660168379, 3.162277660168379, 3.162277660168379]\n",
      "2022-05-27 16:27:21,10 INFO     [image.py:22] bounds: [(9975.028491030382, 9990.82536747721), (22374.284874548357, 22390.08175099519), (7.866749987797281, 23.66362643462631), (26.137450095104846, 41.93432654193388)]\n",
      "question:  Why AVG(high_income) WHERE `marital-status` == \"Married-AF-spouse\" >= AVG(high_income) WHERE `marital-status` == \"Married-civ-spouse\"?\n",
      "The noisy group difference is  0.01717194739104899\n",
      "The 95% confidence interval of the difference is  (-0.2589346986687564, 0.4598422551149035)\n"
     ]
    }
   ],
   "source": [
    "# Phase 2\n",
    "#question = Question.from_group_comparison(groupby_query, 'Prof-school', 'Doctorate')\n",
    "question = Question.from_group_comparison(groupby_query, ('Married-AF-spouse',), ('Married-civ-spouse',))\n",
    "es.phase_2_submit_question(question)\n",
    "es.phase_2_prepare_question_ci()\n",
    "ci = es.phase_2_show_question_ci()\n",
    "point = es.phase_2_show_question_point()\n",
    "print('question: ', question.to_natural_language())\n",
    "print('The noisy group difference is ', point)\n",
    "print(f'The {gamma*100:.0f}% confidence interval of the difference is ', ci)"
   ]
  },
  {
   "cell_type": "code",
   "execution_count": 6,
   "metadata": {},
   "outputs": [
    {
     "name": "stdout",
     "output_type": "stream",
     "text": [
      "2022-05-27 16:27:21,585 INFO     [image.py:20] answers: [733.5750581061126, 16118.723030353407, 9982.926929253796, 22382.183312771773]\n",
      "2022-05-27 16:27:21,585 INFO     [image.py:21] sigmas: [3.162277660168379, 3.162277660168379, 3.162277660168379, 3.162277660168379]\n",
      "2022-05-27 16:27:21,586 INFO     [image.py:22] bounds: [(725.6766198826981, 741.473496329527), (16110.824592129993, 16126.621468576821), (9975.028491030382, 9990.82536747721), (22374.284874548357, 22390.08175099519)]\n",
      "question:  Why AVG(high_income) WHERE `marital-status` == \"Married-civ-spouse\" >= AVG(high_income) WHERE `marital-status` == \"Never-married\"?\n",
      "The noisy group difference is  0.4005103977536667\n",
      "The 95% confidence interval of the difference is  (0.39948772348837247, 0.4015329300800539)\n"
     ]
    }
   ],
   "source": [
    "# Phase 2\n",
    "#question = Question.from_group_comparison(groupby_query, 'Prof-school', 'Doctorate')\n",
    "question = Question.from_group_comparison(groupby_query, ('Married-civ-spouse',), ('Never-married',))\n",
    "es.phase_2_submit_question(question)\n",
    "es.phase_2_prepare_question_ci()\n",
    "ci = es.phase_2_show_question_ci()\n",
    "point = es.phase_2_show_question_point()\n",
    "print('question: ', question.to_natural_language())\n",
    "print('The noisy group difference is ', point)\n",
    "print(f'The {gamma*100:.0f}% confidence interval of the difference is ', ci)"
   ]
  },
  {
   "cell_type": "code",
   "execution_count": 10,
   "metadata": {},
   "outputs": [
    {
     "name": "stdout",
     "output_type": "stream",
     "text": [
      "2022-05-27 16:38:28,809 DEBUG    [<ipython-input-10-384bf6f1463f>:3] Length of predicates is 103\n",
      "(`marital-status` == \"Never-married\")or(`marital-status` == \"Married-civ-spouse\")\n",
      "2022-05-27 16:38:28,817 INFO     [influence_function.py:24] Dataset relative to the question has length 38496\n",
      "2022-05-27 16:38:32,588 DEBUG    [meta_explanation_session.py:169] 103 predicates and their influences & scores have been loaded.\n",
      "2022-05-27 16:38:32,593 DEBUG    [meta_explanation_session.py:173] \n",
      "        influence       score\n",
      "count  103.000000  103.000000\n",
      "mean     0.000325    7.266483\n",
      "std      0.006527  146.071226\n",
      "min     -0.026839 -600.661181\n",
      "25%     -0.000606  -13.551499\n",
      "50%     -0.000017   -0.385618\n",
      "75%      0.000368    8.235890\n",
      "max      0.024788  554.765178\n",
      "2022-05-27 16:38:32,594 DEBUG    [meta_explanation_session.py:213] total rho_expl is 2.0\n",
      "2022-05-27 16:38:32,594 DEBUG    [meta_explanation_session.py:214] rho_topk is 0.05\n",
      "2022-05-27 16:38:32,594 DEBUG    [meta_explanation_session.py:215] rho_ci is 0.05\n",
      "2022-05-27 16:38:32,595 DEBUG    [meta_explanation_session.py:216] rho_rank is 1.9\n",
      "2022-05-27 16:38:32,595 INFO     [meta_explanation_session.py:225] computing top k\n",
      "2022-05-27 16:38:32,596 INFO     [noisy_topk.py:11] gumbel scale: 113.13708498984761\n",
      "2022-05-27 16:38:32,596 INFO     [noisy_topk.py:20] topk_scores: [193.60106216736756, 224.646149630511, 547.4103826579072, 501.1893892113174, 554.7651779667677]\n",
      "2022-05-27 16:38:32,596 INFO     [noisy_topk.py:21] gumbel_topk_scores: [925.010695171845, 737.0174044485973, 710.7193492989519, 700.1116028266736, 498.37676151012323]\n",
      "2022-05-27 16:38:32,597 INFO     [noisy_topk.py:31] true_topk_scores: [554.7651779667677, 547.4103826579072, 501.1893892113174, 434.2574498838566, 252.28156203781697]\n",
      "2022-05-27 16:38:32,597 INFO     [noisy_topk.py:32] gumbel_true_topk_scores: [498.37676151012323, 710.7193492989519, 700.1116028266736, 474.0231158223199, 201.5105289788038]\n",
      "2022-05-27 16:38:32,597 DEBUG    [meta_explanation_session.py:232] [`workclass` == \"Self-emp-inc\", `relationship` == \"Own-child\", `education` == \"Bachelors\", `age` == \"(40, 50]\", `occupation` == \"Exec-managerial\"]\n",
      "2022-05-27 16:38:32,598 INFO     [meta_explanation_session.py:248] computing influence ci\n"
     ]
    },
    {
     "name": "stderr",
     "output_type": "stream",
     "text": [
      "100%|██████████| 5/5 [00:00<00:00, 26.62it/s]"
     ]
    },
    {
     "name": "stdout",
     "output_type": "stream",
     "text": [
      "2022-05-27 16:38:32,787 DEBUG    [meta_explanation_session.py:259] [(-151.0609253835924, 292.42829840830456), (-98.47665861816643, 345.01256517373054), (291.01195252105214, 734.5011763129492), (127.84858892088158, 571.3378127127785), (196.51099024975343, 640.0002140416505)]\n",
      "2022-05-27 16:38:32,787 INFO     [meta_explanation_session.py:267] computing rank ci\n"
     ]
    },
    {
     "name": "stderr",
     "output_type": "stream",
     "text": [
      "\n",
      "100%|██████████| 5/5 [00:00<00:00, 8038.14it/s]"
     ]
    },
    {
     "name": "stdout",
     "output_type": "stream",
     "text": [
      "2022-05-27 16:38:32,789 DEBUG    [meta_explanation_session.py:280] [(1, 87), (1, 51), (1, 5), (1, 14), (1, 8)]\n"
     ]
    },
    {
     "name": "stderr",
     "output_type": "stream",
     "text": [
      "\n"
     ]
    },
    {
     "name": "stdout",
     "output_type": "stream",
     "text": [
      "                          predicates Rel Inf 90-CI L Rel Inf 90-CI R  Rnk 95-CI L  Rnk 95-CI R\n",
      "0         `education` == \"Bachelors\"           4.51%          11.38%            1            5\n",
      "1  `occupation` == \"Exec-managerial\"           3.04%           9.91%            1            8\n",
      "2                `age` == \"(40, 50]\"           1.98%           8.85%            1           14\n",
      "3      `relationship` == \"Own-child\"          -1.53%           5.34%            1           51\n",
      "4      `workclass` == \"Self-emp-inc\"          -2.34%           4.53%            1           87\n",
      "                          predicates  Inf 95-CI L  Inf 95-CI R  Rnk 95-CI L  Rnk 95-CI R\n",
      "0         `education` == \"Bachelors\"   291.011953   734.501176            1            5\n",
      "1  `occupation` == \"Exec-managerial\"   196.510990   640.000214            1            8\n",
      "2                `age` == \"(40, 50]\"   127.848589   571.337813            1           14\n",
      "3      `relationship` == \"Own-child\"   -98.476659   345.012565            1           51\n",
      "4      `workclass` == \"Self-emp-inc\"  -151.060925   292.428298            1           87\n"
     ]
    }
   ],
   "source": [
    "# Phase 3\n",
    "k = 5\n",
    "logger.debug(f'Length of predicates is {len(predicates)}')\n",
    "rho_expl = 2.0\n",
    "es.phase_3_submit_explanation_request()\n",
    "# es.phase_3_prepare_explanation(k, rho_expl, split_factor = 0.9, \n",
    "#                                random_seed_topk = 12532, random_seed_influci = 1001, random_seed_rankci = 1000)\n",
    "es.phase_3_prepare_explanation(k, rho_expl, split_factor = 0.9, \n",
    "                               random_seed_topk = 12527, random_seed_influci = 1001, random_seed_rankci = 1000) \n",
    "with open('adult_intermediates.pkl', 'wb') as foutp:\n",
    "    es.store_important_intermediates(foutp)\n",
    "# random_seed_topk = 12531, random_seed_influci = 1001, random_seed_rankci = 1000\n",
    "with pd.option_context('display.max_rows', None, 'display.max_columns', None, \n",
    "'display.max_colwidth', 1000, 'display.width', 1000):\n",
    "    t1, t2 = es.phase_3_show_explanation_table()\n",
    "    print(t1)\n",
    "    print(t2)"
   ]
  },
  {
   "cell_type": "code",
   "execution_count": 11,
   "metadata": {},
   "outputs": [
    {
     "name": "stdout",
     "output_type": "stream",
     "text": [
      "Positive Influences:  13\n",
      "                                topk rel-influence\n",
      "0  `occupation` == \"Exec-managerial\"         6.19%\n",
      "1         `education` == \"Bachelors\"         6.11%\n",
      "2                `age` == \"(40, 50]\"         5.59%\n",
      "3   `occupation` == \"Prof-specialty\"         4.84%\n",
      "4           `education` == \"Masters\"         2.81%\n"
     ]
    }
   ],
   "source": [
    "k = 5\n",
    "with pd.option_context('display.max_rows', None, 'display.max_columns', None, \n",
    "'display.max_colwidth', 1000, 'display.width', 1000):\n",
    "    print(es.phase_3_true_top_k(k))"
   ]
  },
  {
   "cell_type": "code",
   "execution_count": 12,
   "metadata": {},
   "outputs": [
    {
     "name": "stdout",
     "output_type": "stream",
     "text": [
      "555,\n",
      "22380.0\n",
      "501,\n",
      "22380.0\n",
      "225,\n",
      "22380.0\n",
      "434,\n",
      "22380.0\n",
      "547,\n",
      "22380.0\n"
     ]
    }
   ],
   "source": [
    "for p in es.topk_explanation_predicates:\n",
    "    x = es.predicates_with_influences_and_scores[p]\n",
    "    print(f\"{x['score']:.0f},\")\n",
    "    print(x['score'] / x['influence'])"
   ]
  },
  {
   "cell_type": "code",
   "execution_count": 13,
   "metadata": {},
   "outputs": [
    {
     "name": "stdout",
     "output_type": "stream",
     "text": [
      "0.024788435119158524 1\n",
      "0.02239452141248067 3\n",
      "0.010037808294482172 6\n",
      "0.019403818136007892 4\n",
      "0.02445980262099675 2\n"
     ]
    }
   ],
   "source": [
    "for p in es.topk_explanation_predicates:\n",
    "    influ = es.predicates_with_influences_and_scores[p]['influence']\n",
    "    rank = es.sorted_predicates.tolist().index(p) + 1\n",
    "    print(influ, rank)"
   ]
  },
  {
   "cell_type": "code",
   "execution_count": 14,
   "metadata": {},
   "outputs": [
    {
     "name": "stdout",
     "output_type": "stream",
     "text": [
      "$\\I_{1} = (659, 785)$, \n",
      "$\\I_{2} = (16027, 16153)$, \n",
      "$\\I_{3} = (9920, 10046)$, \n",
      "$\\I_{4} = (22323, 22448)$, \n",
      "$\\I_{5} = (508, 634)$, \n",
      "$\\I_{6} = (14799, 14925)$, \n",
      "$\\I_{7} = (7471, 7596)$, \n",
      "$\\I_{8} = (18751, 18877)$, \n",
      "$\\I_{9} = (14791, 14917)$, \n",
      "$\\I_{10} = (22316, 22441)$, \n"
     ]
    }
   ],
   "source": [
    "x = [(659.4865258199197, 785.0208922430029), (16027.299784401126, 16152.834150824208), (9920.325556829126, 10045.859923252208), (22322.769679528385, 22448.304045951467), (507.9753327456765, 633.5096991687597), (14799.363464777114, 14924.897831200196), (7470.523050135881, 7596.057416558965), (18751.171149870457, 18876.70551629354), (14791.120183116112, 14916.654549539195), (22315.627001837274, 22441.161368260357)]\n",
    "for i, c in enumerate(x):\n",
    "    print(f'$\\I_{{{i+1}}} = ({c[0]:.0f}, {c[1]:.0f})$, ')"
   ]
  },
  {
   "cell_type": "code",
   "execution_count": 8,
   "metadata": {},
   "outputs": [
    {
     "data": {
      "text/plain": [
       "{'QuestionCI': (0.39948772348837247, 0.4015329300800539),\n",
       " 'QuestionPoint': 0.4005103977536667,\n",
       " 'GroundQuestionPoint': 0.40065260693950855,\n",
       " 'Question': <privex.components.basic.question.Question at 0x7fbf480d23d0>,\n",
       " 'Query': AVG(high_income) WHERE None GROUP BY ['marital-status'],\n",
       " 'QueryAnswers': {AVG(high_income) WHERE `marital-status` == \"Never-married\": {'group': ('Never-married',),\n",
       "   'res': {'query_answer': {'val': 0.04551074280045054, 'sigma': None},\n",
       "    'basic_query_answers': [{'val': 733.5750581061126,\n",
       "      'sigma': 3.162277660168379},\n",
       "     {'val': 16118.723030353407, 'sigma': 3.162277660168379}]}},\n",
       "  AVG(high_income) WHERE `marital-status` == \"Married-civ-spouse\": {'group': ('Married-civ-spouse',),\n",
       "   'res': {'query_answer': {'val': 0.44602114055411723, 'sigma': None},\n",
       "    'basic_query_answers': [{'val': 9982.926929253796,\n",
       "      'sigma': 3.162277660168379},\n",
       "     {'val': 22382.183312771773, 'sigma': 3.162277660168379}]}},\n",
       "  AVG(high_income) WHERE `marital-status` == \"Widowed\": {'group': ('Widowed',),\n",
       "   'res': {'query_answer': {'val': 0.08285407555870992, 'sigma': None},\n",
       "    'basic_query_answers': [{'val': 126.50357527947361,\n",
       "      'sigma': 3.162277660168379},\n",
       "     {'val': 1526.8238095280406, 'sigma': 3.162277660168379}]}},\n",
       "  AVG(high_income) WHERE `marital-status` == \"Divorced\": {'group': ('Divorced',),\n",
       "   'res': {'query_answer': {'val': 0.10157778298074122, 'sigma': None},\n",
       "    'basic_query_answers': [{'val': 674.1228884667432,\n",
       "      'sigma': 3.162277660168379},\n",
       "     {'val': 6636.519017101944, 'sigma': 3.162277660168379}]}},\n",
       "  AVG(high_income) WHERE `marital-status` == \"Separated\": {'group': ('Separated',),\n",
       "   'res': {'query_answer': {'val': 0.06471239342067751, 'sigma': None},\n",
       "    'basic_query_answers': [{'val': 99.13733943144881,\n",
       "      'sigma': 3.162277660168379},\n",
       "     {'val': 1531.968363262106, 'sigma': 3.162277660168379}]}},\n",
       "  AVG(high_income) WHERE `marital-status` == \"Married-spouse-absent\": {'group': ('Married-spouse-absent',),\n",
       "   'res': {'query_answer': {'val': 0.08998821309584347, 'sigma': None},\n",
       "    'basic_query_answers': [{'val': 57.178822719803016,\n",
       "      'sigma': 3.162277660168379},\n",
       "     {'val': 635.4034684398472, 'sigma': 3.162277660168379}]}},\n",
       "  AVG(high_income) WHERE `marital-status` == \"Married-AF-spouse\": {'group': ('Married-AF-spouse',),\n",
       "   'res': {'query_answer': {'val': 0.4631930879451662, 'sigma': None},\n",
       "    'basic_query_answers': [{'val': 15.765188211211795,\n",
       "      'sigma': 3.162277660168379},\n",
       "     {'val': 34.03588831851936, 'sigma': 3.162277660168379}]}}},\n",
       " 'GroundQueryAnswers': {AVG(high_income) WHERE `marital-status` == \"Never-married\": {'group': ('Never-married',),\n",
       "   'res': {'query_answer': {'val': 0.045479928026307626, 'sigma': None},\n",
       "    'basic_query_answers': None}},\n",
       "  AVG(high_income) WHERE `marital-status` == \"Married-civ-spouse\": {'group': ('Married-civ-spouse',),\n",
       "   'res': {'query_answer': {'val': 0.4461325349658162, 'sigma': None},\n",
       "    'basic_query_answers': None}},\n",
       "  AVG(high_income) WHERE `marital-status` == \"Widowed\": {'group': ('Widowed',),\n",
       "   'res': {'query_answer': {'val': 0.08432147562582346, 'sigma': None},\n",
       "    'basic_query_answers': None}},\n",
       "  AVG(high_income) WHERE `marital-status` == \"Divorced\": {'group': ('Divorced',),\n",
       "   'res': {'query_answer': {'val': 0.1011608623548922, 'sigma': None},\n",
       "    'basic_query_answers': None}},\n",
       "  AVG(high_income) WHERE `marital-status` == \"Separated\": {'group': ('Separated',),\n",
       "   'res': {'query_answer': {'val': 0.06470588235294118, 'sigma': None},\n",
       "    'basic_query_answers': None}},\n",
       "  AVG(high_income) WHERE `marital-status` == \"Married-spouse-absent\": {'group': ('Married-spouse-absent',),\n",
       "   'res': {'query_answer': {'val': 0.09235668789808917, 'sigma': None},\n",
       "    'basic_query_answers': None}},\n",
       "  AVG(high_income) WHERE `marital-status` == \"Married-AF-spouse\": {'group': ('Married-AF-spouse',),\n",
       "   'res': {'query_answer': {'val': 0.3783783783783784, 'sigma': None},\n",
       "    'basic_query_answers': None}}},\n",
       " 'Topk': [`workclass` == \"Self-emp-inc\",\n",
       "  `relationship` == \"Own-child\",\n",
       "  `education` == \"Bachelors\",\n",
       "  `age` == \"(40, 50]\",\n",
       "  `occupation` == \"Exec-managerial\"],\n",
       " 'InfluCI': [(-151.0609253835924, 292.42829840830456),\n",
       "  (-98.47665861816643, 345.01256517373054),\n",
       "  (291.01195252105214, 734.5011763129492),\n",
       "  (127.84858892088158, 571.3378127127785),\n",
       "  (196.51099024975343, 640.0002140416505)],\n",
       " 'RelInfluCI': [[-0.023399561157110386, 0.04529757669164969],\n",
       "  [-0.015254180325138875, 0.0534429575236212],\n",
       "  [0.04507818261522505, 0.11377532046398513],\n",
       "  [0.01980393584712787, 0.08850107369588793],\n",
       "  [0.0304398435446952, 0.09913698139345528]],\n",
       " 'RankCI': [(1, 87), (1, 51), (1, 5), (1, 14), (1, 8)],\n",
       " 'InfluScores': {`education` == \"11th\": {'influence': -0.003751320081621726,\n",
       "   'score': -83.95454342669423},\n",
       "  `education` == \"HS-grad\": {'influence': -0.02683919484504552,\n",
       "   'score': -600.6611806321188},\n",
       "  `education` == \"Assoc-acdm\": {'influence': 0.0013914230135990092,\n",
       "   'score': 31.140047044345827},\n",
       "  `education` == \"Some-college\": {'influence': 0.003976653344411176,\n",
       "   'score': 88.99750184792211},\n",
       "  `education` == \"10th\": {'influence': -0.004060157314412686,\n",
       "   'score': -90.86632069655592},\n",
       "  `education` == \"Prof-school\": {'influence': 0.005405432840959174,\n",
       "   'score': 120.97358698066631},\n",
       "  `education` == \"7th-8th\": {'influence': -0.005832931338590222,\n",
       "   'score': -130.54100335764917},\n",
       "  `education` == \"Bachelors\": {'influence': 0.02445980262099675,\n",
       "   'score': 547.4103826579072},\n",
       "  `education` == \"Masters\": {'influence': 0.011272634586140168,\n",
       "   'score': 252.28156203781697},\n",
       "  `education` == \"Doctorate\": {'influence': 0.0032336069347654,\n",
       "   'score': 72.36812320004965},\n",
       "  `education` == \"5th-6th\": {'influence': -0.002851374345660712,\n",
       "   'score': -63.81375785588674},\n",
       "  `education` == \"Assoc-voc\": {'influence': -1.1153751147625719e-05,\n",
       "   'score': -0.24962095068386358},\n",
       "  `education` == \"9th\": {'influence': -0.0036308030884896884,\n",
       "   'score': -81.25737312039922},\n",
       "  `education` == \"12th\": {'influence': -0.0009000321787743866,\n",
       "   'score': -20.14272016097077},\n",
       "  `education` == \"1st-4th\": {'influence': -0.001439349064611906,\n",
       "   'score': -32.21263206601446},\n",
       "  `education` == \"Preschool\": {'influence': -0.00035303268363898513,\n",
       "   'score': -7.900871459840487},\n",
       "  `occupation` == \"Machine-op-inspct\": {'influence': -0.008590246468229909,\n",
       "   'score': -192.24971595898538},\n",
       "  `occupation` == \"Farming-fishing\": {'influence': -0.00705612267349302,\n",
       "   'score': -157.91602543277378},\n",
       "  `occupation` == \"Protective-serv\": {'influence': 7.70173273671075e-05,\n",
       "   'score': 1.723647786475866},\n",
       "  `occupation` == \"nan\": {'influence': 0.0, 'score': 0.0},\n",
       "  `occupation` == \"Other-service\": {'influence': -0.005250374731494012,\n",
       "   'score': -117.50338649083601},\n",
       "  `occupation` == \"Prof-specialty\": {'influence': 0.019403818136007892,\n",
       "   'score': 434.2574498838566},\n",
       "  `occupation` == \"Craft-repair\": {'influence': -0.015464712031129264,\n",
       "   'score': -346.10025525667294},\n",
       "  `occupation` == \"Adm-clerical\": {'influence': 0.00247547872211317,\n",
       "   'score': 55.40121380089275},\n",
       "  `occupation` == \"Exec-managerial\": {'influence': 0.024788435119158524,\n",
       "   'score': 554.7651779667677},\n",
       "  `occupation` == \"Tech-support\": {'influence': 0.0023890585500542984,\n",
       "   'score': 53.4671303502152},\n",
       "  `occupation` == \"Sales\": {'influence': 0.004687469750695216,\n",
       "   'score': 104.90557302055893},\n",
       "  `occupation` == \"Priv-house-serv\": {'influence': -0.00012048252363848533,\n",
       "   'score': -2.6963988790293016},\n",
       "  `occupation` == \"Transport-moving\": {'influence': -0.006891280849381346,\n",
       "   'score': -154.22686540915453},\n",
       "  `occupation` == \"Handlers-cleaners\": {'influence': -0.004127325142463659,\n",
       "   'score': -92.3695366883367},\n",
       "  `occupation` == \"Armed-Forces\": {'influence': 7.665007931944254e-05,\n",
       "   'score': 1.7154287751691242},\n",
       "  `age` == \"(20, 30]\": {'influence': -0.004703256299444712,\n",
       "   'score': -105.25887598157266},\n",
       "  `age` == \"(30, 40]\": {'influence': -0.005811081666694851,\n",
       "   'score': -130.05200770063078},\n",
       "  `age` == \"(40, 50]\": {'influence': 0.02239452141248067,\n",
       "   'score': 501.1893892113174},\n",
       "  `age` == \"(10, 20]\": {'influence': 0.006011191261760234,\n",
       "   'score': 134.53046043819404},\n",
       "  `age` == \"(60, 70]\": {'influence': -0.005583859421059531,\n",
       "   'score': -124.9667738433123},\n",
       "  `age` == \"(50, 60]\": {'influence': 0.006417338976909904,\n",
       "   'score': 143.62004630324367},\n",
       "  `age` == \"(70, 80]\": {'influence': -0.0026775940322483816,\n",
       "   'score': -59.92455444171878},\n",
       "  `age` == \"(80, 90]\": {'influence': -0.00037818121581794593,\n",
       "   'score': -8.46369561000563},\n",
       "  `relationship` == \"Own-child\": {'influence': 0.010037808294482172,\n",
       "   'score': 224.646149630511},\n",
       "  `relationship` == \"Husband\": {'influence': 0.0022968959353690008,\n",
       "   'score': 51.404531033558236},\n",
       "  `relationship` == \"Not-in-family\": {'influence': -0.013698591258707522,\n",
       "   'score': -306.57447236987434},\n",
       "  `relationship` == \"Unmarried\": {'influence': 0.0014130806103247553,\n",
       "   'score': 31.624744059068025},\n",
       "  `relationship` == \"Wife\": {'influence': 0.0019133526017720023,\n",
       "   'score': 42.820831227657415},\n",
       "  `relationship` == \"Other-relative\": {'influence': -0.0004349014457864799,\n",
       "   'score': -9.73309435670142},\n",
       "  `race` == \"Black\": {'influence': -0.0012184797589062965,\n",
       "   'score': -27.269577004322915},\n",
       "  `race` == \"White\": {'influence': 0.005294431209345895,\n",
       "   'score': 118.48937046516113},\n",
       "  `race` == \"Asian-Pac-Islander\": {'influence': 0.00036982520165910625,\n",
       "   'score': 8.276688013130798},\n",
       "  `race` == \"Other\": {'influence': -0.0008301181404464348,\n",
       "   'score': -18.57804398319121},\n",
       "  `race` == \"Amer-Indian-Eskimo\": {'influence': -0.0009944016272942055,\n",
       "   'score': -22.25470841884432},\n",
       "  `workclass` == \"Private\": {'influence': -0.0007761350948681324,\n",
       "   'score': -17.369903423148802},\n",
       "  `workclass` == \"Local-gov\": {'influence': 0.0021597082995893553,\n",
       "   'score': 48.33427174480977},\n",
       "  `workclass` == \"nan\": {'influence': 0.0, 'score': 0.0},\n",
       "  `workclass` == \"Self-emp-not-inc\": {'influence': -0.010137853432335139,\n",
       "   'score': -226.88515981566042},\n",
       "  `workclass` == \"Federal-gov\": {'influence': 0.0039915423853578635,\n",
       "   'score': 89.33071858430898},\n",
       "  `workclass` == \"State-gov\": {'influence': 0.0015543296224506168,\n",
       "   'score': 34.7858969504448},\n",
       "  `workclass` == \"Self-emp-inc\": {'influence': 0.008650628336343502,\n",
       "   'score': 193.60106216736756},\n",
       "  `workclass` == \"Without-pay\": {'influence': -0.00011010686881233907,\n",
       "   'score': -2.4641917240201483},\n",
       "  `workclass` == \"Never-worked\": {'influence': -1.256866297993246e-07,\n",
       "   'score': -0.0028128667749088843},\n",
       "  `sex` == \"Male\": {'influence': -0.0012686727112461392,\n",
       "   'score': -28.392895277688595},\n",
       "  `sex` == \"Female\": {'influence': 0.0031871043062126495,\n",
       "   'score': 71.3273943730391},\n",
       "  `native-country` == \"United-States\": {'influence': 0.006524493744572882,\n",
       "   'score': 146.0181700035411},\n",
       "  `native-country` == \"nan\": {'influence': 0.0, 'score': 0.0},\n",
       "  `native-country` == \"Peru\": {'influence': -8.075964567832567e-05,\n",
       "   'score': -1.8074008702809286},\n",
       "  `native-country` == \"Guatemala\": {'influence': -0.00023638381697626168,\n",
       "   'score': -5.290269823928736},\n",
       "  `native-country` == \"Mexico\": {'influence': -0.004827429117113333,\n",
       "   'score': -108.03786364099639},\n",
       "  `native-country` == \"Dominican-Republic\": {'influence': -0.0003593950260978327,\n",
       "   'score': -8.043260684069496},\n",
       "  `native-country` == \"Ireland\": {'influence': 1.605148024371675e-06,\n",
       "   'score': 0.035923212785438086},\n",
       "  `native-country` == \"Germany\": {'influence': 0.00028814026864257123,\n",
       "   'score': 6.448579212220744},\n",
       "  `native-country` == \"Philippines\": {'influence': 0.00036617922410037964,\n",
       "   'score': 8.195091035366497},\n",
       "  `native-country` == \"Thailand\": {'influence': -5.412228711306759e-06,\n",
       "   'score': -0.12112567855904527},\n",
       "  `native-country` == \"Haiti\": {'influence': -8.820061223525142e-05,\n",
       "   'score': -1.9739297018249267},\n",
       "  `native-country` == \"El-Salvador\": {'influence': -0.0002692747065377604,\n",
       "   'score': -6.026367932315077},\n",
       "  `native-country` == \"Puerto-Rico\": {'influence': -0.00038585920357397734,\n",
       "   'score': -8.635528975985613},\n",
       "  `native-country` == \"Vietnam\": {'influence': -0.0002704574137598292,\n",
       "   'score': -6.052836919944977},\n",
       "  `native-country` == \"South\": {'influence': -0.0002704810308224383,\n",
       "   'score': -6.053365469806169},\n",
       "  `native-country` == \"Columbia\": {'influence': -0.0003222793837698234,\n",
       "   'score': -7.212612608768647},\n",
       "  `native-country` == \"Japan\": {'influence': 0.00014331141020169265,\n",
       "   'score': 3.207309360313882},\n",
       "  `native-country` == \"India\": {'influence': 0.00010869780345317702,\n",
       "   'score': 2.4326568412821015},\n",
       "  `native-country` == \"Cambodia\": {'influence': 4.602897488060806e-05,\n",
       "   'score': 1.0301284578280083},\n",
       "  `native-country` == \"Poland\": {'influence': -0.000151093302832273,\n",
       "   'score': -3.3814681173862695},\n",
       "  `native-country` == \"Laos\": {'influence': -0.00010602734992210653,\n",
       "   'score': -2.372892091256744},\n",
       "  `native-country` == \"England\": {'influence': 0.00021090354627284133,\n",
       "   'score': 4.720021365586189},\n",
       "  `native-country` == \"Cuba\": {'influence': 2.305446272990137e-06,\n",
       "   'score': 0.051595887589519274},\n",
       "  `native-country` == \"Taiwan\": {'influence': 0.00021693627247409484,\n",
       "   'score': 4.855033777970243},\n",
       "  `native-country` == \"Italy\": {'influence': -0.0002612847920461166,\n",
       "   'score': -5.84755364599209},\n",
       "  `native-country` == \"Canada\": {'influence': 0.00031984087426450964,\n",
       "   'score': 7.158038766039725},\n",
       "  `native-country` == \"Portugal\": {'influence': -0.00028535543060746374,\n",
       "   'score': -6.386254536995039},\n",
       "  `native-country` == \"China\": {'influence': -0.00018011880780742482,\n",
       "   'score': -4.031058918730167},\n",
       "  `native-country` == \"Nicaragua\": {'influence': -0.00012116274362106473,\n",
       "   'score': -2.7116222022394285},\n",
       "  `native-country` == \"Honduras\": {'influence': 1.9125446711094646e-05,\n",
       "   'score': 0.4280274973942982},\n",
       "  `native-country` == \"Iran\": {'influence': 8.930499674822067e-05,\n",
       "   'score': 1.9986458272251788},\n",
       "  `native-country` == \"Scotland\": {'influence': -3.4835667084243544e-05,\n",
       "   'score': -0.7796222293453705},\n",
       "  `native-country` == \"Jamaica\": {'influence': 5.65385663866516e-05,\n",
       "   'score': 1.2653331157332628},\n",
       "  `native-country` == \"Ecuador\": {'influence': -0.00010044633810639792,\n",
       "   'score': -2.2479890468211856},\n",
       "  `native-country` == \"Yugoslavia\": {'influence': 5.226758075976002e-05,\n",
       "   'score': 1.1697484574034291},\n",
       "  `native-country` == \"Hungary\": {'influence': -6.719362488891945e-05,\n",
       "   'score': -1.5037933250140174},\n",
       "  `native-country` == \"Hong\": {'influence': 4.98391307703692e-06,\n",
       "   'score': 0.11153997466408627},\n",
       "  `native-country` == \"Greece\": {'influence': -0.00015529929956357798,\n",
       "   'score': -3.475598324232875},\n",
       "  `native-country` == \"Trinadad&Tobago\": {'influence': -0.0001163098309180386,\n",
       "   'score': -2.603014015945704},\n",
       "  `native-country` == \"Outlying-US(Guam-USVI-etc)\": {'influence': -1.7230451474617998e-05,\n",
       "   'score': -0.38561750400195083},\n",
       "  `native-country` == \"France\": {'influence': 0.0001663113789513701,\n",
       "   'score': 3.7220486609316628},\n",
       "  `native-country` == \"Holand-Netherlands\": {'influence': 2.0321683658029293e-06,\n",
       "   'score': 0.04547992802666956}},\n",
       " 't_phase_1': 0.06570100784301758,\n",
       " 't_phase_2': 0.003929615020751953,\n",
       " 't_phase_3_preprocessing': 3.3863377571105957,\n",
       " 't_phase_3_topk': 3.3889758586883545,\n",
       " 't_phase_3_influci': 0.1657121181488037,\n",
       " 't_phase_3_rankci': 0.002321004867553711,\n",
       " 't_phase_3': 3.557008981704712}"
      ]
     },
     "execution_count": 8,
     "metadata": {},
     "output_type": "execute_result"
    }
   ],
   "source": [
    "import pickle\n",
    "\n",
    "with open('adult_intermediates.pkl', 'rb') as finp:\n",
    "    intermediates = pickle.load(finp)\n",
    "intermediates"
   ]
  },
  {
   "cell_type": "code",
   "execution_count": null,
   "metadata": {},
   "outputs": [],
   "source": []
  }
 ],
 "metadata": {
  "kernelspec": {
   "display_name": "Python 3",
   "language": "python",
   "name": "python3"
  },
  "language_info": {
   "codemirror_mode": {
    "name": "ipython",
    "version": 3
   },
   "file_extension": ".py",
   "mimetype": "text/x-python",
   "name": "python",
   "nbconvert_exporter": "python",
   "pygments_lexer": "ipython3",
   "version": "3.8.5"
  }
 },
 "nbformat": 4,
 "nbformat_minor": 4
}
