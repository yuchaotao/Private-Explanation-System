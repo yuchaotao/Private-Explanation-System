{
 "cells": [
  {
   "cell_type": "code",
   "execution_count": 1,
   "metadata": {},
   "outputs": [],
   "source": [
    "%load_ext autoreload\n",
    "%autoreload 2"
   ]
  },
  {
   "cell_type": "code",
   "execution_count": 2,
   "metadata": {},
   "outputs": [],
   "source": [
    "import pandas as pd"
   ]
  },
  {
   "cell_type": "code",
   "execution_count": 3,
   "metadata": {},
   "outputs": [],
   "source": [
    "df = pd.read_csv('../data/adult.csv')"
   ]
  },
  {
   "cell_type": "code",
   "execution_count": 4,
   "metadata": {},
   "outputs": [
    {
     "data": {
      "text/html": [
       "<div>\n",
       "<style scoped>\n",
       "    .dataframe tbody tr th:only-of-type {\n",
       "        vertical-align: middle;\n",
       "    }\n",
       "\n",
       "    .dataframe tbody tr th {\n",
       "        vertical-align: top;\n",
       "    }\n",
       "\n",
       "    .dataframe thead th {\n",
       "        text-align: right;\n",
       "    }\n",
       "</style>\n",
       "<table border=\"1\" class=\"dataframe\">\n",
       "  <thead>\n",
       "    <tr style=\"text-align: right;\">\n",
       "      <th></th>\n",
       "      <th>ratio</th>\n",
       "      <th>cnt</th>\n",
       "    </tr>\n",
       "    <tr>\n",
       "      <th>education</th>\n",
       "      <th></th>\n",
       "      <th></th>\n",
       "    </tr>\n",
       "  </thead>\n",
       "  <tbody>\n",
       "    <tr>\n",
       "      <th>Preschool</th>\n",
       "      <td>0.012048</td>\n",
       "      <td>83</td>\n",
       "    </tr>\n",
       "    <tr>\n",
       "      <th>1st-4th</th>\n",
       "      <td>0.032389</td>\n",
       "      <td>247</td>\n",
       "    </tr>\n",
       "    <tr>\n",
       "      <th>11th</th>\n",
       "      <td>0.050773</td>\n",
       "      <td>1812</td>\n",
       "    </tr>\n",
       "    <tr>\n",
       "      <th>5th-6th</th>\n",
       "      <td>0.053045</td>\n",
       "      <td>509</td>\n",
       "    </tr>\n",
       "    <tr>\n",
       "      <th>9th</th>\n",
       "      <td>0.054233</td>\n",
       "      <td>756</td>\n",
       "    </tr>\n",
       "    <tr>\n",
       "      <th>10th</th>\n",
       "      <td>0.062635</td>\n",
       "      <td>1389</td>\n",
       "    </tr>\n",
       "    <tr>\n",
       "      <th>7th-8th</th>\n",
       "      <td>0.064921</td>\n",
       "      <td>955</td>\n",
       "    </tr>\n",
       "    <tr>\n",
       "      <th>12th</th>\n",
       "      <td>0.073059</td>\n",
       "      <td>657</td>\n",
       "    </tr>\n",
       "    <tr>\n",
       "      <th>HS-grad</th>\n",
       "      <td>0.158578</td>\n",
       "      <td>15784</td>\n",
       "    </tr>\n",
       "    <tr>\n",
       "      <th>Some-college</th>\n",
       "      <td>0.189649</td>\n",
       "      <td>10878</td>\n",
       "    </tr>\n",
       "    <tr>\n",
       "      <th>Assoc-voc</th>\n",
       "      <td>0.253275</td>\n",
       "      <td>2061</td>\n",
       "    </tr>\n",
       "    <tr>\n",
       "      <th>Assoc-acdm</th>\n",
       "      <td>0.257964</td>\n",
       "      <td>1601</td>\n",
       "    </tr>\n",
       "    <tr>\n",
       "      <th>Bachelors</th>\n",
       "      <td>0.412835</td>\n",
       "      <td>8025</td>\n",
       "    </tr>\n",
       "    <tr>\n",
       "      <th>Masters</th>\n",
       "      <td>0.549116</td>\n",
       "      <td>2657</td>\n",
       "    </tr>\n",
       "    <tr>\n",
       "      <th>Doctorate</th>\n",
       "      <td>0.725589</td>\n",
       "      <td>594</td>\n",
       "    </tr>\n",
       "    <tr>\n",
       "      <th>Prof-school</th>\n",
       "      <td>0.739808</td>\n",
       "      <td>834</td>\n",
       "    </tr>\n",
       "  </tbody>\n",
       "</table>\n",
       "</div>"
      ],
      "text/plain": [
       "                 ratio    cnt\n",
       "education                    \n",
       "Preschool     0.012048     83\n",
       "1st-4th       0.032389    247\n",
       "11th          0.050773   1812\n",
       "5th-6th       0.053045    509\n",
       "9th           0.054233    756\n",
       "10th          0.062635   1389\n",
       "7th-8th       0.064921    955\n",
       "12th          0.073059    657\n",
       "HS-grad       0.158578  15784\n",
       "Some-college  0.189649  10878\n",
       "Assoc-voc     0.253275   2061\n",
       "Assoc-acdm    0.257964   1601\n",
       "Bachelors     0.412835   8025\n",
       "Masters       0.549116   2657\n",
       "Doctorate     0.725589    594\n",
       "Prof-school   0.739808    834"
      ]
     },
     "execution_count": 4,
     "metadata": {},
     "output_type": "execute_result"
    }
   ],
   "source": [
    "df.groupby('education').agg(ratio=('high_income', 'mean'), cnt=('high_income', 'count')).sort_values('ratio')"
   ]
  },
  {
   "cell_type": "code",
   "execution_count": null,
   "metadata": {},
   "outputs": [],
   "source": []
  },
  {
   "cell_type": "code",
   "execution_count": 3,
   "metadata": {},
   "outputs": [],
   "source": [
    "import sys\n",
    "sys.path.append('../')\n",
    "\n",
    "import pandas as pd\n",
    "import pprint\n",
    "\n",
    "from privex.components.basic import Schema, Dataset, GroupbyQuery, Question\n",
    "from privex.components.utils import generate_explanation_predicates\n",
    "from privex.framework.solution import ExplanationSession\n",
    "\n",
    "import logging\n",
    "logger = logging.getLogger(__name__)"
   ]
  },
  {
   "cell_type": "code",
   "execution_count": 4,
   "metadata": {},
   "outputs": [
    {
     "name": "stdout",
     "output_type": "stream",
     "text": [
      "2022-05-07 22:12:45,752 INFO     [meta_explanation_session.py:25] 103 predicates for the explanation.\n"
     ]
    }
   ],
   "source": [
    "df = pd.read_csv('../data/adult.csv')\n",
    "schema = Schema.from_json('../data/adult.json')\n",
    "dataset = Dataset(df, schema)\n",
    "gamma = 0.95\n",
    "attributes = ['education', 'occupation', 'age', 'relationship', 'race', 'workclass', 'sex', 'native-country']\n",
    "predicates = generate_explanation_predicates(attributes, schema, strategy='1-way marginal')\n",
    "#predicates = predicates[:10]\n",
    "#predicates += generate_explanation_predicates(attributes, schema, strategy='2-way marginal')\n",
    "es = ExplanationSession(dataset, gamma, predicates)"
   ]
  },
  {
   "cell_type": "code",
   "execution_count": 5,
   "metadata": {},
   "outputs": [
    {
     "name": "stdout",
     "output_type": "stream",
     "text": [
      "2022-05-07 22:12:49,682 INFO     [utils.py:141] NumExpr defaulting to 8 threads.\n",
      "submiited queries with rho = 0.1\n",
      "                   group    answer  truth (hidden)\n",
      "0          Never-married  0.045511        0.045480\n",
      "1              Separated  0.064712        0.064706\n",
      "2                Widowed  0.082854        0.084321\n",
      "3  Married-spouse-absent  0.089988        0.092357\n",
      "4               Divorced  0.101578        0.101161\n",
      "6      Married-AF-spouse  0.463193        0.378378\n",
      "5     Married-civ-spouse  0.446021        0.446133\n"
     ]
    }
   ],
   "source": [
    "# Phase 1\n",
    "groupby_query = GroupbyQuery(\n",
    "    agg = 'AVG',\n",
    "    attr_agg = 'high_income',\n",
    "    predicate = None,\n",
    "    attr_group = 'marital-status',\n",
    "    schema = schema\n",
    ")\n",
    "rho_query = 0.1\n",
    "es.phase_1_submit_query(groupby_query, rho_query, random_seed = 152636)\n",
    "print(f'submiited queries with rho = {rho_query}')\n",
    "nr = es.phase_1_show_query_results()\n",
    "nr['group'] = nr['group'].apply(lambda row: row[0])\n",
    "gt = df.groupby('marital-status').agg(answer=('high_income', 'mean')).reset_index()\n",
    "gt = gt.rename(columns={'marital-status': 'group'})\n",
    "print(nr.merge(gt, on='group').rename(columns={'answer_x':'answer', 'answer_y': 'truth (hidden)'}).sort_values('truth (hidden)'))"
   ]
  },
  {
   "cell_type": "code",
   "execution_count": 6,
   "metadata": {},
   "outputs": [
    {
     "name": "stdout",
     "output_type": "stream",
     "text": [
      "2022-05-07 22:12:51,956 INFO     [image.py:20] answers: [9982.926929253796, 22382.183312771773, 15.765188211211795, 34.03588831851936]\n",
      "2022-05-07 22:12:51,957 INFO     [image.py:21] sigmas: [3.162277660168379, 3.162277660168379, 3.162277660168379, 3.162277660168379]\n",
      "2022-05-07 22:12:51,957 INFO     [image.py:22] bounds: [(9975.028491030382, 9990.82536747721), (22374.284874548357, 22390.08175099519), (7.866749987797281, 23.66362643462631), (26.137450095104846, 41.93432654193388)]\n",
      "question:  Why AVG(high_income) WHERE `marital-status` == \"Married-AF-spouse\" >= AVG(high_income) WHERE `marital-status` == \"Married-civ-spouse\"?\n",
      "The noisy group difference is  0.01717194739104899\n",
      "The 95% confidence interval of the difference is  (-0.2589346986687564, 0.4598422551149035)\n"
     ]
    }
   ],
   "source": [
    "# Phase 2\n",
    "#question = Question.from_group_comparison(groupby_query, 'Prof-school', 'Doctorate')\n",
    "question = Question.from_group_comparison(groupby_query, ('Married-AF-spouse',), ('Married-civ-spouse',))\n",
    "es.phase_2_submit_question(question)\n",
    "es.phase_2_prepare_question_ci()\n",
    "ci = es.phase_2_show_question_ci()\n",
    "point = es.phase_2_show_question_point()\n",
    "print('question: ', question.to_natural_language())\n",
    "print('The noisy group difference is ', point)\n",
    "print(f'The {gamma*100:.0f}% confidence interval of the difference is ', ci)"
   ]
  },
  {
   "cell_type": "code",
   "execution_count": 7,
   "metadata": {},
   "outputs": [
    {
     "name": "stdout",
     "output_type": "stream",
     "text": [
      "2022-05-07 22:12:54,948 INFO     [image.py:20] answers: [733.5750581061126, 16118.723030353407, 9982.926929253796, 22382.183312771773]\n",
      "2022-05-07 22:12:54,948 INFO     [image.py:21] sigmas: [3.162277660168379, 3.162277660168379, 3.162277660168379, 3.162277660168379]\n",
      "2022-05-07 22:12:54,948 INFO     [image.py:22] bounds: [(725.6766198826981, 741.473496329527), (16110.824592129993, 16126.621468576821), (9975.028491030382, 9990.82536747721), (22374.284874548357, 22390.08175099519)]\n",
      "question:  Why AVG(high_income) WHERE `marital-status` == \"Married-civ-spouse\" >= AVG(high_income) WHERE `marital-status` == \"Never-married\"?\n",
      "The noisy group difference is  0.4005103977536667\n",
      "The 95% confidence interval of the difference is  (0.39948772348837247, 0.4015329300800539)\n"
     ]
    }
   ],
   "source": [
    "# Phase 2\n",
    "#question = Question.from_group_comparison(groupby_query, 'Prof-school', 'Doctorate')\n",
    "question = Question.from_group_comparison(groupby_query, ('Married-civ-spouse',), ('Never-married',))\n",
    "es.phase_2_submit_question(question)\n",
    "es.phase_2_prepare_question_ci()\n",
    "ci = es.phase_2_show_question_ci()\n",
    "point = es.phase_2_show_question_point()\n",
    "print('question: ', question.to_natural_language())\n",
    "print('The noisy group difference is ', point)\n",
    "print(f'The {gamma*100:.0f}% confidence interval of the difference is ', ci)"
   ]
  },
  {
   "cell_type": "code",
   "execution_count": 37,
   "metadata": {},
   "outputs": [
    {
     "name": "stdout",
     "output_type": "stream",
     "text": [
      "2022-05-25 16:16:37,315 DEBUG    [<ipython-input-37-7a20d1e6b6df>:3] Length of predicates is 103\n",
      "(`marital-status` == \"Never-married\")or(`marital-status` == \"Married-civ-spouse\")\n",
      "2022-05-25 16:16:37,322 INFO     [influence_function.py:24] Dataset relative to the question has length 38496\n",
      "2022-05-25 16:16:40,633 DEBUG    [meta_explanation_session.py:169] 103 predicates and their influences & scores have been loaded.\n",
      "2022-05-25 16:16:40,639 DEBUG    [meta_explanation_session.py:173] \n",
      "        influence       score\n",
      "count  103.000000  103.000000\n",
      "mean     0.000325    7.266483\n",
      "std      0.006527  146.071226\n",
      "min     -0.026839 -600.661181\n",
      "25%     -0.000606  -13.551499\n",
      "50%     -0.000017   -0.385618\n",
      "75%      0.000368    8.235890\n",
      "max      0.024788  554.765178\n",
      "2022-05-25 16:16:40,639 DEBUG    [meta_explanation_session.py:213] total rho_expl is 2.0\n",
      "2022-05-25 16:16:40,639 DEBUG    [meta_explanation_session.py:214] rho_topk is 0.05\n",
      "2022-05-25 16:16:40,640 DEBUG    [meta_explanation_session.py:215] rho_ci is 0.05\n",
      "2022-05-25 16:16:40,640 DEBUG    [meta_explanation_session.py:216] rho_rank is 1.9\n",
      "2022-05-25 16:16:40,640 INFO     [meta_explanation_session.py:225] computing top k\n",
      "2022-05-25 16:16:40,641 INFO     [noisy_topk.py:11] gumbel scale: 113.13708498984761\n",
      "2022-05-25 16:16:40,642 INFO     [noisy_topk.py:20] topk_scores: [193.60106216736756, 224.646149630511, 547.4103826579072, 501.1893892113174, 554.7651779667677]\n",
      "2022-05-25 16:16:40,642 INFO     [noisy_topk.py:21] gumbel_topk_scores: [925.010695171845, 737.0174044485973, 710.7193492989519, 700.1116028266736, 498.37676151012323]\n",
      "2022-05-25 16:16:40,643 INFO     [noisy_topk.py:31] true_topk_scores: [554.7651779667677, 547.4103826579072, 501.1893892113174, 434.2574498838566, 252.28156203781697]\n",
      "2022-05-25 16:16:40,643 INFO     [noisy_topk.py:32] gumbel_true_topk_scores: [498.37676151012323, 710.7193492989519, 700.1116028266736, 474.0231158223199, 201.5105289788038]\n",
      "2022-05-25 16:16:40,643 DEBUG    [meta_explanation_session.py:232] [`workclass` == \"Self-emp-inc\", `relationship` == \"Own-child\", `education` == \"Bachelors\", `age` == \"(40, 50]\", `occupation` == \"Exec-managerial\"]\n",
      "2022-05-25 16:16:40,643 INFO     [meta_explanation_session.py:248] computing influence ci\n"
     ]
    },
    {
     "name": "stderr",
     "output_type": "stream",
     "text": [
      "100%|██████████| 5/5 [00:00<00:00, 30.95it/s]"
     ]
    },
    {
     "name": "stdout",
     "output_type": "stream",
     "text": [
      "2022-05-25 16:16:40,806 DEBUG    [meta_explanation_session.py:259] [(-151.0609253835924, 292.42829840830456), (-98.47665861816643, 345.01256517373054), (291.01195252105214, 734.5011763129492), (127.84858892088158, 571.3378127127785), (196.51099024975343, 640.0002140416505)]\n",
      "2022-05-25 16:16:40,806 INFO     [meta_explanation_session.py:267] computing rank ci\n"
     ]
    },
    {
     "name": "stderr",
     "output_type": "stream",
     "text": [
      "\n",
      "100%|██████████| 5/5 [00:00<00:00, 7758.61it/s]"
     ]
    },
    {
     "name": "stdout",
     "output_type": "stream",
     "text": [
      "2022-05-25 16:16:40,808 DEBUG    [meta_explanation_session.py:280] [(1, 87), (1, 51), (1, 5), (1, 14), (1, 8)]\n",
      "                          predicates Rel Inf 90-CI L Rel Inf 90-CI R  Rnk 95-CI L  Rnk 95-CI R\n",
      "0         `education` == \"Bachelors\"           3.25%           8.19%            1            5\n",
      "1  `occupation` == \"Exec-managerial\"           2.19%           7.14%            1            8\n",
      "2                `age` == \"(40, 50]\"           1.43%           6.37%            1           14\n",
      "3      `relationship` == \"Own-child\"          -1.10%           3.85%            1           51\n",
      "4      `workclass` == \"Self-emp-inc\"          -1.69%           3.26%            1           87\n",
      "                          predicates  Inf 95-CI L  Inf 95-CI R  Rnk 95-CI L  Rnk 95-CI R\n",
      "0         `education` == \"Bachelors\"   291.011953   734.501176            1            5\n",
      "1  `occupation` == \"Exec-managerial\"   196.510990   640.000214            1            8\n",
      "2                `age` == \"(40, 50]\"   127.848589   571.337813            1           14\n",
      "3      `relationship` == \"Own-child\"   -98.476659   345.012565            1           51\n",
      "4      `workclass` == \"Self-emp-inc\"  -151.060925   292.428298            1           87\n"
     ]
    },
    {
     "name": "stderr",
     "output_type": "stream",
     "text": [
      "\n"
     ]
    }
   ],
   "source": [
    "# Phase 3\n",
    "k = 5\n",
    "logger.debug(f'Length of predicates is {len(predicates)}')\n",
    "rho_expl = 2.0\n",
    "es.phase_3_submit_explanation_request()\n",
    "# es.phase_3_prepare_explanation(k, rho_expl, split_factor = 0.9, \n",
    "#                                random_seed_topk = 12532, random_seed_influci = 1001, random_seed_rankci = 1000)\n",
    "es.phase_3_prepare_explanation(k, rho_expl, split_factor = 0.9, \n",
    "                               random_seed_topk = 12527, random_seed_influci = 1001, random_seed_rankci = 1000) \n",
    "# random_seed_topk = 12531, random_seed_influci = 1001, random_seed_rankci = 1000\n",
    "with pd.option_context('display.max_rows', None, 'display.max_columns', None, \n",
    "'display.max_colwidth', 1000, 'display.width', 1000):\n",
    "    t1, t2 = es.phase_3_show_explanation_table()\n",
    "    print(t1)\n",
    "    print(t2)"
   ]
  },
  {
   "cell_type": "code",
   "execution_count": 22,
   "metadata": {},
   "outputs": [
    {
     "name": "stdout",
     "output_type": "stream",
     "text": [
      "                          predicates Rel Inf 90-CI L Rel Inf 90-CI R  Rnk 95-CI L  Rnk 95-CI R\n",
      "0  `occupation` == \"Exec-managerial\"           3.33%           8.28%            1            5\n",
      "1         `education` == \"Bachelors\"           2.26%           7.21%            1            9\n",
      "2                `age` == \"(40, 50]\"           1.99%           6.93%            1            8\n",
      "3   `occupation` == \"Prof-specialty\"           0.68%           5.63%            1           18\n",
      "4                  `race` == \"White\"          -2.67%           2.27%            1           99\n",
      "                          predicates  Inf 95-CI L  Inf 95-CI R  Rnk 95-CI L  Rnk 95-CI R\n",
      "0  `occupation` == \"Exec-managerial\"   298.366748   741.855972            1            5\n",
      "1         `education` == \"Bachelors\"   202.748395   646.237619            1            9\n",
      "2                `age` == \"(40, 50]\"   178.066581   621.555805            1            8\n",
      "3   `occupation` == \"Prof-specialty\"    60.916650   504.405873            1           18\n",
      "4                  `race` == \"White\"  -239.764817   203.724407            1           99\n"
     ]
    }
   ],
   "source": [
    "with pd.option_context('display.max_rows', None, 'display.max_columns', None, \n",
    "'display.max_colwidth', 1000, 'display.width', 1000):\n",
    "    t1, t2 = es.phase_3_show_explanation_table()\n",
    "    print(t1)\n",
    "    print(t2)"
   ]
  },
  {
   "cell_type": "code",
   "execution_count": 11,
   "metadata": {},
   "outputs": [
    {
     "name": "stdout",
     "output_type": "stream",
     "text": [
      "Positive Influences:  13\n",
      "                                topk rel-influence\n",
      "0  `occupation` == \"Exec-managerial\"         6.19%\n",
      "1         `education` == \"Bachelors\"         6.11%\n",
      "2                `age` == \"(40, 50]\"         5.59%\n",
      "3   `occupation` == \"Prof-specialty\"         4.84%\n",
      "4           `education` == \"Masters\"         2.81%\n"
     ]
    }
   ],
   "source": [
    "k = 5\n",
    "with pd.option_context('display.max_rows', None, 'display.max_columns', None, \n",
    "'display.max_colwidth', 1000, 'display.width', 1000):\n",
    "    print(es.phase_3_true_top_k(k))"
   ]
  },
  {
   "cell_type": "code",
   "execution_count": 12,
   "metadata": {},
   "outputs": [
    {
     "name": "stdout",
     "output_type": "stream",
     "text": [
      "555,\n",
      "22380.0\n",
      "501,\n",
      "22380.0\n",
      "225,\n",
      "22380.0\n",
      "434,\n",
      "22380.0\n",
      "547,\n",
      "22380.0\n"
     ]
    }
   ],
   "source": [
    "for p in es.topk_explanation_predicates:\n",
    "    x = es.predicates_with_influences_and_scores[p]\n",
    "    print(f\"{x['score']:.0f},\")\n",
    "    print(x['score'] / x['influence'])"
   ]
  },
  {
   "cell_type": "code",
   "execution_count": 13,
   "metadata": {},
   "outputs": [
    {
     "name": "stdout",
     "output_type": "stream",
     "text": [
      "0.024788435119158524 1\n",
      "0.02239452141248067 3\n",
      "0.010037808294482172 6\n",
      "0.019403818136007892 4\n",
      "0.02445980262099675 2\n"
     ]
    }
   ],
   "source": [
    "for p in es.topk_explanation_predicates:\n",
    "    influ = es.predicates_with_influences_and_scores[p]['influence']\n",
    "    rank = es.sorted_predicates.tolist().index(p) + 1\n",
    "    print(influ, rank)"
   ]
  },
  {
   "cell_type": "code",
   "execution_count": 14,
   "metadata": {},
   "outputs": [
    {
     "name": "stdout",
     "output_type": "stream",
     "text": [
      "$\\I_{1} = (659, 785)$, \n",
      "$\\I_{2} = (16027, 16153)$, \n",
      "$\\I_{3} = (9920, 10046)$, \n",
      "$\\I_{4} = (22323, 22448)$, \n",
      "$\\I_{5} = (508, 634)$, \n",
      "$\\I_{6} = (14799, 14925)$, \n",
      "$\\I_{7} = (7471, 7596)$, \n",
      "$\\I_{8} = (18751, 18877)$, \n",
      "$\\I_{9} = (14791, 14917)$, \n",
      "$\\I_{10} = (22316, 22441)$, \n"
     ]
    }
   ],
   "source": [
    "x = [(659.4865258199197, 785.0208922430029), (16027.299784401126, 16152.834150824208), (9920.325556829126, 10045.859923252208), (22322.769679528385, 22448.304045951467), (507.9753327456765, 633.5096991687597), (14799.363464777114, 14924.897831200196), (7470.523050135881, 7596.057416558965), (18751.171149870457, 18876.70551629354), (14791.120183116112, 14916.654549539195), (22315.627001837274, 22441.161368260357)]\n",
    "for i, c in enumerate(x):\n",
    "    print(f'$\\I_{{{i+1}}} = ({c[0]:.0f}, {c[1]:.0f})$, ')"
   ]
  },
  {
   "cell_type": "code",
   "execution_count": null,
   "metadata": {},
   "outputs": [],
   "source": []
  }
 ],
 "metadata": {
  "kernelspec": {
   "display_name": "Python 3",
   "language": "python",
   "name": "python3"
  },
  "language_info": {
   "codemirror_mode": {
    "name": "ipython",
    "version": 3
   },
   "file_extension": ".py",
   "mimetype": "text/x-python",
   "name": "python",
   "nbconvert_exporter": "python",
   "pygments_lexer": "ipython3",
   "version": "3.8.5"
  }
 },
 "nbformat": 4,
 "nbformat_minor": 4
}
