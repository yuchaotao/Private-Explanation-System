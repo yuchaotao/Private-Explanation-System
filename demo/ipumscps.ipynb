{
 "cells": [
  {
   "cell_type": "code",
   "execution_count": null,
   "metadata": {},
   "outputs": [],
   "source": [
    "%load_ext autoreload\n",
    "%autoreload 2"
   ]
  },
  {
   "cell_type": "code",
   "execution_count": 2,
   "metadata": {},
   "outputs": [],
   "source": [
    "import pandas as pd"
   ]
  },
  {
   "cell_type": "code",
   "execution_count": 3,
   "metadata": {},
   "outputs": [],
   "source": [
    "ipums = pd.read_csv('../data/ipums/ipumscps.csv')"
   ]
  },
  {
   "cell_type": "code",
   "execution_count": 4,
   "metadata": {},
   "outputs": [],
   "source": [
    "df = ipums.sample(frac=0.2)"
   ]
  },
  {
   "cell_type": "code",
   "execution_count": 5,
   "metadata": {},
   "outputs": [
    {
     "data": {
      "text/plain": [
       "229310"
      ]
     },
     "execution_count": 5,
     "metadata": {},
     "output_type": "execute_result"
    }
   ],
   "source": [
    "len(df)"
   ]
  },
  {
   "cell_type": "code",
   "execution_count": 6,
   "metadata": {},
   "outputs": [
    {
     "data": {
      "text/html": [
       "<div>\n",
       "<style scoped>\n",
       "    .dataframe tbody tr th:only-of-type {\n",
       "        vertical-align: middle;\n",
       "    }\n",
       "\n",
       "    .dataframe tbody tr th {\n",
       "        vertical-align: top;\n",
       "    }\n",
       "\n",
       "    .dataframe thead th {\n",
       "        text-align: right;\n",
       "    }\n",
       "</style>\n",
       "<table border=\"1\" class=\"dataframe\">\n",
       "  <thead>\n",
       "    <tr style=\"text-align: right;\">\n",
       "      <th></th>\n",
       "      <th>ratio</th>\n",
       "      <th>cnt</th>\n",
       "    </tr>\n",
       "    <tr>\n",
       "      <th>EDUC</th>\n",
       "      <th></th>\n",
       "      <th></th>\n",
       "    </tr>\n",
       "  </thead>\n",
       "  <tbody>\n",
       "    <tr>\n",
       "      <th>Grade 10</th>\n",
       "      <td>14634.251852</td>\n",
       "      <td>5535</td>\n",
       "    </tr>\n",
       "    <tr>\n",
       "      <th>Grade 11</th>\n",
       "      <td>15313.941323</td>\n",
       "      <td>6817</td>\n",
       "    </tr>\n",
       "    <tr>\n",
       "      <th>Grade 9</th>\n",
       "      <td>15563.616831</td>\n",
       "      <td>4575</td>\n",
       "    </tr>\n",
       "    <tr>\n",
       "      <th>None or preschool</th>\n",
       "      <td>16940.367898</td>\n",
       "      <td>704</td>\n",
       "    </tr>\n",
       "    <tr>\n",
       "      <th>Grades 7 or 8</th>\n",
       "      <td>17849.437004</td>\n",
       "      <td>4286</td>\n",
       "    </tr>\n",
       "    <tr>\n",
       "      <th>Grades 1, 2, 3, or 4</th>\n",
       "      <td>18830.799750</td>\n",
       "      <td>1603</td>\n",
       "    </tr>\n",
       "    <tr>\n",
       "      <th>Grades 5 or 6</th>\n",
       "      <td>20263.133229</td>\n",
       "      <td>3205</td>\n",
       "    </tr>\n",
       "    <tr>\n",
       "      <th>12th grade, no diploma</th>\n",
       "      <td>21475.321429</td>\n",
       "      <td>3304</td>\n",
       "    </tr>\n",
       "    <tr>\n",
       "      <th>High school diploma or equivalent</th>\n",
       "      <td>29897.164417</td>\n",
       "      <td>65425</td>\n",
       "    </tr>\n",
       "    <tr>\n",
       "      <th>Some college but no degree</th>\n",
       "      <td>32426.085508</td>\n",
       "      <td>43025</td>\n",
       "    </tr>\n",
       "    <tr>\n",
       "      <th>Associate's degree, occupational/vocational program</th>\n",
       "      <td>39336.546850</td>\n",
       "      <td>9904</td>\n",
       "    </tr>\n",
       "    <tr>\n",
       "      <th>Associate's degree, academic program</th>\n",
       "      <td>39793.761540</td>\n",
       "      <td>12652</td>\n",
       "    </tr>\n",
       "    <tr>\n",
       "      <th>Bachelor's degree</th>\n",
       "      <td>53643.329619</td>\n",
       "      <td>44063</td>\n",
       "    </tr>\n",
       "    <tr>\n",
       "      <th>Master's degree</th>\n",
       "      <td>64638.102485</td>\n",
       "      <td>18188</td>\n",
       "    </tr>\n",
       "    <tr>\n",
       "      <th>Doctorate degree</th>\n",
       "      <td>79326.028739</td>\n",
       "      <td>3410</td>\n",
       "    </tr>\n",
       "    <tr>\n",
       "      <th>Professional school degree</th>\n",
       "      <td>80045.446060</td>\n",
       "      <td>2614</td>\n",
       "    </tr>\n",
       "  </tbody>\n",
       "</table>\n",
       "</div>"
      ],
      "text/plain": [
       "                                                           ratio    cnt\n",
       "EDUC                                                                   \n",
       "Grade 10                                            14634.251852   5535\n",
       "Grade 11                                            15313.941323   6817\n",
       "Grade 9                                             15563.616831   4575\n",
       "None or preschool                                   16940.367898    704\n",
       "Grades 7 or 8                                       17849.437004   4286\n",
       "Grades 1, 2, 3, or 4                                18830.799750   1603\n",
       "Grades 5 or 6                                       20263.133229   3205\n",
       "12th grade, no diploma                              21475.321429   3304\n",
       "High school diploma or equivalent                   29897.164417  65425\n",
       "Some college but no degree                          32426.085508  43025\n",
       "Associate's degree, occupational/vocational pro...  39336.546850   9904\n",
       "Associate's degree, academic program                39793.761540  12652\n",
       "Bachelor's degree                                   53643.329619  44063\n",
       "Master's degree                                     64638.102485  18188\n",
       "Doctorate degree                                    79326.028739   3410\n",
       "Professional school degree                          80045.446060   2614"
      ]
     },
     "execution_count": 6,
     "metadata": {},
     "output_type": "execute_result"
    }
   ],
   "source": [
    "df.groupby('EDUC').agg(ratio=('INCTOT', 'mean'), cnt=('INCTOT', 'count')).sort_values('ratio')"
   ]
  },
  {
   "cell_type": "code",
   "execution_count": 7,
   "metadata": {},
   "outputs": [],
   "source": [
    "import sys\n",
    "sys.path.append('../')\n",
    "\n",
    "import pandas as pd\n",
    "import pprint\n",
    "\n",
    "from privex.components.basic import Schema, Dataset, GroupbyQuery, Question\n",
    "from privex.components.utils import generate_explanation_predicates\n",
    "from privex.framework.solution import ExplanationSession\n",
    "\n",
    "import logging\n",
    "logger = logging.getLogger(__name__)"
   ]
  },
  {
   "cell_type": "code",
   "execution_count": 8,
   "metadata": {},
   "outputs": [],
   "source": [
    "ipums = pd.read_csv('../data/ipums/ipumscps.csv')"
   ]
  },
  {
   "cell_type": "code",
   "execution_count": 9,
   "metadata": {},
   "outputs": [
    {
     "name": "stdout",
     "output_type": "stream",
     "text": [
      "1146552\n",
      "2022-05-27 16:32:34,540 INFO     [meta_explanation_session.py:25] 111 predicates for the explanation.\n"
     ]
    }
   ],
   "source": [
    "df = ipums.sample(frac=1)\n",
    "print(len(df))\n",
    "schema = Schema.from_json('../data/ipums/ipumscps.json')\n",
    "dataset = Dataset(df, schema)\n",
    "gamma = 0.95\n",
    "attributes = ['RELATE', 'SEX', 'RACE', 'CITIZEN', 'CLASSWKR', 'EDUC']#, 'OCC']\n",
    "predicates = generate_explanation_predicates(attributes, schema, strategy='1-way marginal')\n",
    "#predicates = predicates[:10]\n",
    "#predicates += generate_explanation_predicates(attributes, schema, strategy='2-way marginal')\n",
    "es = ExplanationSession(dataset, gamma, predicates, random_seed = 152636)"
   ]
  },
  {
   "cell_type": "code",
   "execution_count": 10,
   "metadata": {},
   "outputs": [
    {
     "name": "stdout",
     "output_type": "stream",
     "text": [
      "2022-05-27 16:32:34,561 INFO     [utils.py:141] NumExpr defaulting to 8 threads.\n",
      "submiited queries with rho = 0.1\n",
      "    group        answer  truth (hidden)\n",
      "0  Female  31135.246992    31135.778443\n",
      "1    Male  45778.457476    45778.392514\n"
     ]
    }
   ],
   "source": [
    "# Phase 1\n",
    "groupby_query = GroupbyQuery(\n",
    "    agg = 'AVG',\n",
    "    attr_agg = 'INCTOT',\n",
    "    predicate = None,\n",
    "    attr_group = 'SEX',\n",
    "    schema = schema\n",
    ")\n",
    "rho_query = 0.1\n",
    "es.phase_1_submit_query(groupby_query, rho_query)\n",
    "print(f'submiited queries with rho = {rho_query}')\n",
    "nr = es.phase_1_show_query_results()\n",
    "nr['group'] = nr['group'].apply(lambda row: row[0])\n",
    "gt = df.groupby('SEX').agg(answer=('INCTOT', 'mean')).reset_index()\n",
    "gt = gt.rename(columns={'SEX': 'group'})\n",
    "print(nr.merge(gt, on='group').rename(columns={'answer_x':'answer', 'answer_y': 'truth (hidden)'}).sort_values('truth (hidden)'))"
   ]
  },
  {
   "cell_type": "code",
   "execution_count": 12,
   "metadata": {},
   "outputs": [
    {
     "name": "stdout",
     "output_type": "stream",
     "text": [
      "2022-05-27 16:33:30,156 INFO     [image.py:20] answers: [25463430279.621223, 556231.7230303534, 18379920387.850758, 590325.1833127717]\n",
      "2022-05-27 16:33:30,157 INFO     [image.py:21] sigmas: [632455.5320336758, 3.162277660168379, 632455.5320336758, 3.162277660168379]\n",
      "2022-05-27 16:33:30,157 INFO     [image.py:22] bounds: [(25461850591.97654, 25465009967.265907), (556223.82459213, 556239.6214685768), (18378340700.206074, 18381500075.49544), (590317.2848745483, 590333.0817509951)]\n",
      "question:  Why AVG(INCTOT) WHERE `SEX` == \"Male\" >= AVG(INCTOT) WHERE `SEX` == \"Female\"?\n",
      "The 95% confidence interval of the difference is  (14636.627916155696, 14649.79306911513)\n",
      "2022-05-27 16:33:30,161 INFO     [<ipython-input-12-110d792e710a>:10] question_point: 14643.210484454969\n",
      "2022-05-27 16:33:30,344 INFO     [<ipython-input-12-110d792e710a>:12] true question: 14642.614070936666\n"
     ]
    }
   ],
   "source": [
    "# Phase 2\n",
    "#question = Question.from_group_comparison(groupby_query, 'Prof-school', 'Doctorate')\n",
    "# question = Question.from_group_comparison(groupby_query, ('Married, spouse absent',), ('Divorced',))\n",
    "question = Question.from_group_comparison(groupby_query, ('Male',), ('Female',))\n",
    "es.phase_2_submit_question(question)\n",
    "es.phase_2_prepare_question_ci()\n",
    "ci = es.phase_2_show_question_ci()\n",
    "print('question: ', question.to_natural_language())\n",
    "print(f'The {gamma*100:.0f}% confidence interval of the difference is ', ci)\n",
    "logger.info(f'question_point: {es.question_point}')\n",
    "# groundtruth_ci = es.phase_2_ground_truth_ci(rho_query, gamma)\n",
    "logger.info(f'true question: {es.question.evaluation(es.dataset)}')\n",
    "# print(f'The {gamma*100:.0f}% confidence interval of ground truth is ', groundtruth_ci)"
   ]
  },
  {
   "cell_type": "code",
   "execution_count": 13,
   "metadata": {},
   "outputs": [
    {
     "name": "stdout",
     "output_type": "stream",
     "text": [
      "2022-05-27 16:33:30,665 DEBUG    [<ipython-input-13-716482da31c9>:3] Length of predicates is 111\n",
      "(`SEX` == \"Male\")or(`SEX` == \"Female\")\n",
      "2022-05-27 16:33:30,779 INFO     [influence_function.py:24] Dataset relative to the question has length 1146552\n",
      "2022-05-27 16:34:37,365 DEBUG    [meta_explanation_session.py:169] 111 predicates and their influences & scores have been loaded.\n",
      "2022-05-27 16:34:37,371 DEBUG    [meta_explanation_session.py:173] \n",
      "         influence         score\n",
      "count   111.000000  1.110000e+02\n",
      "mean      6.589972  3.890212e+06\n",
      "std     311.344038  1.837935e+08\n",
      "min   -1738.293903 -1.026155e+09\n",
      "25%      -9.949549 -5.873448e+06\n",
      "50%       0.000000  0.000000e+00\n",
      "75%       0.000000  0.000000e+00\n",
      "max    1712.471559  1.010911e+09\n",
      "2022-05-27 16:34:37,372 DEBUG    [meta_explanation_session.py:213] total rho_expl is 2.0\n",
      "2022-05-27 16:34:37,372 DEBUG    [meta_explanation_session.py:214] rho_topk is 0.5\n",
      "2022-05-27 16:34:37,372 DEBUG    [meta_explanation_session.py:215] rho_ci is 0.5\n",
      "2022-05-27 16:34:37,373 DEBUG    [meta_explanation_session.py:216] rho_rank is 1.0\n",
      "2022-05-27 16:34:37,373 INFO     [meta_explanation_session.py:225] computing top k\n",
      "2022-05-27 16:34:37,373 INFO     [noisy_topk.py:11] gumbel scale: 7155417.5279993275\n",
      "2022-05-27 16:34:37,374 INFO     [noisy_topk.py:20] topk_scores: [1010911348.1907544, 595992796.6692026, 532800440.4774457, 489746989.63211554, 318422785.7380332]\n",
      "2022-05-27 16:34:37,374 INFO     [noisy_topk.py:21] gumbel_topk_scores: [1009283922.1593721, 617366885.1458054, 537497674.353688, 488600026.57862777, 354473908.5923962]\n",
      "2022-05-27 16:34:37,375 INFO     [noisy_topk.py:31] true_topk_scores: [1010911348.1907544, 595992796.6692026, 532800440.4774457, 489746989.63211554, 343780317.0875301]\n",
      "2022-05-27 16:34:37,375 INFO     [noisy_topk.py:32] gumbel_true_topk_scores: [1009283922.1593721, 617366885.1458054, 537497674.353688, 488600026.57862777, 333373175.97392005]\n",
      "2022-05-27 16:34:37,376 DEBUG    [meta_explanation_session.py:232] [`RELATE` == \"Head/householder\", `EDUC` == \"Bachelor's degree\", `RACE` == \"White\", `RELATE` == \"Spouse\", `CLASSWKR` == \"Self-employed, incorporated\"]\n",
      "2022-05-27 16:34:37,377 INFO     [meta_explanation_session.py:248] computing influence ci\n"
     ]
    },
    {
     "name": "stderr",
     "output_type": "stream",
     "text": [
      "100%|██████████| 5/5 [00:02<00:00,  1.97it/s]"
     ]
    },
    {
     "name": "stdout",
     "output_type": "stream",
     "text": [
      "2022-05-27 16:34:39,923 DEBUG    [meta_explanation_session.py:259] [(991713473.9750044, 1019762195.2734551), (578555425.614609, 606604146.9130597), (521961769.2557782, 550010490.5542288), (464260608.63082576, 492309329.92927635), (312118632.44994235, 340167353.74839294)]\n",
      "2022-05-27 16:34:39,924 INFO     [meta_explanation_session.py:267] computing rank ci\n"
     ]
    },
    {
     "name": "stderr",
     "output_type": "stream",
     "text": [
      "\n",
      "100%|██████████| 5/5 [00:00<00:00, 3870.71it/s]"
     ]
    },
    {
     "name": "stdout",
     "output_type": "stream",
     "text": [
      "2022-05-27 16:34:39,926 DEBUG    [meta_explanation_session.py:280] [(1, 1), (2, 3), (2, 5), (2, 5), (2, 6)]\n",
      "                                    predicates Rel Inf 90-CI L Rel Inf 90-CI R  Rnk 95-CI L  Rnk 95-CI R\n",
      "0               `RELATE` == \"Head/householder\"          12.18%          12.52%            1            1\n",
      "1                `EDUC` == \"Bachelor's degree\"           7.10%           7.45%            2            3\n",
      "2                            `RACE` == \"White\"           6.41%           6.75%            2            5\n",
      "3                         `RELATE` == \"Spouse\"           5.70%           6.04%            2            5\n",
      "4  `CLASSWKR` == \"Self-employed, incorporated\"           3.83%           4.18%            2            6\n",
      "                                    predicates   Inf 95-CI L   Inf 95-CI R  Rnk 95-CI L  Rnk 95-CI R\n",
      "0               `RELATE` == \"Head/householder\"  9.917135e+08  1.019762e+09            1            1\n",
      "1                `EDUC` == \"Bachelor's degree\"  5.785554e+08  6.066041e+08            2            3\n",
      "2                            `RACE` == \"White\"  5.219618e+08  5.500105e+08            2            5\n",
      "3                         `RELATE` == \"Spouse\"  4.642606e+08  4.923093e+08            2            5\n",
      "4  `CLASSWKR` == \"Self-employed, incorporated\"  3.121186e+08  3.401674e+08            2            6\n"
     ]
    },
    {
     "name": "stderr",
     "output_type": "stream",
     "text": [
      "\n"
     ]
    }
   ],
   "source": [
    "# Phase 3\n",
    "k = 5\n",
    "logger.debug(f'Length of predicates is {len(predicates)}')\n",
    "es.phase_3_submit_explanation_request()\n",
    "es.phase_3_prepare_explanation(k, \n",
    "    {'rho_topk': 0.5, 'rho_influ': 0.5, 'rho_rank': 1.0}, split_factor = 0.9)\n",
    "with pd.option_context('display.max_rows', None, 'display.max_columns', None, \n",
    "'display.max_colwidth', 1000, 'display.width', 1000):\n",
    "    t1, t2 = es.phase_3_show_explanation_table()\n",
    "    print(t1)\n",
    "    print(t2)"
   ]
  },
  {
   "cell_type": "code",
   "execution_count": 14,
   "metadata": {},
   "outputs": [],
   "source": [
    "def get_influence_at_rank_i(es, i):\n",
    "    return es.predicates_with_influences[\n",
    "        es.sorted_predicates[i-1]\n",
    "    ]\n",
    "\n",
    "def get_score_at_rank_i(es, i):\n",
    "    return es.predicates_with_scores[\n",
    "        es.sorted_predicates[i-1]\n",
    "    ]"
   ]
  },
  {
   "cell_type": "code",
   "execution_count": 15,
   "metadata": {},
   "outputs": [
    {
     "name": "stdout",
     "output_type": "stream",
     "text": [
      "2022-05-27 16:34:39,967 INFO     [<ipython-input-15-8a65cf92c78b>:2] topk true top_k influence: [1712.4715591138315, 1009.6045667697219, 902.5574820521066, 829.6254586592688, 582.3596862862028]\n",
      "2022-05-27 16:34:39,968 INFO     [<ipython-input-15-8a65cf92c78b>:3] topk true top_k score: [1010911348.1907544, 595992796.6692026, 532800440.4774457, 489746989.63211554, 343780317.0875301]\n"
     ]
    }
   ],
   "source": [
    "true_kth_influence = get_influence_at_rank_i(es, k)\n",
    "logger.info(f'topk true top_k influence: {[get_influence_at_rank_i(es, i+1) for i in range(k)]}')\n",
    "logger.info(f'topk true top_k score: {[get_score_at_rank_i(es, i+1) for i in range(k)]}')"
   ]
  },
  {
   "cell_type": "code",
   "execution_count": 16,
   "metadata": {},
   "outputs": [
    {
     "name": "stdout",
     "output_type": "stream",
     "text": [
      "Positive Influences:  9\n",
      "                             topk rel-influence\n",
      "0  `RELATE` == \"Head/householder\"        12.41%\n",
      "1   `EDUC` == \"Bachelor's degree\"         7.32%\n",
      "2               `RACE` == \"White\"         6.54%\n",
      "3            `RELATE` == \"Spouse\"         6.01%\n",
      "4             `CLASSWKR` == \"NIU\"         4.22%\n"
     ]
    }
   ],
   "source": [
    "k = 5\n",
    "with pd.option_context('display.max_rows', None, 'display.max_columns', None, \n",
    "'display.max_colwidth', 1000, 'display.width', 1000):\n",
    "    print(es.phase_3_true_top_k(k))"
   ]
  },
  {
   "cell_type": "code",
   "execution_count": null,
   "metadata": {},
   "outputs": [],
   "source": []
  }
 ],
 "metadata": {
  "kernelspec": {
   "display_name": "Python 3",
   "language": "python",
   "name": "python3"
  },
  "language_info": {
   "codemirror_mode": {
    "name": "ipython",
    "version": 3
   },
   "file_extension": ".py",
   "mimetype": "text/x-python",
   "name": "python",
   "nbconvert_exporter": "python",
   "pygments_lexer": "ipython3",
   "version": "3.8.5"
  }
 },
 "nbformat": 4,
 "nbformat_minor": 4
}
