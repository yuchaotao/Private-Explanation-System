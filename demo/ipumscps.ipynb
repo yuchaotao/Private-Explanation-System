{
 "cells": [
  {
   "cell_type": "code",
   "execution_count": 1,
   "metadata": {},
   "outputs": [],
   "source": [
    "%load_ext autoreload\n",
    "%autoreload 2"
   ]
  },
  {
   "cell_type": "code",
   "execution_count": 77,
   "metadata": {},
   "outputs": [],
   "source": [
    "import pandas as pd"
   ]
  },
  {
   "cell_type": "code",
   "execution_count": 78,
   "metadata": {},
   "outputs": [],
   "source": [
    "ipums = pd.read_csv('../data/ipums/ipumscps.csv')"
   ]
  },
  {
   "cell_type": "code",
   "execution_count": 79,
   "metadata": {},
   "outputs": [],
   "source": [
    "df = ipums.sample(frac=0.2)"
   ]
  },
  {
   "cell_type": "code",
   "execution_count": 46,
   "metadata": {},
   "outputs": [
    {
     "data": {
      "text/plain": [
       "126038"
      ]
     },
     "execution_count": 46,
     "metadata": {},
     "output_type": "execute_result"
    }
   ],
   "source": [
    "len(df)"
   ]
  },
  {
   "cell_type": "code",
   "execution_count": 4,
   "metadata": {},
   "outputs": [
    {
     "data": {
      "text/html": [
       "<div>\n",
       "<style scoped>\n",
       "    .dataframe tbody tr th:only-of-type {\n",
       "        vertical-align: middle;\n",
       "    }\n",
       "\n",
       "    .dataframe tbody tr th {\n",
       "        vertical-align: top;\n",
       "    }\n",
       "\n",
       "    .dataframe thead th {\n",
       "        text-align: right;\n",
       "    }\n",
       "</style>\n",
       "<table border=\"1\" class=\"dataframe\">\n",
       "  <thead>\n",
       "    <tr style=\"text-align: right;\">\n",
       "      <th></th>\n",
       "      <th>ratio</th>\n",
       "      <th>cnt</th>\n",
       "    </tr>\n",
       "    <tr>\n",
       "      <th>EDUC</th>\n",
       "      <th></th>\n",
       "      <th></th>\n",
       "    </tr>\n",
       "  </thead>\n",
       "  <tbody>\n",
       "    <tr>\n",
       "      <th>Grade 10</th>\n",
       "      <td>16001.634830</td>\n",
       "      <td>14585</td>\n",
       "    </tr>\n",
       "    <tr>\n",
       "      <th>Grade 11</th>\n",
       "      <td>16305.004841</td>\n",
       "      <td>17764</td>\n",
       "    </tr>\n",
       "    <tr>\n",
       "      <th>Grade 9</th>\n",
       "      <td>16900.903476</td>\n",
       "      <td>12111</td>\n",
       "    </tr>\n",
       "    <tr>\n",
       "      <th>None or preschool</th>\n",
       "      <td>17985.533937</td>\n",
       "      <td>1768</td>\n",
       "    </tr>\n",
       "    <tr>\n",
       "      <th>Grades 7 or 8</th>\n",
       "      <td>19388.422854</td>\n",
       "      <td>11044</td>\n",
       "    </tr>\n",
       "    <tr>\n",
       "      <th>Grades 1, 2, 3, or 4</th>\n",
       "      <td>20226.544358</td>\n",
       "      <td>3979</td>\n",
       "    </tr>\n",
       "    <tr>\n",
       "      <th>Grades 5 or 6</th>\n",
       "      <td>22263.893708</td>\n",
       "      <td>8392</td>\n",
       "    </tr>\n",
       "    <tr>\n",
       "      <th>12th grade, no diploma</th>\n",
       "      <td>23132.302223</td>\n",
       "      <td>9043</td>\n",
       "    </tr>\n",
       "    <tr>\n",
       "      <th>High school diploma or equivalent</th>\n",
       "      <td>32399.334546</td>\n",
       "      <td>175438</td>\n",
       "    </tr>\n",
       "    <tr>\n",
       "      <th>Some college but no degree</th>\n",
       "      <td>35568.332165</td>\n",
       "      <td>114380</td>\n",
       "    </tr>\n",
       "    <tr>\n",
       "      <th>Associate's degree, occupational/vocational program</th>\n",
       "      <td>42446.462429</td>\n",
       "      <td>27308</td>\n",
       "    </tr>\n",
       "    <tr>\n",
       "      <th>Associate's degree, academic program</th>\n",
       "      <td>42725.243225</td>\n",
       "      <td>35202</td>\n",
       "    </tr>\n",
       "    <tr>\n",
       "      <th>Bachelor's degree</th>\n",
       "      <td>63101.230250</td>\n",
       "      <td>125833</td>\n",
       "    </tr>\n",
       "    <tr>\n",
       "      <th>Master's degree</th>\n",
       "      <td>78218.571957</td>\n",
       "      <td>53574</td>\n",
       "    </tr>\n",
       "    <tr>\n",
       "      <th>Doctorate degree</th>\n",
       "      <td>112715.086071</td>\n",
       "      <td>11142</td>\n",
       "    </tr>\n",
       "    <tr>\n",
       "      <th>Professional school degree</th>\n",
       "      <td>130260.736208</td>\n",
       "      <td>8628</td>\n",
       "    </tr>\n",
       "  </tbody>\n",
       "</table>\n",
       "</div>"
      ],
      "text/plain": [
       "                                                            ratio     cnt\n",
       "EDUC                                                                     \n",
       "Grade 10                                             16001.634830   14585\n",
       "Grade 11                                             16305.004841   17764\n",
       "Grade 9                                              16900.903476   12111\n",
       "None or preschool                                    17985.533937    1768\n",
       "Grades 7 or 8                                        19388.422854   11044\n",
       "Grades 1, 2, 3, or 4                                 20226.544358    3979\n",
       "Grades 5 or 6                                        22263.893708    8392\n",
       "12th grade, no diploma                               23132.302223    9043\n",
       "High school diploma or equivalent                    32399.334546  175438\n",
       "Some college but no degree                           35568.332165  114380\n",
       "Associate's degree, occupational/vocational pro...   42446.462429   27308\n",
       "Associate's degree, academic program                 42725.243225   35202\n",
       "Bachelor's degree                                    63101.230250  125833\n",
       "Master's degree                                      78218.571957   53574\n",
       "Doctorate degree                                    112715.086071   11142\n",
       "Professional school degree                          130260.736208    8628"
      ]
     },
     "execution_count": 4,
     "metadata": {},
     "output_type": "execute_result"
    }
   ],
   "source": [
    "df.groupby('EDUC').agg(ratio=('INCTOT', 'mean'), cnt=('INCTOT', 'count')).sort_values('ratio')"
   ]
  },
  {
   "cell_type": "code",
   "execution_count": 2,
   "metadata": {},
   "outputs": [],
   "source": [
    "import sys\n",
    "sys.path.append('../')\n",
    "\n",
    "import pandas as pd\n",
    "import pprint\n",
    "\n",
    "from privex.components.basic import Schema, Dataset, GroupbyQuery, Question\n",
    "from privex.components.utils import generate_explanation_predicates\n",
    "from privex.framework.solution import ExplanationSession\n",
    "\n",
    "import logging\n",
    "logger = logging.getLogger(__name__)"
   ]
  },
  {
   "cell_type": "code",
   "execution_count": 3,
   "metadata": {},
   "outputs": [],
   "source": [
    "ipums = pd.read_csv('../data/ipums/ipumscps.csv')"
   ]
  },
  {
   "cell_type": "code",
   "execution_count": 7,
   "metadata": {},
   "outputs": [
    {
     "name": "stdout",
     "output_type": "stream",
     "text": [
      "1146552\n",
      "2022-04-18 15:54:30,495 INFO     [meta_explanation_session.py:23] 111 predicates for the explanation.\n"
     ]
    }
   ],
   "source": [
    "df = ipums.sample(frac=1)\n",
    "print(len(df))\n",
    "schema = Schema.from_json('../data/ipums/ipumscps.json')\n",
    "dataset = Dataset(df, schema)\n",
    "gamma = 0.95\n",
    "attributes = ['RELATE', 'SEX', 'RACE', 'CITIZEN', 'CLASSWKR', 'EDUC']#, 'OCC']\n",
    "predicates = generate_explanation_predicates(attributes, schema, strategy='1-way marginal')\n",
    "#predicates = predicates[:10]\n",
    "#predicates += generate_explanation_predicates(attributes, schema, strategy='2-way marginal')\n",
    "es = ExplanationSession(dataset, gamma, predicates, random_seed = 152636)"
   ]
  },
  {
   "cell_type": "code",
   "execution_count": 8,
   "metadata": {},
   "outputs": [
    {
     "name": "stdout",
     "output_type": "stream",
     "text": [
      "submiited queries with rho = 0.1\n",
      "    group        answer  truth (hidden)\n",
      "0  Female  31135.246992    31135.778443\n",
      "1    Male  45778.457476    45778.392514\n"
     ]
    }
   ],
   "source": [
    "# Phase 1\n",
    "groupby_query = GroupbyQuery(\n",
    "    agg = 'AVG',\n",
    "    attr_agg = 'INCTOT',\n",
    "    predicate = None,\n",
    "    attr_group = 'SEX',\n",
    "    schema = schema\n",
    ")\n",
    "rho_query = 0.1\n",
    "es.phase_1_submit_query(groupby_query, rho_query)\n",
    "print(f'submiited queries with rho = {rho_query}')\n",
    "nr = es.phase_1_show_query_results()\n",
    "nr['group'] = nr['group'].apply(lambda row: row[0])\n",
    "gt = df.groupby('SEX').agg(answer=('INCTOT', 'mean')).reset_index()\n",
    "gt = gt.rename(columns={'SEX': 'group'})\n",
    "print(nr.merge(gt, on='group').rename(columns={'answer_x':'answer', 'answer_y': 'truth (hidden)'}).sort_values('truth (hidden)'))"
   ]
  },
  {
   "cell_type": "code",
   "execution_count": 9,
   "metadata": {},
   "outputs": [
    {
     "name": "stdout",
     "output_type": "stream",
     "text": [
      "question:  Why AVG(INCTOT) WHERE `SEX` == \"Male\" >= AVG(INCTOT) WHERE `SEX` == \"Female\"?\n",
      "The 95% confidence interval of the difference is  (14636.627916155696, 14649.79306911513)\n",
      "2022-04-18 15:54:33,375 INFO     [<ipython-input-9-6b6148cc5e01>:10] question_point: 14643.210484454969\n",
      "2022-04-18 15:54:33,691 INFO     [<ipython-input-9-6b6148cc5e01>:12] true question: 14642.614070936666\n",
      "The 95% confidence interval of ground truth is  (14639.494036260458, 14645.74503543867)\n"
     ]
    }
   ],
   "source": [
    "# Phase 2\n",
    "#question = Question.from_group_comparison(groupby_query, 'Prof-school', 'Doctorate')\n",
    "# question = Question.from_group_comparison(groupby_query, ('Married, spouse absent',), ('Divorced',))\n",
    "question = Question.from_group_comparison(groupby_query, ('Male',), ('Female',))\n",
    "es.phase_2_submit_question(question)\n",
    "es.phase_2_prepare_question_ci()\n",
    "ci = es.phase_2_show_question_ci()\n",
    "print('question: ', question.to_natural_language())\n",
    "print(f'The {gamma*100:.0f}% confidence interval of the difference is ', ci)\n",
    "logger.info(f'question_point: {es.question_point}')\n",
    "groundtruth_ci = es.phase_2_ground_truth_ci(rho_query, gamma)\n",
    "logger.info(f'true question: {es.question.evaluation(es.dataset)}')\n",
    "print(f'The {gamma*100:.0f}% confidence interval of ground truth is ', groundtruth_ci)"
   ]
  },
  {
   "cell_type": "code",
   "execution_count": 10,
   "metadata": {},
   "outputs": [
    {
     "name": "stdout",
     "output_type": "stream",
     "text": [
      "2022-04-18 15:54:40,434 DEBUG    [<ipython-input-10-716482da31c9>:3] Length of predicates is 111\n",
      "(`SEX` == \"Male\")or(`SEX` == \"Female\")\n",
      "2022-04-18 15:54:40,539 INFO     [influence_function.py:24] Dataset relative to the question has length 1146552\n",
      "2022-04-18 15:55:39,805 DEBUG    [meta_explanation_session.py:155] 111 predicates and their influences & scores have been loaded.\n",
      "2022-04-18 15:55:39,810 DEBUG    [meta_explanation_session.py:159] \n",
      "         influence         score\n",
      "count   111.000000  1.110000e+02\n",
      "mean      6.589972  3.890212e+06\n",
      "std     311.344038  1.837935e+08\n",
      "min   -1738.293903 -1.026155e+09\n",
      "25%      -9.949549 -5.873448e+06\n",
      "50%       0.000000  0.000000e+00\n",
      "75%       0.000000  0.000000e+00\n",
      "max    1712.471559  1.010911e+09\n",
      "2022-04-18 15:55:39,811 DEBUG    [meta_explanation_session.py:208] total rho_expl is 2.0\n",
      "2022-04-18 15:55:39,811 DEBUG    [meta_explanation_session.py:209] rho_topk is 0.5\n",
      "2022-04-18 15:55:39,811 DEBUG    [meta_explanation_session.py:210] rho_ci is 0.5\n",
      "2022-04-18 15:55:39,812 DEBUG    [meta_explanation_session.py:211] rho_rank is 1.0\n",
      "2022-04-18 15:55:39,812 INFO     [meta_explanation_session.py:216] computing top k\n",
      "2022-04-18 15:55:39,813 INFO     [noisy_topk.py:25] true_topk_scores: [1010911348.1907544, 595992796.6692026, 532800440.4774457, 489746989.63211554, 343780317.0875301]\n",
      "2022-04-18 15:55:39,813 INFO     [noisy_topk.py:26] gumbel_topk_scores: [1005576447.5606272, 605606111.6896428, 538160977.814775, 488276235.4722861, 341790017.85371774]\n",
      "2022-04-18 15:55:39,813 DEBUG    [meta_explanation_session.py:223] [`RELATE` == \"Head/householder\", `EDUC` == \"Bachelor's degree\", `RACE` == \"White\", `RELATE` == \"Spouse\", `CLASSWKR` == \"NIU\"]\n",
      "2022-04-18 15:55:39,813 INFO     [meta_explanation_session.py:226] computing influence ci\n"
     ]
    },
    {
     "name": "stderr",
     "output_type": "stream",
     "text": [
      "100%|██████████| 5/5 [00:04<00:00,  1.18it/s]"
     ]
    },
    {
     "name": "stdout",
     "output_type": "stream",
     "text": [
      "2022-04-18 15:55:44,56 DEBUG    [meta_explanation_session.py:237] [(1682.1324637031005, 1725.8124311163579), (977.5989753765735, 1034.1634492262472), (886.4305297554581, 922.2874998001224), (807.2432055645846, 863.3515472196193), (562.2852727038127, 616.3155294968363)]\n",
      "2022-04-18 15:55:44,56 INFO     [meta_explanation_session.py:240] computing rank ci\n"
     ]
    },
    {
     "name": "stderr",
     "output_type": "stream",
     "text": [
      "\n",
      "100%|██████████| 5/5 [00:00<00:00, 3892.26it/s]"
     ]
    },
    {
     "name": "stdout",
     "output_type": "stream",
     "text": [
      "2022-04-18 15:55:44,59 DEBUG    [meta_explanation_session.py:253] [(1, 1), (2, 3), (2, 5), (2, 5), (2, 6)]\n",
      "                       predicates Rel Inf 90-CI L Rel Inf 90-CI R  Rnk 95-CI L  Rnk 95-CI R\n",
      "0  `RELATE` == \"Head/householder\"          11.49%          11.79%            1            1\n",
      "1   `EDUC` == \"Bachelor's degree\"           6.68%           7.06%            2            3\n",
      "2               `RACE` == \"White\"           6.05%           6.30%            2            5\n",
      "3            `RELATE` == \"Spouse\"           5.51%           5.90%            2            5\n",
      "4             `CLASSWKR` == \"NIU\"           3.84%           4.21%            2            6\n",
      "                       predicates  Inf 95-CI L  Inf 95-CI R  Rnk 95-CI L  Rnk 95-CI R\n",
      "0  `RELATE` == \"Head/householder\"  1682.132464  1725.812431            1            1\n",
      "1   `EDUC` == \"Bachelor's degree\"   977.598975  1034.163449            2            3\n",
      "2               `RACE` == \"White\"   886.430530   922.287500            2            5\n",
      "3            `RELATE` == \"Spouse\"   807.243206   863.351547            2            5\n",
      "4             `CLASSWKR` == \"NIU\"   562.285273   616.315529            2            6\n"
     ]
    },
    {
     "name": "stderr",
     "output_type": "stream",
     "text": [
      "\n"
     ]
    }
   ],
   "source": [
    "# Phase 3\n",
    "k = 5\n",
    "logger.debug(f'Length of predicates is {len(predicates)}')\n",
    "es.phase_3_submit_explanation_request()\n",
    "es.phase_3_prepare_explanation(k, \n",
    "    {'rho_topk': 0.5, 'rho_influ': 0.5, 'rho_rank': 1.0}, split_factor = 0.9)\n",
    "with pd.option_context('display.max_rows', None, 'display.max_columns', None, \n",
    "'display.max_colwidth', 1000, 'display.width', 1000):\n",
    "    t1, t2 = es.phase_3_show_explanation_table()\n",
    "    print(t1)\n",
    "    print(t2)"
   ]
  },
  {
   "cell_type": "code",
   "execution_count": 11,
   "metadata": {},
   "outputs": [],
   "source": [
    "def get_influence_at_rank_i(es, i):\n",
    "    return es.predicates_with_influences[\n",
    "        es.sorted_predicates[i-1]\n",
    "    ]\n",
    "\n",
    "def get_score_at_rank_i(es, i):\n",
    "    return es.predicates_with_scores[\n",
    "        es.sorted_predicates[i-1]\n",
    "    ]"
   ]
  },
  {
   "cell_type": "code",
   "execution_count": 12,
   "metadata": {},
   "outputs": [
    {
     "name": "stdout",
     "output_type": "stream",
     "text": [
      "2022-04-18 15:55:44,94 INFO     [<ipython-input-12-8a65cf92c78b>:2] topk true top_k influence: [1712.4715591138315, 1009.6045667697219, 902.5574820521066, 829.6254586592688, 582.3596862862028]\n",
      "2022-04-18 15:55:44,95 INFO     [<ipython-input-12-8a65cf92c78b>:3] topk true top_k score: [1010911348.1907544, 595992796.6692026, 532800440.4774457, 489746989.63211554, 343780317.0875301]\n"
     ]
    }
   ],
   "source": [
    "true_kth_influence = get_influence_at_rank_i(es, k)\n",
    "logger.info(f'topk true top_k influence: {[get_influence_at_rank_i(es, i+1) for i in range(k)]}')\n",
    "logger.info(f'topk true top_k score: {[get_score_at_rank_i(es, i+1) for i in range(k)]}')"
   ]
  },
  {
   "cell_type": "code",
   "execution_count": 13,
   "metadata": {},
   "outputs": [
    {
     "name": "stdout",
     "output_type": "stream",
     "text": [
      "Positive Influences:  9\n",
      "                             topk rel-influence\n",
      "0  `RELATE` == \"Head/householder\"        11.69%\n",
      "1   `EDUC` == \"Bachelor's degree\"         6.89%\n",
      "2               `RACE` == \"White\"         6.16%\n",
      "3            `RELATE` == \"Spouse\"         5.67%\n",
      "4             `CLASSWKR` == \"NIU\"         3.98%\n"
     ]
    }
   ],
   "source": [
    "k = 5\n",
    "with pd.option_context('display.max_rows', None, 'display.max_columns', None, \n",
    "'display.max_colwidth', 1000, 'display.width', 1000):\n",
    "    print(es.phase_3_true_top_k(k))"
   ]
  },
  {
   "cell_type": "code",
   "execution_count": null,
   "metadata": {},
   "outputs": [],
   "source": []
  }
 ],
 "metadata": {
  "kernelspec": {
   "display_name": "Python 3",
   "language": "python",
   "name": "python3"
  },
  "language_info": {
   "codemirror_mode": {
    "name": "ipython",
    "version": 3
   },
   "file_extension": ".py",
   "mimetype": "text/x-python",
   "name": "python",
   "nbconvert_exporter": "python",
   "pygments_lexer": "ipython3",
   "version": "3.8.5"
  }
 },
 "nbformat": 4,
 "nbformat_minor": 4
}
