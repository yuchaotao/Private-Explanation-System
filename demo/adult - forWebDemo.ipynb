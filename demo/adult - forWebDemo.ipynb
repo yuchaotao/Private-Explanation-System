{
 "cells": [
  {
   "cell_type": "code",
   "execution_count": 1,
   "metadata": {},
   "outputs": [],
   "source": [
    "%load_ext autoreload\n",
    "%autoreload 2"
   ]
  },
  {
   "cell_type": "code",
   "execution_count": 8,
   "metadata": {},
   "outputs": [],
   "source": [
    "import sys\n",
    "sys.path.append('../')\n",
    "\n",
    "import pandas as pd\n",
    "import pprint\n",
    "\n",
    "from privex.components.basic import Schema, Dataset, GroupbyQuery, Question\n",
    "from privex.components.utils import generate_explanation_predicates\n",
    "from privex.framework.solution import ExplanationSession\n",
    "\n",
    "import logging\n",
    "logger = logging.getLogger()\n",
    "logger.setLevel(logging.CRITICAL)"
   ]
  },
  {
   "cell_type": "code",
   "execution_count": 60,
   "metadata": {},
   "outputs": [],
   "source": [
    "# Load dataset and prepare an explanation session\n",
    "\n",
    "df = pd.read_csv('../data/adult.csv')\n",
    "schema = Schema.from_json('../data/adult.json')\n",
    "dataset = Dataset(df, schema)\n",
    "gamma = 0.95 # It can be changed later. You can fix it as 0.95 as a default number.\n",
    "attributes = ['education', 'occupation', 'age', 'relationship', 'race', 'workclass', 'sex', 'native-country'] # We can hard-code the attributes for each dataset in the demo. See other notebooks (ipumscps.ipynb and german-credit.ipynb)\n",
    "predicates = generate_explanation_predicates(attributes, schema, strategy='1-way marginal')\n",
    "es = ExplanationSession(dataset, gamma, predicates)"
   ]
  },
  {
   "cell_type": "code",
   "execution_count": 10,
   "metadata": {},
   "outputs": [
    {
     "name": "stdout",
     "output_type": "stream",
     "text": [
      "                   group  true_answer  noisy_answer\n",
      "0          Never-married     0.045480      0.045338\n",
      "1     Married-civ-spouse     0.446133      0.445963\n",
      "2                Widowed     0.084321      0.084258\n",
      "3               Divorced     0.101161      0.101266\n",
      "4              Separated     0.064706      0.065926\n",
      "5  Married-spouse-absent     0.092357      0.090783\n",
      "6      Married-AF-spouse     0.378378      0.408071\n"
     ]
    }
   ],
   "source": [
    "# Phase 1\n",
    "\n",
    "# Speicfy the Group-By query\n",
    "groupby_query = GroupbyQuery(\n",
    "    agg = 'AVG',\n",
    "    attr_agg = 'high_income',\n",
    "    predicate = None,  # If you have a WHERE Clause like \"WHERE X = a AND Y = b\", you can specify here: predicate = Predicate('X = \"a\" AND Y == \"b\"')  \n",
    "    attr_group = 'marital-status',\n",
    "    schema = schema\n",
    ")\n",
    "\n",
    "# Submit the query and get the answer table\n",
    "rho_query = 0.1\n",
    "es.phase_1_submit_query(groupby_query, rho_query) # This must be called to update the status of es, so that es can remember the noisy answers.\n",
    "answer_table, answer_table_df = groupby_query.get_answer_table(dataset, rho_query) # Answer table is to show on the web interface. The first return is a dictionary, the second return is its dataframe version \n",
    "print(answer_table_df)"
   ]
  },
  {
   "cell_type": "code",
   "execution_count": 19,
   "metadata": {},
   "outputs": [
    {
     "name": "stdout",
     "output_type": "stream",
     "text": [
      "question:  Why AVG(high_income) WHERE `marital-status` == \"Married-civ-spouse\" >= AVG(high_income) WHERE `marital-status` == \"Never-married\"?\n",
      "The 95% confidence interval of the difference is  (0.3994671429809914, 0.4015134317138519)\n"
     ]
    }
   ],
   "source": [
    "# Phase 2\n",
    "\n",
    "\n",
    "# Prepare Question. Replace ('Married-AF-spouse',), ('Married-civ-spouse',) to the choices from the web interface. Here the question is about why the first group is >= the second group.\n",
    "question = Question.from_group_comparison(groupby_query, ('Married-civ-spouse',), ('Never-married',))  \n",
    "\n",
    "# Submit Question.\n",
    "es.phase_2_submit_question(question)\n",
    "\n",
    "# Re-specify the confidence level\n",
    "es.gamma = 0.95\n",
    "\n",
    "# Generate the confidence interval for the question\n",
    "ci, _ = es.phase_2_prepare_question_ci()\n",
    "\n",
    "# Print Result\n",
    "print('question: ', question.to_natural_language())\n",
    "print(f'The {es.gamma*100:.0f}% confidence interval of the difference is ', ci)"
   ]
  },
  {
   "cell_type": "code",
   "execution_count": 53,
   "metadata": {},
   "outputs": [
    {
     "name": "stdout",
     "output_type": "stream",
     "text": [
      "(`marital-status` == \"Never-married\")or(`marital-status` == \"Married-civ-spouse\")\n"
     ]
    },
    {
     "name": "stderr",
     "output_type": "stream",
     "text": [
      "100%|████████████████████████████████████████████████████████████████████████████| 5/5 [00:00<00:00, 38.26it/s]\n",
      "100%|█████████████████████████████████████████████████████████████████████████| 5/5 [00:00<00:00, 19099.74it/s]\n"
     ]
    }
   ],
   "source": [
    "# Phase 3\n",
    "k = 5\n",
    "rho_expl = {'rho_topk':0.05, 'rho_influ': 0.05, 'rho_rank': 1.9}\n",
    "es.phase_3_submit_explanation_request()\n",
    "es.phase_3_prepare_explanation(k, rho_expl)"
   ]
  },
  {
   "cell_type": "code",
   "execution_count": 54,
   "metadata": {},
   "outputs": [
    {
     "name": "stdout",
     "output_type": "stream",
     "text": [
      "                          predicates Rel Inf 90-CI L Rel Inf 90-CI R  \\\n",
      "0  `occupation` == \"Exec-managerial\"           5.01%          11.88%   \n",
      "1   `occupation` == \"Prof-specialty\"           4.18%          11.05%   \n",
      "2         `education` == \"Bachelors\"           4.09%          10.96%   \n",
      "3                `age` == \"(50, 60]\"           1.12%           7.99%   \n",
      "4         `education` == \"Preschool\"          -5.48%           1.39%   \n",
      "\n",
      "   Rnk 95-CI L  Rnk 95-CI R  True Rnk True Rel Inf  \n",
      "0            1            3         1        8.60%  \n",
      "1            1           29         4        6.73%  \n",
      "2            1            5         2        8.48%  \n",
      "3            1          100         9        2.23%  \n",
      "4            1          102        73       -0.12%  \n"
     ]
    }
   ],
   "source": [
    "explanation_table, _ = es.phase_3_show_explanation_table(withTruth=True)\n",
    "print(explanation_table)"
   ]
  }
 ],
 "metadata": {
  "kernelspec": {
   "display_name": "Python 3 (ipykernel)",
   "language": "python",
   "name": "python3"
  },
  "language_info": {
   "codemirror_mode": {
    "name": "ipython",
    "version": 3
   },
   "file_extension": ".py",
   "mimetype": "text/x-python",
   "name": "python",
   "nbconvert_exporter": "python",
   "pygments_lexer": "ipython3",
   "version": "3.10.9"
  }
 },
 "nbformat": 4,
 "nbformat_minor": 4
}
