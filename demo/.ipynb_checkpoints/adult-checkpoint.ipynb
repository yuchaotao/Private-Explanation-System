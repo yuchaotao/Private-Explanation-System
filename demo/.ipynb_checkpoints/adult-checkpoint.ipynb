{
 "cells": [
  {
   "cell_type": "code",
   "execution_count": 1,
   "metadata": {},
   "outputs": [],
   "source": [
    "%load_ext autoreload\n",
    "%autoreload 2"
   ]
  },
  {
   "cell_type": "code",
   "execution_count": 2,
   "metadata": {},
   "outputs": [],
   "source": [
    "import pandas as pd"
   ]
  },
  {
   "cell_type": "code",
   "execution_count": 3,
   "metadata": {},
   "outputs": [],
   "source": [
    "df = pd.read_csv('../data/adult.csv')"
   ]
  },
  {
   "cell_type": "code",
   "execution_count": 4,
   "metadata": {},
   "outputs": [
    {
     "data": {
      "text/html": [
       "<div>\n",
       "<style scoped>\n",
       "    .dataframe tbody tr th:only-of-type {\n",
       "        vertical-align: middle;\n",
       "    }\n",
       "\n",
       "    .dataframe tbody tr th {\n",
       "        vertical-align: top;\n",
       "    }\n",
       "\n",
       "    .dataframe thead th {\n",
       "        text-align: right;\n",
       "    }\n",
       "</style>\n",
       "<table border=\"1\" class=\"dataframe\">\n",
       "  <thead>\n",
       "    <tr style=\"text-align: right;\">\n",
       "      <th></th>\n",
       "      <th>ratio</th>\n",
       "      <th>cnt</th>\n",
       "    </tr>\n",
       "    <tr>\n",
       "      <th>education</th>\n",
       "      <th></th>\n",
       "      <th></th>\n",
       "    </tr>\n",
       "  </thead>\n",
       "  <tbody>\n",
       "    <tr>\n",
       "      <th>Preschool</th>\n",
       "      <td>0.012048</td>\n",
       "      <td>83</td>\n",
       "    </tr>\n",
       "    <tr>\n",
       "      <th>1st-4th</th>\n",
       "      <td>0.032389</td>\n",
       "      <td>247</td>\n",
       "    </tr>\n",
       "    <tr>\n",
       "      <th>11th</th>\n",
       "      <td>0.050773</td>\n",
       "      <td>1812</td>\n",
       "    </tr>\n",
       "    <tr>\n",
       "      <th>5th-6th</th>\n",
       "      <td>0.053045</td>\n",
       "      <td>509</td>\n",
       "    </tr>\n",
       "    <tr>\n",
       "      <th>9th</th>\n",
       "      <td>0.054233</td>\n",
       "      <td>756</td>\n",
       "    </tr>\n",
       "    <tr>\n",
       "      <th>10th</th>\n",
       "      <td>0.062635</td>\n",
       "      <td>1389</td>\n",
       "    </tr>\n",
       "    <tr>\n",
       "      <th>7th-8th</th>\n",
       "      <td>0.064921</td>\n",
       "      <td>955</td>\n",
       "    </tr>\n",
       "    <tr>\n",
       "      <th>12th</th>\n",
       "      <td>0.073059</td>\n",
       "      <td>657</td>\n",
       "    </tr>\n",
       "    <tr>\n",
       "      <th>HS-grad</th>\n",
       "      <td>0.158578</td>\n",
       "      <td>15784</td>\n",
       "    </tr>\n",
       "    <tr>\n",
       "      <th>Some-college</th>\n",
       "      <td>0.189649</td>\n",
       "      <td>10878</td>\n",
       "    </tr>\n",
       "    <tr>\n",
       "      <th>Assoc-voc</th>\n",
       "      <td>0.253275</td>\n",
       "      <td>2061</td>\n",
       "    </tr>\n",
       "    <tr>\n",
       "      <th>Assoc-acdm</th>\n",
       "      <td>0.257964</td>\n",
       "      <td>1601</td>\n",
       "    </tr>\n",
       "    <tr>\n",
       "      <th>Bachelors</th>\n",
       "      <td>0.412835</td>\n",
       "      <td>8025</td>\n",
       "    </tr>\n",
       "    <tr>\n",
       "      <th>Masters</th>\n",
       "      <td>0.549116</td>\n",
       "      <td>2657</td>\n",
       "    </tr>\n",
       "    <tr>\n",
       "      <th>Doctorate</th>\n",
       "      <td>0.725589</td>\n",
       "      <td>594</td>\n",
       "    </tr>\n",
       "    <tr>\n",
       "      <th>Prof-school</th>\n",
       "      <td>0.739808</td>\n",
       "      <td>834</td>\n",
       "    </tr>\n",
       "  </tbody>\n",
       "</table>\n",
       "</div>"
      ],
      "text/plain": [
       "                 ratio    cnt\n",
       "education                    \n",
       "Preschool     0.012048     83\n",
       "1st-4th       0.032389    247\n",
       "11th          0.050773   1812\n",
       "5th-6th       0.053045    509\n",
       "9th           0.054233    756\n",
       "10th          0.062635   1389\n",
       "7th-8th       0.064921    955\n",
       "12th          0.073059    657\n",
       "HS-grad       0.158578  15784\n",
       "Some-college  0.189649  10878\n",
       "Assoc-voc     0.253275   2061\n",
       "Assoc-acdm    0.257964   1601\n",
       "Bachelors     0.412835   8025\n",
       "Masters       0.549116   2657\n",
       "Doctorate     0.725589    594\n",
       "Prof-school   0.739808    834"
      ]
     },
     "execution_count": 4,
     "metadata": {},
     "output_type": "execute_result"
    }
   ],
   "source": [
    "df.groupby('education').agg(ratio=('high_income', 'mean'), cnt=('high_income', 'count')).sort_values('ratio')"
   ]
  },
  {
   "cell_type": "code",
   "execution_count": null,
   "metadata": {},
   "outputs": [],
   "source": []
  },
  {
   "cell_type": "code",
   "execution_count": 105,
   "metadata": {},
   "outputs": [],
   "source": [
    "import sys\n",
    "sys.path.append('../')\n",
    "\n",
    "import pandas as pd\n",
    "import pprint\n",
    "\n",
    "from privex.components.basic import Schema, Dataset, GroupbyQuery, Question\n",
    "from privex.components.utils import generate_explanation_predicates\n",
    "from privex.framework.solution import ExplanationSession\n",
    "\n",
    "import logging\n",
    "logger = logging.getLogger(__name__)"
   ]
  },
  {
   "cell_type": "code",
   "execution_count": 106,
   "metadata": {},
   "outputs": [],
   "source": [
    "df = pd.read_csv('../data/adult.csv')\n",
    "schema = Schema.from_json('../data/adult.json')\n",
    "dataset = Dataset(df, schema)\n",
    "gamma = 0.95\n",
    "attributes = ['education', 'occupation', 'age', 'relationship', 'race', 'workclass', 'sex', 'native-country']\n",
    "predicates = generate_explanation_predicates(attributes, schema, strategy='1-way marginal')\n",
    "#predicates = predicates[:10]\n",
    "#predicates += generate_explanation_predicates(attributes, schema, strategy='2-way marginal')\n",
    "es = ExplanationSession(dataset, gamma, predicates)"
   ]
  },
  {
   "cell_type": "code",
   "execution_count": 107,
   "metadata": {},
   "outputs": [
    {
     "name": "stdout",
     "output_type": "stream",
     "text": [
      "submiited queries with rho = 0.1\n",
      "                   group    answer  truth (hidden)\n",
      "0          Never-married  0.045511        0.045480\n",
      "1              Separated  0.064712        0.064706\n",
      "2                Widowed  0.082854        0.084321\n",
      "3  Married-spouse-absent  0.089988        0.092357\n",
      "4               Divorced  0.101578        0.101161\n",
      "6      Married-AF-spouse  0.463193        0.378378\n",
      "5     Married-civ-spouse  0.446021        0.446133\n"
     ]
    }
   ],
   "source": [
    "# Phase 1\n",
    "groupby_query = GroupbyQuery(\n",
    "    agg = 'AVG',\n",
    "    attr_agg = 'high_income',\n",
    "    predicate = None,\n",
    "    attr_group = 'marital-status',\n",
    "    schema = schema\n",
    ")\n",
    "rho_query = 0.1\n",
    "es.phase_1_submit_query(groupby_query, rho_query, random_seed = 152636)\n",
    "print(f'submiited queries with rho = {rho_query}')\n",
    "nr = es.phase_1_show_query_results()\n",
    "nr['group'] = nr['group'].apply(lambda row: row[0])\n",
    "gt = df.groupby('marital-status').agg(answer=('high_income', 'mean')).reset_index()\n",
    "gt = gt.rename(columns={'marital-status': 'group'})\n",
    "print(nr.merge(gt, on='group').rename(columns={'answer_x':'answer', 'answer_y': 'truth (hidden)'}).sort_values('truth (hidden)'))"
   ]
  },
  {
   "cell_type": "code",
   "execution_count": 108,
   "metadata": {},
   "outputs": [
    {
     "name": "stdout",
     "output_type": "stream",
     "text": [
      "question:  Why AVG(high_income) WHERE `marital-status` == \"Married-AF-spouse\" >= AVG(high_income) WHERE `marital-status` == \"Married-civ-spouse\"?\n",
      "The noisy group difference is  0.01717194739104899\n",
      "The 95% confidence interval of the difference is  (-0.2589346986687564, 0.4598422551149035)\n"
     ]
    }
   ],
   "source": [
    "# Phase 2\n",
    "#question = Question.from_group_comparison(groupby_query, 'Prof-school', 'Doctorate')\n",
    "question = Question.from_group_comparison(groupby_query, ('Married-AF-spouse',), ('Married-civ-spouse',))\n",
    "es.phase_2_submit_question(question)\n",
    "es.phase_2_prepare_question_ci()\n",
    "ci = es.phase_2_show_question_ci()\n",
    "point = es.phase_2_show_question_point()\n",
    "print('question: ', question.to_natural_language())\n",
    "print('The noisy group difference is ', point)\n",
    "print(f'The {gamma*100:.0f}% confidence interval of the difference is ', ci)"
   ]
  },
  {
   "cell_type": "code",
   "execution_count": 109,
   "metadata": {},
   "outputs": [
    {
     "name": "stdout",
     "output_type": "stream",
     "text": [
      "question:  Why AVG(high_income) WHERE `marital-status` == \"Married-civ-spouse\" >= AVG(high_income) WHERE `marital-status` == \"Never-married\"?\n",
      "The noisy group difference is  0.4005103977536667\n",
      "The 95% confidence interval of the difference is  (0.39948772348837247, 0.40151707072996684)\n"
     ]
    }
   ],
   "source": [
    "# Phase 2\n",
    "#question = Question.from_group_comparison(groupby_query, 'Prof-school', 'Doctorate')\n",
    "question = Question.from_group_comparison(groupby_query, ('Married-civ-spouse',), ('Never-married',))\n",
    "es.phase_2_submit_question(question)\n",
    "es.phase_2_prepare_question_ci()\n",
    "ci = es.phase_2_show_question_ci()\n",
    "point = es.phase_2_show_question_point()\n",
    "print('question: ', question.to_natural_language())\n",
    "print('The noisy group difference is ', point)\n",
    "print(f'The {gamma*100:.0f}% confidence interval of the difference is ', ci)"
   ]
  },
  {
   "cell_type": "code",
   "execution_count": 111,
   "metadata": {},
   "outputs": [
    {
     "name": "stdout",
     "output_type": "stream",
     "text": [
      "2022-04-10 16:57:57,287 DEBUG    [<ipython-input-111-345a1ae8a650>:3] Length of predicates is 103\n",
      "2022-04-10 16:58:02,308 DEBUG    [meta_explanation_session.py:143] 103 predicates and their influences & scores have been loaded.\n",
      "2022-04-10 16:58:02,315 DEBUG    [meta_explanation_session.py:147] \n",
      "        influence       score\n",
      "count  103.000000  103.000000\n",
      "mean     0.000325    7.266483\n",
      "std      0.006527  146.071226\n",
      "min     -0.026839 -600.661181\n",
      "25%     -0.000606  -13.551499\n",
      "50%     -0.000017   -0.385618\n",
      "75%      0.000368    8.235890\n",
      "max      0.024788  554.765178\n",
      "2022-04-10 16:58:02,316 DEBUG    [meta_explanation_session.py:185] total rho_expl is 2.0\n",
      "2022-04-10 16:58:02,316 DEBUG    [meta_explanation_session.py:186] rho_topk is 0.05\n",
      "2022-04-10 16:58:02,316 DEBUG    [meta_explanation_session.py:187] rho_ci is 0.05\n",
      "2022-04-10 16:58:02,317 DEBUG    [meta_explanation_session.py:188] rho_rank is 1.9\n",
      "2022-04-10 16:58:02,317 INFO     [meta_explanation_session.py:193] computing top k\n",
      "2022-04-10 16:58:02,318 DEBUG    [meta_explanation_session.py:200] [`occupation` == \"Exec-managerial\", `age` == \"(40, 50]\", `relationship` == \"Own-child\", `occupation` == \"Prof-specialty\", `education` == \"Bachelors\"]\n",
      "2022-04-10 16:58:02,318 INFO     [meta_explanation_session.py:203] computing influence ci\n"
     ]
    },
    {
     "name": "stderr",
     "output_type": "stream",
     "text": [
      "100%|██████████| 5/5 [00:00<00:00,  8.55it/s]"
     ]
    },
    {
     "name": "stdout",
     "output_type": "stream",
     "text": [
      "2022-04-10 16:58:02,904 DEBUG    [meta_explanation_session.py:214] [(0.014692073122944162, 0.03717375649415368), (0.009505671946713437, 0.033271807497719796), (-0.00015150540984193594, 0.015213433272726305), (0.008901350183101082, 0.03056368176688522), (0.013050651990698912, 0.03417829218812417)]\n",
      "2022-04-10 16:58:02,905 INFO     [meta_explanation_session.py:217] computing rank ci\n"
     ]
    },
    {
     "name": "stderr",
     "output_type": "stream",
     "text": [
      "\n",
      "100%|██████████| 5/5 [00:00<00:00, 7828.11it/s]"
     ]
    },
    {
     "name": "stdout",
     "output_type": "stream",
     "text": [
      "2022-04-10 16:58:02,906 DEBUG    [meta_explanation_session.py:229] [(1, 6), (1, 9), (1, 92), (1, 16), (1, 8)]\n",
      "                          predicates Rel Inf 90-CI L Rel Inf 90-CI R  Rnk 95-CI L  Rnk 95-CI R\n",
      "0  `occupation` == \"Exec-managerial\"           3.67%           9.28%            1            6\n",
      "1         `education` == \"Bachelors\"           3.26%           8.53%            1            8\n",
      "2                `age` == \"(40, 50]\"           2.37%           8.31%            1            9\n",
      "3   `occupation` == \"Prof-specialty\"           2.22%           7.63%            1           16\n",
      "4      `relationship` == \"Own-child\"          -0.04%           3.80%            1           92\n",
      "                          predicates  Inf 95-CI L  Inf 95-CI R  Rnk 95-CI L  Rnk 95-CI R\n",
      "0  `occupation` == \"Exec-managerial\"     0.014692     0.037174            1            6\n",
      "1         `education` == \"Bachelors\"     0.013051     0.034178            1            8\n",
      "2                `age` == \"(40, 50]\"     0.009506     0.033272            1            9\n",
      "3   `occupation` == \"Prof-specialty\"     0.008901     0.030564            1           16\n",
      "4      `relationship` == \"Own-child\"    -0.000152     0.015213            1           92\n"
     ]
    },
    {
     "name": "stderr",
     "output_type": "stream",
     "text": [
      "\n"
     ]
    }
   ],
   "source": [
    "# Phase 3\n",
    "k = 5\n",
    "logger.debug(f'Length of predicates is {len(predicates)}')\n",
    "rho_expl = 2.0\n",
    "es.phase_3_submit_explanation_request()\n",
    "es.phase_3_prepare_explanation(k, rho_expl, random_seed = 12532) # 12535, 12534\n",
    "with pd.option_context('display.max_rows', None, 'display.max_columns', None, \n",
    "'display.max_colwidth', 1000, 'display.width', 1000):\n",
    "    t1, t2 = es.phase_3_show_explanation_table()\n",
    "    print(t1)\n",
    "    print(t2)"
   ]
  },
  {
   "cell_type": "code",
   "execution_count": 104,
   "metadata": {},
   "outputs": [
    {
     "name": "stdout",
     "output_type": "stream",
     "text": [
      "Positive Influences:  13\n",
      "                                topk rel-influence\n",
      "0  `occupation` == \"Exec-managerial\"         6.19%\n",
      "1         `education` == \"Bachelors\"         6.11%\n",
      "2                `age` == \"(40, 50]\"         5.59%\n",
      "3   `occupation` == \"Prof-specialty\"         4.84%\n",
      "4           `education` == \"Masters\"         2.81%\n"
     ]
    }
   ],
   "source": [
    "k = 5\n",
    "with pd.option_context('display.max_rows', None, 'display.max_columns', None, \n",
    "'display.max_colwidth', 1000, 'display.width', 1000):\n",
    "    print(es.phase_3_true_top_k(k))"
   ]
  },
  {
   "cell_type": "code",
   "execution_count": null,
   "metadata": {},
   "outputs": [],
   "source": []
  }
 ],
 "metadata": {
  "kernelspec": {
   "display_name": "Python 3",
   "language": "python",
   "name": "python3"
  },
  "language_info": {
   "codemirror_mode": {
    "name": "ipython",
    "version": 3
   },
   "file_extension": ".py",
   "mimetype": "text/x-python",
   "name": "python",
   "nbconvert_exporter": "python",
   "pygments_lexer": "ipython3",
   "version": "3.8.5"
  }
 },
 "nbformat": 4,
 "nbformat_minor": 4
}
