{
 "cells": [
  {
   "cell_type": "code",
   "execution_count": 1,
   "metadata": {},
   "outputs": [],
   "source": [
    "%load_ext autoreload\n",
    "%autoreload 2"
   ]
  },
  {
   "cell_type": "code",
   "execution_count": 2,
   "metadata": {},
   "outputs": [],
   "source": [
    "import pandas as pd"
   ]
  },
  {
   "cell_type": "code",
   "execution_count": 44,
   "metadata": {},
   "outputs": [],
   "source": [
    "ipums = pd.read_csv('../data/ipums/ipumscps.csv')"
   ]
  },
  {
   "cell_type": "code",
   "execution_count": 45,
   "metadata": {},
   "outputs": [],
   "source": [
    "df = ipums.sample(frac=0.2)"
   ]
  },
  {
   "cell_type": "code",
   "execution_count": 46,
   "metadata": {},
   "outputs": [
    {
     "data": {
      "text/plain": [
       "126038"
      ]
     },
     "execution_count": 46,
     "metadata": {},
     "output_type": "execute_result"
    }
   ],
   "source": [
    "len(df)"
   ]
  },
  {
   "cell_type": "code",
   "execution_count": 4,
   "metadata": {},
   "outputs": [
    {
     "data": {
      "text/html": [
       "<div>\n",
       "<style scoped>\n",
       "    .dataframe tbody tr th:only-of-type {\n",
       "        vertical-align: middle;\n",
       "    }\n",
       "\n",
       "    .dataframe tbody tr th {\n",
       "        vertical-align: top;\n",
       "    }\n",
       "\n",
       "    .dataframe thead th {\n",
       "        text-align: right;\n",
       "    }\n",
       "</style>\n",
       "<table border=\"1\" class=\"dataframe\">\n",
       "  <thead>\n",
       "    <tr style=\"text-align: right;\">\n",
       "      <th></th>\n",
       "      <th>ratio</th>\n",
       "      <th>cnt</th>\n",
       "    </tr>\n",
       "    <tr>\n",
       "      <th>EDUC</th>\n",
       "      <th></th>\n",
       "      <th></th>\n",
       "    </tr>\n",
       "  </thead>\n",
       "  <tbody>\n",
       "    <tr>\n",
       "      <th>Grade 10</th>\n",
       "      <td>16001.634830</td>\n",
       "      <td>14585</td>\n",
       "    </tr>\n",
       "    <tr>\n",
       "      <th>Grade 11</th>\n",
       "      <td>16305.004841</td>\n",
       "      <td>17764</td>\n",
       "    </tr>\n",
       "    <tr>\n",
       "      <th>Grade 9</th>\n",
       "      <td>16900.903476</td>\n",
       "      <td>12111</td>\n",
       "    </tr>\n",
       "    <tr>\n",
       "      <th>None or preschool</th>\n",
       "      <td>17985.533937</td>\n",
       "      <td>1768</td>\n",
       "    </tr>\n",
       "    <tr>\n",
       "      <th>Grades 7 or 8</th>\n",
       "      <td>19388.422854</td>\n",
       "      <td>11044</td>\n",
       "    </tr>\n",
       "    <tr>\n",
       "      <th>Grades 1, 2, 3, or 4</th>\n",
       "      <td>20226.544358</td>\n",
       "      <td>3979</td>\n",
       "    </tr>\n",
       "    <tr>\n",
       "      <th>Grades 5 or 6</th>\n",
       "      <td>22263.893708</td>\n",
       "      <td>8392</td>\n",
       "    </tr>\n",
       "    <tr>\n",
       "      <th>12th grade, no diploma</th>\n",
       "      <td>23132.302223</td>\n",
       "      <td>9043</td>\n",
       "    </tr>\n",
       "    <tr>\n",
       "      <th>High school diploma or equivalent</th>\n",
       "      <td>32399.334546</td>\n",
       "      <td>175438</td>\n",
       "    </tr>\n",
       "    <tr>\n",
       "      <th>Some college but no degree</th>\n",
       "      <td>35568.332165</td>\n",
       "      <td>114380</td>\n",
       "    </tr>\n",
       "    <tr>\n",
       "      <th>Associate's degree, occupational/vocational program</th>\n",
       "      <td>42446.462429</td>\n",
       "      <td>27308</td>\n",
       "    </tr>\n",
       "    <tr>\n",
       "      <th>Associate's degree, academic program</th>\n",
       "      <td>42725.243225</td>\n",
       "      <td>35202</td>\n",
       "    </tr>\n",
       "    <tr>\n",
       "      <th>Bachelor's degree</th>\n",
       "      <td>63101.230250</td>\n",
       "      <td>125833</td>\n",
       "    </tr>\n",
       "    <tr>\n",
       "      <th>Master's degree</th>\n",
       "      <td>78218.571957</td>\n",
       "      <td>53574</td>\n",
       "    </tr>\n",
       "    <tr>\n",
       "      <th>Doctorate degree</th>\n",
       "      <td>112715.086071</td>\n",
       "      <td>11142</td>\n",
       "    </tr>\n",
       "    <tr>\n",
       "      <th>Professional school degree</th>\n",
       "      <td>130260.736208</td>\n",
       "      <td>8628</td>\n",
       "    </tr>\n",
       "  </tbody>\n",
       "</table>\n",
       "</div>"
      ],
      "text/plain": [
       "                                                            ratio     cnt\n",
       "EDUC                                                                     \n",
       "Grade 10                                             16001.634830   14585\n",
       "Grade 11                                             16305.004841   17764\n",
       "Grade 9                                              16900.903476   12111\n",
       "None or preschool                                    17985.533937    1768\n",
       "Grades 7 or 8                                        19388.422854   11044\n",
       "Grades 1, 2, 3, or 4                                 20226.544358    3979\n",
       "Grades 5 or 6                                        22263.893708    8392\n",
       "12th grade, no diploma                               23132.302223    9043\n",
       "High school diploma or equivalent                    32399.334546  175438\n",
       "Some college but no degree                           35568.332165  114380\n",
       "Associate's degree, occupational/vocational pro...   42446.462429   27308\n",
       "Associate's degree, academic program                 42725.243225   35202\n",
       "Bachelor's degree                                    63101.230250  125833\n",
       "Master's degree                                      78218.571957   53574\n",
       "Doctorate degree                                    112715.086071   11142\n",
       "Professional school degree                          130260.736208    8628"
      ]
     },
     "execution_count": 4,
     "metadata": {},
     "output_type": "execute_result"
    }
   ],
   "source": [
    "df.groupby('EDUC').agg(ratio=('INCTOT', 'mean'), cnt=('INCTOT', 'count')).sort_values('ratio')"
   ]
  },
  {
   "cell_type": "code",
   "execution_count": 47,
   "metadata": {},
   "outputs": [],
   "source": [
    "import sys\n",
    "sys.path.append('../')\n",
    "\n",
    "import pandas as pd\n",
    "import pprint\n",
    "\n",
    "from privex.components.basic import Schema, Dataset, GroupbyQuery, Question\n",
    "from privex.components.utils import generate_explanation_predicates\n",
    "from privex.framework.solution import ExplanationSession\n",
    "\n",
    "import logging\n",
    "logger = logging.getLogger(__name__)"
   ]
  },
  {
   "cell_type": "code",
   "execution_count": 53,
   "metadata": {},
   "outputs": [],
   "source": [
    "ipums = pd.read_csv('../data/ipums/ipumscps.csv')"
   ]
  },
  {
   "cell_type": "code",
   "execution_count": 70,
   "metadata": {},
   "outputs": [
    {
     "name": "stdout",
     "output_type": "stream",
     "text": [
      "630191\n"
     ]
    }
   ],
   "source": [
    "df = ipums.sample(frac=1)\n",
    "print(len(df))\n",
    "schema = Schema.from_json('../data/ipums/ipumscps.json')\n",
    "dataset = Dataset(df, schema)\n",
    "gamma = 0.95\n",
    "attributes = ['RELATE', 'SEX', 'RACE', 'CITIZEN', 'CLASSWKR', 'EDUC']#, 'OCC']\n",
    "predicates = generate_explanation_predicates(attributes, schema, strategy='1-way marginal')\n",
    "#predicates = predicates[:10]\n",
    "#predicates += generate_explanation_predicates(attributes, schema, strategy='2-way marginal')\n",
    "es = ExplanationSession(dataset, gamma, predicates)"
   ]
  },
  {
   "cell_type": "code",
   "execution_count": 71,
   "metadata": {},
   "outputs": [
    {
     "name": "stdout",
     "output_type": "stream",
     "text": [
      "submiited queries with rho = 0.001\n",
      "                     group        answer  truth (hidden)\n",
      "1     Never married/single  29620.368259    29787.120008\n",
      "2                  Widowed  30777.590323    32017.555066\n",
      "0                Separated  28600.382862    34539.103627\n",
      "3   Married, spouse absent  36531.384853    42418.966090\n",
      "4                 Divorced  43741.552503    43961.069032\n",
      "5  Married, spouse present  54630.673945    54584.651732\n"
     ]
    }
   ],
   "source": [
    "# Phase 1\n",
    "groupby_query = GroupbyQuery(\n",
    "    agg = 'AVG',\n",
    "    attr_agg = 'INCTOT',\n",
    "    predicate = None,\n",
    "    attr_group = 'MARST',\n",
    "    schema = schema\n",
    ")\n",
    "rho_query = 0.001\n",
    "es.phase_1_submit_query(groupby_query, rho_query)\n",
    "print(f'submiited queries with rho = {rho_query}')\n",
    "nr = es.phase_1_show_query_results()\n",
    "nr['group'] = nr['group'].apply(lambda row: row[0])\n",
    "gt = df.groupby('MARST').agg(answer=('INCTOT', 'mean')).reset_index()\n",
    "gt = gt.rename(columns={'MARST': 'group'})\n",
    "print(nr.merge(gt, on='group').rename(columns={'answer_x':'answer', 'answer_y': 'truth (hidden)'}).sort_values('truth (hidden)'))"
   ]
  },
  {
   "cell_type": "code",
   "execution_count": 72,
   "metadata": {},
   "outputs": [
    {
     "name": "stdout",
     "output_type": "stream",
     "text": [
      "question:  Why AVG(INCTOT) WHERE `MARST` == \"Married, spouse absent\" >= AVG(INCTOT) WHERE `MARST` == \"Divorced\"?\n",
      "The 95% confidence interval of the difference is  (-7578.852479099871, -6836.038218264461)\n"
     ]
    }
   ],
   "source": [
    "# Phase 2\n",
    "#question = Question.from_group_comparison(groupby_query, 'Prof-school', 'Doctorate')\n",
    "question = Question.from_group_comparison(groupby_query, ('Married, spouse absent',), ('Divorced',))\n",
    "es.phase_2_submit_question(question)\n",
    "es.phase_2_prepare_question_ci()\n",
    "ci = es.phase_2_show_question_ci()\n",
    "print('question: ', question.to_natural_language())\n",
    "print(f'The {gamma*100:.0f}% confidence interval of the difference is ', ci)"
   ]
  },
  {
   "cell_type": "code",
   "execution_count": 73,
   "metadata": {},
   "outputs": [
    {
     "name": "stdout",
     "output_type": "stream",
     "text": [
      "question:  Why AVG(INCTOT) WHERE `MARST` == \"Married, spouse present\" >= AVG(INCTOT) WHERE `MARST` == \"Never married/single\"?\n",
      "The 95% confidence interval of the difference is  (24983.548844319983, 25037.055146973882)\n"
     ]
    }
   ],
   "source": [
    "# Phase 2\n",
    "#question = Question.from_group_comparison(groupby_query, 'Prof-school', 'Doctorate')\n",
    "question = Question.from_group_comparison(groupby_query, ('Married, spouse present',), ('Never married/single',))\n",
    "es.phase_2_submit_question(question)\n",
    "es.phase_2_prepare_question_ci()\n",
    "ci = es.phase_2_show_question_ci()\n",
    "print('question: ', question.to_natural_language())\n",
    "print(f'The {gamma*100:.0f}% confidence interval of the difference is ', ci)"
   ]
  },
  {
   "cell_type": "code",
   "execution_count": 75,
   "metadata": {},
   "outputs": [
    {
     "name": "stdout",
     "output_type": "stream",
     "text": [
      "2022-04-10 17:18:45,811 DEBUG    [<ipython-input-75-7c846f656983>:3] Length of predicates is 111\n",
      "(`MARST` == \"Married, spouse present\")or(`MARST` == \"Never married/single\")\n",
      "2022-04-10 17:18:45,858 INFO     [influence_function.py:24] Dataset relative to the question has length 505962\n",
      "2022-04-10 17:19:09,557 DEBUG    [meta_explanation_session.py:143] 111 predicates and their influences & scores have been loaded.\n",
      "2022-04-10 17:19:09,563 DEBUG    [meta_explanation_session.py:147] \n",
      "         influence         score\n",
      "count   111.000000  1.110000e+02\n",
      "mean     -3.871889 -1.313697e+06\n",
      "std     570.547317  1.935816e+08\n",
      "min   -2918.057612 -9.900707e+08\n",
      "25%     -13.020279 -4.417664e+06\n",
      "50%       0.000000  0.000000e+00\n",
      "75%       0.320958  1.088980e+05\n",
      "max    3058.268787  1.037643e+09\n",
      "2022-04-10 17:19:09,564 DEBUG    [meta_explanation_session.py:185] total rho_expl is 1.0\n",
      "2022-04-10 17:19:09,564 DEBUG    [meta_explanation_session.py:186] rho_topk is 0.025\n",
      "2022-04-10 17:19:09,565 DEBUG    [meta_explanation_session.py:187] rho_ci is 0.025\n",
      "2022-04-10 17:19:09,565 DEBUG    [meta_explanation_session.py:188] rho_rank is 0.95\n",
      "2022-04-10 17:19:09,565 INFO     [meta_explanation_session.py:193] computing top k\n",
      "2022-04-10 17:19:09,566 DEBUG    [meta_explanation_session.py:200] [`SEX` == \"Male\", `EDUC` == \"1 year of college\", `RELATE` == \"Child\", `CLASSWKR` == \"Self-employed, incorporated\", `RELATE` == \"Opposite sex unmarried partner\"]\n",
      "2022-04-10 17:19:09,566 INFO     [meta_explanation_session.py:203] computing influence ci\n"
     ]
    },
    {
     "name": "stderr",
     "output_type": "stream",
     "text": [
      "100%|██████████| 5/5 [00:02<00:00,  2.08it/s]"
     ]
    },
    {
     "name": "stdout",
     "output_type": "stream",
     "text": [
      "2022-04-10 17:19:11,966 DEBUG    [meta_explanation_session.py:214] [(3153.592411479239, 3201.3320447693936), (-50.41319712384169, 8.878031903992582), (2613.184699378917, 2666.957601751099), (469.5574897572796, 529.0749306203855), (-129.89631784565466, -71.4531837415002)]\n",
      "2022-04-10 17:19:11,967 INFO     [meta_explanation_session.py:217] computing rank ci\n"
     ]
    },
    {
     "name": "stderr",
     "output_type": "stream",
     "text": [
      "\n",
      "100%|██████████| 5/5 [00:00<00:00, 7587.38it/s]"
     ]
    },
    {
     "name": "stdout",
     "output_type": "stream",
     "text": [
      "2022-04-10 17:19:11,969 DEBUG    [meta_explanation_session.py:229] [(1, 3), (1, 108), (1, 3), (1, 106), (1, 108)]\n",
      "                                     predicates Rel Inf 90-CI L Rel Inf 90-CI R  Rnk 95-CI L  Rnk 95-CI R\n",
      "0                               `SEX` == \"Male\"          12.61%          12.80%            1            3\n",
      "1                           `RELATE` == \"Child\"          10.45%          10.66%            1            3\n",
      "2   `CLASSWKR` == \"Self-employed, incorporated\"           1.88%           2.12%            1          106\n",
      "3                 `EDUC` == \"1 year of college\"          -0.20%           0.04%            1          108\n",
      "4  `RELATE` == \"Opposite sex unmarried partner\"          -0.52%          -0.29%            1          108\n",
      "                                     predicates  Inf 95-CI L  Inf 95-CI R  Rnk 95-CI L  Rnk 95-CI R\n",
      "0                               `SEX` == \"Male\"  3153.592411  3201.332045            1            3\n",
      "1                           `RELATE` == \"Child\"  2613.184699  2666.957602            1            3\n",
      "2   `CLASSWKR` == \"Self-employed, incorporated\"   469.557490   529.074931            1          106\n",
      "3                 `EDUC` == \"1 year of college\"   -50.413197     8.878032            1          108\n",
      "4  `RELATE` == \"Opposite sex unmarried partner\"  -129.896318   -71.453184            1          108\n"
     ]
    },
    {
     "name": "stderr",
     "output_type": "stream",
     "text": [
      "\n"
     ]
    }
   ],
   "source": [
    "# Phase 3\n",
    "k = 5\n",
    "logger.debug(f'Length of predicates is {len(predicates)}')\n",
    "rho_expl = 1.0\n",
    "es.phase_3_submit_explanation_request()\n",
    "es.phase_3_prepare_explanation(k, rho_expl)\n",
    "with pd.option_context('display.max_rows', None, 'display.max_columns', None, \n",
    "'display.max_colwidth', 1000, 'display.width', 1000):\n",
    "    t1, t2 = es.phase_3_show_explanation_table()\n",
    "    print(t1)\n",
    "    print(t2)"
   ]
  },
  {
   "cell_type": "code",
   "execution_count": null,
   "metadata": {},
   "outputs": [],
   "source": [
    "# originally, it takes 4 minutes to finish phase 3"
   ]
  }
 ],
 "metadata": {
  "kernelspec": {
   "display_name": "Python 3",
   "language": "python",
   "name": "python3"
  },
  "language_info": {
   "codemirror_mode": {
    "name": "ipython",
    "version": 3
   },
   "file_extension": ".py",
   "mimetype": "text/x-python",
   "name": "python",
   "nbconvert_exporter": "python",
   "pygments_lexer": "ipython3",
   "version": "3.8.5"
  }
 },
 "nbformat": 4,
 "nbformat_minor": 4
}
