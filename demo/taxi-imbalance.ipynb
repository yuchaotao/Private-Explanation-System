{
 "cells": [
  {
   "cell_type": "code",
   "execution_count": 1,
   "metadata": {},
   "outputs": [],
   "source": [
    "%load_ext autoreload\n",
    "%autoreload 2"
   ]
  },
  {
   "cell_type": "code",
   "execution_count": 2,
   "metadata": {},
   "outputs": [],
   "source": [
    "import sys\n",
    "sys.path.append('../')\n",
    "\n",
    "import pandas as pd\n",
    "import pprint\n",
    "\n",
    "from privex.components.basic import Schema, Dataset, Predicate, GroupbyQuery, Question\n",
    "from privex.components.utils import generate_explanation_predicates\n",
    "from privex.framework.solution import ExplanationSession\n",
    "\n",
    "import logging\n",
    "logger = logging.getLogger(__name__)"
   ]
  },
  {
   "cell_type": "code",
   "execution_count": 49,
   "metadata": {},
   "outputs": [],
   "source": [
    "df = pd.read_csv('../data/taxi/taxi_imbalance.csv')\n",
    "schema = Schema.from_json('../data/taxi/taxi.json')\n",
    "dataset = Dataset(df, schema)\n",
    "gamma = 0.95\n",
    "attributes = ['PU_Zone', 'PU_Hour', 'PU_WeekDay', 'DO_Zone', 'DO_Hour', 'DO_WeekDay']\n",
    "zones = list(\n",
    "    df.query('PU_Borough == \"Brooklyn\"')['PU_Zone'].unique()\n",
    ") + list(\n",
    "    df.query('PU_Borough == \"Queens\"')['PU_Zone'].unique()\n",
    ")\n",
    "predicates = [\n",
    "    Predicate(f'`PU_Zone` == \"{zone}\" or `DO_Zone` == \"{zone}\"')\n",
    "    for zone in zones\n",
    "]\n",
    "es = ExplanationSession(dataset, gamma, predicates, random_seed = 10523)"
   ]
  },
  {
   "cell_type": "code",
   "execution_count": 50,
   "metadata": {},
   "outputs": [
    {
     "name": "stdout",
     "output_type": "stream",
     "text": [
      "submiited queries with rho = 0.1\n",
      "                             group         answer\n",
      "4            (Manhattan, Brooklyn)      -3.644976\n",
      "29                 (Bronx, Queens)      -2.840827\n",
      "8                (Unknown, Queens)      -2.831044\n",
      "19                   (Queens, EWR)      -2.016936\n",
      "17               (Queens, Unknown)      -1.975370\n",
      "9                 (Unknown, Bronx)      -1.823035\n",
      "44          (Staten Island, Bronx)      -1.772644\n",
      "20         (Queens, Staten Island)      -1.602404\n",
      "26                 (Brooklyn, EWR)      -1.217854\n",
      "2               (Manhattan, Bronx)      -1.154666\n",
      "7             (Unknown, Manhattan)      -1.096609\n",
      "27       (Brooklyn, Staten Island)      -1.080694\n",
      "23               (Brooklyn, Bronx)      -0.560931\n",
      "16                 (Queens, Bronx)      -0.531726\n",
      "38                  (EWR, Unknown)      -0.268910\n",
      "47            (Staten Island, EWR)      -0.246043\n",
      "35                (EWR, Manhattan)      -0.018620\n",
      "13        (Unknown, Staten Island)       0.125860\n",
      "48  (Staten Island, Staten Island)       0.202158\n",
      "30                  (Bronx, Bronx)       0.314047\n",
      "15                (Queens, Queens)       0.382685\n",
      "24             (Brooklyn, Unknown)       0.427309\n",
      "12                  (Unknown, EWR)       0.491292\n",
      "25            (Brooklyn, Brooklyn)       0.546143\n",
      "45        (Staten Island, Unknown)       0.672486\n",
      "21           (Brooklyn, Manhattan)       0.689732\n",
      "34          (Bronx, Staten Island)       0.703422\n",
      "31                (Bronx, Unknown)       0.776135\n",
      "42      (Staten Island, Manhattan)       0.928866\n",
      "39                 (EWR, Brooklyn)       0.988836\n",
      "36                   (EWR, Queens)       1.133139\n",
      "10              (Unknown, Unknown)       1.147357\n",
      "28              (Bronx, Manhattan)       1.413480\n",
      "11             (Unknown, Brooklyn)       1.840133\n",
      "32               (Bronx, Brooklyn)       1.846608\n",
      "3             (Manhattan, Unknown)       1.902057\n",
      "46       (Staten Island, Brooklyn)       1.967981\n",
      "37                    (EWR, Bronx)       2.123304\n",
      "1              (Manhattan, Queens)       2.188631\n",
      "6       (Manhattan, Staten Island)       2.234696\n",
      "41            (EWR, Staten Island)       2.694911\n",
      "33                    (Bronx, EWR)       2.892087\n",
      "5                 (Manhattan, EWR)       2.946291\n",
      "0           (Manhattan, Manhattan)       3.229926\n",
      "43         (Staten Island, Queens)       3.403929\n",
      "40                      (EWR, EWR)       4.101747\n",
      "14             (Queens, Manhattan)       5.531034\n",
      "22              (Brooklyn, Queens)   11431.044521\n",
      "18              (Queens, Brooklyn)  121934.530519\n"
     ]
    }
   ],
   "source": [
    "# Phase 1\n",
    "groupby_query = GroupbyQuery(\n",
    "    agg = 'CNT',\n",
    "    attr_agg = 'trip_speed',\n",
    "    predicate = None,\n",
    "    attr_group = ['PU_Borough', 'DO_Borough'],\n",
    "    schema = schema\n",
    ")\n",
    "rho_query = 0.1\n",
    "es.phase_1_submit_query(groupby_query, rho_query)\n",
    "print(f'submiited queries with rho = {rho_query}')\n",
    "with pd.option_context('display.max_rows', None, 'display.max_columns', None, \n",
    "'display.max_colwidth', 1000):\n",
    "    print(es.phase_1_show_query_results())"
   ]
  },
  {
   "cell_type": "code",
   "execution_count": 51,
   "metadata": {},
   "outputs": [
    {
     "data": {
      "text/plain": [
       "(49, 2)"
      ]
     },
     "execution_count": 51,
     "metadata": {},
     "output_type": "execute_result"
    }
   ],
   "source": [
    "es.phase_1_show_query_results().shape"
   ]
  },
  {
   "cell_type": "code",
   "execution_count": 52,
   "metadata": {},
   "outputs": [
    {
     "name": "stdout",
     "output_type": "stream",
     "text": [
      "question:  ([(CNT(trip_speed) WHERE `PU_Borough` == \"Queens\" and `DO_Borough` == \"Brooklyn\", 1), (CNT(trip_speed) WHERE `PU_Borough` == \"Brooklyn\" and `DO_Borough` == \"Queens\", -10)], 0)\n",
      "The noisy group difference is  7624.085314090087\n",
      "The 95% confidence interval of the difference is  (7580.04060153057, 7668.130026649605)\n"
     ]
    }
   ],
   "source": [
    "# Phase 2\n",
    "def weight_mapping(group):\n",
    "    if group == ('Brooklyn', 'Queens'):\n",
    "        return -10\n",
    "    if group == ('Queens', 'Brooklyn'):\n",
    "        return 1\n",
    "    return 0\n",
    "group_weights = {\n",
    "    group: weight_mapping(group)\n",
    "    for group in groupby_query.groups\n",
    "}\n",
    "question = Question.from_group_weights(groupby_query, group_weights)\n",
    "es.phase_2_submit_question(question)\n",
    "es.phase_2_prepare_question_ci()\n",
    "ci = es.phase_2_show_question_ci()\n",
    "point = es.phase_2_show_question_point()\n",
    "print('question: ', question.to_natural_language())\n",
    "print('The noisy group difference is ', point)\n",
    "print(f'The {gamma*100:.0f}% confidence interval of the difference is ', ci)\n",
    "rho_expl = 1.0"
   ]
  },
  {
   "cell_type": "code",
   "execution_count": 56,
   "metadata": {},
   "outputs": [
    {
     "name": "stdout",
     "output_type": "stream",
     "text": [
      "2022-04-11 13:45:03,657 DEBUG    [<ipython-input-56-40f55a58d9b1>:3] Length of predicates is 127\n",
      "(`PU_Borough` == \"Queens\" and `DO_Borough` == \"Brooklyn\")or(`PU_Borough` == \"Brooklyn\" and `DO_Borough` == \"Queens\")\n",
      "2022-04-11 13:45:03,677 INFO     [influence_function.py:24] Dataset relative to the question has length 133372\n",
      "2022-04-11 13:45:27,372 DEBUG    [meta_explanation_session.py:154] 127 predicates and their influences & scores have been loaded.\n",
      "2022-04-11 13:45:27,379 DEBUG    [meta_explanation_session.py:158] \n",
      "         influence        score\n",
      "count   127.000000   127.000000\n",
      "mean      7.373480     7.373480\n",
      "std     540.759678   540.759678\n",
      "min    -709.157497  -709.157497\n",
      "25%    -104.808888  -104.808888\n",
      "50%     -25.253200   -25.253200\n",
      "75%      16.636589    16.636589\n",
      "max    5125.002280  5125.002280\n",
      "2022-04-11 13:45:27,379 DEBUG    [meta_explanation_session.py:207] total rho_expl is 1.0\n",
      "2022-04-11 13:45:27,380 DEBUG    [meta_explanation_session.py:208] rho_topk is 0.025\n",
      "2022-04-11 13:45:27,380 DEBUG    [meta_explanation_session.py:209] rho_ci is 0.025\n",
      "2022-04-11 13:45:27,380 DEBUG    [meta_explanation_session.py:210] rho_rank is 0.95\n",
      "2022-04-11 13:45:27,381 INFO     [meta_explanation_session.py:215] computing top k\n",
      "2022-04-11 13:45:27,381 INFO     [noisy_topk.py:25] true_topk_scores: [5125.002279828439, 2780.339153183149, 405.83189955633554, 223.7925930178204, 217.94858084780094]\n",
      "2022-04-11 13:45:27,382 INFO     [noisy_topk.py:26] gumbel_topk_scores: [5182.460538878193, 2434.554611410171, 380.2557272404332, 328.8278692524694, 170.71029499502458]\n",
      "2022-04-11 13:45:27,382 DEBUG    [meta_explanation_session.py:222] [`PU_Zone` == \"JFK Airport\" or `DO_Zone` == \"JFK Airport\", `PU_Zone` == \"LaGuardia Airport\" or `DO_Zone` == \"LaGuardia Airport\", `PU_Zone` == \"Queensboro Hill\" or `DO_Zone` == \"Queensboro Hill\", `PU_Zone` == \"Bay Ridge\" or `DO_Zone` == \"Bay Ridge\", `PU_Zone` == \"Flushing\" or `DO_Zone` == \"Flushing\"]\n",
      "2022-04-11 13:45:27,382 INFO     [meta_explanation_session.py:225] computing influence ci\n"
     ]
    },
    {
     "name": "stderr",
     "output_type": "stream",
     "text": [
      "100%|██████████| 5/5 [00:00<00:00,  5.28it/s]"
     ]
    },
    {
     "name": "stdout",
     "output_type": "stream",
     "text": [
      "2022-04-11 13:45:28,331 DEBUG    [meta_explanation_session.py:236] [(4209.2064264939245, 5502.78265629036), (2191.933138585652, 3485.509368382088), (-819.5937694397498, 473.98246035668603), (505.8786373426184, 1799.4548671390544), (-954.3563719948218, 339.2198578016142)]\n",
      "2022-04-11 13:45:28,331 INFO     [meta_explanation_session.py:239] computing rank ci\n"
     ]
    },
    {
     "name": "stderr",
     "output_type": "stream",
     "text": [
      "\n",
      "100%|██████████| 5/5 [00:00<00:00, 7755.74it/s]"
     ]
    },
    {
     "name": "stdout",
     "output_type": "stream",
     "text": [
      "2022-04-11 13:45:28,333 DEBUG    [meta_explanation_session.py:251] [(1, 1), (1, 3), (3, 127), (3, 127), (3, 127)]\n",
      "                                                             predicates Rel Inf 90-CI L Rel Inf 90-CI R  Rnk 95-CI L  Rnk 95-CI R\n",
      "0              `PU_Zone` == \"JFK Airport\" or `DO_Zone` == \"JFK Airport\"          55.21%          72.18%            1            1\n",
      "1  `PU_Zone` == \"LaGuardia Airport\" or `DO_Zone` == \"LaGuardia Airport\"          28.75%          45.72%            1            3\n",
      "2                  `PU_Zone` == \"Bay Ridge\" or `DO_Zone` == \"Bay Ridge\"           6.64%          23.60%            3          127\n",
      "3      `PU_Zone` == \"Queensboro Hill\" or `DO_Zone` == \"Queensboro Hill\"         -10.75%           6.22%            3          127\n",
      "4                    `PU_Zone` == \"Flushing\" or `DO_Zone` == \"Flushing\"         -12.52%           4.45%            3          127\n",
      "                                                             predicates  Inf 95-CI L  Inf 95-CI R  Rnk 95-CI L  Rnk 95-CI R\n",
      "0              `PU_Zone` == \"JFK Airport\" or `DO_Zone` == \"JFK Airport\"  4209.206426  5502.782656            1            1\n",
      "1  `PU_Zone` == \"LaGuardia Airport\" or `DO_Zone` == \"LaGuardia Airport\"  2191.933139  3485.509368            1            3\n",
      "2                  `PU_Zone` == \"Bay Ridge\" or `DO_Zone` == \"Bay Ridge\"   505.878637  1799.454867            3          127\n",
      "3      `PU_Zone` == \"Queensboro Hill\" or `DO_Zone` == \"Queensboro Hill\"  -819.593769   473.982460            3          127\n",
      "4                    `PU_Zone` == \"Flushing\" or `DO_Zone` == \"Flushing\"  -954.356372   339.219858            3          127\n"
     ]
    },
    {
     "name": "stderr",
     "output_type": "stream",
     "text": [
      "\n"
     ]
    }
   ],
   "source": [
    "# Phase 3\n",
    "k = 5\n",
    "logger.debug(f'Length of predicates is {len(predicates)}')\n",
    "rho_expl = 1.0\n",
    "es.phase_3_submit_explanation_request()\n",
    "es.phase_3_prepare_explanation(k, rho_expl, random_seed = 10523)\n",
    "with pd.option_context('display.max_rows', None, 'display.max_columns', None, \n",
    "'display.max_colwidth', 1000, 'display.width', None, 'display.expand_frame_repr', False):\n",
    "    t1, t2 = es.phase_3_show_explanation_table()\n",
    "    print(t1)\n",
    "    print(t2)"
   ]
  },
  {
   "cell_type": "code",
   "execution_count": null,
   "metadata": {},
   "outputs": [],
   "source": []
  }
 ],
 "metadata": {
  "kernelspec": {
   "display_name": "py37",
   "language": "python",
   "name": "py37"
  },
  "language_info": {
   "codemirror_mode": {
    "name": "ipython",
    "version": 3
   },
   "file_extension": ".py",
   "mimetype": "text/x-python",
   "name": "python",
   "nbconvert_exporter": "python",
   "pygments_lexer": "ipython3",
   "version": "3.7.4"
  }
 },
 "nbformat": 4,
 "nbformat_minor": 4
}
