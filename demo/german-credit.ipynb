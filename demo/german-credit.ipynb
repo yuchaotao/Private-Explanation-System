{
 "cells": [
  {
   "cell_type": "code",
   "execution_count": null,
   "metadata": {},
   "outputs": [],
   "source": [
    "%load_ext autoreload\n",
    "%autoreload 2"
   ]
  },
  {
   "cell_type": "code",
   "execution_count": 2,
   "metadata": {},
   "outputs": [],
   "source": [
    "import sys\n",
    "sys.path.append('../')\n",
    "\n",
    "import pandas as pd\n",
    "import pprint\n",
    "\n",
    "from privex.components.basic import Schema, Dataset, GroupbyQuery, Question\n",
    "from privex.components.utils import generate_explanation_predicates\n",
    "from privex.framework.solution import ExplanationSession\n",
    "\n",
    "import logging\n",
    "logger = logging.getLogger(__name__)"
   ]
  },
  {
   "cell_type": "code",
   "execution_count": 3,
   "metadata": {},
   "outputs": [
    {
     "name": "stdout",
     "output_type": "stream",
     "text": [
      "1000000\n",
      "2022-05-27 16:32:26,709 INFO     [meta_explanation_session.py:25] 82 predicates for the explanation.\n"
     ]
    }
   ],
   "source": [
    "df = pd.read_csv('../data/german/synthetic_german.csv')\n",
    "print(len(df))\n",
    "schema = Schema.from_json('../data/german/german.json')\n",
    "dataset = Dataset(df, schema)\n",
    "gamma = 0.95\n",
    "attributes = ['duration', 'credit-history', 'purpose', 'credit-amount', 'saving-account', 'employment', 'installment-rate', 'sex-marst', 'other-debtors', 'residence', 'property', 'age', 'other-installment-plans', 'housing', 'existing-credits', 'job', 'people-liable', 'telephone', 'foreign-worker']\n",
    "predicates = generate_explanation_predicates(attributes, schema, strategy='1-way marginal')\n",
    "#predicates = predicates[:10]\n",
    "#predicates += generate_explanation_predicates(attributes, schema, strategy='2-way marginal')\n",
    "es = ExplanationSession(dataset, gamma, predicates, random_seed = 152636)"
   ]
  },
  {
   "cell_type": "code",
   "execution_count": 4,
   "metadata": {},
   "outputs": [
    {
     "name": "stdout",
     "output_type": "stream",
     "text": [
      "submiited queries with rho = 0.1\n",
      "                                        group    answer  truth (hidden)\n",
      "0                         no checking account  0.526573        0.526574\n",
      "1                                  ... < 0 DM  0.574456        0.574466\n",
      "2                            0<= ... < 200 DM  0.756216        0.756344\n",
      "3  ... >= 200 DM / salary for at least 1 year  0.863093        0.863093\n"
     ]
    }
   ],
   "source": [
    "# Phase 1\n",
    "groupby_query = GroupbyQuery(\n",
    "    agg = 'AVG',\n",
    "    attr_agg = 'good-credit',\n",
    "    predicate = None,\n",
    "    attr_group = 'status',\n",
    "    schema = schema\n",
    ")\n",
    "rho_query = 0.1\n",
    "es.phase_1_submit_query(groupby_query, rho_query)\n",
    "print(f'submiited queries with rho = {rho_query}')\n",
    "nr = es.phase_1_show_query_results()\n",
    "nr['group'] = nr['group'].apply(lambda row: row[0])\n",
    "gt = df.groupby('status').agg(answer=('good-credit', 'mean')).reset_index()\n",
    "gt = gt.rename(columns={'status': 'group'})\n",
    "print(nr.merge(gt, on='group').rename(columns={'answer_x':'answer', 'answer_y': 'truth (hidden)'}).sort_values('truth (hidden)'))"
   ]
  },
  {
   "cell_type": "code",
   "execution_count": 8,
   "metadata": {},
   "outputs": [
    {
     "name": "stdout",
     "output_type": "stream",
     "text": [
      "2022-05-27 16:33:16,529 INFO     [image.py:20] answers: [144026.5750581061, 273516.72303035343, 154607.9269292538, 269138.1833127718]\n",
      "2022-05-27 16:33:16,530 INFO     [image.py:21] sigmas: [3.162277660168379, 3.162277660168379, 3.162277660168379, 3.162277660168379]\n",
      "2022-05-27 16:33:16,530 INFO     [image.py:22] bounds: [(144018.6766198827, 144034.4734963295), (273508.82459213, 273524.62146857684), (154600.0284910304, 154615.8253674772), (269130.2848745484, 269146.0817509952)]\n",
      "question:  Why AVG(good-credit) WHERE `status` == \"... < 0 DM\" >= AVG(good-credit) WHERE `status` == \"no checking account\"?\n",
      "The 95% confidence interval of the difference is  (0.04779207887063275, 0.0479726572110577)\n",
      "2022-05-27 16:33:16,532 INFO     [<ipython-input-8-54446e20c51d>:8] question_point: 0.047882367957848726\n",
      "2022-05-27 16:33:16,800 INFO     [<ipython-input-8-54446e20c51d>:10] true question: 0.04789193497607158\n"
     ]
    }
   ],
   "source": [
    "# Phase 2\n",
    "question = Question.from_group_comparison(groupby_query, ('... < 0 DM',), ('no checking account',))\n",
    "es.phase_2_submit_question(question)\n",
    "es.phase_2_prepare_question_ci()\n",
    "ci = es.phase_2_show_question_ci()\n",
    "print('question: ', question.to_natural_language())\n",
    "print(f'The {gamma*100:.0f}% confidence interval of the difference is ', ci)\n",
    "logger.info(f'question_point: {es.question_point}')\n",
    "# groundtruth_ci = es.phase_2_ground_truth_ci(rho_query, gamma)\n",
    "logger.info(f'true question: {es.question.evaluation(es.dataset)}')\n",
    "# print(f'The {gamma*100:.0f}% confidence interval of ground truth is ', groundtruth_ci)"
   ]
  },
  {
   "cell_type": "code",
   "execution_count": 9,
   "metadata": {},
   "outputs": [
    {
     "name": "stdout",
     "output_type": "stream",
     "text": [
      "2022-05-27 16:33:18,304 DEBUG    [<ipython-input-9-716482da31c9>:3] Length of predicates is 82\n",
      "(`status` == \"no checking account\")or(`status` == \"... < 0 DM\")\n",
      "2022-05-27 16:33:18,417 INFO     [influence_function.py:24] Dataset relative to the question has length 542650\n",
      "2022-05-27 16:33:57,982 DEBUG    [meta_explanation_session.py:169] 82 predicates and their influences & scores have been loaded.\n",
      "2022-05-27 16:33:57,989 DEBUG    [meta_explanation_session.py:173] \n",
      "       influence         score\n",
      "count  82.000000     82.000000\n",
      "mean    0.000333     91.117826\n",
      "std     0.014304   3912.349348\n",
      "min    -0.057912 -15839.828271\n",
      "25%    -0.004585  -1253.962692\n",
      "50%     0.000003      0.761900\n",
      "75%     0.005414   1480.750210\n",
      "max     0.036828  10073.068379\n",
      "2022-05-27 16:33:57,990 DEBUG    [meta_explanation_session.py:213] total rho_expl is 2.0\n",
      "2022-05-27 16:33:57,990 DEBUG    [meta_explanation_session.py:214] rho_topk is 0.5\n",
      "2022-05-27 16:33:57,990 DEBUG    [meta_explanation_session.py:215] rho_ci is 0.5\n",
      "2022-05-27 16:33:57,991 DEBUG    [meta_explanation_session.py:216] rho_rank is 1.0\n",
      "2022-05-27 16:33:57,991 INFO     [meta_explanation_session.py:225] computing top k\n",
      "2022-05-27 16:33:57,991 INFO     [noisy_topk.py:11] gumbel scale: 35.77708763999664\n",
      "2022-05-27 16:33:57,992 INFO     [noisy_topk.py:20] topk_scores: [10073.068378785641, 9256.672959522752, 7100.533771243636, 6478.751354024425, 6333.094585039961]\n",
      "2022-05-27 16:33:57,992 INFO     [noisy_topk.py:21] gumbel_topk_scores: [10077.767294619429, 9343.884999242882, 7166.535807601038, 6480.321881197406, 6397.619659648221]\n",
      "2022-05-27 16:33:57,992 INFO     [noisy_topk.py:31] true_topk_scores: [10073.068378785641, 9256.672959522752, 7100.533771243636, 6478.751354024425, 6333.094585039961]\n",
      "2022-05-27 16:33:57,992 INFO     [noisy_topk.py:32] gumbel_true_topk_scores: [10077.767294619429, 9343.884999242882, 7166.535807601038, 6480.321881197406, 6397.619659648221]\n",
      "2022-05-27 16:33:57,993 DEBUG    [meta_explanation_session.py:232] [`existing-credits` == \"1\", `job` == \"skilled employee / official\", `sex-marst` == \"male : married/widowed\", `credit-amount` == \"(500, 2500]\", `credit-history` == \"no credits taken/all credits paid back duly\"]\n",
      "2022-05-27 16:33:57,993 INFO     [meta_explanation_session.py:248] computing influence ci\n"
     ]
    },
    {
     "name": "stderr",
     "output_type": "stream",
     "text": [
      "100%|██████████| 5/5 [00:02<00:00,  2.45it/s]"
     ]
    },
    {
     "name": "stdout",
     "output_type": "stream",
     "text": [
      "2022-05-27 16:34:00,38 DEBUG    [meta_explanation_session.py:259] [(10038.644554585431, 10178.888161077683), (9176.263254853591, 9316.506861345842), (7002.181555648282, 7142.425162140535), (6445.289253961989, 6585.532860454242), (6323.885055837214, 6464.128662329467)]\n",
      "2022-05-27 16:34:00,38 INFO     [meta_explanation_session.py:267] computing rank ci\n"
     ]
    },
    {
     "name": "stderr",
     "output_type": "stream",
     "text": [
      "\n",
      "100%|██████████| 5/5 [00:00<00:00, 8405.42it/s]"
     ]
    },
    {
     "name": "stdout",
     "output_type": "stream",
     "text": [
      "2022-05-27 16:34:00,41 DEBUG    [meta_explanation_session.py:280] [(1, 1), (1, 2), (2, 4), (2, 5), (2, 5)]\n",
      "                                                          predicates Rel Inf 90-CI L Rel Inf 90-CI R  Rnk 95-CI L  Rnk 95-CI R\n",
      "0                                          `existing-credits` == \"1\"          77.90%          78.99%            1            1\n",
      "1                             `job` == \"skilled employee / official\"          71.21%          72.29%            1            2\n",
      "2                            `sex-marst` == \"male : married/widowed\"          54.34%          55.42%            2            4\n",
      "3                                   `credit-amount` == \"(500, 2500]\"          50.01%          51.10%            2            5\n",
      "4  `credit-history` == \"no credits taken/all credits paid back duly\"          49.07%          50.16%            2            5\n",
      "                                                          predicates   Inf 95-CI L   Inf 95-CI R  Rnk 95-CI L  Rnk 95-CI R\n",
      "0                                          `existing-credits` == \"1\"  10038.644555  10178.888161            1            1\n",
      "1                             `job` == \"skilled employee / official\"   9176.263255   9316.506861            1            2\n",
      "2                            `sex-marst` == \"male : married/widowed\"   7002.181556   7142.425162            2            4\n",
      "3                                   `credit-amount` == \"(500, 2500]\"   6445.289254   6585.532860            2            5\n",
      "4  `credit-history` == \"no credits taken/all credits paid back duly\"   6323.885056   6464.128662            2            5\n"
     ]
    },
    {
     "name": "stderr",
     "output_type": "stream",
     "text": [
      "\n"
     ]
    }
   ],
   "source": [
    "# Phase 3\n",
    "k = 5\n",
    "logger.debug(f'Length of predicates is {len(predicates)}')\n",
    "es.phase_3_submit_explanation_request()\n",
    "es.phase_3_prepare_explanation(k, \n",
    "    {'rho_topk': 0.5, 'rho_influ': 0.5, 'rho_rank': 1.0}, split_factor = 0.9)\n",
    "with pd.option_context('display.max_rows', None, 'display.max_columns', None, \n",
    "'display.max_colwidth', 1000, 'display.width', 1000):\n",
    "    t1, t2 = es.phase_3_show_explanation_table()\n",
    "    print(t1)\n",
    "    print(t2)"
   ]
  },
  {
   "cell_type": "code",
   "execution_count": 10,
   "metadata": {},
   "outputs": [],
   "source": [
    "def get_influence_at_rank_i(es, i):\n",
    "    return es.predicates_with_influences[\n",
    "        es.sorted_predicates[i-1]\n",
    "    ]\n",
    "\n",
    "def get_score_at_rank_i(es, i):\n",
    "    return es.predicates_with_scores[\n",
    "        es.sorted_predicates[i-1]\n",
    "    ]"
   ]
  },
  {
   "cell_type": "code",
   "execution_count": 11,
   "metadata": {},
   "outputs": [
    {
     "name": "stdout",
     "output_type": "stream",
     "text": [
      "2022-05-27 16:34:00,77 INFO     [<ipython-input-11-8a65cf92c78b>:2] topk true top_k influence: [0.036828077256122645, 0.03384325947850492, 0.02596021355695329, 0.023686919061497044, 0.02315438433232411]\n",
      "2022-05-27 16:34:00,78 INFO     [<ipython-input-11-8a65cf92c78b>:3] topk true top_k score: [10073.068378785641, 9256.672959522752, 7100.533771243636, 6478.751354024425, 6333.094585039961]\n"
     ]
    }
   ],
   "source": [
    "true_kth_influence = get_influence_at_rank_i(es, k)\n",
    "logger.info(f'topk true top_k influence: {[get_influence_at_rank_i(es, i+1) for i in range(k)]}')\n",
    "logger.info(f'topk true top_k score: {[get_score_at_rank_i(es, i+1) for i in range(k)]}')"
   ]
  },
  {
   "cell_type": "code",
   "execution_count": 12,
   "metadata": {},
   "outputs": [
    {
     "name": "stdout",
     "output_type": "stream",
     "text": [
      "Positive Influences:  38\n",
      "                                                                topk rel-influence\n",
      "0                                          `existing-credits` == \"1\"        78.16%\n",
      "1                             `job` == \"skilled employee / official\"        71.83%\n",
      "2                            `sex-marst` == \"male : married/widowed\"        55.10%\n",
      "3                                   `credit-amount` == \"(500, 2500]\"        50.27%\n",
      "4  `credit-history` == \"no credits taken/all credits paid back duly\"        49.14%\n"
     ]
    }
   ],
   "source": [
    "k = 5\n",
    "with pd.option_context('display.max_rows', None, 'display.max_columns', None, \n",
    "'display.max_colwidth', 1000, 'display.width', 1000):\n",
    "    print(es.phase_3_true_top_k(k))"
   ]
  },
  {
   "cell_type": "code",
   "execution_count": null,
   "metadata": {},
   "outputs": [],
   "source": []
  }
 ],
 "metadata": {
  "kernelspec": {
   "display_name": "py37",
   "language": "python",
   "name": "py37"
  },
  "language_info": {
   "codemirror_mode": {
    "name": "ipython",
    "version": 3
   },
   "file_extension": ".py",
   "mimetype": "text/x-python",
   "name": "python",
   "nbconvert_exporter": "python",
   "pygments_lexer": "ipython3",
   "version": "3.7.4"
  }
 },
 "nbformat": 4,
 "nbformat_minor": 4
}
