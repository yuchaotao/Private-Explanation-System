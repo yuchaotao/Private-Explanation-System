{
 "cells": [
  {
   "cell_type": "code",
   "execution_count": 1,
   "metadata": {},
   "outputs": [],
   "source": [
    "%load_ext autoreload\n",
    "%autoreload 2"
   ]
  },
  {
   "cell_type": "code",
   "execution_count": 2,
   "metadata": {},
   "outputs": [],
   "source": [
    "import sys\n",
    "sys.path.append('../')\n",
    "\n",
    "import pandas as pd\n",
    "import pprint\n",
    "\n",
    "from privex.components.basic import Schema, Dataset, GroupbyQuery, Question\n",
    "from privex.components.utils import generate_explanation_predicates\n",
    "from privex.framework.solution import ExplanationSession\n",
    "\n",
    "import logging\n",
    "logger = logging.getLogger(__name__)"
   ]
  },
  {
   "cell_type": "code",
   "execution_count": 5,
   "metadata": {},
   "outputs": [
    {
     "name": "stdout",
     "output_type": "stream",
     "text": [
      "1000000\n",
      "2022-04-18 16:00:39,198 INFO     [meta_explanation_session.py:23] 82 predicates for the explanation.\n"
     ]
    }
   ],
   "source": [
    "df = pd.read_csv('../data/german/synthetic_german.csv')\n",
    "print(len(df))\n",
    "schema = Schema.from_json('../data/german/german.json')\n",
    "dataset = Dataset(df, schema)\n",
    "gamma = 0.95\n",
    "attributes = ['duration', 'credit-history', 'purpose', 'credit-amount', 'saving-account', 'employment', 'installment-rate', 'sex-marst', 'other-debtors', 'residence', 'property', 'age', 'other-installment-plans', 'housing', 'existing-credits', 'job', 'people-liable', 'telephone', 'foreign-worker']\n",
    "predicates = generate_explanation_predicates(attributes, schema, strategy='1-way marginal')\n",
    "#predicates = predicates[:10]\n",
    "#predicates += generate_explanation_predicates(attributes, schema, strategy='2-way marginal')\n",
    "es = ExplanationSession(dataset, gamma, predicates, random_seed = 152636)"
   ]
  },
  {
   "cell_type": "code",
   "execution_count": 7,
   "metadata": {},
   "outputs": [
    {
     "name": "stdout",
     "output_type": "stream",
     "text": [
      "submiited queries with rho = 0.1\n",
      "                                        group    answer  truth (hidden)\n",
      "0                         no checking account  0.526571        0.526574\n",
      "1                                  ... < 0 DM  0.574447        0.574466\n",
      "2                            0<= ... < 200 DM  0.756406        0.756344\n",
      "3  ... >= 200 DM / salary for at least 1 year  0.863100        0.863093\n"
     ]
    }
   ],
   "source": [
    "# Phase 1\n",
    "groupby_query = GroupbyQuery(\n",
    "    agg = 'AVG',\n",
    "    attr_agg = 'good-credit',\n",
    "    predicate = None,\n",
    "    attr_group = 'status',\n",
    "    schema = schema\n",
    ")\n",
    "rho_query = 0.1\n",
    "es.phase_1_submit_query(groupby_query, rho_query)\n",
    "print(f'submiited queries with rho = {rho_query}')\n",
    "nr = es.phase_1_show_query_results()\n",
    "nr['group'] = nr['group'].apply(lambda row: row[0])\n",
    "gt = df.groupby('status').agg(answer=('good-credit', 'mean')).reset_index()\n",
    "gt = gt.rename(columns={'status': 'group'})\n",
    "print(nr.merge(gt, on='group').rename(columns={'answer_x':'answer', 'answer_y': 'truth (hidden)'}).sort_values('truth (hidden)'))"
   ]
  },
  {
   "cell_type": "code",
   "execution_count": 8,
   "metadata": {},
   "outputs": [
    {
     "name": "stdout",
     "output_type": "stream",
     "text": [
      "question:  Why AVG(good-credit) WHERE `status` == \"... < 0 DM\" >= AVG(good-credit) WHERE `status` == \"no checking account\"?\n",
      "The 95% confidence interval of the difference is  (0.04778608102170201, 0.0479666572405788)\n",
      "2022-04-18 16:02:10,633 INFO     [<ipython-input-8-4c19dd358107>:8] question_point: 0.04787636904818948\n",
      "2022-04-18 16:02:11,191 INFO     [<ipython-input-8-4c19dd358107>:10] true question: 0.04789193497607158\n",
      "The 95% confidence interval of ground truth is  (0.04785552724148564, 0.047928231271848365)\n"
     ]
    }
   ],
   "source": [
    "# Phase 2\n",
    "question = Question.from_group_comparison(groupby_query, ('... < 0 DM',), ('no checking account',))\n",
    "es.phase_2_submit_question(question)\n",
    "es.phase_2_prepare_question_ci()\n",
    "ci = es.phase_2_show_question_ci()\n",
    "print('question: ', question.to_natural_language())\n",
    "print(f'The {gamma*100:.0f}% confidence interval of the difference is ', ci)\n",
    "logger.info(f'question_point: {es.question_point}')\n",
    "groundtruth_ci = es.phase_2_ground_truth_ci(rho_query, gamma)\n",
    "logger.info(f'true question: {es.question.evaluation(es.dataset)}')\n",
    "print(f'The {gamma*100:.0f}% confidence interval of ground truth is ', groundtruth_ci)"
   ]
  },
  {
   "cell_type": "code",
   "execution_count": 13,
   "metadata": {},
   "outputs": [
    {
     "name": "stdout",
     "output_type": "stream",
     "text": [
      "2022-05-07 22:34:48,72 DEBUG    [<ipython-input-13-716482da31c9>:3] Length of predicates is 82\n",
      "(`status` == \"no checking account\")or(`status` == \"... < 0 DM\")\n",
      "2022-05-07 22:34:48,193 INFO     [influence_function.py:24] Dataset relative to the question has length 542650\n",
      "2022-05-07 22:35:27,953 DEBUG    [meta_explanation_session.py:169] 82 predicates and their influences & scores have been loaded.\n",
      "2022-05-07 22:35:27,960 DEBUG    [meta_explanation_session.py:173] \n",
      "       influence         score\n",
      "count  82.000000     82.000000\n",
      "mean    0.000333     91.117826\n",
      "std     0.014304   3912.349348\n",
      "min    -0.057912 -15839.828271\n",
      "25%    -0.004585  -1253.962692\n",
      "50%     0.000003      0.761900\n",
      "75%     0.005414   1480.750210\n",
      "max     0.036828  10073.068379\n",
      "2022-05-07 22:35:27,961 DEBUG    [meta_explanation_session.py:213] total rho_expl is 2.0\n",
      "2022-05-07 22:35:27,961 DEBUG    [meta_explanation_session.py:214] rho_topk is 0.5\n",
      "2022-05-07 22:35:27,962 DEBUG    [meta_explanation_session.py:215] rho_ci is 0.5\n",
      "2022-05-07 22:35:27,962 DEBUG    [meta_explanation_session.py:216] rho_rank is 1.0\n",
      "2022-05-07 22:35:27,962 INFO     [meta_explanation_session.py:225] computing top k\n",
      "2022-05-07 22:35:27,963 INFO     [noisy_topk.py:11] gumbel scale: 35.77708763999664\n",
      "2022-05-07 22:35:27,963 INFO     [noisy_topk.py:20] topk_scores: [10073.068378785641, 9256.672959522752, 7100.533771243636, 6478.751354024425, 6333.094585039961]\n",
      "2022-05-07 22:35:27,964 INFO     [noisy_topk.py:21] gumbel_topk_scores: [10112.587845130134, 9310.529180147678, 7035.829356536315, 6519.927593490024, 6370.453993671958]\n",
      "2022-05-07 22:35:27,964 INFO     [noisy_topk.py:31] true_topk_scores: [10073.068378785641, 9256.672959522752, 7100.533771243636, 6478.751354024425, 6333.094585039961]\n",
      "2022-05-07 22:35:27,965 INFO     [noisy_topk.py:32] gumbel_true_topk_scores: [10112.587845130134, 9310.529180147678, 7035.829356536315, 6519.927593490024, 6370.453993671958]\n",
      "2022-05-07 22:35:27,965 DEBUG    [meta_explanation_session.py:232] [`existing-credits` == \"1\", `job` == \"skilled employee / official\", `sex-marst` == \"male : married/widowed\", `credit-amount` == \"(500, 2500]\", `credit-history` == \"no credits taken/all credits paid back duly\"]\n",
      "2022-05-07 22:35:27,965 INFO     [meta_explanation_session.py:248] computing influence ci\n"
     ]
    },
    {
     "name": "stderr",
     "output_type": "stream",
     "text": [
      "100%|██████████| 5/5 [00:02<00:00,  2.41it/s]"
     ]
    },
    {
     "name": "stdout",
     "output_type": "stream",
     "text": [
      "2022-05-07 22:35:30,46 DEBUG    [meta_explanation_session.py:259] [(9975.491082205894, 10115.734688698145), (9155.667088558615, 9295.910695050867), (7055.036963808659, 7195.280570300912), (6374.157084359778, 6514.400690852031), (6246.487777454008, 6386.731383946261)]\n",
      "2022-05-07 22:35:30,46 INFO     [meta_explanation_session.py:267] computing rank ci\n"
     ]
    },
    {
     "name": "stderr",
     "output_type": "stream",
     "text": [
      "\n",
      "100%|██████████| 5/5 [00:00<00:00, 4028.34it/s]"
     ]
    },
    {
     "name": "stdout",
     "output_type": "stream",
     "text": [
      "2022-05-07 22:35:30,50 DEBUG    [meta_explanation_session.py:280] [(1, 1), (1, 2), (2, 4), (2, 5), (4, 5)]\n",
      "                                                          predicates Rel Inf 90-CI L Rel Inf 90-CI R  Rnk 95-CI L  Rnk 95-CI R\n",
      "0                                          `existing-credits` == \"1\"          76.18%          77.25%            1            1\n",
      "1                             `job` == \"skilled employee / official\"          69.92%          70.99%            1            2\n",
      "2                            `sex-marst` == \"male : married/widowed\"          53.88%          54.95%            2            4\n",
      "3                                   `credit-amount` == \"(500, 2500]\"          48.68%          49.75%            2            5\n",
      "4  `credit-history` == \"no credits taken/all credits paid back duly\"          47.70%          48.77%            4            5\n",
      "                                                          predicates  Inf 95-CI L   Inf 95-CI R  Rnk 95-CI L  Rnk 95-CI R\n",
      "0                                          `existing-credits` == \"1\"  9975.491082  10115.734689            1            1\n",
      "1                             `job` == \"skilled employee / official\"  9155.667089   9295.910695            1            2\n",
      "2                            `sex-marst` == \"male : married/widowed\"  7055.036964   7195.280570            2            4\n",
      "3                                   `credit-amount` == \"(500, 2500]\"  6374.157084   6514.400691            2            5\n",
      "4  `credit-history` == \"no credits taken/all credits paid back duly\"  6246.487777   6386.731384            4            5\n"
     ]
    },
    {
     "name": "stderr",
     "output_type": "stream",
     "text": [
      "\n"
     ]
    }
   ],
   "source": [
    "# Phase 3\n",
    "k = 5\n",
    "logger.debug(f'Length of predicates is {len(predicates)}')\n",
    "es.phase_3_submit_explanation_request()\n",
    "es.phase_3_prepare_explanation(k, \n",
    "    {'rho_topk': 0.5, 'rho_influ': 0.5, 'rho_rank': 1.0}, split_factor = 0.9)\n",
    "with pd.option_context('display.max_rows', None, 'display.max_columns', None, \n",
    "'display.max_colwidth', 1000, 'display.width', 1000):\n",
    "    t1, t2 = es.phase_3_show_explanation_table()\n",
    "    print(t1)\n",
    "    print(t2)"
   ]
  },
  {
   "cell_type": "code",
   "execution_count": 10,
   "metadata": {},
   "outputs": [],
   "source": [
    "def get_influence_at_rank_i(es, i):\n",
    "    return es.predicates_with_influences[\n",
    "        es.sorted_predicates[i-1]\n",
    "    ]\n",
    "\n",
    "def get_score_at_rank_i(es, i):\n",
    "    return es.predicates_with_scores[\n",
    "        es.sorted_predicates[i-1]\n",
    "    ]"
   ]
  },
  {
   "cell_type": "code",
   "execution_count": 11,
   "metadata": {},
   "outputs": [
    {
     "name": "stdout",
     "output_type": "stream",
     "text": [
      "2022-04-18 16:13:51,613 INFO     [<ipython-input-11-8a65cf92c78b>:2] topk true top_k influence: [0.036828077256122645, 0.03384325947850492, 0.02596021355695329, 0.023686919061497044, 0.02315438433232411]\n",
      "2022-04-18 16:13:51,614 INFO     [<ipython-input-11-8a65cf92c78b>:3] topk true top_k score: [10073.068378785641, 9256.672959522752, 7100.533771243636, 6478.751354024425, 6333.094585039961]\n"
     ]
    }
   ],
   "source": [
    "true_kth_influence = get_influence_at_rank_i(es, k)\n",
    "logger.info(f'topk true top_k influence: {[get_influence_at_rank_i(es, i+1) for i in range(k)]}')\n",
    "logger.info(f'topk true top_k score: {[get_score_at_rank_i(es, i+1) for i in range(k)]}')"
   ]
  },
  {
   "cell_type": "code",
   "execution_count": 15,
   "metadata": {},
   "outputs": [
    {
     "name": "stdout",
     "output_type": "stream",
     "text": [
      "Positive Influences:  38\n",
      "                                                                topk rel-influence\n",
      "0                                          `existing-credits` == \"1\"        76.92%\n",
      "1                             `job` == \"skilled employee / official\"        70.69%\n",
      "2                            `sex-marst` == \"male : married/widowed\"        54.22%\n",
      "3                                   `credit-amount` == \"(500, 2500]\"        49.47%\n",
      "4  `credit-history` == \"no credits taken/all credits paid back duly\"        48.36%\n"
     ]
    }
   ],
   "source": [
    "k = 5\n",
    "with pd.option_context('display.max_rows', None, 'display.max_columns', None, \n",
    "'display.max_colwidth', 1000, 'display.width', 1000):\n",
    "    print(es.phase_3_true_top_k(k))"
   ]
  },
  {
   "cell_type": "code",
   "execution_count": null,
   "metadata": {},
   "outputs": [],
   "source": []
  }
 ],
 "metadata": {
  "kernelspec": {
   "display_name": "py37",
   "language": "python",
   "name": "py37"
  },
  "language_info": {
   "codemirror_mode": {
    "name": "ipython",
    "version": 3
   },
   "file_extension": ".py",
   "mimetype": "text/x-python",
   "name": "python",
   "nbconvert_exporter": "python",
   "pygments_lexer": "ipython3",
   "version": "3.7.4"
  }
 },
 "nbformat": 4,
 "nbformat_minor": 4
}
