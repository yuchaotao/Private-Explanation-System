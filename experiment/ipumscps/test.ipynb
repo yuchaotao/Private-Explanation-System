{
 "cells": [
  {
   "cell_type": "code",
   "execution_count": 1,
   "metadata": {},
   "outputs": [],
   "source": [
    "import run"
   ]
  },
  {
   "cell_type": "code",
   "execution_count": 4,
   "metadata": {},
   "outputs": [
    {
     "name": "stdout",
     "output_type": "stream",
     "text": [
      "2022-04-12 20:58:01,179 INFO     [meta_explanation_session.py:23] 116 predicates for the explanation.\n",
      "2022-04-12 20:58:01,180 INFO     [run.py:167] loaded dataset with 1146552 rows.\n",
      "2022-04-12 20:58:01,511 INFO     [run.py:179] submited queries with rho = 0.1\n",
      "(`SEX` == \"Male\")or(`SEX` == \"Female\")\n",
      "2022-04-12 20:58:01,637 INFO     [influence_function.py:24] Dataset relative to the question has length 1146552\n",
      "2022-04-12 20:59:08,966 DEBUG    [meta_explanation_session.py:155] 116 predicates and their influences & scores have been loaded.\n",
      "2022-04-12 20:59:08,973 DEBUG    [meta_explanation_session.py:159] \n",
      "         influence         score\n",
      "count   116.000000  1.160000e+02\n",
      "mean      7.674360  4.530351e+06\n",
      "std     573.354366  3.384643e+08\n",
      "min   -3155.362760 -1.862683e+09\n",
      "25%     -21.430759 -1.265107e+07\n",
      "50%       0.000000  0.000000e+00\n",
      "75%       0.000000  0.000000e+00\n",
      "max    4069.711103  2.402444e+09\n",
      "2022-04-12 20:59:08,973 DEBUG    [meta_explanation_session.py:208] total rho_expl is 2.0\n",
      "2022-04-12 20:59:08,974 DEBUG    [meta_explanation_session.py:209] rho_topk is 0.5\n",
      "2022-04-12 20:59:08,974 DEBUG    [meta_explanation_session.py:210] rho_ci is 0.5\n",
      "2022-04-12 20:59:08,974 DEBUG    [meta_explanation_session.py:211] rho_rank is 1.0\n",
      "2022-04-12 20:59:08,975 INFO     [meta_explanation_session.py:216] computing top k\n",
      "2022-04-12 20:59:08,976 INFO     [noisy_topk.py:25] true_topk_scores: [2402444067.3250275, 1010911348.1907544, 595992796.6692026, 532800440.4774457, 489746989.63211554]\n",
      "2022-04-12 20:59:08,977 INFO     [noisy_topk.py:26] gumbel_topk_scores: [2409672966.8755827, 1004106486.7531086, 597964479.096681, 544132577.6969181, 507247538.4813113]\n",
      "2022-04-12 20:59:08,977 DEBUG    [meta_explanation_session.py:223] [`MARST` == \"Married, spouse present\", `RELATE` == \"Head/householder\", `EDUC` == \"Bachelor's degree\", `RACE` == \"White\", `RELATE` == \"Spouse\"]\n",
      "2022-04-12 20:59:08,978 INFO     [meta_explanation_session.py:226] computing influence ci\n"
     ]
    },
    {
     "name": "stderr",
     "output_type": "stream",
     "text": [
      "100%|██████████| 5/5 [00:04<00:00,  1.10it/s]"
     ]
    },
    {
     "name": "stdout",
     "output_type": "stream",
     "text": [
      "2022-04-12 20:59:13,540 DEBUG    [meta_explanation_session.py:237] [(4049.011692829681, 4091.173139461054), (1694.3054839650274, 1737.9868642864658), (974.8482323968487, 1031.4115231612782), (879.960346778141, 915.8105181007659), (798.2382055871303, 854.3492029892087)]\n",
      "2022-04-12 20:59:13,540 INFO     [meta_explanation_session.py:240] computing rank ci\n"
     ]
    },
    {
     "name": "stderr",
     "output_type": "stream",
     "text": [
      "\n",
      "100%|██████████| 5/5 [00:00<00:00, 8176.03it/s]"
     ]
    },
    {
     "name": "stdout",
     "output_type": "stream",
     "text": [
      "2022-04-12 20:59:13,543 DEBUG    [meta_explanation_session.py:253] [(1, 1), (2, 3), (2, 5), (2, 5), (2, 5)]\n",
      "2022-04-12 20:59:13,701 INFO     [run.py:49] true question: 14642.614070936666\n",
      "2022-04-12 20:59:13,701 INFO     [run.py:50] question_point: 14640.278357019732\n",
      "2022-04-12 20:59:13,702 INFO     [run.py:51] question_ci: (14633.695705586626, 14646.861024812672)\n"
     ]
    },
    {
     "name": "stderr",
     "output_type": "stream",
     "text": [
      "\n"
     ]
    },
    {
     "name": "stdout",
     "output_type": "stream",
     "text": [
      "2022-04-12 20:59:13,883 INFO     [run.py:53] groundtruth_ci: (14639.588468537513, 14645.623650525173)\n",
      "2022-04-12 20:59:13,883 INFO     [run.py:58] percentage_of_missing: 0.0\n",
      "2022-04-12 20:59:14,40 INFO     [run.py:62] percentage_of_extra: 0.0004869442849373573\n",
      "2022-04-12 20:59:14,40 INFO     [run.py:67] noise quantification error: 0.00024347214246867865\n",
      "2022-04-12 20:59:14,41 INFO     [run.py:74] topk true top_k influence: [4069.711102777678, 1712.4715591138315, 1009.6045667697219, 902.5574820521066, 829.6254586592688]\n",
      "2022-04-12 20:59:14,41 INFO     [run.py:75] topk true top_k score: [2402444067.3250275, 1010911348.1907544, 595992796.6692026, 532800440.4774457, 489746989.63211554]\n",
      "2022-04-12 20:59:14,41 INFO     [run.py:88] topk noisy top_k influence: [4069.711102777678, 1712.4715591138315, 1009.6045667697219, 902.5574820521066, 829.6254586592688]\n",
      "2022-04-12 20:59:14,42 INFO     [run.py:89] topk noisy top_k score: [2402444067.3250275, 1010911348.1907544, 595992796.6692026, 532800440.4774457, 489746989.63211554]\n",
      "2022-04-12 20:59:14,42 INFO     [run.py:105] infci true_influence: 4069.711102777678\n",
      "2022-04-12 20:59:14,43 INFO     [run.py:106] infci ci: (4049.011692829681, 4091.173139461054)\n",
      "2022-04-12 20:59:14,44 INFO     [run.py:105] infci true_influence: 1712.4715591138315\n",
      "2022-04-12 20:59:14,44 INFO     [run.py:106] infci ci: (1694.3054839650274, 1737.9868642864658)\n",
      "2022-04-12 20:59:14,45 INFO     [run.py:105] infci true_influence: 1009.6045667697219\n",
      "2022-04-12 20:59:14,45 INFO     [run.py:106] infci ci: (974.8482323968487, 1031.4115231612782)\n",
      "2022-04-12 20:59:14,45 INFO     [run.py:105] infci true_influence: 902.5574820521066\n",
      "2022-04-12 20:59:14,46 INFO     [run.py:106] infci ci: (879.960346778141, 915.8105181007659)\n",
      "2022-04-12 20:59:14,46 INFO     [run.py:105] infci true_influence: 829.6254586592688\n",
      "2022-04-12 20:59:14,47 INFO     [run.py:106] infci ci: (798.2382055871303, 854.3492029892087)\n",
      "2022-04-12 20:59:14,47 INFO     [run.py:123] rankci true_rank: 1\n",
      "2022-04-12 20:59:14,47 INFO     [run.py:124] rankci ci: (1, 1)\n",
      "2022-04-12 20:59:14,48 INFO     [run.py:129] rankci true_influence: 4069.711102777678\n",
      "2022-04-12 20:59:14,48 INFO     [run.py:130] rankci influence ci: (4069.711102777678, 4069.711102777678)\n",
      "2022-04-12 20:59:14,49 INFO     [run.py:131] rankci influence range: 7225.073862742789\n",
      "2022-04-12 20:59:14,49 INFO     [run.py:123] rankci true_rank: 2\n",
      "2022-04-12 20:59:14,49 INFO     [run.py:124] rankci ci: (2, 3)\n",
      "2022-04-12 20:59:14,50 INFO     [run.py:129] rankci true_influence: 1712.4715591138315\n",
      "2022-04-12 20:59:14,50 INFO     [run.py:130] rankci influence ci: (1712.4715591138315, 1009.6045667697219)\n",
      "2022-04-12 20:59:14,51 INFO     [run.py:131] rankci influence range: 7225.073862742789\n",
      "2022-04-12 20:59:14,51 INFO     [run.py:123] rankci true_rank: 3\n",
      "2022-04-12 20:59:14,51 INFO     [run.py:124] rankci ci: (2, 5)\n",
      "2022-04-12 20:59:14,52 INFO     [run.py:129] rankci true_influence: 1009.6045667697219\n",
      "2022-04-12 20:59:14,52 INFO     [run.py:130] rankci influence ci: (1712.4715591138315, 829.6254586592688)\n",
      "2022-04-12 20:59:14,52 INFO     [run.py:131] rankci influence range: 7225.073862742789\n",
      "2022-04-12 20:59:14,53 INFO     [run.py:123] rankci true_rank: 4\n",
      "2022-04-12 20:59:14,53 INFO     [run.py:124] rankci ci: (2, 5)\n",
      "2022-04-12 20:59:14,54 INFO     [run.py:129] rankci true_influence: 902.5574820521066\n",
      "2022-04-12 20:59:14,54 INFO     [run.py:130] rankci influence ci: (1712.4715591138315, 829.6254586592688)\n",
      "2022-04-12 20:59:14,54 INFO     [run.py:131] rankci influence range: 7225.073862742789\n",
      "2022-04-12 20:59:14,55 INFO     [run.py:123] rankci true_rank: 5\n",
      "2022-04-12 20:59:14,55 INFO     [run.py:124] rankci ci: (2, 5)\n",
      "2022-04-12 20:59:14,55 INFO     [run.py:129] rankci true_influence: 829.6254586592688\n",
      "2022-04-12 20:59:14,56 INFO     [run.py:130] rankci influence ci: (1712.4715591138315, 829.6254586592688)\n",
      "2022-04-12 20:59:14,56 INFO     [run.py:131] rankci influence range: 7225.073862742789\n",
      "[{'timestamp': Timestamp('2022-04-12 20:59:14.057126'), 'scale': 1.0, 'Aagg': 'INCTOT', 'Agb': 'SEX', 'agg': 'AVG', 'predicate_strategy': '1-way marginal', 'predicate_size': 116, 'g1': 'Male', 'g2': 'Female', 'gs1': 556230, 'gs2': 590322, 'k': 5, 'split_factor': 0.9, 'gamma': 0.95, 'rho_query': 0.1, 'rho_expl': 2.0, 'rho_topk': 0.5, 'rho_influ': 0.5, 'rho_rank': 1.0, 'error_nq': 0.00024347214246867865, 'error_topk': 0.0, 'error_infci': 0.0037568630342961146, 'error_rnkci': 0.013793103448275862, 't_phase_1': 0.3312206268310547, 't_phase_2': 0.007183074951171875, 't_phase_3': 72.02488446235657, 'runtime': 72.3632881641388, 'mings': 556230}]\n",
      "2022-04-12 20:59:14,457 INFO     [meta_explanation_session.py:23] 116 predicates for the explanation.\n",
      "2022-04-12 20:59:14,458 INFO     [run.py:167] loaded dataset with 1146552 rows.\n",
      "2022-04-12 20:59:14,770 INFO     [run.py:179] submited queries with rho = 0.1\n",
      "(`SEX` == \"Male\")or(`SEX` == \"Female\")\n",
      "2022-04-12 20:59:14,883 INFO     [influence_function.py:24] Dataset relative to the question has length 1146552\n",
      "2022-04-12 21:00:22,89 DEBUG    [meta_explanation_session.py:155] 116 predicates and their influences & scores have been loaded.\n",
      "2022-04-12 21:00:22,95 DEBUG    [meta_explanation_session.py:159] \n",
      "          influence         score\n",
      "count    116.000000    116.000000\n",
      "mean   -1309.784009  -1309.784009\n",
      "std     7042.609900   7042.609900\n",
      "min   -40726.566832 -40726.566832\n",
      "25%     -103.346998   -103.346998\n",
      "50%        0.000000      0.000000\n",
      "75%       16.251658     16.251658\n",
      "max     9529.781640   9529.781640\n",
      "2022-04-12 21:00:22,96 DEBUG    [meta_explanation_session.py:208] total rho_expl is 2.0\n",
      "2022-04-12 21:00:22,96 DEBUG    [meta_explanation_session.py:209] rho_topk is 0.5\n",
      "2022-04-12 21:00:22,96 DEBUG    [meta_explanation_session.py:210] rho_ci is 0.5\n",
      "2022-04-12 21:00:22,97 DEBUG    [meta_explanation_session.py:211] rho_rank is 1.0\n",
      "2022-04-12 21:00:22,97 INFO     [meta_explanation_session.py:216] computing top k\n",
      "2022-04-12 21:00:22,98 INFO     [noisy_topk.py:25] true_topk_scores: [9529.781639881896, 9360.224699020706, 9152.753255421185, 9061.980359904663, 8625.849577265328]\n",
      "2022-04-12 21:00:22,99 INFO     [noisy_topk.py:26] gumbel_topk_scores: [9526.81432231592, 9370.246380050723, 9168.729946363901, 9054.76717261718, 8623.183619568905]\n",
      "2022-04-12 21:00:22,99 DEBUG    [meta_explanation_session.py:223] [`MARST` == \"Married, spouse present\", `CLASSWKR` == \"Self-employed, incorporated\", `CLASSWKR` == \"Wage/salary, private\", `CITIZEN` == \"Not a citizen\", `CLASSWKR` == \"Self-employed, not incorporated\"]\n",
      "2022-04-12 21:00:22,99 INFO     [meta_explanation_session.py:226] computing influence ci\n"
     ]
    },
    {
     "name": "stderr",
     "output_type": "stream",
     "text": [
      "100%|██████████| 5/5 [00:02<00:00,  1.90it/s]"
     ]
    },
    {
     "name": "stdout",
     "output_type": "stream",
     "text": [
      "2022-04-12 21:00:24,733 DEBUG    [meta_explanation_session.py:237] [(9497.369123382756, 9549.960475817352), (9305.166906368904, 9357.7582588035), (9112.376619572828, 9164.967972007424), (9017.975758155892, 9070.567110590488), (8585.866877618275, 8638.458230052871)]\n",
      "2022-04-12 21:00:24,733 INFO     [meta_explanation_session.py:240] computing rank ci\n"
     ]
    },
    {
     "name": "stderr",
     "output_type": "stream",
     "text": [
      "\n",
      "100%|██████████| 5/5 [00:00<00:00, 8365.19it/s]"
     ]
    },
    {
     "name": "stdout",
     "output_type": "stream",
     "text": [
      "2022-04-12 21:00:24,736 DEBUG    [meta_explanation_session.py:253] [(1, 1), (1, 3), (2, 5), (2, 5), (4, 5)]\n",
      "2022-04-12 21:00:24,894 INFO     [run.py:49] true question: -34092\n",
      "2022-04-12 21:00:24,895 INFO     [run.py:50] question_point: -34093.767802060116\n",
      "2022-04-12 21:00:24,895 INFO     [run.py:51] question_ci: (-34099.96575238316, -34087.56985173707)\n"
     ]
    },
    {
     "name": "stderr",
     "output_type": "stream",
     "text": [
      "\n"
     ]
    },
    {
     "name": "stdout",
     "output_type": "stream",
     "text": [
      "2022-04-12 21:00:25,66 INFO     [run.py:53] groundtruth_ci: (-34098.25288071334, -34085.80312054965)\n",
      "2022-04-12 21:00:25,66 INFO     [run.py:58] percentage_of_missing: 0.14190885319784075\n",
      "2022-04-12 21:00:25,221 INFO     [run.py:62] percentage_of_extra: 5.024262788398283e-05\n",
      "2022-04-12 21:00:25,222 INFO     [run.py:67] noise quantification error: 0.07097954791286236\n",
      "2022-04-12 21:00:25,222 INFO     [run.py:74] topk true top_k influence: [9529.781639881896, 9360.224699020706, 9152.753255421185, 9061.980359904663, 8625.849577265328]\n",
      "2022-04-12 21:00:25,223 INFO     [run.py:75] topk true top_k score: [9529.781639881896, 9360.224699020706, 9152.753255421185, 9061.980359904663, 8625.849577265328]\n",
      "2022-04-12 21:00:25,223 INFO     [run.py:88] topk noisy top_k influence: [9529.781639881896, 9360.224699020706, 9152.753255421185, 9061.980359904663, 8625.849577265328]\n",
      "2022-04-12 21:00:25,223 INFO     [run.py:89] topk noisy top_k score: [9529.781639881896, 9360.224699020706, 9152.753255421185, 9061.980359904663, 8625.849577265328]\n",
      "2022-04-12 21:00:25,224 INFO     [run.py:105] infci true_influence: 9529.781639881896\n",
      "2022-04-12 21:00:25,224 INFO     [run.py:106] infci ci: (9497.369123382756, 9549.960475817352)\n",
      "2022-04-12 21:00:25,226 INFO     [run.py:105] infci true_influence: 9360.224699020706\n",
      "2022-04-12 21:00:25,226 INFO     [run.py:106] infci ci: (9305.166906368904, 9357.7582588035)\n",
      "2022-04-12 21:00:25,226 INFO     [run.py:105] infci true_influence: 9152.753255421185\n",
      "2022-04-12 21:00:25,227 INFO     [run.py:106] infci ci: (9112.376619572828, 9164.967972007424)\n",
      "2022-04-12 21:00:25,227 INFO     [run.py:105] infci true_influence: 9061.980359904663\n",
      "2022-04-12 21:00:25,228 INFO     [run.py:106] infci ci: (9017.975758155892, 9070.567110590488)\n",
      "2022-04-12 21:00:25,228 INFO     [run.py:105] infci true_influence: 8625.849577265328\n",
      "2022-04-12 21:00:25,229 INFO     [run.py:106] infci ci: (8585.866877618275, 8638.458230052871)\n",
      "2022-04-12 21:00:25,229 INFO     [run.py:123] rankci true_rank: 1\n",
      "2022-04-12 21:00:25,230 INFO     [run.py:124] rankci ci: (1, 1)\n",
      "2022-04-12 21:00:25,230 INFO     [run.py:129] rankci true_influence: 9529.781639881896\n",
      "2022-04-12 21:00:25,231 INFO     [run.py:130] rankci influence ci: (9529.781639881896, 9529.781639881896)\n",
      "2022-04-12 21:00:25,231 INFO     [run.py:131] rankci influence range: 50256.34847193825\n",
      "2022-04-12 21:00:25,232 INFO     [run.py:123] rankci true_rank: 2\n",
      "2022-04-12 21:00:25,233 INFO     [run.py:124] rankci ci: (1, 3)\n",
      "2022-04-12 21:00:25,233 INFO     [run.py:129] rankci true_influence: 9360.224699020706\n",
      "2022-04-12 21:00:25,234 INFO     [run.py:130] rankci influence ci: (9529.781639881896, 9152.753255421185)\n",
      "2022-04-12 21:00:25,234 INFO     [run.py:131] rankci influence range: 50256.34847193825\n",
      "2022-04-12 21:00:25,234 INFO     [run.py:123] rankci true_rank: 3\n",
      "2022-04-12 21:00:25,235 INFO     [run.py:124] rankci ci: (2, 5)\n",
      "2022-04-12 21:00:25,235 INFO     [run.py:129] rankci true_influence: 9152.753255421185\n",
      "2022-04-12 21:00:25,236 INFO     [run.py:130] rankci influence ci: (9360.224699020706, 8625.849577265328)\n",
      "2022-04-12 21:00:25,236 INFO     [run.py:131] rankci influence range: 50256.34847193825\n",
      "2022-04-12 21:00:25,236 INFO     [run.py:123] rankci true_rank: 4\n",
      "2022-04-12 21:00:25,237 INFO     [run.py:124] rankci ci: (2, 5)\n",
      "2022-04-12 21:00:25,237 INFO     [run.py:129] rankci true_influence: 9061.980359904663\n",
      "2022-04-12 21:00:25,239 INFO     [run.py:130] rankci influence ci: (9360.224699020706, 8625.849577265328)\n",
      "2022-04-12 21:00:25,239 INFO     [run.py:131] rankci influence range: 50256.34847193825\n",
      "2022-04-12 21:00:25,240 INFO     [run.py:123] rankci true_rank: 5\n",
      "2022-04-12 21:00:25,240 INFO     [run.py:124] rankci ci: (4, 5)\n",
      "2022-04-12 21:00:25,241 INFO     [run.py:129] rankci true_influence: 8625.849577265328\n",
      "2022-04-12 21:00:25,242 INFO     [run.py:130] rankci influence ci: (9061.980359904663, 8625.849577265328)\n",
      "2022-04-12 21:00:25,242 INFO     [run.py:131] rankci influence range: 50256.34847193825\n",
      "[{'timestamp': Timestamp('2022-04-12 21:00:25.243257'), 'scale': 1.0, 'Aagg': 'INCTOT', 'Agb': 'SEX', 'agg': 'CNT', 'predicate_strategy': '1-way marginal', 'predicate_size': 116, 'g1': 'Male', 'g2': 'Female', 'gs1': 556230, 'gs2': 590322, 'k': 5, 'split_factor': 0.9, 'gamma': 0.95, 'rho_query': 0.1, 'rho_expl': 2.0, 'rho_topk': 0.5, 'rho_influ': 0.5, 'rho_rank': 1.0, 'error_nq': 0.07097954791286236, 'error_topk': 0.0, 'error_infci': 0.0008430148740846361, 'error_rnkci': 0.010344827586206898, 't_phase_1': 0.3121323585510254, 't_phase_2': 0.0001804828643798828, 't_phase_3': 69.96652007102966, 'runtime': 70.27883291244507, 'mings': 556230}]\n"
     ]
    }
   ],
   "source": [
    "import pandas as pd\n",
    "\n",
    "dataset = run.dataset\n",
    "schema = run.schema\n",
    "full_attributes = run.full_attributes\n",
    "default = run.default\n",
    "\n",
    "controls = [\n",
    "    [\n",
    "        ('reps', 1),\n",
    "        ('scale', 0.1),\n",
    "        ('agg', 'CNT')\n",
    "    ]\n",
    "]\n",
    "    \n",
    "new_result = []\n",
    "for setting_change in controls:\n",
    "    setting = default.copy()\n",
    "    for key, value in setting_change: \n",
    "        setting[key] = value\n",
    "    reports = run.run(\n",
    "        dataset =                dataset,\n",
    "        scale =                  setting['scale'],\n",
    "        full_attributes =        full_attributes,\n",
    "        rho_query =              setting['rho_query'],\n",
    "        agg =                    setting['agg'],\n",
    "        attr_agg =               setting['attr_agg'],\n",
    "        attr_group =             setting['attr_group'],\n",
    "        group_a =                setting['group_a'],\n",
    "        group_b =                setting['group_b'],\n",
    "        rho_topk =               setting['rho_topk'],\n",
    "        rho_influ =              setting['rho_influ'],\n",
    "        rho_rank =               setting['rho_rank'],\n",
    "        gamma =                  setting['gamma'],\n",
    "        predicate_strategy =     setting['predicate_strategy'],\n",
    "        k =                      setting['k'],\n",
    "        split_factor =           setting['split_factor'],\n",
    "        reps =                   setting['reps']\n",
    "    )\n",
    "    new_result += reports\n",
    "    print(reports)"
   ]
  },
  {
   "cell_type": "code",
   "execution_count": 5,
   "metadata": {},
   "outputs": [
    {
     "data": {
      "text/plain": [
       "'3.7.4 (default, Aug 13 2019, 20:35:49) \\n[GCC 7.3.0]'"
      ]
     },
     "execution_count": 5,
     "metadata": {},
     "output_type": "execute_result"
    }
   ],
   "source": [
    "import sys\n",
    "sys.version"
   ]
  },
  {
   "cell_type": "code",
   "execution_count": null,
   "metadata": {},
   "outputs": [],
   "source": []
  }
 ],
 "metadata": {
  "kernelspec": {
   "display_name": "py37",
   "language": "python",
   "name": "py37"
  },
  "language_info": {
   "codemirror_mode": {
    "name": "ipython",
    "version": 3
   },
   "file_extension": ".py",
   "mimetype": "text/x-python",
   "name": "python",
   "nbconvert_exporter": "python",
   "pygments_lexer": "ipython3",
   "version": "3.7.4"
  }
 },
 "nbformat": 4,
 "nbformat_minor": 4
}
