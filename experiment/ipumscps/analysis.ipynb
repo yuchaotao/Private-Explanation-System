{
 "cells": [
  {
   "cell_type": "code",
   "execution_count": 1,
   "metadata": {},
   "outputs": [],
   "source": [
    "import pandas as pd"
   ]
  },
  {
   "cell_type": "code",
   "execution_count": 2,
   "metadata": {},
   "outputs": [],
   "source": [
    "results = pd.read_csv('results.csv')"
   ]
  },
  {
   "cell_type": "code",
   "execution_count": 4,
   "metadata": {},
   "outputs": [
    {
     "data": {
      "text/plain": [
       "Index(['timestamp', 'scale', 'Aagg', 'Agb', 'agg', 'predicate_strategy',\n",
       "       'predicate_size', 'g1', 'g2', 'gs1', 'gs2', 'k', 'gamma', 'rho_query',\n",
       "       'rho_expl', 'rho_topk', 'rho_influ', 'rho_rank', 'error_nq',\n",
       "       'error_topk', 'error_infci', 'error_rnkci', 't_phase_1', 't_phase_2',\n",
       "       't_phase_3', 'runtime', 'mings'],\n",
       "      dtype='object')"
      ]
     },
     "execution_count": 4,
     "metadata": {},
     "output_type": "execute_result"
    }
   ],
   "source": [
    "results.columns"
   ]
  },
  {
   "cell_type": "code",
   "execution_count": 125,
   "metadata": {},
   "outputs": [],
   "source": [
    "def print_aggregated_result(aggregated_results, highlighter = None):\n",
    "    for col in ['error_nq', 'error_topk', 'error_infci', 'error_rnkci']:\n",
    "        aggregated_results[col] = aggregated_results[col].apply(lambda row: f'{row * 100:.2f}\\\\%')\n",
    "    aggregated_results['runtime'] = aggregated_results['runtime'].apply(lambda row: f'{row:.0f}s')\n",
    "    aggregated_results = aggregated_results[['error_nq', 'error_topk', 'error_infci', 'error_rnkci', 'runtime']]\n",
    "    aggregated_results = aggregated_results.reset_index()\n",
    "    for idx, row in aggregated_results.iterrows():\n",
    "        if highlighter and row[highlighter['attr']] == highlighter['val']:\n",
    "            print('& ' + ' & '.join([f'\\\\textbf{{{x}}}' for x in row.tolist()]) + ' \\\\\\\\')\n",
    "        else:\n",
    "            print('& ' + ' & '.join([f'{x}' for x in row.tolist()]) + ' \\\\\\\\')\n",
    "            \n",
    "def quick_check(results, param):\n",
    "    print(f'\\t\\midrule')\n",
    "    print(f'\\t\\multirow{{3}}{{*}}{{{param}}}')\n",
    "    print_aggregated_result(results.groupby(param).median())\n",
    "    print()\n",
    "    \n",
    "def quick_check_full(results):\n",
    "    params = ['rho_query', 'rho_topk', 'rho_influ', 'rho_rank', \n",
    "              'gamma', 'k', 'split_factor', 'predicate_strategy', 'scale']\n",
    "    for param in params:\n",
    "        quick_check(results, param)"
   ]
  },
  {
   "cell_type": "code",
   "execution_count": 126,
   "metadata": {},
   "outputs": [
    {
     "name": "stdout",
     "output_type": "stream",
     "text": [
      "\t\\midrule\n",
      "\t\\multirow{3}{*}{['Agb', 'g1', 'g2']}\n",
      "& AGE & (40, 50] & (30, 40] & 0.26\\% & 2.40\\% & 5.93\\% & 45.29\\% & 27s \\\\\n",
      "& AGE & (60, 70] & (20, 30] & 0.13\\% & 0.00\\% & 1.32\\% & 2.69\\% & 21s \\\\\n",
      "& CITIZEN & Born in U.S & Not a citizen & 0.10\\% & 0.00\\% & 1.50\\% & 25.40\\% & 60s \\\\\n",
      "& CITIZEN & Naturalized citizen & Born in U.S & 1.37\\% & 0.00\\% & 1.58\\% & 21.50\\% & 60s \\\\\n",
      "& CLASSWKR & Federal government employee & State government employee & 0.41\\% & 25.41\\% & 27.88\\% & 84.42\\% & 6s \\\\\n",
      "& CLASSWKR & Wage/salary, private & Self-employed, not incorporated & 0.34\\% & 0.00\\% & 3.09\\% & 70.67\\% & 38s \\\\\n",
      "& EDUC & Bachelor's degree & High school diploma or equivalent & 0.03\\% & 0.00\\% & 1.47\\% & 24.82\\% & 31s \\\\\n",
      "& EDUC & Master's degree & Bachelor's degree & 0.14\\% & 2.48\\% & 8.90\\% & 79.16\\% & 17s \\\\\n",
      "& MARST & Divorced & Never married/single & 0.08\\% & 0.00\\% & 1.24\\% & 45.68\\% & 26s \\\\\n",
      "& MARST & Married, spouse present & Never married/single & 0.02\\% & 0.00\\% & 0.43\\% & 1.98\\% & 55s \\\\\n",
      "& RACE & Asian only & White & 0.30\\% & 0.00\\% & 2.07\\% & 55.44\\% & 51s \\\\\n",
      "& RACE & White & Black & 0.08\\% & 0.00\\% & 1.52\\% & 4.44\\% & 55s \\\\\n",
      "& RELATE & Head/householder & Child & 0.03\\% & 0.00\\% & 0.93\\% & 1.96\\% & 39s \\\\\n",
      "& RELATE & Head/householder & Parent & 0.20\\% & 16.10\\% & 8.52\\% & 81.55\\% & 35s \\\\\n",
      "& RELATE & Spouse & Head/householder & 0.78\\% & 0.00\\% & 1.78\\% & 2.16\\% & 46s \\\\\n",
      "& RELATE & Spouse & Unmarried partner & 0.36\\% & 6.14\\% & 4.40\\% & 84.33\\% & 17s \\\\\n",
      "\n"
     ]
    }
   ],
   "source": [
    "results = pd.read_csv('results_questions.csv')\n",
    "quick_check(results, ['Agb', 'g1', 'g2'])"
   ]
  },
  {
   "cell_type": "code",
   "execution_count": 108,
   "metadata": {},
   "outputs": [
    {
     "name": "stdout",
     "output_type": "stream",
     "text": [
      "& AGE & 0.27\\% & 1.34\\% & 5.85\\% & 54.37\\% & 26s \\\\\n",
      "& CITIZEN & 0.11\\% & 0.00\\% & 1.45\\% & 27.08\\% & 59s \\\\\n",
      "& CLASSWKR & 0.36\\% & 0.00\\% & 2.99\\% & 66.06\\% & 35s \\\\\n",
      "& MARST & 0.02\\% & 0.00\\% & 0.42\\% & 1.98\\% & 51s \\\\\n",
      "& RACE & 0.08\\% & 0.00\\% & 1.51\\% & 4.89\\% & 51s \\\\\n",
      "& RELATE & 0.03\\% & 0.00\\% & 0.91\\% & 1.96\\% & 37s \\\\\n",
      "& \\textbf{SEX} & \\textbf{0.02\\%} & \\textbf{0.00\\%} & \\textbf{0.37\\%} & \\textbf{1.38\\%} & \\textbf{65s} \\\\\n"
     ]
    }
   ],
   "source": [
    "print_aggregated_result(results.groupby('Agb').median(), {'attr': 'Agb', 'val': 'SEX'})"
   ]
  },
  {
   "cell_type": "code",
   "execution_count": 109,
   "metadata": {},
   "outputs": [
    {
     "data": {
      "text/html": [
       "<div>\n",
       "<style scoped>\n",
       "    .dataframe tbody tr th:only-of-type {\n",
       "        vertical-align: middle;\n",
       "    }\n",
       "\n",
       "    .dataframe tbody tr th {\n",
       "        vertical-align: top;\n",
       "    }\n",
       "\n",
       "    .dataframe thead th {\n",
       "        text-align: right;\n",
       "    }\n",
       "</style>\n",
       "<table border=\"1\" class=\"dataframe\">\n",
       "  <thead>\n",
       "    <tr style=\"text-align: right;\">\n",
       "      <th></th>\n",
       "      <th>error_nq</th>\n",
       "      <th>error_topk</th>\n",
       "      <th>error_infci</th>\n",
       "      <th>error_rnkci</th>\n",
       "      <th>runtime</th>\n",
       "    </tr>\n",
       "    <tr>\n",
       "      <th>Agb</th>\n",
       "      <th></th>\n",
       "      <th></th>\n",
       "      <th></th>\n",
       "      <th></th>\n",
       "      <th></th>\n",
       "    </tr>\n",
       "  </thead>\n",
       "  <tbody>\n",
       "    <tr>\n",
       "      <th>AGE</th>\n",
       "      <td>0.002654</td>\n",
       "      <td>0.013428</td>\n",
       "      <td>0.058489</td>\n",
       "      <td>0.543697</td>\n",
       "      <td>26.266555</td>\n",
       "    </tr>\n",
       "    <tr>\n",
       "      <th>CITIZEN</th>\n",
       "      <td>0.001090</td>\n",
       "      <td>0.000000</td>\n",
       "      <td>0.014522</td>\n",
       "      <td>0.270796</td>\n",
       "      <td>58.550568</td>\n",
       "    </tr>\n",
       "    <tr>\n",
       "      <th>CLASSWKR</th>\n",
       "      <td>0.003641</td>\n",
       "      <td>0.000000</td>\n",
       "      <td>0.029913</td>\n",
       "      <td>0.660577</td>\n",
       "      <td>35.070312</td>\n",
       "    </tr>\n",
       "    <tr>\n",
       "      <th>MARST</th>\n",
       "      <td>0.000232</td>\n",
       "      <td>0.000000</td>\n",
       "      <td>0.004154</td>\n",
       "      <td>0.019820</td>\n",
       "      <td>50.854920</td>\n",
       "    </tr>\n",
       "    <tr>\n",
       "      <th>RACE</th>\n",
       "      <td>0.000803</td>\n",
       "      <td>0.000000</td>\n",
       "      <td>0.015081</td>\n",
       "      <td>0.048889</td>\n",
       "      <td>50.960190</td>\n",
       "    </tr>\n",
       "    <tr>\n",
       "      <th>RELATE</th>\n",
       "      <td>0.000258</td>\n",
       "      <td>0.000000</td>\n",
       "      <td>0.009088</td>\n",
       "      <td>0.019588</td>\n",
       "      <td>37.496479</td>\n",
       "    </tr>\n",
       "    <tr>\n",
       "      <th>SEX</th>\n",
       "      <td>0.000241</td>\n",
       "      <td>0.000000</td>\n",
       "      <td>0.003666</td>\n",
       "      <td>0.013793</td>\n",
       "      <td>65.203422</td>\n",
       "    </tr>\n",
       "  </tbody>\n",
       "</table>\n",
       "</div>"
      ],
      "text/plain": [
       "          error_nq  error_topk  error_infci  error_rnkci    runtime\n",
       "Agb                                                                \n",
       "AGE       0.002654    0.013428     0.058489     0.543697  26.266555\n",
       "CITIZEN   0.001090    0.000000     0.014522     0.270796  58.550568\n",
       "CLASSWKR  0.003641    0.000000     0.029913     0.660577  35.070312\n",
       "MARST     0.000232    0.000000     0.004154     0.019820  50.854920\n",
       "RACE      0.000803    0.000000     0.015081     0.048889  50.960190\n",
       "RELATE    0.000258    0.000000     0.009088     0.019588  37.496479\n",
       "SEX       0.000241    0.000000     0.003666     0.013793  65.203422"
      ]
     },
     "execution_count": 109,
     "metadata": {},
     "output_type": "execute_result"
    }
   ],
   "source": [
    "results.groupby('Agb').median()[['error_nq', 'error_topk', 'error_infci', 'error_rnkci', 'runtime']]"
   ]
  },
  {
   "cell_type": "code",
   "execution_count": 122,
   "metadata": {},
   "outputs": [],
   "source": [
    "results_control = pd.read_csv('results_control.csv')"
   ]
  },
  {
   "cell_type": "code",
   "execution_count": 111,
   "metadata": {},
   "outputs": [
    {
     "name": "stdout",
     "output_type": "stream",
     "text": [
      "& CNT & 6.22\\% & 0.00\\% & 0.07\\% & 1.03\\% & 63s \\\\\n",
      "& SUM & 7.91\\% & 0.00\\% & 0.18\\% & 0.69\\% & 63s \\\\\n"
     ]
    }
   ],
   "source": [
    "print_aggregated_result(results_control.query('agg == \"CNT\" or agg == \"SUM\"').groupby('agg').median())"
   ]
  },
  {
   "cell_type": "code",
   "execution_count": 112,
   "metadata": {},
   "outputs": [
    {
     "name": "stdout",
     "output_type": "stream",
     "text": [
      "& 0.01 & 0.08\\% & 0.00\\% & 0.36\\% & 1.38\\% & 65s \\\\\n",
      "& 0.1 & 0.02\\% & 0.00\\% & 0.37\\% & 1.38\\% & 65s \\\\\n",
      "& 1.0 & 0.01\\% & 0.00\\% & 0.37\\% & 1.38\\% & 65s \\\\\n"
     ]
    }
   ],
   "source": [
    "print_aggregated_result(results_control.groupby('rho_query').median())"
   ]
  },
  {
   "cell_type": "code",
   "execution_count": 113,
   "metadata": {},
   "outputs": [
    {
     "name": "stdout",
     "output_type": "stream",
     "text": [
      "& 0.1 & 0.02\\% & 0.00\\% & 0.36\\% & 1.38\\% & 62s \\\\\n",
      "& 0.5 & 0.02\\% & 0.00\\% & 0.37\\% & 1.38\\% & 65s \\\\\n",
      "& 2.0 & 0.02\\% & 0.00\\% & 0.36\\% & 1.38\\% & 65s \\\\\n"
     ]
    }
   ],
   "source": [
    "print_aggregated_result(results_control.groupby('rho_topk').median())"
   ]
  },
  {
   "cell_type": "code",
   "execution_count": 121,
   "metadata": {},
   "outputs": [
    {
     "name": "stdout",
     "output_type": "stream",
     "text": [
      "& 0.1 & 0.02\\% & 0.00\\% & 0.82\\% & 1.38\\% & 65s \\\\\n",
      "& 0.5 & 0.02\\% & 0.00\\% & 0.37\\% & 1.38\\% & 65s \\\\\n",
      "& 2.0 & 0.02\\% & 0.00\\% & 0.19\\% & 1.38\\% & 65s \\\\\n"
     ]
    }
   ],
   "source": [
    "print_aggregated_result(results_control.groupby('rho_influ').median())"
   ]
  },
  {
   "cell_type": "code",
   "execution_count": 115,
   "metadata": {},
   "outputs": [
    {
     "name": "stdout",
     "output_type": "stream",
     "text": [
      "& 0.1 & 0.02\\% & 0.00\\% & 0.37\\% & 1.90\\% & 65s \\\\\n",
      "& 1.0 & 0.02\\% & 0.00\\% & 0.37\\% & 1.38\\% & 65s \\\\\n",
      "& 10.0 & 0.02\\% & 0.00\\% & 0.37\\% & 1.03\\% & 65s \\\\\n"
     ]
    }
   ],
   "source": [
    "print_aggregated_result(results_control.groupby('rho_rank').median())"
   ]
  },
  {
   "cell_type": "code",
   "execution_count": 116,
   "metadata": {},
   "outputs": [
    {
     "name": "stdout",
     "output_type": "stream",
     "text": [
      "& 0.9 & 0.02\\% & 0.00\\% & 0.34\\% & 1.38\\% & 65s \\\\\n",
      "& 0.95 & 0.02\\% & 0.00\\% & 0.37\\% & 1.38\\% & 65s \\\\\n",
      "& 0.99 & 0.03\\% & 0.00\\% & 0.41\\% & 1.38\\% & 65s \\\\\n"
     ]
    }
   ],
   "source": [
    "print_aggregated_result(results_control.groupby('gamma').median())"
   ]
  },
  {
   "cell_type": "code",
   "execution_count": 117,
   "metadata": {},
   "outputs": [
    {
     "name": "stdout",
     "output_type": "stream",
     "text": [
      "& 0.1 & 0.23\\% & 0.00\\% & 3.63\\% & 64.05\\% & 7s \\\\\n",
      "& 0.5 & 0.05\\% & 0.00\\% & 0.73\\% & 1.38\\% & 31s \\\\\n",
      "& 1.0 & 0.02\\% & 0.00\\% & 0.37\\% & 1.38\\% & 65s \\\\\n"
     ]
    }
   ],
   "source": [
    "print_aggregated_result(results_control.groupby('scale').median())"
   ]
  },
  {
   "cell_type": "code",
   "execution_count": 118,
   "metadata": {},
   "outputs": [
    {
     "name": "stdout",
     "output_type": "stream",
     "text": [
      "& 0.1 & 0.02\\% & 0.00\\% & 0.36\\% & 1.72\\% & 65s \\\\\n",
      "& 0.5 & 0.02\\% & 0.00\\% & 0.36\\% & 1.38\\% & 65s \\\\\n",
      "& 0.9 & 0.02\\% & 0.00\\% & 0.37\\% & 1.38\\% & 65s \\\\\n"
     ]
    }
   ],
   "source": [
    "print_aggregated_result(results_control.groupby('split_factor').median())"
   ]
  },
  {
   "cell_type": "code",
   "execution_count": 119,
   "metadata": {},
   "outputs": [
    {
     "name": "stdout",
     "output_type": "stream",
     "text": [
      "& 1-way marginal & 0.02\\% & 0.00\\% & 0.37\\% & 1.38\\% & 65s \\\\\n",
      "& 2-way marginal & 0.02\\% & 0.00\\% & 0.41\\% & 0.02\\% & 2957s \\\\\n",
      "& 3-way marginal & 0.02\\% & 0.00\\% & 0.50\\% & 0.00\\% & 64358s \\\\\n"
     ]
    }
   ],
   "source": [
    "print_aggregated_result(results_control.groupby('predicate_strategy').median())"
   ]
  },
  {
   "cell_type": "code",
   "execution_count": 124,
   "metadata": {},
   "outputs": [
    {
     "name": "stdout",
     "output_type": "stream",
     "text": [
      "& 5 & 0.02\\% & 0.00\\% & 0.37\\% & 1.38\\% & 65s \\\\\n",
      "& 10 & 0.02\\% & 0.00\\% & 0.56\\% & 17.33\\% & 70s \\\\\n",
      "& 20 & 0.02\\% & 0.51\\% & 0.86\\% & 48.32\\% & 78s \\\\\n"
     ]
    }
   ],
   "source": [
    "print_aggregated_result(results_control.groupby('k').median())"
   ]
  },
  {
   "cell_type": "code",
   "execution_count": null,
   "metadata": {},
   "outputs": [],
   "source": []
  }
 ],
 "metadata": {
  "kernelspec": {
   "display_name": "py37",
   "language": "python",
   "name": "py37"
  },
  "language_info": {
   "codemirror_mode": {
    "name": "ipython",
    "version": 3
   },
   "file_extension": ".py",
   "mimetype": "text/x-python",
   "name": "python",
   "nbconvert_exporter": "python",
   "pygments_lexer": "ipython3",
   "version": "3.7.4"
  }
 },
 "nbformat": 4,
 "nbformat_minor": 4
}
