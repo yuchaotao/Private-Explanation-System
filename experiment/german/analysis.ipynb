{
 "cells": [
  {
   "cell_type": "code",
   "execution_count": 1,
   "metadata": {},
   "outputs": [],
   "source": [
    "import pandas as pd"
   ]
  },
  {
   "cell_type": "code",
   "execution_count": 21,
   "metadata": {},
   "outputs": [],
   "source": [
    "def print_aggregated_result(aggregated_results, highlighter = None):\n",
    "    for col in ['error_nq', 'error_topk', 'error_infci', 'error_rnkci']:\n",
    "        aggregated_results[col] = aggregated_results[col].apply(lambda row: f'{row * 100:.2f}\\\\%')\n",
    "    aggregated_results['runtime'] = aggregated_results['runtime'].apply(lambda row: f'{row:.0f}s')\n",
    "    aggregated_results = aggregated_results[['error_nq', 'error_topk', 'error_infci', 'error_rnkci', 'runtime']]\n",
    "    aggregated_results = aggregated_results.reset_index()\n",
    "    for idx, row in aggregated_results.iterrows():\n",
    "        if highlighter and row[highlighter['attr']] == highlighter['val']:\n",
    "            print('& ' + ' & '.join([f'\\\\textbf{{{x}}}' for x in row.tolist()]) + ' \\\\\\\\')\n",
    "        else:\n",
    "            print('& ' + ' & '.join([f'{x}' for x in row.tolist()]) + ' \\\\\\\\')\n",
    "            \n",
    "def quick_check(results, param):\n",
    "    print(f'\\t\\midrule')\n",
    "    print(f'\\t\\multirow{{3}}{{*}}{{{param}}}')\n",
    "    print_aggregated_result(results.groupby(param).median())\n",
    "    print()\n",
    "    \n",
    "def quick_check_full(results):\n",
    "    params = ['agg',\n",
    "            'rho_query', 'rho_topk', 'rho_influ', 'rho_rank', \n",
    "              'gamma', 'k', 'split_factor', 'predicate_strategy', 'scale']\n",
    "    for param in params:\n",
    "        quick_check(results, param)"
   ]
  },
  {
   "cell_type": "code",
   "execution_count": 20,
   "metadata": {},
   "outputs": [
    {
     "name": "stdout",
     "output_type": "stream",
     "text": [
      "\t\\midrule\n",
      "\t\\multirow{3}{*}{predicate_strategy}\n",
      "& 1-way marginal & 0.11\\% & 0.00\\% & 0.38\\% & 1.71\\% & 35s \\\\\n",
      "\n"
     ]
    }
   ],
   "source": [
    "results = pd.read_csv('results_default.csv')\n",
    "quick_check(results, 'predicate_strategy')"
   ]
  },
  {
   "cell_type": "code",
   "execution_count": 22,
   "metadata": {},
   "outputs": [
    {
     "name": "stdout",
     "output_type": "stream",
     "text": [
      "\t\\midrule\n",
      "\t\\multirow{3}{*}{agg}\n",
      "& AVG & 0.11\\% & 0.00\\% & 0.39\\% & 1.71\\% & 34s \\\\\n",
      "& CNT & 10.72\\% & 0.00\\% & 0.09\\% & 3.54\\% & 33s \\\\\n",
      "& SUM & 13.91\\% & 0.00\\% & 0.13\\% & 1.71\\% & 33s \\\\\n",
      "\n",
      "\t\\midrule\n",
      "\t\\multirow{3}{*}{rho_query}\n",
      "& 0.01 & 0.35\\% & 0.00\\% & 0.38\\% & 1.71\\% & 34s \\\\\n",
      "& 0.1 & 0.11\\% & 0.00\\% & 0.39\\% & 1.71\\% & 34s \\\\\n",
      "& 1.0 & 0.04\\% & 0.00\\% & 0.39\\% & 1.71\\% & 34s \\\\\n",
      "\n",
      "\t\\midrule\n",
      "\t\\multirow{3}{*}{rho_topk}\n",
      "& 0.1 & 0.11\\% & 0.00\\% & 0.39\\% & 1.71\\% & 34s \\\\\n",
      "& 0.5 & 0.11\\% & 0.00\\% & 0.39\\% & 1.71\\% & 34s \\\\\n",
      "& 2.0 & 0.11\\% & 0.00\\% & 0.38\\% & 1.71\\% & 34s \\\\\n",
      "\n",
      "\t\\midrule\n",
      "\t\\multirow{3}{*}{rho_influ}\n",
      "& 0.1 & 0.11\\% & 0.00\\% & 0.85\\% & 1.71\\% & 34s \\\\\n",
      "& 0.5 & 0.11\\% & 0.00\\% & 0.39\\% & 1.71\\% & 34s \\\\\n",
      "& 2.0 & 0.11\\% & 0.00\\% & 0.20\\% & 1.71\\% & 34s \\\\\n",
      "\n",
      "\t\\midrule\n",
      "\t\\multirow{3}{*}{rho_rank}\n",
      "& 0.1 & 0.11\\% & 0.00\\% & 0.39\\% & 3.66\\% & 34s \\\\\n",
      "& 1.0 & 0.11\\% & 0.00\\% & 0.39\\% & 1.71\\% & 34s \\\\\n",
      "& 10.0 & 0.11\\% & 0.00\\% & 0.38\\% & 0.85\\% & 34s \\\\\n",
      "\n",
      "\t\\midrule\n",
      "\t\\multirow{3}{*}{gamma}\n",
      "& 0.9 & 0.10\\% & 0.00\\% & 0.36\\% & 1.71\\% & 34s \\\\\n",
      "& 0.95 & 0.11\\% & 0.00\\% & 0.39\\% & 1.71\\% & 34s \\\\\n",
      "& 0.99 & 0.13\\% & 0.00\\% & 0.43\\% & 1.71\\% & 34s \\\\\n",
      "\n",
      "\t\\midrule\n",
      "\t\\multirow{3}{*}{k}\n",
      "& 5 & 0.11\\% & 0.00\\% & 0.38\\% & 1.71\\% & 34s \\\\\n",
      "& 10 & 0.11\\% & 0.00\\% & 0.60\\% & 3.54\\% & 37s \\\\\n",
      "& 20 & 0.11\\% & 0.00\\% & 0.88\\% & 8.05\\% & 42s \\\\\n",
      "\n",
      "\t\\midrule\n",
      "\t\\multirow{3}{*}{split_factor}\n",
      "& 0.1 & 0.11\\% & 0.00\\% & 0.38\\% & 3.29\\% & 34s \\\\\n",
      "& 0.5 & 0.11\\% & 0.00\\% & 0.39\\% & 1.34\\% & 34s \\\\\n",
      "& 0.9 & 0.11\\% & 0.00\\% & 0.39\\% & 1.71\\% & 34s \\\\\n",
      "\n",
      "\t\\midrule\n",
      "\t\\multirow{3}{*}{predicate_strategy}\n",
      "& 1-way marginal & 0.11\\% & 0.00\\% & 0.39\\% & 1.71\\% & 34s \\\\\n",
      "\n",
      "\t\\midrule\n",
      "\t\\multirow{3}{*}{scale}\n",
      "& 0.1 & 1.11\\% & 0.37\\% & 4.14\\% & 19.27\\% & 4s \\\\\n",
      "& 0.5 & 0.23\\% & 0.00\\% & 0.75\\% & 2.44\\% & 17s \\\\\n",
      "& 1.0 & 0.11\\% & 0.00\\% & 0.38\\% & 1.71\\% & 34s \\\\\n",
      "\n",
      "\t\\midrule\n",
      "\t\\multirow{3}{*}{predicate_strategy}\n",
      "& 2-way marginal & 0.11\\% & 0.00\\% & 0.38\\% & 0.04\\% & 1354s \\\\\n",
      "& 3-way marginal & 0.11\\% & 0.00\\% & 0.39\\% & 0.01\\% & 34661s \\\\\n",
      "\n"
     ]
    }
   ],
   "source": [
    "results = pd.read_csv('results_controls.csv')\n",
    "quick_check_full(results)\n",
    "results = pd.read_csv('results_predicate.csv')\n",
    "quick_check(results, 'predicate_strategy')"
   ]
  },
  {
   "cell_type": "code",
   "execution_count": 19,
   "metadata": {},
   "outputs": [
    {
     "name": "stdout",
     "output_type": "stream",
     "text": [
      "\t\\midrule\n",
      "\t\\multirow{3}{*}{['Agb', 'g1', 'g2']}\n",
      "& age & (40, 50] & (50, 60] & 1.50\\% & 0.00\\% & 3.11\\% & 36.92\\% & 15s \\\\\n",
      "& age & (60, 70] & (50, 60] & 1.48\\% & 0.00\\% & 8.73\\% & 54.36\\% & 8s \\\\\n",
      "& credit-amount & (2500, 5000] & (500, 2500] & 0.08\\% & 0.00\\% & 0.68\\% & 2.22\\% & 51s \\\\\n",
      "& credit-amount & (2500, 5000] & (5000, 10000] & 0.09\\% & 0.00\\% & 0.80\\% & 2.59\\% & 26s \\\\\n",
      "& credit-history & all credits at this bank paid back duly & no credits taken/all credits paid back duly & 0.11\\% & 0.00\\% & 0.46\\% & 2.10\\% & 53s \\\\\n",
      "& credit-history & no credits taken/all credits paid back duly & delay in paying off in the past & 0.24\\% & 0.22\\% & 1.93\\% & 21.60\\% & 38s \\\\\n",
      "& duration & 1 <= ... < 4 yrs & 4 <= ... < 7 yrs & 0.58\\% & 2.76\\% & 8.54\\% & 81.10\\% & 42s \\\\\n",
      "& duration & < 1 yr & 1 <= ... < 4 yrs & 0.08\\% & 0.00\\% & 0.57\\% & 1.83\\% & 65s \\\\\n",
      "& employment & 4 <= ... < 7 yrs & 1 <= ... < 4 yrs & 0.09\\% & 0.00\\% & 1.83\\% & 4.69\\% & 32s \\\\\n",
      "& employment & 4 <= ... < 7 yrs & >= 7 yrs & 0.34\\% & 0.21\\% & 1.71\\% & 4.20\\% & 26s \\\\\n",
      "& existing-credits & 1 & >= 6 & 2.76\\% & 11.86\\% & 10.17\\% & 79.63\\% & 44s \\\\\n",
      "& existing-credits & 4-5 & >= 6 & 3.17\\% & 25.79\\% & 34.76\\% & 82.20\\% & 4s \\\\\n",
      "& foreign-worker & yes & no & 0.51\\% & 0.00\\% & 3.89\\% & 47.50\\% & 69s \\\\\n",
      "& housing & rent & for free & 0.08\\% & 0.00\\% & 1.29\\% & 3.37\\% & 61s \\\\\n",
      "& housing & rent & own & 0.24\\% & 0.00\\% & 1.95\\% & 4.82\\% & 56s \\\\\n",
      "& installment-rate & 20% <= ... < 25% & < 20% & 2.62\\% & 0.00\\% & 1.65\\% & 5.00\\% & 40s \\\\\n",
      "& installment-rate & 25% <= ... < 35% & 20% <= ... < 25% & 0.20\\% & 0.24\\% & 2.60\\% & 3.66\\% & 24s \\\\\n",
      "& other-debtors & guarantor & none & 0.29\\% & 0.00\\% & 2.22\\% & 5.18\\% & 68s \\\\\n",
      "& other-debtors & none & co-applicant & 0.37\\% & 0.66\\% & 3.34\\% & 39.52\\% & 68s \\\\\n",
      "& other-installment-plans & none & stores & 0.24\\% & 0.57\\% & 2.05\\% & 33.01\\% & 61s \\\\\n",
      "& other-installment-plans & stores & bank & 0.30\\% & 2.58\\% & 5.11\\% & 54.46\\% & 13s \\\\\n",
      "& people-liable & 3 or more & 0 to 2 & 0.27\\% & 0.00\\% & 1.51\\% & 3.33\\% & 69s \\\\\n",
      "& property & unknown / no property & car or other & 0.09\\% & 0.00\\% & 0.73\\% & 1.95\\% & 35s \\\\\n",
      "& property & unknown / no property & real estate & 0.10\\% & 0.00\\% & 1.01\\% & 1.71\\% & 29s \\\\\n",
      "& purpose & car (new) & car (used) & 0.20\\% & 0.00\\% & 1.53\\% & 10.53\\% & 17s \\\\\n",
      "& purpose & furniture/equipment & domestic appliances & 1.15\\% & 7.03\\% & 6.44\\% & 73.07\\% & 19s \\\\\n",
      "& purpose & retraining & repairs & 0.70\\% & 1.36\\% & 5.84\\% & 34.53\\% & 9s \\\\\n",
      "& purpose & vacation & business & 3.53\\% & 11.69\\% & 17.28\\% & 83.73\\% & 3s \\\\\n",
      "& residence & 4 <= ... < 7 yrs & 1 <= ... < 4 yrs & 0.14\\% & 0.00\\% & 2.08\\% & 4.02\\% & 32s \\\\\n",
      "& residence & < 1 yr & >= 7 yrs & 0.11\\% & 0.00\\% & 2.03\\% & 8.29\\% & 37s \\\\\n",
      "& saving-account & ... <  100 DM & unknown/no savings account & 0.09\\% & 0.00\\% & 0.86\\% & 3.70\\% & 45s \\\\\n",
      "& saving-account & ... >= 1000 DM & ... <  100 DM & 0.13\\% & 0.81\\% & 1.79\\% & 12.59\\% & 18s \\\\\n",
      "& sex-marst & female : single & female : non-single or male : single & 0.19\\% & 0.35\\% & 3.08\\% & 33.66\\% & 27s \\\\\n",
      "& sex-marst & male : married/widowed & male : divorced/separated & 0.53\\% & 0.00\\% & 6.15\\% & 50.49\\% & 39s \\\\\n",
      "& status & ... >= 200 DM / salary for at least 1 year & 0<= ... < 200 DM & 0.12\\% & 0.00\\% & 1.56\\% & 3.05\\% & 30s \\\\\n",
      "& telephone & yes (under customer name) & no & 0.12\\% & 0.00\\% & 1.12\\% & 3.33\\% & 72s \\\\\n",
      "\n"
     ]
    }
   ],
   "source": [
    "results = pd.read_csv('results_questions.csv')\n",
    "quick_check(results, ['Agb', 'g1', 'g2'])"
   ]
  },
  {
   "cell_type": "code",
   "execution_count": null,
   "metadata": {},
   "outputs": [],
   "source": []
  }
 ],
 "metadata": {
  "kernelspec": {
   "display_name": "py37",
   "language": "python",
   "name": "py37"
  },
  "language_info": {
   "codemirror_mode": {
    "name": "ipython",
    "version": 3
   },
   "file_extension": ".py",
   "mimetype": "text/x-python",
   "name": "python",
   "nbconvert_exporter": "python",
   "pygments_lexer": "ipython3",
   "version": "3.7.4"
  }
 },
 "nbformat": 4,
 "nbformat_minor": 4
}
