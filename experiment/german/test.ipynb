{
 "cells": [
  {
   "cell_type": "code",
   "execution_count": 1,
   "metadata": {},
   "outputs": [
    {
     "name": "stdout",
     "output_type": "stream",
     "text": [
      "2022-04-20 21:56:16,94 INFO     [meta_explanation_session.py:23] 82 predicates for the explanation.\n",
      "2022-04-20 21:56:16,96 INFO     [run.py:168] loaded dataset with 1000000 rows and columns ['status', 'credit-history', 'purpose', 'saving-account', 'employment', 'installment-rate', 'sex-marst', 'other-debtors', 'residence', 'property', 'other-installment-plans', 'housing', 'existing-credits', 'job', 'people-liable', 'telephone', 'foreign-worker', 'good-credit', 'duration', 'credit-amount', 'age'].\n",
      "2022-04-20 21:56:16,576 INFO     [run.py:180] submited queries with rho = 0.1\n",
      "(`status` == \"no checking account\")or(`status` == \"... < 0 DM\")\n",
      "2022-04-20 21:56:16,688 INFO     [influence_function.py:24] Dataset relative to the question has length 542650\n",
      "2022-04-20 21:56:49,761 DEBUG    [meta_explanation_session.py:155] 82 predicates and their influences & scores have been loaded.\n",
      "2022-04-20 21:56:49,768 DEBUG    [meta_explanation_session.py:159] \n",
      "       influence         score\n",
      "count  82.000000     82.000000\n",
      "mean    0.000333     91.117826\n",
      "std     0.014304   3912.349348\n",
      "min    -0.057912 -15839.828271\n",
      "25%    -0.004585  -1253.962692\n",
      "50%     0.000003      0.761900\n",
      "75%     0.005414   1480.750210\n",
      "max     0.036828  10073.068379\n",
      "2022-04-20 21:56:49,769 DEBUG    [meta_explanation_session.py:208] total rho_expl is 2.0\n",
      "2022-04-20 21:56:49,769 DEBUG    [meta_explanation_session.py:209] rho_topk is 0.5\n",
      "2022-04-20 21:56:49,769 DEBUG    [meta_explanation_session.py:210] rho_ci is 0.5\n",
      "2022-04-20 21:56:49,770 DEBUG    [meta_explanation_session.py:211] rho_rank is 1.0\n",
      "2022-04-20 21:56:49,770 INFO     [meta_explanation_session.py:216] computing top k\n",
      "2022-04-20 21:56:49,770 INFO     [noisy_topk.py:25] true_topk_scores: [10073.068378785641, 9256.672959522752, 7100.533771243636, 6478.751354024425, 6333.094585039961]\n",
      "2022-04-20 21:56:49,771 INFO     [noisy_topk.py:26] gumbel_topk_scores: [10132.526318661476, 9245.311526601352, 7115.882543555504, 6522.552762045852, 6383.591265521768]\n",
      "2022-04-20 21:56:49,771 DEBUG    [meta_explanation_session.py:223] [`existing-credits` == \"1\", `job` == \"skilled employee / official\", `sex-marst` == \"male : married/widowed\", `credit-amount` == \"(500, 2500]\", `credit-history` == \"no credits taken/all credits paid back duly\"]\n",
      "2022-04-20 21:56:49,771 INFO     [meta_explanation_session.py:226] computing influence ci\n"
     ]
    },
    {
     "name": "stderr",
     "output_type": "stream",
     "text": [
      "100%|██████████| 5/5 [00:02<00:00,  1.67it/s]"
     ]
    },
    {
     "name": "stdout",
     "output_type": "stream",
     "text": [
      "2022-04-20 21:56:52,767 DEBUG    [meta_explanation_session.py:237] [(0.03658576908876855, 0.037223033156367574), (0.033544336306650754, 0.0341836670527422), (0.025684551931869457, 0.02633362435214833), (0.02337190362830731, 0.02404899470091711), (0.02290765441879217, 0.023578643005510668)]\n",
      "2022-04-20 21:56:52,768 INFO     [meta_explanation_session.py:240] computing rank ci\n"
     ]
    },
    {
     "name": "stderr",
     "output_type": "stream",
     "text": [
      "\n",
      "100%|██████████| 5/5 [00:00<00:00, 8848.74it/s]"
     ]
    },
    {
     "name": "stdout",
     "output_type": "stream",
     "text": [
      "2022-04-20 21:56:52,770 DEBUG    [meta_explanation_session.py:253] [(1, 1), (1, 2), (1, 4), (2, 5), (2, 5)]\n"
     ]
    },
    {
     "name": "stderr",
     "output_type": "stream",
     "text": [
      "\n"
     ]
    },
    {
     "name": "stdout",
     "output_type": "stream",
     "text": [
      "2022-04-20 21:56:52,993 INFO     [run.py:50] true question: 0.04789193497607158\n",
      "2022-04-20 21:56:52,993 INFO     [run.py:51] question_point: 0.047895897784428376\n",
      "2022-04-20 21:56:52,994 INFO     [run.py:52] question_ci: (0.04780560957004254, 0.04798618616488737)\n",
      "2022-04-20 21:56:53,257 INFO     [run.py:54] groundtruth_ci: (0.04785625549055536, 0.04792770963009489)\n",
      "2022-04-20 21:56:53,257 INFO     [run.py:59] percentage_of_missing: 0.0\n",
      "2022-04-20 21:56:53,479 INFO     [run.py:63] percentage_of_extra: 0.0022785142291665158\n",
      "2022-04-20 21:56:53,479 INFO     [run.py:68] noise quantification error: 0.0011392571145832579\n",
      "2022-04-20 21:56:53,480 INFO     [run.py:75] topk true top_k influence: [0.036828077256122645, 0.03384325947850492, 0.02596021355695329, 0.023686919061497044, 0.02315438433232411]\n",
      "2022-04-20 21:56:53,480 INFO     [run.py:76] topk true top_k score: [10073.068378785641, 9256.672959522752, 7100.533771243636, 6478.751354024425, 6333.094585039961]\n",
      "2022-04-20 21:56:53,480 INFO     [run.py:89] topk noisy top_k influence: [0.036828077256122645, 0.03384325947850492, 0.02596021355695329, 0.023686919061497044, 0.02315438433232411]\n",
      "2022-04-20 21:56:53,481 INFO     [run.py:90] topk noisy top_k score: [10073.068378785641, 9256.672959522752, 7100.533771243636, 6478.751354024425, 6333.094585039961]\n",
      "2022-04-20 21:56:53,481 INFO     [run.py:106] infci true_influence: 0.036828077256122645\n",
      "2022-04-20 21:56:53,481 INFO     [run.py:107] infci ci: (0.03658576908876855, 0.037223033156367574)\n",
      "2022-04-20 21:56:53,482 INFO     [run.py:106] infci true_influence: 0.03384325947850492\n",
      "2022-04-20 21:56:53,482 INFO     [run.py:107] infci ci: (0.033544336306650754, 0.0341836670527422)\n",
      "2022-04-20 21:56:53,482 INFO     [run.py:106] infci true_influence: 0.02596021355695329\n",
      "2022-04-20 21:56:53,482 INFO     [run.py:107] infci ci: (0.025684551931869457, 0.02633362435214833)\n",
      "2022-04-20 21:56:53,483 INFO     [run.py:106] infci true_influence: 0.023686919061497044\n",
      "2022-04-20 21:56:53,483 INFO     [run.py:107] infci ci: (0.02337190362830731, 0.02404899470091711)\n",
      "2022-04-20 21:56:53,483 INFO     [run.py:106] infci true_influence: 0.02315438433232411\n",
      "2022-04-20 21:56:53,483 INFO     [run.py:107] infci ci: (0.02290765441879217, 0.023578643005510668)\n",
      "2022-04-20 21:56:53,484 INFO     [run.py:124] rankci true_rank: 1\n",
      "2022-04-20 21:56:53,484 INFO     [run.py:125] rankci ci: (1, 1)\n",
      "2022-04-20 21:56:53,484 INFO     [run.py:130] rankci true_influence: 0.036828077256122645\n",
      "2022-04-20 21:56:53,484 INFO     [run.py:131] rankci influence ci: (0.036828077256122645, 0.036828077256122645)\n",
      "2022-04-20 21:56:53,485 INFO     [run.py:132] rankci influence range: 0.09473996639974987\n",
      "2022-04-20 21:56:53,485 INFO     [run.py:124] rankci true_rank: 2\n",
      "2022-04-20 21:56:53,485 INFO     [run.py:125] rankci ci: (1, 2)\n",
      "2022-04-20 21:56:53,485 INFO     [run.py:130] rankci true_influence: 0.03384325947850492\n",
      "2022-04-20 21:56:53,486 INFO     [run.py:131] rankci influence ci: (0.036828077256122645, 0.03384325947850492)\n",
      "2022-04-20 21:56:53,486 INFO     [run.py:132] rankci influence range: 0.09473996639974987\n",
      "2022-04-20 21:56:53,486 INFO     [run.py:124] rankci true_rank: 3\n",
      "2022-04-20 21:56:53,488 INFO     [run.py:125] rankci ci: (1, 4)\n",
      "2022-04-20 21:56:53,488 INFO     [run.py:130] rankci true_influence: 0.02596021355695329\n",
      "2022-04-20 21:56:53,488 INFO     [run.py:131] rankci influence ci: (0.036828077256122645, 0.023686919061497044)\n",
      "2022-04-20 21:56:53,489 INFO     [run.py:132] rankci influence range: 0.09473996639974987\n",
      "2022-04-20 21:56:53,489 INFO     [run.py:124] rankci true_rank: 4\n",
      "2022-04-20 21:56:53,489 INFO     [run.py:125] rankci ci: (2, 5)\n",
      "2022-04-20 21:56:53,489 INFO     [run.py:130] rankci true_influence: 0.023686919061497044\n",
      "2022-04-20 21:56:53,490 INFO     [run.py:131] rankci influence ci: (0.03384325947850492, 0.02315438433232411)\n",
      "2022-04-20 21:56:53,490 INFO     [run.py:132] rankci influence range: 0.09473996639974987\n",
      "2022-04-20 21:56:53,490 INFO     [run.py:124] rankci true_rank: 5\n",
      "2022-04-20 21:56:53,491 INFO     [run.py:125] rankci ci: (2, 5)\n",
      "2022-04-20 21:56:53,491 INFO     [run.py:130] rankci true_influence: 0.02315438433232411\n",
      "2022-04-20 21:56:53,491 INFO     [run.py:131] rankci influence ci: (0.03384325947850492, 0.02315438433232411)\n",
      "2022-04-20 21:56:53,491 INFO     [run.py:132] rankci influence range: 0.09473996639974987\n"
     ]
    }
   ],
   "source": [
    "#!/usr/bin/env python\n",
    "import sys\n",
    "sys.path.append('../../')\n",
    "\n",
    "import privex.evaluation.run as run\n",
    "from privex.components.basic import Schema, Dataset, GroupbyQuery, Question\n",
    "\n",
    "import pandas as pd\n",
    "\n",
    "import logging\n",
    "logger = logging.getLogger(__name__)\n",
    "\n",
    "df = pd.read_csv('../../data/german/synthetic_german.csv')\n",
    "schema = Schema.from_json('../../data/german/german.json')\n",
    "\n",
    "dataset = Dataset(df, schema)\n",
    "full_attributes = ['status', 'duration', 'credit-history', 'purpose', 'credit-amount', 'saving-account', 'employment', 'installment-rate', 'sex-marst', 'other-debtors', 'residence', 'property', 'age', 'other-installment-plans', 'housing', 'existing-credits', 'job', 'people-liable', 'telephone', 'foreign-worker']\n",
    "default = run.default\n",
    "\n",
    "default['attr_agg'] = 'good-credit'\n",
    "default['attr_group'] = 'status'\n",
    "default['group_a'] = '... < 0 DM'\n",
    "default['group_b'] = 'no checking account'\n",
    "\n",
    "# for option in ['rho_query', 'rho_topk', 'rho_influ', 'rho_rank']:\n",
    "#     default[option] = default[option] * 1\n",
    "\n",
    "# default['reps'] = 1\n",
    "# default['scale'] = 0.1\n",
    "\n",
    "setting = default.copy()\n",
    "setting['reps'] = 1\n",
    "\n",
    "reports = run.run(\n",
    "    dataset =                dataset,\n",
    "    scale =                  setting['scale'],\n",
    "    full_attributes =        full_attributes,\n",
    "    rho_query =              setting['rho_query'],\n",
    "    agg =                    setting['agg'],\n",
    "    attr_agg =               setting['attr_agg'],\n",
    "    attr_group =             setting['attr_group'],\n",
    "    group_a =                setting['group_a'],\n",
    "    group_b =                setting['group_b'],\n",
    "    rho_topk =               setting['rho_topk'],\n",
    "    rho_influ =              setting['rho_influ'],\n",
    "    rho_rank =               setting['rho_rank'],\n",
    "    gamma =                  setting['gamma'],\n",
    "    predicate_strategy =     setting['predicate_strategy'],\n",
    "    k =                      setting['k'],\n",
    "    split_factor =           setting['split_factor'],\n",
    "    reps =                   setting['reps']\n",
    ")\n",
    "    "
   ]
  },
  {
   "cell_type": "code",
   "execution_count": 2,
   "metadata": {},
   "outputs": [
    {
     "name": "stdout",
     "output_type": "stream",
     "text": [
      "-rw-rw-r-- 1 yuchao yuchao 5.4K Apr 20 21:56 test.pkl\n"
     ]
    }
   ],
   "source": [
    "!ls -alh test.pkl"
   ]
  },
  {
   "cell_type": "code",
   "execution_count": 3,
   "metadata": {},
   "outputs": [],
   "source": [
    "import pickle"
   ]
  },
  {
   "cell_type": "code",
   "execution_count": 4,
   "metadata": {},
   "outputs": [],
   "source": [
    "with open('test.pkl', 'rb') as inp:\n",
    "    es = pickle.load(inp)"
   ]
  },
  {
   "cell_type": "code",
   "execution_count": 5,
   "metadata": {},
   "outputs": [
    {
     "data": {
      "text/plain": [
       "{`duration` == \"< 1 yr\": 0.006295569188570303,\n",
       " `duration` == \"1 <= ... < 4 yrs\": -0.005165177105530383,\n",
       " `duration` == \"4 <= ... < 7 yrs\": -0.0009850615285597452,\n",
       " `duration` == \">= 7 yrs\": 0.0,\n",
       " `credit-history` == \"delay in paying off in the past\": 0.006334862154941053,\n",
       " `credit-history` == \"critical account/other credits elsewhere\": 0.010554190285299768,\n",
       " `credit-history` == \"no credits taken/all credits paid back duly\": 0.02315438433232411,\n",
       " `credit-history` == \"existing credits paid back duly till now\": 0.018003187579113084,\n",
       " `credit-history` == \"all credits at this bank paid back duly\": -0.05791188914362722,\n",
       " `purpose` == \"others\": 0.004747468792784176,\n",
       " `purpose` == \"car (new)\": 0.005806153734366798,\n",
       " `purpose` == \"car (used)\": -0.03285595653774375,\n",
       " `purpose` == \"furniture/equipment\": 0.011012548433109417,\n",
       " `purpose` == \"radio/television\": 0.0012339668724354593,\n",
       " `purpose` == \"domestic appliances\": -9.373779783875403e-06,\n",
       " `purpose` == \"repairs\": 0.005634376155573154,\n",
       " `purpose` == \"education\": 0.0,\n",
       " `purpose` == \"vacation\": 0.0004793142893946114,\n",
       " `purpose` == \"retraining\": 0.0039033185810639403,\n",
       " `purpose` == \"business\": 5.571153941441752e-06,\n",
       " `credit-amount` == \"(0, 500]\": -0.0017741279832761338,\n",
       " `credit-amount` == \"(500, 2500]\": 0.023686919061497044,\n",
       " `credit-amount` == \"(2500, 5000]\": -0.040602504418029706,\n",
       " `credit-amount` == \"(5000, 10000]\": 0.020673820647349673,\n",
       " `credit-amount` == \">10000\": -0.002038225473344232,\n",
       " `saving-account` == \"unknown/no savings account\": 0.0029788734352465067,\n",
       " `saving-account` == \"... <  100 DM\": 0.004532132835188383,\n",
       " `saving-account` == \"100 <= ... <  500 DM\": -0.0040777348461951066,\n",
       " `saving-account` == \"500 <= ... < 1000 DM\": 0.003064188952658341,\n",
       " `saving-account` == \"... >= 1000 DM\": 0.02018798740951764,\n",
       " `employment` == \"unemployed\": -0.006935968512317882,\n",
       " `employment` == \"< 1 yr\": -0.0024039763766774704,\n",
       " `employment` == \"1 <= ... < 4 yrs\": 0.008120801460723468,\n",
       " `employment` == \"4 <= ... < 7 yrs\": 0.008924599089836519,\n",
       " `employment` == \">= 7 yrs\": -0.007739972059037488,\n",
       " `installment-rate` == \">= 35%\": 0.0036805554188820743,\n",
       " `installment-rate` == \"25% <= ... < 35%\": -0.008426311439005518,\n",
       " `installment-rate` == \"20% <= ... < 25%\": 0.0031102471507766824,\n",
       " `installment-rate` == \"< 20%\": 0.0016724101893006394,\n",
       " `sex-marst` == \"male : divorced/separated\": 0.002941077162889509,\n",
       " `sex-marst` == \"female : non-single or male : single\": -0.02801748884519417,\n",
       " `sex-marst` == \"male : married/widowed\": 0.02596021355695329,\n",
       " `sex-marst` == \"female : single\": -0.0009081090840946759,\n",
       " `other-debtors` == \"none\": 0.0031144468697577666,\n",
       " `other-debtors` == \"co-applicant\": -0.0011833302574365708,\n",
       " `other-debtors` == \"guarantor\": -0.0019113216906846658,\n",
       " `residence` == \"< 1 yr\": 3.174174986144668e-05,\n",
       " `residence` == \"1 <= ... < 4 yrs\": -0.006866052244037985,\n",
       " `residence` == \"4 <= ... < 7 yrs\": -0.007298429895868359,\n",
       " `residence` == \">= 7 yrs\": 0.014131009842886313,\n",
       " `property` == \"unknown / no property\": 0.004339182365736523,\n",
       " `property` == \"car or other\": -0.01675687095409538,\n",
       " `property` == \"building soc. savings agr./life insurance\": 0.020309493236959617,\n",
       " `property` == \"real estate\": -0.007782454480317838,\n",
       " `age` == \"(0, 10]\": 0.0,\n",
       " `age` == \"(10, 20]\": 4.889887353534103e-05,\n",
       " `age` == \"(20, 30]\": -0.006269744097632826,\n",
       " `age` == \"(30, 40]\": 0.004330657542147118,\n",
       " `age` == \"(40, 50]\": 0.009912501042198311,\n",
       " `age` == \"(50, 60]\": -0.0062538762511562904,\n",
       " `age` == \"(60, 70]\": -0.0015002626616111225,\n",
       " `age` == \"(70, 80]\": -0.0002776877964595157,\n",
       " `other-installment-plans` == \"bank\": -0.0029729528480212895,\n",
       " `other-installment-plans` == \"stores\": -0.00017570541002857678,\n",
       " `other-installment-plans` == \"none\": 0.0032012233525448804,\n",
       " `housing` == \"for free\": 0.007273709974202594,\n",
       " `housing` == \"rent\": -0.006199711299353653,\n",
       " `housing` == \"own\": -0.0011331769506866725,\n",
       " `existing-credits` == \"1\": 0.036828077256122645,\n",
       " `existing-credits` == \"2-3\": -0.030672104247519316,\n",
       " `existing-credits` == \"4-5\": -0.004768337474772351,\n",
       " `existing-credits` == \">= 6\": -0.001203853345327321,\n",
       " `job` == \"unemployed/ unskilled - non-resident\": -0.0002941960623317579,\n",
       " `job` == \"unskilled - resident\": -0.010794542815683322,\n",
       " `job` == \"skilled employee / official\": 0.03384325947850492,\n",
       " `job` == \"manager/self-empl./highly qualif. employee\": -0.022649683955884795,\n",
       " `people-liable` == \"3 or more\": 0.004751914895070734,\n",
       " `people-liable` == \"0 to 2\": -0.004753561089692804,\n",
       " `telephone` == \"no\": 0.013498175601484122,\n",
       " `telephone` == \"yes (under customer name)\": -0.013432624271385574,\n",
       " `foreign-worker` == \"yes\": 0.002243617998550648,\n",
       " `foreign-worker` == \"no\": -0.0022371987514726837}"
      ]
     },
     "execution_count": 5,
     "metadata": {},
     "output_type": "execute_result"
    }
   ],
   "source": [
    "es"
   ]
  },
  {
   "cell_type": "code",
   "execution_count": null,
   "metadata": {},
   "outputs": [],
   "source": []
  }
 ],
 "metadata": {
  "kernelspec": {
   "display_name": "py37",
   "language": "python",
   "name": "py37"
  },
  "language_info": {
   "codemirror_mode": {
    "name": "ipython",
    "version": 3
   },
   "file_extension": ".py",
   "mimetype": "text/x-python",
   "name": "python",
   "nbconvert_exporter": "python",
   "pygments_lexer": "ipython3",
   "version": "3.7.4"
  }
 },
 "nbformat": 4,
 "nbformat_minor": 4
}
